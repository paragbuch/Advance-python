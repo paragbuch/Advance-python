{
 "cells": [
  {
   "cell_type": "code",
   "execution_count": 3,
   "id": "5e7de518",
   "metadata": {},
   "outputs": [],
   "source": [
    "import matplotlib.pyplot as plt\n",
    "import numpy as np\n",
    "import pandas as pd\n",
    "%matplotlib inline\n",
    "import seaborn as sns\n",
    "from plotly.offline import iplot\n",
    "import plotly as py\n",
    "import plotly.tools as tls\n",
    "import cufflinks as cf"
   ]
  },
  {
   "cell_type": "code",
   "execution_count": 2,
   "id": "4889f91e",
   "metadata": {},
   "outputs": [
    {
     "name": "stdout",
     "output_type": "stream",
     "text": [
      "Collecting cufflinksNote: you may need to restart the kernel to use updated packages.\n",
      "\n",
      "  Downloading cufflinks-0.17.3.tar.gz (81 kB)\n",
      "     -------------------------------------- 81.7/81.7 kB 916.7 kB/s eta 0:00:00\n",
      "  Preparing metadata (setup.py): started\n",
      "  Preparing metadata (setup.py): finished with status 'done'\n",
      "Requirement already satisfied: numpy>=1.9.2 in c:\\users\\milan\\anaconda3\\lib\\site-packages (from cufflinks) (1.21.5)\n",
      "Requirement already satisfied: pandas>=0.19.2 in c:\\users\\milan\\anaconda3\\lib\\site-packages (from cufflinks) (1.4.4)\n",
      "Requirement already satisfied: plotly>=4.1.1 in c:\\users\\milan\\anaconda3\\lib\\site-packages (from cufflinks) (5.9.0)\n",
      "Requirement already satisfied: six>=1.9.0 in c:\\users\\milan\\anaconda3\\lib\\site-packages (from cufflinks) (1.16.0)\n",
      "Collecting colorlover>=0.2.1\n",
      "  Downloading colorlover-0.3.0-py3-none-any.whl (8.9 kB)\n",
      "Requirement already satisfied: setuptools>=34.4.1 in c:\\users\\milan\\anaconda3\\lib\\site-packages (from cufflinks) (63.4.1)\n",
      "Requirement already satisfied: ipython>=5.3.0 in c:\\users\\milan\\anaconda3\\lib\\site-packages (from cufflinks) (7.31.1)\n",
      "Requirement already satisfied: ipywidgets>=7.0.0 in c:\\users\\milan\\anaconda3\\lib\\site-packages (from cufflinks) (7.6.5)\n",
      "Requirement already satisfied: decorator in c:\\users\\milan\\anaconda3\\lib\\site-packages (from ipython>=5.3.0->cufflinks) (5.1.1)\n",
      "Requirement already satisfied: jedi>=0.16 in c:\\users\\milan\\anaconda3\\lib\\site-packages (from ipython>=5.3.0->cufflinks) (0.18.1)\n",
      "Requirement already satisfied: prompt-toolkit!=3.0.0,!=3.0.1,<3.1.0,>=2.0.0 in c:\\users\\milan\\anaconda3\\lib\\site-packages (from ipython>=5.3.0->cufflinks) (3.0.20)\n",
      "Requirement already satisfied: traitlets>=4.2 in c:\\users\\milan\\anaconda3\\lib\\site-packages (from ipython>=5.3.0->cufflinks) (5.1.1)\n",
      "Requirement already satisfied: pygments in c:\\users\\milan\\anaconda3\\lib\\site-packages (from ipython>=5.3.0->cufflinks) (2.11.2)\n",
      "Requirement already satisfied: pickleshare in c:\\users\\milan\\anaconda3\\lib\\site-packages (from ipython>=5.3.0->cufflinks) (0.7.5)\n",
      "Requirement already satisfied: backcall in c:\\users\\milan\\anaconda3\\lib\\site-packages (from ipython>=5.3.0->cufflinks) (0.2.0)\n",
      "Requirement already satisfied: matplotlib-inline in c:\\users\\milan\\anaconda3\\lib\\site-packages (from ipython>=5.3.0->cufflinks) (0.1.6)\n",
      "Requirement already satisfied: colorama in c:\\users\\milan\\anaconda3\\lib\\site-packages (from ipython>=5.3.0->cufflinks) (0.4.5)\n",
      "Requirement already satisfied: jupyterlab-widgets>=1.0.0 in c:\\users\\milan\\anaconda3\\lib\\site-packages (from ipywidgets>=7.0.0->cufflinks) (1.0.0)\n",
      "Requirement already satisfied: widgetsnbextension~=3.5.0 in c:\\users\\milan\\anaconda3\\lib\\site-packages (from ipywidgets>=7.0.0->cufflinks) (3.5.2)\n",
      "Requirement already satisfied: ipython-genutils~=0.2.0 in c:\\users\\milan\\anaconda3\\lib\\site-packages (from ipywidgets>=7.0.0->cufflinks) (0.2.0)\n",
      "Requirement already satisfied: nbformat>=4.2.0 in c:\\users\\milan\\anaconda3\\lib\\site-packages (from ipywidgets>=7.0.0->cufflinks) (5.5.0)\n",
      "Requirement already satisfied: ipykernel>=4.5.1 in c:\\users\\milan\\anaconda3\\lib\\site-packages (from ipywidgets>=7.0.0->cufflinks) (6.15.2)\n",
      "Requirement already satisfied: python-dateutil>=2.8.1 in c:\\users\\milan\\anaconda3\\lib\\site-packages (from pandas>=0.19.2->cufflinks) (2.8.2)\n",
      "Requirement already satisfied: pytz>=2020.1 in c:\\users\\milan\\anaconda3\\lib\\site-packages (from pandas>=0.19.2->cufflinks) (2022.1)\n",
      "Requirement already satisfied: tenacity>=6.2.0 in c:\\users\\milan\\anaconda3\\lib\\site-packages (from plotly>=4.1.1->cufflinks) (8.0.1)\n",
      "Requirement already satisfied: packaging in c:\\users\\milan\\anaconda3\\lib\\site-packages (from ipykernel>=4.5.1->ipywidgets>=7.0.0->cufflinks) (21.3)\n",
      "Requirement already satisfied: jupyter-client>=6.1.12 in c:\\users\\milan\\anaconda3\\lib\\site-packages (from ipykernel>=4.5.1->ipywidgets>=7.0.0->cufflinks) (7.3.4)\n",
      "Requirement already satisfied: debugpy>=1.0 in c:\\users\\milan\\anaconda3\\lib\\site-packages (from ipykernel>=4.5.1->ipywidgets>=7.0.0->cufflinks) (1.5.1)\n",
      "Requirement already satisfied: tornado>=6.1 in c:\\users\\milan\\anaconda3\\lib\\site-packages (from ipykernel>=4.5.1->ipywidgets>=7.0.0->cufflinks) (6.1)\n",
      "Requirement already satisfied: nest-asyncio in c:\\users\\milan\\anaconda3\\lib\\site-packages (from ipykernel>=4.5.1->ipywidgets>=7.0.0->cufflinks) (1.5.5)\n",
      "Requirement already satisfied: psutil in c:\\users\\milan\\anaconda3\\lib\\site-packages (from ipykernel>=4.5.1->ipywidgets>=7.0.0->cufflinks) (5.9.0)\n",
      "Requirement already satisfied: pyzmq>=17 in c:\\users\\milan\\anaconda3\\lib\\site-packages (from ipykernel>=4.5.1->ipywidgets>=7.0.0->cufflinks) (23.2.0)\n",
      "Requirement already satisfied: parso<0.9.0,>=0.8.0 in c:\\users\\milan\\anaconda3\\lib\\site-packages (from jedi>=0.16->ipython>=5.3.0->cufflinks) (0.8.3)\n",
      "Requirement already satisfied: jsonschema>=2.6 in c:\\users\\milan\\anaconda3\\lib\\site-packages (from nbformat>=4.2.0->ipywidgets>=7.0.0->cufflinks) (4.16.0)\n",
      "Requirement already satisfied: fastjsonschema in c:\\users\\milan\\anaconda3\\lib\\site-packages (from nbformat>=4.2.0->ipywidgets>=7.0.0->cufflinks) (2.16.2)\n",
      "Requirement already satisfied: jupyter_core in c:\\users\\milan\\anaconda3\\lib\\site-packages (from nbformat>=4.2.0->ipywidgets>=7.0.0->cufflinks) (4.11.1)\n",
      "Requirement already satisfied: wcwidth in c:\\users\\milan\\anaconda3\\lib\\site-packages (from prompt-toolkit!=3.0.0,!=3.0.1,<3.1.0,>=2.0.0->ipython>=5.3.0->cufflinks) (0.2.5)\n",
      "Requirement already satisfied: notebook>=4.4.1 in c:\\users\\milan\\anaconda3\\lib\\site-packages (from widgetsnbextension~=3.5.0->ipywidgets>=7.0.0->cufflinks) (6.4.12)\n",
      "Requirement already satisfied: attrs>=17.4.0 in c:\\users\\milan\\anaconda3\\lib\\site-packages (from jsonschema>=2.6->nbformat>=4.2.0->ipywidgets>=7.0.0->cufflinks) (21.4.0)\n",
      "Requirement already satisfied: pyrsistent!=0.17.0,!=0.17.1,!=0.17.2,>=0.14.0 in c:\\users\\milan\\anaconda3\\lib\\site-packages (from jsonschema>=2.6->nbformat>=4.2.0->ipywidgets>=7.0.0->cufflinks) (0.18.0)\n",
      "Requirement already satisfied: entrypoints in c:\\users\\milan\\anaconda3\\lib\\site-packages (from jupyter-client>=6.1.12->ipykernel>=4.5.1->ipywidgets>=7.0.0->cufflinks) (0.4)\n",
      "Requirement already satisfied: pywin32>=1.0 in c:\\users\\milan\\anaconda3\\lib\\site-packages (from jupyter_core->nbformat>=4.2.0->ipywidgets>=7.0.0->cufflinks) (302)\n",
      "Requirement already satisfied: prometheus-client in c:\\users\\milan\\anaconda3\\lib\\site-packages (from notebook>=4.4.1->widgetsnbextension~=3.5.0->ipywidgets>=7.0.0->cufflinks) (0.14.1)\n",
      "Requirement already satisfied: nbconvert>=5 in c:\\users\\milan\\anaconda3\\lib\\site-packages (from notebook>=4.4.1->widgetsnbextension~=3.5.0->ipywidgets>=7.0.0->cufflinks) (6.4.4)\n",
      "Requirement already satisfied: Send2Trash>=1.8.0 in c:\\users\\milan\\anaconda3\\lib\\site-packages (from notebook>=4.4.1->widgetsnbextension~=3.5.0->ipywidgets>=7.0.0->cufflinks) (1.8.0)\n",
      "Requirement already satisfied: jinja2 in c:\\users\\milan\\anaconda3\\lib\\site-packages (from notebook>=4.4.1->widgetsnbextension~=3.5.0->ipywidgets>=7.0.0->cufflinks) (2.11.3)\n",
      "Requirement already satisfied: terminado>=0.8.3 in c:\\users\\milan\\anaconda3\\lib\\site-packages (from notebook>=4.4.1->widgetsnbextension~=3.5.0->ipywidgets>=7.0.0->cufflinks) (0.13.1)\n",
      "Requirement already satisfied: argon2-cffi in c:\\users\\milan\\anaconda3\\lib\\site-packages (from notebook>=4.4.1->widgetsnbextension~=3.5.0->ipywidgets>=7.0.0->cufflinks) (21.3.0)\n",
      "Requirement already satisfied: pyparsing!=3.0.5,>=2.0.2 in c:\\users\\milan\\anaconda3\\lib\\site-packages (from packaging->ipykernel>=4.5.1->ipywidgets>=7.0.0->cufflinks) (3.0.9)\n",
      "Requirement already satisfied: defusedxml in c:\\users\\milan\\anaconda3\\lib\\site-packages (from nbconvert>=5->notebook>=4.4.1->widgetsnbextension~=3.5.0->ipywidgets>=7.0.0->cufflinks) (0.7.1)\n",
      "Requirement already satisfied: nbclient<0.6.0,>=0.5.0 in c:\\users\\milan\\anaconda3\\lib\\site-packages (from nbconvert>=5->notebook>=4.4.1->widgetsnbextension~=3.5.0->ipywidgets>=7.0.0->cufflinks) (0.5.13)\n",
      "Requirement already satisfied: beautifulsoup4 in c:\\users\\milan\\anaconda3\\lib\\site-packages (from nbconvert>=5->notebook>=4.4.1->widgetsnbextension~=3.5.0->ipywidgets>=7.0.0->cufflinks) (4.11.1)\n",
      "Requirement already satisfied: jupyterlab-pygments in c:\\users\\milan\\anaconda3\\lib\\site-packages (from nbconvert>=5->notebook>=4.4.1->widgetsnbextension~=3.5.0->ipywidgets>=7.0.0->cufflinks) (0.1.2)\n",
      "Requirement already satisfied: testpath in c:\\users\\milan\\anaconda3\\lib\\site-packages (from nbconvert>=5->notebook>=4.4.1->widgetsnbextension~=3.5.0->ipywidgets>=7.0.0->cufflinks) (0.6.0)\n",
      "Requirement already satisfied: pandocfilters>=1.4.1 in c:\\users\\milan\\anaconda3\\lib\\site-packages (from nbconvert>=5->notebook>=4.4.1->widgetsnbextension~=3.5.0->ipywidgets>=7.0.0->cufflinks) (1.5.0)\n",
      "Requirement already satisfied: bleach in c:\\users\\milan\\anaconda3\\lib\\site-packages (from nbconvert>=5->notebook>=4.4.1->widgetsnbextension~=3.5.0->ipywidgets>=7.0.0->cufflinks) (4.1.0)\n",
      "Requirement already satisfied: mistune<2,>=0.8.1 in c:\\users\\milan\\anaconda3\\lib\\site-packages (from nbconvert>=5->notebook>=4.4.1->widgetsnbextension~=3.5.0->ipywidgets>=7.0.0->cufflinks) (0.8.4)\n",
      "Requirement already satisfied: MarkupSafe>=0.23 in c:\\users\\milan\\anaconda3\\lib\\site-packages (from jinja2->notebook>=4.4.1->widgetsnbextension~=3.5.0->ipywidgets>=7.0.0->cufflinks) (2.0.1)\n",
      "Requirement already satisfied: pywinpty>=1.1.0 in c:\\users\\milan\\anaconda3\\lib\\site-packages (from terminado>=0.8.3->notebook>=4.4.1->widgetsnbextension~=3.5.0->ipywidgets>=7.0.0->cufflinks) (2.0.2)\n",
      "Requirement already satisfied: argon2-cffi-bindings in c:\\users\\milan\\anaconda3\\lib\\site-packages (from argon2-cffi->notebook>=4.4.1->widgetsnbextension~=3.5.0->ipywidgets>=7.0.0->cufflinks) (21.2.0)\n",
      "Requirement already satisfied: cffi>=1.0.1 in c:\\users\\milan\\anaconda3\\lib\\site-packages (from argon2-cffi-bindings->argon2-cffi->notebook>=4.4.1->widgetsnbextension~=3.5.0->ipywidgets>=7.0.0->cufflinks) (1.15.1)\n",
      "Requirement already satisfied: soupsieve>1.2 in c:\\users\\milan\\anaconda3\\lib\\site-packages (from beautifulsoup4->nbconvert>=5->notebook>=4.4.1->widgetsnbextension~=3.5.0->ipywidgets>=7.0.0->cufflinks) (2.3.1)\n",
      "Requirement already satisfied: webencodings in c:\\users\\milan\\anaconda3\\lib\\site-packages (from bleach->nbconvert>=5->notebook>=4.4.1->widgetsnbextension~=3.5.0->ipywidgets>=7.0.0->cufflinks) (0.5.1)\n",
      "Requirement already satisfied: pycparser in c:\\users\\milan\\anaconda3\\lib\\site-packages (from cffi>=1.0.1->argon2-cffi-bindings->argon2-cffi->notebook>=4.4.1->widgetsnbextension~=3.5.0->ipywidgets>=7.0.0->cufflinks) (2.21)\n",
      "Building wheels for collected packages: cufflinks\n",
      "  Building wheel for cufflinks (setup.py): started\n",
      "  Building wheel for cufflinks (setup.py): finished with status 'done'\n",
      "  Created wheel for cufflinks: filename=cufflinks-0.17.3-py3-none-any.whl size=68718 sha256=99c752a36ab046e5d72261d8c87329f1a070538a2aacc7d1cb44ed18a331c944\n",
      "  Stored in directory: c:\\users\\milan\\appdata\\local\\pip\\cache\\wheels\\29\\b4\\f8\\2fd2206eeeba6ccad8167e4e8894b8c4ec27bf1342037fd136\n",
      "Successfully built cufflinks\n",
      "Installing collected packages: colorlover, cufflinks\n",
      "Successfully installed colorlover-0.3.0 cufflinks-0.17.3\n"
     ]
    }
   ],
   "source": [
    "pip install cufflinks"
   ]
  },
  {
   "cell_type": "code",
   "execution_count": 4,
   "id": "943f2399",
   "metadata": {},
   "outputs": [
    {
     "data": {
      "text/html": [
       "        <script type=\"text/javascript\">\n",
       "        window.PlotlyConfig = {MathJaxConfig: 'local'};\n",
       "        if (window.MathJax && window.MathJax.Hub && window.MathJax.Hub.Config) {window.MathJax.Hub.Config({SVG: {font: \"STIX-Web\"}});}\n",
       "        if (typeof require !== 'undefined') {\n",
       "        require.undef(\"plotly\");\n",
       "        requirejs.config({\n",
       "            paths: {\n",
       "                'plotly': ['https://cdn.plot.ly/plotly-2.12.1.min']\n",
       "            }\n",
       "        });\n",
       "        require(['plotly'], function(Plotly) {\n",
       "            window._Plotly = Plotly;\n",
       "        });\n",
       "        }\n",
       "        </script>\n",
       "        "
      ]
     },
     "metadata": {},
     "output_type": "display_data"
    },
    {
     "data": {
      "text/html": [
       "        <script type=\"text/javascript\">\n",
       "        window.PlotlyConfig = {MathJaxConfig: 'local'};\n",
       "        if (window.MathJax && window.MathJax.Hub && window.MathJax.Hub.Config) {window.MathJax.Hub.Config({SVG: {font: \"STIX-Web\"}});}\n",
       "        if (typeof require !== 'undefined') {\n",
       "        require.undef(\"plotly\");\n",
       "        requirejs.config({\n",
       "            paths: {\n",
       "                'plotly': ['https://cdn.plot.ly/plotly-2.12.1.min']\n",
       "            }\n",
       "        });\n",
       "        require(['plotly'], function(Plotly) {\n",
       "            window._Plotly = Plotly;\n",
       "        });\n",
       "        }\n",
       "        </script>\n",
       "        "
      ]
     },
     "metadata": {},
     "output_type": "display_data"
    }
   ],
   "source": [
    "py.offline.init_notebook_mode(connected=True)\n",
    "cf.go_offline()"
   ]
  },
  {
   "cell_type": "code",
   "execution_count": 5,
   "id": "2eae1940",
   "metadata": {},
   "outputs": [],
   "source": [
    "df = pd.DataFrame(np.random.rand(300,3), columns = ['a','b','c'])"
   ]
  },
  {
   "cell_type": "code",
   "execution_count": 6,
   "id": "34d47193",
   "metadata": {},
   "outputs": [
    {
     "data": {
      "text/html": [
       "<div>\n",
       "<style scoped>\n",
       "    .dataframe tbody tr th:only-of-type {\n",
       "        vertical-align: middle;\n",
       "    }\n",
       "\n",
       "    .dataframe tbody tr th {\n",
       "        vertical-align: top;\n",
       "    }\n",
       "\n",
       "    .dataframe thead th {\n",
       "        text-align: right;\n",
       "    }\n",
       "</style>\n",
       "<table border=\"1\" class=\"dataframe\">\n",
       "  <thead>\n",
       "    <tr style=\"text-align: right;\">\n",
       "      <th></th>\n",
       "      <th>a</th>\n",
       "      <th>b</th>\n",
       "      <th>c</th>\n",
       "    </tr>\n",
       "  </thead>\n",
       "  <tbody>\n",
       "    <tr>\n",
       "      <th>0</th>\n",
       "      <td>0.521758</td>\n",
       "      <td>0.656540</td>\n",
       "      <td>0.967524</td>\n",
       "    </tr>\n",
       "    <tr>\n",
       "      <th>1</th>\n",
       "      <td>0.578711</td>\n",
       "      <td>0.272539</td>\n",
       "      <td>0.189373</td>\n",
       "    </tr>\n",
       "    <tr>\n",
       "      <th>2</th>\n",
       "      <td>0.179789</td>\n",
       "      <td>0.678690</td>\n",
       "      <td>0.139905</td>\n",
       "    </tr>\n",
       "    <tr>\n",
       "      <th>3</th>\n",
       "      <td>0.153645</td>\n",
       "      <td>0.689115</td>\n",
       "      <td>0.993441</td>\n",
       "    </tr>\n",
       "    <tr>\n",
       "      <th>4</th>\n",
       "      <td>0.774499</td>\n",
       "      <td>0.725659</td>\n",
       "      <td>0.464067</td>\n",
       "    </tr>\n",
       "    <tr>\n",
       "      <th>...</th>\n",
       "      <td>...</td>\n",
       "      <td>...</td>\n",
       "      <td>...</td>\n",
       "    </tr>\n",
       "    <tr>\n",
       "      <th>295</th>\n",
       "      <td>0.337893</td>\n",
       "      <td>0.505336</td>\n",
       "      <td>0.670838</td>\n",
       "    </tr>\n",
       "    <tr>\n",
       "      <th>296</th>\n",
       "      <td>0.565541</td>\n",
       "      <td>0.386037</td>\n",
       "      <td>0.745923</td>\n",
       "    </tr>\n",
       "    <tr>\n",
       "      <th>297</th>\n",
       "      <td>0.563533</td>\n",
       "      <td>0.673578</td>\n",
       "      <td>0.133700</td>\n",
       "    </tr>\n",
       "    <tr>\n",
       "      <th>298</th>\n",
       "      <td>0.059301</td>\n",
       "      <td>0.933921</td>\n",
       "      <td>0.684948</td>\n",
       "    </tr>\n",
       "    <tr>\n",
       "      <th>299</th>\n",
       "      <td>0.877429</td>\n",
       "      <td>0.589281</td>\n",
       "      <td>0.415777</td>\n",
       "    </tr>\n",
       "  </tbody>\n",
       "</table>\n",
       "<p>300 rows × 3 columns</p>\n",
       "</div>"
      ],
      "text/plain": [
       "            a         b         c\n",
       "0    0.521758  0.656540  0.967524\n",
       "1    0.578711  0.272539  0.189373\n",
       "2    0.179789  0.678690  0.139905\n",
       "3    0.153645  0.689115  0.993441\n",
       "4    0.774499  0.725659  0.464067\n",
       "..        ...       ...       ...\n",
       "295  0.337893  0.505336  0.670838\n",
       "296  0.565541  0.386037  0.745923\n",
       "297  0.563533  0.673578  0.133700\n",
       "298  0.059301  0.933921  0.684948\n",
       "299  0.877429  0.589281  0.415777\n",
       "\n",
       "[300 rows x 3 columns]"
      ]
     },
     "execution_count": 6,
     "metadata": {},
     "output_type": "execute_result"
    }
   ],
   "source": [
    "df"
   ]
  },
  {
   "cell_type": "code",
   "execution_count": 7,
   "id": "714807ca",
   "metadata": {},
   "outputs": [
    {
     "data": {
      "application/vnd.plotly.v1+json": {
       "config": {
        "linkText": "Export to plot.ly",
        "plotlyServerURL": "https://plot.ly",
        "showLink": true
       },
       "data": [
        {
         "line": {
          "color": "rgba(255, 153, 51, 1.0)",
          "dash": "solid",
          "shape": "linear",
          "width": 1.3
         },
         "marker": {
          "size": 12,
          "symbol": "circle"
         },
         "mode": "markers",
         "name": "b",
         "text": "",
         "type": "scatter",
         "x": [
          0.5217584901197575,
          0.5787111342562862,
          0.1797887564020827,
          0.1536449987712688,
          0.7744991797964166,
          0.271164708828622,
          0.7088256489644945,
          0.6777362072539204,
          0.9722369749183002,
          0.7100315504451886,
          0.7721317196529153,
          0.019535900540354256,
          0.9772200011819906,
          0.27879704659658644,
          0.18576968309289987,
          0.6936729469645396,
          0.521595671174059,
          0.9777036414370185,
          0.1205080018053416,
          0.7191075781198428,
          0.656148195768571,
          0.18504960908493806,
          0.6976177065679228,
          0.9964749244646701,
          0.737370555139942,
          0.8284745562353367,
          0.6002216427339154,
          0.37316250565657294,
          0.01841901374264643,
          0.18016793726983227,
          0.050244266830862694,
          0.5321947239446121,
          0.8633079997178311,
          0.15563507459717651,
          0.7820965449198773,
          0.5568072781904421,
          0.89210631691426,
          0.13652852634827983,
          0.22067831208296218,
          0.707697711247764,
          0.653941773421546,
          0.31936369512201923,
          0.25974249319384823,
          0.9142884197908587,
          0.9555058944772499,
          0.2939294874403823,
          0.33105472165087946,
          0.2721214646761868,
          0.9035897307292399,
          0.7823212681900047,
          0.22788264617646603,
          0.3149773577433017,
          0.9424839776979346,
          0.1493480640968453,
          0.9322537751868704,
          0.17890015095129153,
          0.6767331109871201,
          0.9923477638877356,
          0.6689952038280811,
          0.5351262182156444,
          0.311128645020762,
          0.6979545130064431,
          0.8729865700172668,
          0.2861387961107905,
          0.41686702320312685,
          0.8298702500763596,
          0.8502754130424404,
          0.03715230655586421,
          0.8842262335934845,
          0.5209556486117768,
          0.10300880891115705,
          0.13256533659258285,
          0.12248486317015106,
          0.8518202329765998,
          0.7697830783258386,
          0.8109341086513256,
          0.7059228720730545,
          0.9152006226333084,
          0.48417782324422365,
          0.2822051918880407,
          0.39967785260278677,
          0.2518429384358193,
          0.013149909783860658,
          0.34758802353391316,
          0.4162239304029818,
          0.14195229285722033,
          0.08650945359769902,
          0.37779339185565564,
          0.9487764062903706,
          0.03219612551089923,
          0.24236729187033867,
          0.15328624032036042,
          0.8190503197587852,
          0.34871620856743746,
          0.6221235648438211,
          0.9775793649170893,
          0.8418095077830429,
          0.3212166717185544,
          0.29545951450442,
          0.8910950321146475,
          0.6325781058325881,
          0.7314966107677453,
          0.033629787915021025,
          0.6932776195137418,
          0.8687979340808485,
          0.8885443278340531,
          0.8556283657556358,
          0.32987026666233077,
          0.13490194355464147,
          0.453318809340042,
          0.7861699008687312,
          0.07475515033214386,
          0.23003437896729373,
          0.7572296797582196,
          0.46081882201182967,
          0.6760330578620852,
          0.9884349813243926,
          0.9812522308893941,
          0.3195595525226541,
          0.05480116248354894,
          0.04293327189874241,
          0.41193344345125893,
          0.9145720860227223,
          0.4328840504725179,
          0.8858315277284301,
          0.49161158204457245,
          0.4099366043244621,
          0.49717351277631616,
          0.6753001507749009,
          0.5144463240743683,
          0.6847873774627783,
          0.08081896084656826,
          0.7087887703432738,
          0.9875131515316805,
          0.6895147936285623,
          0.3592287291544851,
          0.10277789522924563,
          0.28911811439472357,
          0.7506923352216698,
          0.29497551155683843,
          0.3665333559717857,
          0.513560226786625,
          0.667663169195848,
          0.9389861598967205,
          0.11828210893451874,
          0.24704682443176074,
          0.072708476061635,
          0.5990119861122783,
          0.9423147449873845,
          0.7128994746244285,
          0.6074738792486837,
          0.2835446628384126,
          0.22688653383213686,
          0.518679489798174,
          0.3661733831076309,
          0.6074576839203806,
          0.8754928930157727,
          0.012677991667791266,
          0.013693951665304183,
          0.8013334618633164,
          0.5871441274383529,
          0.7002774638030955,
          0.48529977314238815,
          0.11790416631646516,
          0.47926966762875334,
          0.21495434447343154,
          0.10115539548801766,
          0.8742703946647546,
          0.42303647562334845,
          0.5715151646840542,
          0.258032038071651,
          0.2594535107118574,
          0.7430386339795915,
          0.7231824911669353,
          0.0008158764697191456,
          0.7836476194852188,
          0.8510464899514174,
          0.5207886549439212,
          0.12579385791260622,
          0.15891634574349867,
          0.0521523476159379,
          0.3920466103453104,
          0.9431554412800038,
          0.3560421358022502,
          0.2619038524355699,
          0.9410805328594457,
          0.9381353430098053,
          0.49438988572448617,
          0.20178851439232792,
          0.2621353141545477,
          0.5254034334736651,
          0.012881733441739152,
          0.09447995950021248,
          0.3943879767061542,
          0.03090792370293649,
          0.6882603759618863,
          0.08156627955369689,
          0.799140666442477,
          0.7424500118535963,
          0.5032897934634936,
          0.23510187897752577,
          0.6007975324873631,
          0.22953005084602285,
          0.5908083343598789,
          0.26198074515587333,
          0.02483063129211116,
          0.199740362555199,
          0.4202845023839932,
          0.06821748451093745,
          0.09919874899927295,
          0.8854799780009854,
          0.9777505021664477,
          0.1300181984227593,
          0.2693970048237856,
          0.10318289455570406,
          0.2399858249826532,
          0.38741039806197575,
          0.447560070942181,
          0.213733950857933,
          0.25221837152496795,
          0.5455057508988781,
          0.6831026878944338,
          0.10350436835748567,
          0.5760429976774889,
          0.2953389090645029,
          0.6502446928420924,
          0.39542598057944833,
          0.660003062813198,
          0.5578093493433288,
          0.3942502355132199,
          0.49202298363888375,
          0.42210808920089116,
          0.939176377162526,
          0.0542706922816244,
          0.22032555543774313,
          0.005230429465815867,
          0.7239019983635087,
          0.22711631517220732,
          0.4517662235285317,
          0.3180468417868577,
          0.7187991907055166,
          0.8906688540374909,
          0.3581557876097188,
          0.16982091144134281,
          0.9811588278156487,
          0.3607024665327434,
          0.47866287348990666,
          0.8884505446382632,
          0.09856894806051741,
          0.10218727320835763,
          0.7015942427213698,
          0.7842798026118757,
          0.30450346977216436,
          0.47657062100714687,
          0.39477315252105716,
          0.3994360333817134,
          0.2365946940750263,
          0.6983289552001183,
          0.5290485275025265,
          0.5552687435786212,
          0.30016664427132356,
          0.1484069576645365,
          0.7849532685848855,
          0.5246179091355077,
          0.9499243810481692,
          0.07907055168482302,
          0.18002851024697641,
          0.7957694094355793,
          0.796828655882608,
          0.29597967326499597,
          0.25649796460328567,
          0.6812640639822506,
          0.21293242706709337,
          0.40715630359496957,
          0.6838091022811791,
          0.21564973693881961,
          0.28369176629833603,
          0.9974066013950036,
          0.4290506779227563,
          0.4770546261319515,
          0.7912454204009501,
          0.4720695615872831,
          0.5630624530964834,
          0.5576189617562095,
          0.16926300741270972,
          0.016452020181829563,
          0.983030784592851,
          0.0776930122755114,
          0.08635976282508218,
          0.6745955061443522,
          0.46038477969508773,
          0.8408528909563503,
          0.2014336475764087,
          0.3811659743110719,
          0.10421267293833836,
          0.3378933743606959,
          0.5655407541975808,
          0.5635334766364674,
          0.05930142645585179,
          0.8774285096481331
         ],
         "y": [
          0.656539998196642,
          0.27253940771451435,
          0.6786903192422861,
          0.6891146764623897,
          0.7256593400383303,
          0.37335451282041876,
          0.349789910719149,
          0.062120923366696834,
          0.7682139205492792,
          0.4601109790594239,
          0.7322464098696346,
          0.676693193066309,
          0.9892935172394582,
          0.5883113904549153,
          0.3997243985485117,
          0.26825223833879375,
          0.7596857424097275,
          0.674802843668224,
          0.64250475591823,
          0.5961381441211533,
          0.8624881695686553,
          0.7514909705560398,
          0.1507557921606818,
          0.5663846911426519,
          0.9297202119417712,
          0.37715276950387433,
          0.58590109396692,
          0.7907673475640333,
          0.8855761672711409,
          0.7247164076266339,
          0.08402956207106405,
          0.7406281288095806,
          0.061464532339492006,
          0.01212541238780851,
          0.9305968512383176,
          0.43188523108562693,
          0.5797553333882017,
          0.41839860015609376,
          0.6621864435132195,
          0.49098249763106816,
          0.9838986802643036,
          0.03795945670847678,
          0.3568038205126176,
          0.5382814999840804,
          0.8312107602413941,
          0.9897261625944779,
          0.5386460641013339,
          0.8152447480720554,
          0.7263286278882198,
          0.3047762805543889,
          0.8046668231673613,
          0.015204293647969824,
          0.6509538542617733,
          0.39251695907359163,
          0.9608519297954445,
          0.39186434985914786,
          0.5423590025438332,
          0.5178728813688276,
          0.3897928888407759,
          0.17871811748564304,
          0.4546624671947873,
          0.9131664212631745,
          0.5302016851171796,
          0.2531763510616938,
          0.24610117752491345,
          0.8168844379244516,
          0.5027656949835817,
          0.4147547542650629,
          0.49992894571148294,
          0.6759520613340753,
          0.9349440562114473,
          0.34183666375085486,
          0.2655740730014412,
          0.20913015924052225,
          0.1668960232694574,
          0.7896385523335006,
          0.5697195638903921,
          0.04029029353960767,
          0.7623101530970234,
          0.37470909167358,
          0.29620542210436396,
          0.7239281425261097,
          0.7164494126492951,
          0.6414428865947575,
          0.7698973205107151,
          0.036177204779522465,
          0.43511084860666316,
          0.6472641880989595,
          0.8578599664218087,
          0.9070414296379582,
          0.07883707697768894,
          0.1564506196493739,
          0.9287223746519031,
          0.26781720662399044,
          0.6561669728810094,
          0.2739308440543198,
          0.5127345479309581,
          0.7030158912343166,
          0.31550627886620053,
          0.4537520404611549,
          0.42402494000416446,
          0.012944851510112931,
          0.3363069262947572,
          0.48757899198521837,
          0.6725381319039432,
          0.49889913596935087,
          0.9093672020365248,
          0.25366056104711776,
          0.09333114645044105,
          0.699975691427596,
          0.7029616999090502,
          0.1979334901979526,
          0.9077325867678702,
          0.5339227932980698,
          0.6288814938784066,
          0.9875034900934466,
          0.21046506779381857,
          0.4219999335828182,
          0.8870816487928492,
          0.8965252988171006,
          0.9555062244016154,
          0.6990307495345253,
          0.5003949309423894,
          0.7816865939450025,
          0.23393454713494288,
          0.5666216612297436,
          0.6962299236949661,
          0.4897230862531481,
          0.7520105838062199,
          0.29866487918192375,
          0.0568960612111401,
          0.7317997917346516,
          0.6789940825291483,
          0.21140314177101827,
          0.26647265830651023,
          0.5708031563902227,
          0.6730624454616239,
          0.17287661015075872,
          0.607062769016913,
          0.24577938865755555,
          0.5636957611786366,
          0.3869016504965429,
          0.45366166664652374,
          0.9547342126041077,
          0.11230444924118,
          0.5207170333995084,
          0.5987883357626637,
          0.9962975916831,
          0.43065973711208383,
          0.061942078325167405,
          0.6112341158776564,
          0.07591989891332607,
          0.7089661196953471,
          0.4085917407062495,
          0.43888242031921276,
          0.024733150733931564,
          0.23119265184672,
          0.4449869758346534,
          0.803356609312161,
          0.5547992640703331,
          0.8407162949747896,
          0.7244603057574064,
          0.2736107691424341,
          0.8206334268049824,
          0.7127364599282294,
          0.7845483593716207,
          0.6684923116108998,
          0.8496751673917072,
          0.3003105907086896,
          0.1855678605666199,
          0.6781973932042855,
          0.6920620352133825,
          0.3298979388727161,
          0.6017668931021692,
          0.9441024032404972,
          0.5392262591452472,
          0.3159325659824537,
          0.42909974040498056,
          0.7468576946453905,
          0.14364705860860416,
          0.027806793128392848,
          0.8460254355251455,
          0.35193893552912714,
          0.8997086383646373,
          0.4068033400366782,
          0.5641541093467989,
          0.25534881048334845,
          0.698983201033492,
          0.887709708659967,
          0.6164019867015316,
          0.8269614921244717,
          0.592247917360728,
          0.24620816688778324,
          0.4265191894700936,
          0.9439029771482778,
          0.3983376547859465,
          0.7181900297028112,
          0.821995413899302,
          0.9316788998199554,
          0.4959697022639181,
          0.7874553516604432,
          0.5978248727196325,
          0.7513866547608727,
          0.4326994449349635,
          0.12829748176778966,
          0.22315440427429056,
          0.8669340159178552,
          0.5759878422093737,
          0.9585302122930114,
          0.6769656388490006,
          0.28777900959217384,
          0.14798123549774844,
          0.4632748728020126,
          0.8909533340869092,
          0.5197447026220833,
          0.2553587407637101,
          0.8462513804756748,
          0.5756235609840756,
          0.7230416697965739,
          0.07451477772241022,
          0.817053559562825,
          0.3954375715656311,
          0.7256995338400959,
          0.6591141085635792,
          0.19634550703785092,
          0.15008937198478356,
          0.7224396346521809,
          0.18315515884528621,
          0.2504123275895579,
          0.6387576511671574,
          0.8332140478530974,
          0.6154594470856365,
          0.11418211764109043,
          0.3176595309983081,
          0.257153731133295,
          0.5519359372740149,
          0.5141060467079117,
          0.06131319304357474,
          0.8863848527552011,
          0.24137692590218263,
          0.5235142593836116,
          0.44818718527229295,
          0.6060238195208072,
          0.7921447626342182,
          0.6474133650045344,
          0.958507307661738,
          0.3110242581416035,
          0.7178431464342467,
          0.6972024374659759,
          0.1357722694168667,
          0.7305960251585956,
          0.2262813755688634,
          0.8618746234125816,
          0.30865463457722175,
          0.6489415375168702,
          0.9767003957100201,
          0.21339680348990853,
          0.10360031666735325,
          0.07300162954149736,
          0.9705782817553315,
          0.785044321957804,
          0.486073772499132,
          0.10914353826542633,
          0.5256860866458446,
          0.8235912630267851,
          0.5420776291613022,
          0.09968921652196505,
          0.9612824781451685,
          0.3556324489691636,
          0.657456808822794,
          0.6785544698110872,
          0.3925480795755433,
          0.9659098105422387,
          0.4195562896099492,
          0.9584219151882539,
          0.6792931296568968,
          0.4448364133146874,
          0.6785133382099345,
          0.6887033833009353,
          0.6401308281416204,
          0.08337947667124201,
          0.5753885468360116,
          0.013976554072058112,
          0.29483443746151494,
          0.36677765836568865,
          0.14135627500057613,
          0.9328576970274515,
          0.5153181361864222,
          0.018502037880378408,
          0.4378800058406256,
          0.5295551694885806,
          0.4840655039332221,
          0.9634457137570249,
          0.4833807158223975,
          0.2016718919463537,
          0.505335675107466,
          0.38603698956957977,
          0.6735777908098163,
          0.9339210214869078,
          0.5892806642983871
         ]
        }
       ],
       "layout": {
        "legend": {
         "bgcolor": "#F5F6F9",
         "font": {
          "color": "#4D5663"
         }
        },
        "paper_bgcolor": "#F5F6F9",
        "plot_bgcolor": "#F5F6F9",
        "template": {
         "data": {
          "bar": [
           {
            "error_x": {
             "color": "#2a3f5f"
            },
            "error_y": {
             "color": "#2a3f5f"
            },
            "marker": {
             "line": {
              "color": "#E5ECF6",
              "width": 0.5
             },
             "pattern": {
              "fillmode": "overlay",
              "size": 10,
              "solidity": 0.2
             }
            },
            "type": "bar"
           }
          ],
          "barpolar": [
           {
            "marker": {
             "line": {
              "color": "#E5ECF6",
              "width": 0.5
             },
             "pattern": {
              "fillmode": "overlay",
              "size": 10,
              "solidity": 0.2
             }
            },
            "type": "barpolar"
           }
          ],
          "carpet": [
           {
            "aaxis": {
             "endlinecolor": "#2a3f5f",
             "gridcolor": "white",
             "linecolor": "white",
             "minorgridcolor": "white",
             "startlinecolor": "#2a3f5f"
            },
            "baxis": {
             "endlinecolor": "#2a3f5f",
             "gridcolor": "white",
             "linecolor": "white",
             "minorgridcolor": "white",
             "startlinecolor": "#2a3f5f"
            },
            "type": "carpet"
           }
          ],
          "choropleth": [
           {
            "colorbar": {
             "outlinewidth": 0,
             "ticks": ""
            },
            "type": "choropleth"
           }
          ],
          "contour": [
           {
            "colorbar": {
             "outlinewidth": 0,
             "ticks": ""
            },
            "colorscale": [
             [
              0,
              "#0d0887"
             ],
             [
              0.1111111111111111,
              "#46039f"
             ],
             [
              0.2222222222222222,
              "#7201a8"
             ],
             [
              0.3333333333333333,
              "#9c179e"
             ],
             [
              0.4444444444444444,
              "#bd3786"
             ],
             [
              0.5555555555555556,
              "#d8576b"
             ],
             [
              0.6666666666666666,
              "#ed7953"
             ],
             [
              0.7777777777777778,
              "#fb9f3a"
             ],
             [
              0.8888888888888888,
              "#fdca26"
             ],
             [
              1,
              "#f0f921"
             ]
            ],
            "type": "contour"
           }
          ],
          "contourcarpet": [
           {
            "colorbar": {
             "outlinewidth": 0,
             "ticks": ""
            },
            "type": "contourcarpet"
           }
          ],
          "heatmap": [
           {
            "colorbar": {
             "outlinewidth": 0,
             "ticks": ""
            },
            "colorscale": [
             [
              0,
              "#0d0887"
             ],
             [
              0.1111111111111111,
              "#46039f"
             ],
             [
              0.2222222222222222,
              "#7201a8"
             ],
             [
              0.3333333333333333,
              "#9c179e"
             ],
             [
              0.4444444444444444,
              "#bd3786"
             ],
             [
              0.5555555555555556,
              "#d8576b"
             ],
             [
              0.6666666666666666,
              "#ed7953"
             ],
             [
              0.7777777777777778,
              "#fb9f3a"
             ],
             [
              0.8888888888888888,
              "#fdca26"
             ],
             [
              1,
              "#f0f921"
             ]
            ],
            "type": "heatmap"
           }
          ],
          "heatmapgl": [
           {
            "colorbar": {
             "outlinewidth": 0,
             "ticks": ""
            },
            "colorscale": [
             [
              0,
              "#0d0887"
             ],
             [
              0.1111111111111111,
              "#46039f"
             ],
             [
              0.2222222222222222,
              "#7201a8"
             ],
             [
              0.3333333333333333,
              "#9c179e"
             ],
             [
              0.4444444444444444,
              "#bd3786"
             ],
             [
              0.5555555555555556,
              "#d8576b"
             ],
             [
              0.6666666666666666,
              "#ed7953"
             ],
             [
              0.7777777777777778,
              "#fb9f3a"
             ],
             [
              0.8888888888888888,
              "#fdca26"
             ],
             [
              1,
              "#f0f921"
             ]
            ],
            "type": "heatmapgl"
           }
          ],
          "histogram": [
           {
            "marker": {
             "pattern": {
              "fillmode": "overlay",
              "size": 10,
              "solidity": 0.2
             }
            },
            "type": "histogram"
           }
          ],
          "histogram2d": [
           {
            "colorbar": {
             "outlinewidth": 0,
             "ticks": ""
            },
            "colorscale": [
             [
              0,
              "#0d0887"
             ],
             [
              0.1111111111111111,
              "#46039f"
             ],
             [
              0.2222222222222222,
              "#7201a8"
             ],
             [
              0.3333333333333333,
              "#9c179e"
             ],
             [
              0.4444444444444444,
              "#bd3786"
             ],
             [
              0.5555555555555556,
              "#d8576b"
             ],
             [
              0.6666666666666666,
              "#ed7953"
             ],
             [
              0.7777777777777778,
              "#fb9f3a"
             ],
             [
              0.8888888888888888,
              "#fdca26"
             ],
             [
              1,
              "#f0f921"
             ]
            ],
            "type": "histogram2d"
           }
          ],
          "histogram2dcontour": [
           {
            "colorbar": {
             "outlinewidth": 0,
             "ticks": ""
            },
            "colorscale": [
             [
              0,
              "#0d0887"
             ],
             [
              0.1111111111111111,
              "#46039f"
             ],
             [
              0.2222222222222222,
              "#7201a8"
             ],
             [
              0.3333333333333333,
              "#9c179e"
             ],
             [
              0.4444444444444444,
              "#bd3786"
             ],
             [
              0.5555555555555556,
              "#d8576b"
             ],
             [
              0.6666666666666666,
              "#ed7953"
             ],
             [
              0.7777777777777778,
              "#fb9f3a"
             ],
             [
              0.8888888888888888,
              "#fdca26"
             ],
             [
              1,
              "#f0f921"
             ]
            ],
            "type": "histogram2dcontour"
           }
          ],
          "mesh3d": [
           {
            "colorbar": {
             "outlinewidth": 0,
             "ticks": ""
            },
            "type": "mesh3d"
           }
          ],
          "parcoords": [
           {
            "line": {
             "colorbar": {
              "outlinewidth": 0,
              "ticks": ""
             }
            },
            "type": "parcoords"
           }
          ],
          "pie": [
           {
            "automargin": true,
            "type": "pie"
           }
          ],
          "scatter": [
           {
            "fillpattern": {
             "fillmode": "overlay",
             "size": 10,
             "solidity": 0.2
            },
            "type": "scatter"
           }
          ],
          "scatter3d": [
           {
            "line": {
             "colorbar": {
              "outlinewidth": 0,
              "ticks": ""
             }
            },
            "marker": {
             "colorbar": {
              "outlinewidth": 0,
              "ticks": ""
             }
            },
            "type": "scatter3d"
           }
          ],
          "scattercarpet": [
           {
            "marker": {
             "colorbar": {
              "outlinewidth": 0,
              "ticks": ""
             }
            },
            "type": "scattercarpet"
           }
          ],
          "scattergeo": [
           {
            "marker": {
             "colorbar": {
              "outlinewidth": 0,
              "ticks": ""
             }
            },
            "type": "scattergeo"
           }
          ],
          "scattergl": [
           {
            "marker": {
             "colorbar": {
              "outlinewidth": 0,
              "ticks": ""
             }
            },
            "type": "scattergl"
           }
          ],
          "scattermapbox": [
           {
            "marker": {
             "colorbar": {
              "outlinewidth": 0,
              "ticks": ""
             }
            },
            "type": "scattermapbox"
           }
          ],
          "scatterpolar": [
           {
            "marker": {
             "colorbar": {
              "outlinewidth": 0,
              "ticks": ""
             }
            },
            "type": "scatterpolar"
           }
          ],
          "scatterpolargl": [
           {
            "marker": {
             "colorbar": {
              "outlinewidth": 0,
              "ticks": ""
             }
            },
            "type": "scatterpolargl"
           }
          ],
          "scatterternary": [
           {
            "marker": {
             "colorbar": {
              "outlinewidth": 0,
              "ticks": ""
             }
            },
            "type": "scatterternary"
           }
          ],
          "surface": [
           {
            "colorbar": {
             "outlinewidth": 0,
             "ticks": ""
            },
            "colorscale": [
             [
              0,
              "#0d0887"
             ],
             [
              0.1111111111111111,
              "#46039f"
             ],
             [
              0.2222222222222222,
              "#7201a8"
             ],
             [
              0.3333333333333333,
              "#9c179e"
             ],
             [
              0.4444444444444444,
              "#bd3786"
             ],
             [
              0.5555555555555556,
              "#d8576b"
             ],
             [
              0.6666666666666666,
              "#ed7953"
             ],
             [
              0.7777777777777778,
              "#fb9f3a"
             ],
             [
              0.8888888888888888,
              "#fdca26"
             ],
             [
              1,
              "#f0f921"
             ]
            ],
            "type": "surface"
           }
          ],
          "table": [
           {
            "cells": {
             "fill": {
              "color": "#EBF0F8"
             },
             "line": {
              "color": "white"
             }
            },
            "header": {
             "fill": {
              "color": "#C8D4E3"
             },
             "line": {
              "color": "white"
             }
            },
            "type": "table"
           }
          ]
         },
         "layout": {
          "annotationdefaults": {
           "arrowcolor": "#2a3f5f",
           "arrowhead": 0,
           "arrowwidth": 1
          },
          "autotypenumbers": "strict",
          "coloraxis": {
           "colorbar": {
            "outlinewidth": 0,
            "ticks": ""
           }
          },
          "colorscale": {
           "diverging": [
            [
             0,
             "#8e0152"
            ],
            [
             0.1,
             "#c51b7d"
            ],
            [
             0.2,
             "#de77ae"
            ],
            [
             0.3,
             "#f1b6da"
            ],
            [
             0.4,
             "#fde0ef"
            ],
            [
             0.5,
             "#f7f7f7"
            ],
            [
             0.6,
             "#e6f5d0"
            ],
            [
             0.7,
             "#b8e186"
            ],
            [
             0.8,
             "#7fbc41"
            ],
            [
             0.9,
             "#4d9221"
            ],
            [
             1,
             "#276419"
            ]
           ],
           "sequential": [
            [
             0,
             "#0d0887"
            ],
            [
             0.1111111111111111,
             "#46039f"
            ],
            [
             0.2222222222222222,
             "#7201a8"
            ],
            [
             0.3333333333333333,
             "#9c179e"
            ],
            [
             0.4444444444444444,
             "#bd3786"
            ],
            [
             0.5555555555555556,
             "#d8576b"
            ],
            [
             0.6666666666666666,
             "#ed7953"
            ],
            [
             0.7777777777777778,
             "#fb9f3a"
            ],
            [
             0.8888888888888888,
             "#fdca26"
            ],
            [
             1,
             "#f0f921"
            ]
           ],
           "sequentialminus": [
            [
             0,
             "#0d0887"
            ],
            [
             0.1111111111111111,
             "#46039f"
            ],
            [
             0.2222222222222222,
             "#7201a8"
            ],
            [
             0.3333333333333333,
             "#9c179e"
            ],
            [
             0.4444444444444444,
             "#bd3786"
            ],
            [
             0.5555555555555556,
             "#d8576b"
            ],
            [
             0.6666666666666666,
             "#ed7953"
            ],
            [
             0.7777777777777778,
             "#fb9f3a"
            ],
            [
             0.8888888888888888,
             "#fdca26"
            ],
            [
             1,
             "#f0f921"
            ]
           ]
          },
          "colorway": [
           "#636efa",
           "#EF553B",
           "#00cc96",
           "#ab63fa",
           "#FFA15A",
           "#19d3f3",
           "#FF6692",
           "#B6E880",
           "#FF97FF",
           "#FECB52"
          ],
          "font": {
           "color": "#2a3f5f"
          },
          "geo": {
           "bgcolor": "white",
           "lakecolor": "white",
           "landcolor": "#E5ECF6",
           "showlakes": true,
           "showland": true,
           "subunitcolor": "white"
          },
          "hoverlabel": {
           "align": "left"
          },
          "hovermode": "closest",
          "mapbox": {
           "style": "light"
          },
          "paper_bgcolor": "white",
          "plot_bgcolor": "#E5ECF6",
          "polar": {
           "angularaxis": {
            "gridcolor": "white",
            "linecolor": "white",
            "ticks": ""
           },
           "bgcolor": "#E5ECF6",
           "radialaxis": {
            "gridcolor": "white",
            "linecolor": "white",
            "ticks": ""
           }
          },
          "scene": {
           "xaxis": {
            "backgroundcolor": "#E5ECF6",
            "gridcolor": "white",
            "gridwidth": 2,
            "linecolor": "white",
            "showbackground": true,
            "ticks": "",
            "zerolinecolor": "white"
           },
           "yaxis": {
            "backgroundcolor": "#E5ECF6",
            "gridcolor": "white",
            "gridwidth": 2,
            "linecolor": "white",
            "showbackground": true,
            "ticks": "",
            "zerolinecolor": "white"
           },
           "zaxis": {
            "backgroundcolor": "#E5ECF6",
            "gridcolor": "white",
            "gridwidth": 2,
            "linecolor": "white",
            "showbackground": true,
            "ticks": "",
            "zerolinecolor": "white"
           }
          },
          "shapedefaults": {
           "line": {
            "color": "#2a3f5f"
           }
          },
          "ternary": {
           "aaxis": {
            "gridcolor": "white",
            "linecolor": "white",
            "ticks": ""
           },
           "baxis": {
            "gridcolor": "white",
            "linecolor": "white",
            "ticks": ""
           },
           "bgcolor": "#E5ECF6",
           "caxis": {
            "gridcolor": "white",
            "linecolor": "white",
            "ticks": ""
           }
          },
          "title": {
           "x": 0.05
          },
          "xaxis": {
           "automargin": true,
           "gridcolor": "white",
           "linecolor": "white",
           "ticks": "",
           "title": {
            "standoff": 15
           },
           "zerolinecolor": "white",
           "zerolinewidth": 2
          },
          "yaxis": {
           "automargin": true,
           "gridcolor": "white",
           "linecolor": "white",
           "ticks": "",
           "title": {
            "standoff": 15
           },
           "zerolinecolor": "white",
           "zerolinewidth": 2
          }
         }
        },
        "title": {
         "font": {
          "color": "#4D5663"
         }
        },
        "xaxis": {
         "gridcolor": "#E1E5ED",
         "showgrid": true,
         "tickfont": {
          "color": "#4D5663"
         },
         "title": {
          "font": {
           "color": "#4D5663"
          },
          "text": ""
         },
         "zerolinecolor": "#E1E5ED"
        },
        "yaxis": {
         "gridcolor": "#E1E5ED",
         "showgrid": true,
         "tickfont": {
          "color": "#4D5663"
         },
         "title": {
          "font": {
           "color": "#4D5663"
          },
          "text": ""
         },
         "zerolinecolor": "#E1E5ED"
        }
       }
      },
      "text/html": [
       "<div>                            <div id=\"d6788c72-34db-4411-8f62-abfe8b0acb12\" class=\"plotly-graph-div\" style=\"height:525px; width:100%;\"></div>            <script type=\"text/javascript\">                require([\"plotly\"], function(Plotly) {                    window.PLOTLYENV=window.PLOTLYENV || {};\n",
       "                    window.PLOTLYENV.BASE_URL='https://plot.ly';                                    if (document.getElementById(\"d6788c72-34db-4411-8f62-abfe8b0acb12\")) {                    Plotly.newPlot(                        \"d6788c72-34db-4411-8f62-abfe8b0acb12\",                        [{\"line\":{\"color\":\"rgba(255, 153, 51, 1.0)\",\"dash\":\"solid\",\"shape\":\"linear\",\"width\":1.3},\"marker\":{\"size\":12,\"symbol\":\"circle\"},\"mode\":\"markers\",\"name\":\"b\",\"text\":\"\",\"x\":[0.5217584901197575,0.5787111342562862,0.1797887564020827,0.1536449987712688,0.7744991797964166,0.271164708828622,0.7088256489644945,0.6777362072539204,0.9722369749183002,0.7100315504451886,0.7721317196529153,0.019535900540354256,0.9772200011819906,0.27879704659658644,0.18576968309289987,0.6936729469645396,0.521595671174059,0.9777036414370185,0.1205080018053416,0.7191075781198428,0.656148195768571,0.18504960908493806,0.6976177065679228,0.9964749244646701,0.737370555139942,0.8284745562353367,0.6002216427339154,0.37316250565657294,0.01841901374264643,0.18016793726983227,0.050244266830862694,0.5321947239446121,0.8633079997178311,0.15563507459717651,0.7820965449198773,0.5568072781904421,0.89210631691426,0.13652852634827983,0.22067831208296218,0.707697711247764,0.653941773421546,0.31936369512201923,0.25974249319384823,0.9142884197908587,0.9555058944772499,0.2939294874403823,0.33105472165087946,0.2721214646761868,0.9035897307292399,0.7823212681900047,0.22788264617646603,0.3149773577433017,0.9424839776979346,0.1493480640968453,0.9322537751868704,0.17890015095129153,0.6767331109871201,0.9923477638877356,0.6689952038280811,0.5351262182156444,0.311128645020762,0.6979545130064431,0.8729865700172668,0.2861387961107905,0.41686702320312685,0.8298702500763596,0.8502754130424404,0.03715230655586421,0.8842262335934845,0.5209556486117768,0.10300880891115705,0.13256533659258285,0.12248486317015106,0.8518202329765998,0.7697830783258386,0.8109341086513256,0.7059228720730545,0.9152006226333084,0.48417782324422365,0.2822051918880407,0.39967785260278677,0.2518429384358193,0.013149909783860658,0.34758802353391316,0.4162239304029818,0.14195229285722033,0.08650945359769902,0.37779339185565564,0.9487764062903706,0.03219612551089923,0.24236729187033867,0.15328624032036042,0.8190503197587852,0.34871620856743746,0.6221235648438211,0.9775793649170893,0.8418095077830429,0.3212166717185544,0.29545951450442,0.8910950321146475,0.6325781058325881,0.7314966107677453,0.033629787915021025,0.6932776195137418,0.8687979340808485,0.8885443278340531,0.8556283657556358,0.32987026666233077,0.13490194355464147,0.453318809340042,0.7861699008687312,0.07475515033214386,0.23003437896729373,0.7572296797582196,0.46081882201182967,0.6760330578620852,0.9884349813243926,0.9812522308893941,0.3195595525226541,0.05480116248354894,0.04293327189874241,0.41193344345125893,0.9145720860227223,0.4328840504725179,0.8858315277284301,0.49161158204457245,0.4099366043244621,0.49717351277631616,0.6753001507749009,0.5144463240743683,0.6847873774627783,0.08081896084656826,0.7087887703432738,0.9875131515316805,0.6895147936285623,0.3592287291544851,0.10277789522924563,0.28911811439472357,0.7506923352216698,0.29497551155683843,0.3665333559717857,0.513560226786625,0.667663169195848,0.9389861598967205,0.11828210893451874,0.24704682443176074,0.072708476061635,0.5990119861122783,0.9423147449873845,0.7128994746244285,0.6074738792486837,0.2835446628384126,0.22688653383213686,0.518679489798174,0.3661733831076309,0.6074576839203806,0.8754928930157727,0.012677991667791266,0.013693951665304183,0.8013334618633164,0.5871441274383529,0.7002774638030955,0.48529977314238815,0.11790416631646516,0.47926966762875334,0.21495434447343154,0.10115539548801766,0.8742703946647546,0.42303647562334845,0.5715151646840542,0.258032038071651,0.2594535107118574,0.7430386339795915,0.7231824911669353,0.0008158764697191456,0.7836476194852188,0.8510464899514174,0.5207886549439212,0.12579385791260622,0.15891634574349867,0.0521523476159379,0.3920466103453104,0.9431554412800038,0.3560421358022502,0.2619038524355699,0.9410805328594457,0.9381353430098053,0.49438988572448617,0.20178851439232792,0.2621353141545477,0.5254034334736651,0.012881733441739152,0.09447995950021248,0.3943879767061542,0.03090792370293649,0.6882603759618863,0.08156627955369689,0.799140666442477,0.7424500118535963,0.5032897934634936,0.23510187897752577,0.6007975324873631,0.22953005084602285,0.5908083343598789,0.26198074515587333,0.02483063129211116,0.199740362555199,0.4202845023839932,0.06821748451093745,0.09919874899927295,0.8854799780009854,0.9777505021664477,0.1300181984227593,0.2693970048237856,0.10318289455570406,0.2399858249826532,0.38741039806197575,0.447560070942181,0.213733950857933,0.25221837152496795,0.5455057508988781,0.6831026878944338,0.10350436835748567,0.5760429976774889,0.2953389090645029,0.6502446928420924,0.39542598057944833,0.660003062813198,0.5578093493433288,0.3942502355132199,0.49202298363888375,0.42210808920089116,0.939176377162526,0.0542706922816244,0.22032555543774313,0.005230429465815867,0.7239019983635087,0.22711631517220732,0.4517662235285317,0.3180468417868577,0.7187991907055166,0.8906688540374909,0.3581557876097188,0.16982091144134281,0.9811588278156487,0.3607024665327434,0.47866287348990666,0.8884505446382632,0.09856894806051741,0.10218727320835763,0.7015942427213698,0.7842798026118757,0.30450346977216436,0.47657062100714687,0.39477315252105716,0.3994360333817134,0.2365946940750263,0.6983289552001183,0.5290485275025265,0.5552687435786212,0.30016664427132356,0.1484069576645365,0.7849532685848855,0.5246179091355077,0.9499243810481692,0.07907055168482302,0.18002851024697641,0.7957694094355793,0.796828655882608,0.29597967326499597,0.25649796460328567,0.6812640639822506,0.21293242706709337,0.40715630359496957,0.6838091022811791,0.21564973693881961,0.28369176629833603,0.9974066013950036,0.4290506779227563,0.4770546261319515,0.7912454204009501,0.4720695615872831,0.5630624530964834,0.5576189617562095,0.16926300741270972,0.016452020181829563,0.983030784592851,0.0776930122755114,0.08635976282508218,0.6745955061443522,0.46038477969508773,0.8408528909563503,0.2014336475764087,0.3811659743110719,0.10421267293833836,0.3378933743606959,0.5655407541975808,0.5635334766364674,0.05930142645585179,0.8774285096481331],\"y\":[0.656539998196642,0.27253940771451435,0.6786903192422861,0.6891146764623897,0.7256593400383303,0.37335451282041876,0.349789910719149,0.062120923366696834,0.7682139205492792,0.4601109790594239,0.7322464098696346,0.676693193066309,0.9892935172394582,0.5883113904549153,0.3997243985485117,0.26825223833879375,0.7596857424097275,0.674802843668224,0.64250475591823,0.5961381441211533,0.8624881695686553,0.7514909705560398,0.1507557921606818,0.5663846911426519,0.9297202119417712,0.37715276950387433,0.58590109396692,0.7907673475640333,0.8855761672711409,0.7247164076266339,0.08402956207106405,0.7406281288095806,0.061464532339492006,0.01212541238780851,0.9305968512383176,0.43188523108562693,0.5797553333882017,0.41839860015609376,0.6621864435132195,0.49098249763106816,0.9838986802643036,0.03795945670847678,0.3568038205126176,0.5382814999840804,0.8312107602413941,0.9897261625944779,0.5386460641013339,0.8152447480720554,0.7263286278882198,0.3047762805543889,0.8046668231673613,0.015204293647969824,0.6509538542617733,0.39251695907359163,0.9608519297954445,0.39186434985914786,0.5423590025438332,0.5178728813688276,0.3897928888407759,0.17871811748564304,0.4546624671947873,0.9131664212631745,0.5302016851171796,0.2531763510616938,0.24610117752491345,0.8168844379244516,0.5027656949835817,0.4147547542650629,0.49992894571148294,0.6759520613340753,0.9349440562114473,0.34183666375085486,0.2655740730014412,0.20913015924052225,0.1668960232694574,0.7896385523335006,0.5697195638903921,0.04029029353960767,0.7623101530970234,0.37470909167358,0.29620542210436396,0.7239281425261097,0.7164494126492951,0.6414428865947575,0.7698973205107151,0.036177204779522465,0.43511084860666316,0.6472641880989595,0.8578599664218087,0.9070414296379582,0.07883707697768894,0.1564506196493739,0.9287223746519031,0.26781720662399044,0.6561669728810094,0.2739308440543198,0.5127345479309581,0.7030158912343166,0.31550627886620053,0.4537520404611549,0.42402494000416446,0.012944851510112931,0.3363069262947572,0.48757899198521837,0.6725381319039432,0.49889913596935087,0.9093672020365248,0.25366056104711776,0.09333114645044105,0.699975691427596,0.7029616999090502,0.1979334901979526,0.9077325867678702,0.5339227932980698,0.6288814938784066,0.9875034900934466,0.21046506779381857,0.4219999335828182,0.8870816487928492,0.8965252988171006,0.9555062244016154,0.6990307495345253,0.5003949309423894,0.7816865939450025,0.23393454713494288,0.5666216612297436,0.6962299236949661,0.4897230862531481,0.7520105838062199,0.29866487918192375,0.0568960612111401,0.7317997917346516,0.6789940825291483,0.21140314177101827,0.26647265830651023,0.5708031563902227,0.6730624454616239,0.17287661015075872,0.607062769016913,0.24577938865755555,0.5636957611786366,0.3869016504965429,0.45366166664652374,0.9547342126041077,0.11230444924118,0.5207170333995084,0.5987883357626637,0.9962975916831,0.43065973711208383,0.061942078325167405,0.6112341158776564,0.07591989891332607,0.7089661196953471,0.4085917407062495,0.43888242031921276,0.024733150733931564,0.23119265184672,0.4449869758346534,0.803356609312161,0.5547992640703331,0.8407162949747896,0.7244603057574064,0.2736107691424341,0.8206334268049824,0.7127364599282294,0.7845483593716207,0.6684923116108998,0.8496751673917072,0.3003105907086896,0.1855678605666199,0.6781973932042855,0.6920620352133825,0.3298979388727161,0.6017668931021692,0.9441024032404972,0.5392262591452472,0.3159325659824537,0.42909974040498056,0.7468576946453905,0.14364705860860416,0.027806793128392848,0.8460254355251455,0.35193893552912714,0.8997086383646373,0.4068033400366782,0.5641541093467989,0.25534881048334845,0.698983201033492,0.887709708659967,0.6164019867015316,0.8269614921244717,0.592247917360728,0.24620816688778324,0.4265191894700936,0.9439029771482778,0.3983376547859465,0.7181900297028112,0.821995413899302,0.9316788998199554,0.4959697022639181,0.7874553516604432,0.5978248727196325,0.7513866547608727,0.4326994449349635,0.12829748176778966,0.22315440427429056,0.8669340159178552,0.5759878422093737,0.9585302122930114,0.6769656388490006,0.28777900959217384,0.14798123549774844,0.4632748728020126,0.8909533340869092,0.5197447026220833,0.2553587407637101,0.8462513804756748,0.5756235609840756,0.7230416697965739,0.07451477772241022,0.817053559562825,0.3954375715656311,0.7256995338400959,0.6591141085635792,0.19634550703785092,0.15008937198478356,0.7224396346521809,0.18315515884528621,0.2504123275895579,0.6387576511671574,0.8332140478530974,0.6154594470856365,0.11418211764109043,0.3176595309983081,0.257153731133295,0.5519359372740149,0.5141060467079117,0.06131319304357474,0.8863848527552011,0.24137692590218263,0.5235142593836116,0.44818718527229295,0.6060238195208072,0.7921447626342182,0.6474133650045344,0.958507307661738,0.3110242581416035,0.7178431464342467,0.6972024374659759,0.1357722694168667,0.7305960251585956,0.2262813755688634,0.8618746234125816,0.30865463457722175,0.6489415375168702,0.9767003957100201,0.21339680348990853,0.10360031666735325,0.07300162954149736,0.9705782817553315,0.785044321957804,0.486073772499132,0.10914353826542633,0.5256860866458446,0.8235912630267851,0.5420776291613022,0.09968921652196505,0.9612824781451685,0.3556324489691636,0.657456808822794,0.6785544698110872,0.3925480795755433,0.9659098105422387,0.4195562896099492,0.9584219151882539,0.6792931296568968,0.4448364133146874,0.6785133382099345,0.6887033833009353,0.6401308281416204,0.08337947667124201,0.5753885468360116,0.013976554072058112,0.29483443746151494,0.36677765836568865,0.14135627500057613,0.9328576970274515,0.5153181361864222,0.018502037880378408,0.4378800058406256,0.5295551694885806,0.4840655039332221,0.9634457137570249,0.4833807158223975,0.2016718919463537,0.505335675107466,0.38603698956957977,0.6735777908098163,0.9339210214869078,0.5892806642983871],\"type\":\"scatter\"}],                        {\"legend\":{\"bgcolor\":\"#F5F6F9\",\"font\":{\"color\":\"#4D5663\"}},\"paper_bgcolor\":\"#F5F6F9\",\"plot_bgcolor\":\"#F5F6F9\",\"template\":{\"data\":{\"barpolar\":[{\"marker\":{\"line\":{\"color\":\"#E5ECF6\",\"width\":0.5},\"pattern\":{\"fillmode\":\"overlay\",\"size\":10,\"solidity\":0.2}},\"type\":\"barpolar\"}],\"bar\":[{\"error_x\":{\"color\":\"#2a3f5f\"},\"error_y\":{\"color\":\"#2a3f5f\"},\"marker\":{\"line\":{\"color\":\"#E5ECF6\",\"width\":0.5},\"pattern\":{\"fillmode\":\"overlay\",\"size\":10,\"solidity\":0.2}},\"type\":\"bar\"}],\"carpet\":[{\"aaxis\":{\"endlinecolor\":\"#2a3f5f\",\"gridcolor\":\"white\",\"linecolor\":\"white\",\"minorgridcolor\":\"white\",\"startlinecolor\":\"#2a3f5f\"},\"baxis\":{\"endlinecolor\":\"#2a3f5f\",\"gridcolor\":\"white\",\"linecolor\":\"white\",\"minorgridcolor\":\"white\",\"startlinecolor\":\"#2a3f5f\"},\"type\":\"carpet\"}],\"choropleth\":[{\"colorbar\":{\"outlinewidth\":0,\"ticks\":\"\"},\"type\":\"choropleth\"}],\"contourcarpet\":[{\"colorbar\":{\"outlinewidth\":0,\"ticks\":\"\"},\"type\":\"contourcarpet\"}],\"contour\":[{\"colorbar\":{\"outlinewidth\":0,\"ticks\":\"\"},\"colorscale\":[[0.0,\"#0d0887\"],[0.1111111111111111,\"#46039f\"],[0.2222222222222222,\"#7201a8\"],[0.3333333333333333,\"#9c179e\"],[0.4444444444444444,\"#bd3786\"],[0.5555555555555556,\"#d8576b\"],[0.6666666666666666,\"#ed7953\"],[0.7777777777777778,\"#fb9f3a\"],[0.8888888888888888,\"#fdca26\"],[1.0,\"#f0f921\"]],\"type\":\"contour\"}],\"heatmapgl\":[{\"colorbar\":{\"outlinewidth\":0,\"ticks\":\"\"},\"colorscale\":[[0.0,\"#0d0887\"],[0.1111111111111111,\"#46039f\"],[0.2222222222222222,\"#7201a8\"],[0.3333333333333333,\"#9c179e\"],[0.4444444444444444,\"#bd3786\"],[0.5555555555555556,\"#d8576b\"],[0.6666666666666666,\"#ed7953\"],[0.7777777777777778,\"#fb9f3a\"],[0.8888888888888888,\"#fdca26\"],[1.0,\"#f0f921\"]],\"type\":\"heatmapgl\"}],\"heatmap\":[{\"colorbar\":{\"outlinewidth\":0,\"ticks\":\"\"},\"colorscale\":[[0.0,\"#0d0887\"],[0.1111111111111111,\"#46039f\"],[0.2222222222222222,\"#7201a8\"],[0.3333333333333333,\"#9c179e\"],[0.4444444444444444,\"#bd3786\"],[0.5555555555555556,\"#d8576b\"],[0.6666666666666666,\"#ed7953\"],[0.7777777777777778,\"#fb9f3a\"],[0.8888888888888888,\"#fdca26\"],[1.0,\"#f0f921\"]],\"type\":\"heatmap\"}],\"histogram2dcontour\":[{\"colorbar\":{\"outlinewidth\":0,\"ticks\":\"\"},\"colorscale\":[[0.0,\"#0d0887\"],[0.1111111111111111,\"#46039f\"],[0.2222222222222222,\"#7201a8\"],[0.3333333333333333,\"#9c179e\"],[0.4444444444444444,\"#bd3786\"],[0.5555555555555556,\"#d8576b\"],[0.6666666666666666,\"#ed7953\"],[0.7777777777777778,\"#fb9f3a\"],[0.8888888888888888,\"#fdca26\"],[1.0,\"#f0f921\"]],\"type\":\"histogram2dcontour\"}],\"histogram2d\":[{\"colorbar\":{\"outlinewidth\":0,\"ticks\":\"\"},\"colorscale\":[[0.0,\"#0d0887\"],[0.1111111111111111,\"#46039f\"],[0.2222222222222222,\"#7201a8\"],[0.3333333333333333,\"#9c179e\"],[0.4444444444444444,\"#bd3786\"],[0.5555555555555556,\"#d8576b\"],[0.6666666666666666,\"#ed7953\"],[0.7777777777777778,\"#fb9f3a\"],[0.8888888888888888,\"#fdca26\"],[1.0,\"#f0f921\"]],\"type\":\"histogram2d\"}],\"histogram\":[{\"marker\":{\"pattern\":{\"fillmode\":\"overlay\",\"size\":10,\"solidity\":0.2}},\"type\":\"histogram\"}],\"mesh3d\":[{\"colorbar\":{\"outlinewidth\":0,\"ticks\":\"\"},\"type\":\"mesh3d\"}],\"parcoords\":[{\"line\":{\"colorbar\":{\"outlinewidth\":0,\"ticks\":\"\"}},\"type\":\"parcoords\"}],\"pie\":[{\"automargin\":true,\"type\":\"pie\"}],\"scatter3d\":[{\"line\":{\"colorbar\":{\"outlinewidth\":0,\"ticks\":\"\"}},\"marker\":{\"colorbar\":{\"outlinewidth\":0,\"ticks\":\"\"}},\"type\":\"scatter3d\"}],\"scattercarpet\":[{\"marker\":{\"colorbar\":{\"outlinewidth\":0,\"ticks\":\"\"}},\"type\":\"scattercarpet\"}],\"scattergeo\":[{\"marker\":{\"colorbar\":{\"outlinewidth\":0,\"ticks\":\"\"}},\"type\":\"scattergeo\"}],\"scattergl\":[{\"marker\":{\"colorbar\":{\"outlinewidth\":0,\"ticks\":\"\"}},\"type\":\"scattergl\"}],\"scattermapbox\":[{\"marker\":{\"colorbar\":{\"outlinewidth\":0,\"ticks\":\"\"}},\"type\":\"scattermapbox\"}],\"scatterpolargl\":[{\"marker\":{\"colorbar\":{\"outlinewidth\":0,\"ticks\":\"\"}},\"type\":\"scatterpolargl\"}],\"scatterpolar\":[{\"marker\":{\"colorbar\":{\"outlinewidth\":0,\"ticks\":\"\"}},\"type\":\"scatterpolar\"}],\"scatter\":[{\"fillpattern\":{\"fillmode\":\"overlay\",\"size\":10,\"solidity\":0.2},\"type\":\"scatter\"}],\"scatterternary\":[{\"marker\":{\"colorbar\":{\"outlinewidth\":0,\"ticks\":\"\"}},\"type\":\"scatterternary\"}],\"surface\":[{\"colorbar\":{\"outlinewidth\":0,\"ticks\":\"\"},\"colorscale\":[[0.0,\"#0d0887\"],[0.1111111111111111,\"#46039f\"],[0.2222222222222222,\"#7201a8\"],[0.3333333333333333,\"#9c179e\"],[0.4444444444444444,\"#bd3786\"],[0.5555555555555556,\"#d8576b\"],[0.6666666666666666,\"#ed7953\"],[0.7777777777777778,\"#fb9f3a\"],[0.8888888888888888,\"#fdca26\"],[1.0,\"#f0f921\"]],\"type\":\"surface\"}],\"table\":[{\"cells\":{\"fill\":{\"color\":\"#EBF0F8\"},\"line\":{\"color\":\"white\"}},\"header\":{\"fill\":{\"color\":\"#C8D4E3\"},\"line\":{\"color\":\"white\"}},\"type\":\"table\"}]},\"layout\":{\"annotationdefaults\":{\"arrowcolor\":\"#2a3f5f\",\"arrowhead\":0,\"arrowwidth\":1},\"autotypenumbers\":\"strict\",\"coloraxis\":{\"colorbar\":{\"outlinewidth\":0,\"ticks\":\"\"}},\"colorscale\":{\"diverging\":[[0,\"#8e0152\"],[0.1,\"#c51b7d\"],[0.2,\"#de77ae\"],[0.3,\"#f1b6da\"],[0.4,\"#fde0ef\"],[0.5,\"#f7f7f7\"],[0.6,\"#e6f5d0\"],[0.7,\"#b8e186\"],[0.8,\"#7fbc41\"],[0.9,\"#4d9221\"],[1,\"#276419\"]],\"sequential\":[[0.0,\"#0d0887\"],[0.1111111111111111,\"#46039f\"],[0.2222222222222222,\"#7201a8\"],[0.3333333333333333,\"#9c179e\"],[0.4444444444444444,\"#bd3786\"],[0.5555555555555556,\"#d8576b\"],[0.6666666666666666,\"#ed7953\"],[0.7777777777777778,\"#fb9f3a\"],[0.8888888888888888,\"#fdca26\"],[1.0,\"#f0f921\"]],\"sequentialminus\":[[0.0,\"#0d0887\"],[0.1111111111111111,\"#46039f\"],[0.2222222222222222,\"#7201a8\"],[0.3333333333333333,\"#9c179e\"],[0.4444444444444444,\"#bd3786\"],[0.5555555555555556,\"#d8576b\"],[0.6666666666666666,\"#ed7953\"],[0.7777777777777778,\"#fb9f3a\"],[0.8888888888888888,\"#fdca26\"],[1.0,\"#f0f921\"]]},\"colorway\":[\"#636efa\",\"#EF553B\",\"#00cc96\",\"#ab63fa\",\"#FFA15A\",\"#19d3f3\",\"#FF6692\",\"#B6E880\",\"#FF97FF\",\"#FECB52\"],\"font\":{\"color\":\"#2a3f5f\"},\"geo\":{\"bgcolor\":\"white\",\"lakecolor\":\"white\",\"landcolor\":\"#E5ECF6\",\"showlakes\":true,\"showland\":true,\"subunitcolor\":\"white\"},\"hoverlabel\":{\"align\":\"left\"},\"hovermode\":\"closest\",\"mapbox\":{\"style\":\"light\"},\"paper_bgcolor\":\"white\",\"plot_bgcolor\":\"#E5ECF6\",\"polar\":{\"angularaxis\":{\"gridcolor\":\"white\",\"linecolor\":\"white\",\"ticks\":\"\"},\"bgcolor\":\"#E5ECF6\",\"radialaxis\":{\"gridcolor\":\"white\",\"linecolor\":\"white\",\"ticks\":\"\"}},\"scene\":{\"xaxis\":{\"backgroundcolor\":\"#E5ECF6\",\"gridcolor\":\"white\",\"gridwidth\":2,\"linecolor\":\"white\",\"showbackground\":true,\"ticks\":\"\",\"zerolinecolor\":\"white\"},\"yaxis\":{\"backgroundcolor\":\"#E5ECF6\",\"gridcolor\":\"white\",\"gridwidth\":2,\"linecolor\":\"white\",\"showbackground\":true,\"ticks\":\"\",\"zerolinecolor\":\"white\"},\"zaxis\":{\"backgroundcolor\":\"#E5ECF6\",\"gridcolor\":\"white\",\"gridwidth\":2,\"linecolor\":\"white\",\"showbackground\":true,\"ticks\":\"\",\"zerolinecolor\":\"white\"}},\"shapedefaults\":{\"line\":{\"color\":\"#2a3f5f\"}},\"ternary\":{\"aaxis\":{\"gridcolor\":\"white\",\"linecolor\":\"white\",\"ticks\":\"\"},\"baxis\":{\"gridcolor\":\"white\",\"linecolor\":\"white\",\"ticks\":\"\"},\"bgcolor\":\"#E5ECF6\",\"caxis\":{\"gridcolor\":\"white\",\"linecolor\":\"white\",\"ticks\":\"\"}},\"title\":{\"x\":0.05},\"xaxis\":{\"automargin\":true,\"gridcolor\":\"white\",\"linecolor\":\"white\",\"ticks\":\"\",\"title\":{\"standoff\":15},\"zerolinecolor\":\"white\",\"zerolinewidth\":2},\"yaxis\":{\"automargin\":true,\"gridcolor\":\"white\",\"linecolor\":\"white\",\"ticks\":\"\",\"title\":{\"standoff\":15},\"zerolinecolor\":\"white\",\"zerolinewidth\":2}}},\"title\":{\"font\":{\"color\":\"#4D5663\"}},\"xaxis\":{\"gridcolor\":\"#E1E5ED\",\"showgrid\":true,\"tickfont\":{\"color\":\"#4D5663\"},\"title\":{\"font\":{\"color\":\"#4D5663\"},\"text\":\"\"},\"zerolinecolor\":\"#E1E5ED\"},\"yaxis\":{\"gridcolor\":\"#E1E5ED\",\"showgrid\":true,\"tickfont\":{\"color\":\"#4D5663\"},\"title\":{\"font\":{\"color\":\"#4D5663\"},\"text\":\"\"},\"zerolinecolor\":\"#E1E5ED\"}},                        {\"showLink\": true, \"linkText\": \"Export to plot.ly\", \"plotlyServerURL\": \"https://plot.ly\", \"responsive\": true}                    ).then(function(){\n",
       "                            \n",
       "var gd = document.getElementById('d6788c72-34db-4411-8f62-abfe8b0acb12');\n",
       "var x = new MutationObserver(function (mutations, observer) {{\n",
       "        var display = window.getComputedStyle(gd).display;\n",
       "        if (!display || display === 'none') {{\n",
       "            console.log([gd, 'removed!']);\n",
       "            Plotly.purge(gd);\n",
       "            observer.disconnect();\n",
       "        }}\n",
       "}});\n",
       "\n",
       "// Listen for the removal of the full notebook cells\n",
       "var notebookContainer = gd.closest('#notebook-container');\n",
       "if (notebookContainer) {{\n",
       "    x.observe(notebookContainer, {childList: true});\n",
       "}}\n",
       "\n",
       "// Listen for the clearing of the current output cell\n",
       "var outputEl = gd.closest('.output');\n",
       "if (outputEl) {{\n",
       "    x.observe(outputEl, {childList: true});\n",
       "}}\n",
       "\n",
       "                        })                };                });            </script>        </div>"
      ]
     },
     "metadata": {},
     "output_type": "display_data"
    }
   ],
   "source": [
    "df.iplot(x='a', y= 'b', mode= 'markers')"
   ]
  },
  {
   "cell_type": "code",
   "execution_count": 9,
   "id": "c59ad840",
   "metadata": {},
   "outputs": [
    {
     "data": {
      "application/vnd.plotly.v1+json": {
       "config": {
        "linkText": "Export to plot.ly",
        "plotlyServerURL": "https://plot.ly",
        "showLink": true
       },
       "data": [
        {
         "boxpoints": false,
         "line": {
          "width": 1.3
         },
         "marker": {
          "color": "rgba(255, 153, 51, 1.0)"
         },
         "name": "a",
         "orientation": "v",
         "type": "box",
         "y": [
          0.5217584901197575,
          0.5787111342562862,
          0.1797887564020827,
          0.1536449987712688,
          0.7744991797964166,
          0.271164708828622,
          0.7088256489644945,
          0.6777362072539204,
          0.9722369749183002,
          0.7100315504451886,
          0.7721317196529153,
          0.019535900540354256,
          0.9772200011819906,
          0.27879704659658644,
          0.18576968309289987,
          0.6936729469645396,
          0.521595671174059,
          0.9777036414370185,
          0.1205080018053416,
          0.7191075781198428,
          0.656148195768571,
          0.18504960908493806,
          0.6976177065679228,
          0.9964749244646701,
          0.737370555139942,
          0.8284745562353367,
          0.6002216427339154,
          0.37316250565657294,
          0.01841901374264643,
          0.18016793726983227,
          0.050244266830862694,
          0.5321947239446121,
          0.8633079997178311,
          0.15563507459717651,
          0.7820965449198773,
          0.5568072781904421,
          0.89210631691426,
          0.13652852634827983,
          0.22067831208296218,
          0.707697711247764,
          0.653941773421546,
          0.31936369512201923,
          0.25974249319384823,
          0.9142884197908587,
          0.9555058944772499,
          0.2939294874403823,
          0.33105472165087946,
          0.2721214646761868,
          0.9035897307292399,
          0.7823212681900047,
          0.22788264617646603,
          0.3149773577433017,
          0.9424839776979346,
          0.1493480640968453,
          0.9322537751868704,
          0.17890015095129153,
          0.6767331109871201,
          0.9923477638877356,
          0.6689952038280811,
          0.5351262182156444,
          0.311128645020762,
          0.6979545130064431,
          0.8729865700172668,
          0.2861387961107905,
          0.41686702320312685,
          0.8298702500763596,
          0.8502754130424404,
          0.03715230655586421,
          0.8842262335934845,
          0.5209556486117768,
          0.10300880891115705,
          0.13256533659258285,
          0.12248486317015106,
          0.8518202329765998,
          0.7697830783258386,
          0.8109341086513256,
          0.7059228720730545,
          0.9152006226333084,
          0.48417782324422365,
          0.2822051918880407,
          0.39967785260278677,
          0.2518429384358193,
          0.013149909783860658,
          0.34758802353391316,
          0.4162239304029818,
          0.14195229285722033,
          0.08650945359769902,
          0.37779339185565564,
          0.9487764062903706,
          0.03219612551089923,
          0.24236729187033867,
          0.15328624032036042,
          0.8190503197587852,
          0.34871620856743746,
          0.6221235648438211,
          0.9775793649170893,
          0.8418095077830429,
          0.3212166717185544,
          0.29545951450442,
          0.8910950321146475,
          0.6325781058325881,
          0.7314966107677453,
          0.033629787915021025,
          0.6932776195137418,
          0.8687979340808485,
          0.8885443278340531,
          0.8556283657556358,
          0.32987026666233077,
          0.13490194355464147,
          0.453318809340042,
          0.7861699008687312,
          0.07475515033214386,
          0.23003437896729373,
          0.7572296797582196,
          0.46081882201182967,
          0.6760330578620852,
          0.9884349813243926,
          0.9812522308893941,
          0.3195595525226541,
          0.05480116248354894,
          0.04293327189874241,
          0.41193344345125893,
          0.9145720860227223,
          0.4328840504725179,
          0.8858315277284301,
          0.49161158204457245,
          0.4099366043244621,
          0.49717351277631616,
          0.6753001507749009,
          0.5144463240743683,
          0.6847873774627783,
          0.08081896084656826,
          0.7087887703432738,
          0.9875131515316805,
          0.6895147936285623,
          0.3592287291544851,
          0.10277789522924563,
          0.28911811439472357,
          0.7506923352216698,
          0.29497551155683843,
          0.3665333559717857,
          0.513560226786625,
          0.667663169195848,
          0.9389861598967205,
          0.11828210893451874,
          0.24704682443176074,
          0.072708476061635,
          0.5990119861122783,
          0.9423147449873845,
          0.7128994746244285,
          0.6074738792486837,
          0.2835446628384126,
          0.22688653383213686,
          0.518679489798174,
          0.3661733831076309,
          0.6074576839203806,
          0.8754928930157727,
          0.012677991667791266,
          0.013693951665304183,
          0.8013334618633164,
          0.5871441274383529,
          0.7002774638030955,
          0.48529977314238815,
          0.11790416631646516,
          0.47926966762875334,
          0.21495434447343154,
          0.10115539548801766,
          0.8742703946647546,
          0.42303647562334845,
          0.5715151646840542,
          0.258032038071651,
          0.2594535107118574,
          0.7430386339795915,
          0.7231824911669353,
          0.0008158764697191456,
          0.7836476194852188,
          0.8510464899514174,
          0.5207886549439212,
          0.12579385791260622,
          0.15891634574349867,
          0.0521523476159379,
          0.3920466103453104,
          0.9431554412800038,
          0.3560421358022502,
          0.2619038524355699,
          0.9410805328594457,
          0.9381353430098053,
          0.49438988572448617,
          0.20178851439232792,
          0.2621353141545477,
          0.5254034334736651,
          0.012881733441739152,
          0.09447995950021248,
          0.3943879767061542,
          0.03090792370293649,
          0.6882603759618863,
          0.08156627955369689,
          0.799140666442477,
          0.7424500118535963,
          0.5032897934634936,
          0.23510187897752577,
          0.6007975324873631,
          0.22953005084602285,
          0.5908083343598789,
          0.26198074515587333,
          0.02483063129211116,
          0.199740362555199,
          0.4202845023839932,
          0.06821748451093745,
          0.09919874899927295,
          0.8854799780009854,
          0.9777505021664477,
          0.1300181984227593,
          0.2693970048237856,
          0.10318289455570406,
          0.2399858249826532,
          0.38741039806197575,
          0.447560070942181,
          0.213733950857933,
          0.25221837152496795,
          0.5455057508988781,
          0.6831026878944338,
          0.10350436835748567,
          0.5760429976774889,
          0.2953389090645029,
          0.6502446928420924,
          0.39542598057944833,
          0.660003062813198,
          0.5578093493433288,
          0.3942502355132199,
          0.49202298363888375,
          0.42210808920089116,
          0.939176377162526,
          0.0542706922816244,
          0.22032555543774313,
          0.005230429465815867,
          0.7239019983635087,
          0.22711631517220732,
          0.4517662235285317,
          0.3180468417868577,
          0.7187991907055166,
          0.8906688540374909,
          0.3581557876097188,
          0.16982091144134281,
          0.9811588278156487,
          0.3607024665327434,
          0.47866287348990666,
          0.8884505446382632,
          0.09856894806051741,
          0.10218727320835763,
          0.7015942427213698,
          0.7842798026118757,
          0.30450346977216436,
          0.47657062100714687,
          0.39477315252105716,
          0.3994360333817134,
          0.2365946940750263,
          0.6983289552001183,
          0.5290485275025265,
          0.5552687435786212,
          0.30016664427132356,
          0.1484069576645365,
          0.7849532685848855,
          0.5246179091355077,
          0.9499243810481692,
          0.07907055168482302,
          0.18002851024697641,
          0.7957694094355793,
          0.796828655882608,
          0.29597967326499597,
          0.25649796460328567,
          0.6812640639822506,
          0.21293242706709337,
          0.40715630359496957,
          0.6838091022811791,
          0.21564973693881961,
          0.28369176629833603,
          0.9974066013950036,
          0.4290506779227563,
          0.4770546261319515,
          0.7912454204009501,
          0.4720695615872831,
          0.5630624530964834,
          0.5576189617562095,
          0.16926300741270972,
          0.016452020181829563,
          0.983030784592851,
          0.0776930122755114,
          0.08635976282508218,
          0.6745955061443522,
          0.46038477969508773,
          0.8408528909563503,
          0.2014336475764087,
          0.3811659743110719,
          0.10421267293833836,
          0.3378933743606959,
          0.5655407541975808,
          0.5635334766364674,
          0.05930142645585179,
          0.8774285096481331
         ]
        },
        {
         "boxpoints": false,
         "line": {
          "width": 1.3
         },
         "marker": {
          "color": "rgba(55, 128, 191, 1.0)"
         },
         "name": "b",
         "orientation": "v",
         "type": "box",
         "y": [
          0.656539998196642,
          0.27253940771451435,
          0.6786903192422861,
          0.6891146764623897,
          0.7256593400383303,
          0.37335451282041876,
          0.349789910719149,
          0.062120923366696834,
          0.7682139205492792,
          0.4601109790594239,
          0.7322464098696346,
          0.676693193066309,
          0.9892935172394582,
          0.5883113904549153,
          0.3997243985485117,
          0.26825223833879375,
          0.7596857424097275,
          0.674802843668224,
          0.64250475591823,
          0.5961381441211533,
          0.8624881695686553,
          0.7514909705560398,
          0.1507557921606818,
          0.5663846911426519,
          0.9297202119417712,
          0.37715276950387433,
          0.58590109396692,
          0.7907673475640333,
          0.8855761672711409,
          0.7247164076266339,
          0.08402956207106405,
          0.7406281288095806,
          0.061464532339492006,
          0.01212541238780851,
          0.9305968512383176,
          0.43188523108562693,
          0.5797553333882017,
          0.41839860015609376,
          0.6621864435132195,
          0.49098249763106816,
          0.9838986802643036,
          0.03795945670847678,
          0.3568038205126176,
          0.5382814999840804,
          0.8312107602413941,
          0.9897261625944779,
          0.5386460641013339,
          0.8152447480720554,
          0.7263286278882198,
          0.3047762805543889,
          0.8046668231673613,
          0.015204293647969824,
          0.6509538542617733,
          0.39251695907359163,
          0.9608519297954445,
          0.39186434985914786,
          0.5423590025438332,
          0.5178728813688276,
          0.3897928888407759,
          0.17871811748564304,
          0.4546624671947873,
          0.9131664212631745,
          0.5302016851171796,
          0.2531763510616938,
          0.24610117752491345,
          0.8168844379244516,
          0.5027656949835817,
          0.4147547542650629,
          0.49992894571148294,
          0.6759520613340753,
          0.9349440562114473,
          0.34183666375085486,
          0.2655740730014412,
          0.20913015924052225,
          0.1668960232694574,
          0.7896385523335006,
          0.5697195638903921,
          0.04029029353960767,
          0.7623101530970234,
          0.37470909167358,
          0.29620542210436396,
          0.7239281425261097,
          0.7164494126492951,
          0.6414428865947575,
          0.7698973205107151,
          0.036177204779522465,
          0.43511084860666316,
          0.6472641880989595,
          0.8578599664218087,
          0.9070414296379582,
          0.07883707697768894,
          0.1564506196493739,
          0.9287223746519031,
          0.26781720662399044,
          0.6561669728810094,
          0.2739308440543198,
          0.5127345479309581,
          0.7030158912343166,
          0.31550627886620053,
          0.4537520404611549,
          0.42402494000416446,
          0.012944851510112931,
          0.3363069262947572,
          0.48757899198521837,
          0.6725381319039432,
          0.49889913596935087,
          0.9093672020365248,
          0.25366056104711776,
          0.09333114645044105,
          0.699975691427596,
          0.7029616999090502,
          0.1979334901979526,
          0.9077325867678702,
          0.5339227932980698,
          0.6288814938784066,
          0.9875034900934466,
          0.21046506779381857,
          0.4219999335828182,
          0.8870816487928492,
          0.8965252988171006,
          0.9555062244016154,
          0.6990307495345253,
          0.5003949309423894,
          0.7816865939450025,
          0.23393454713494288,
          0.5666216612297436,
          0.6962299236949661,
          0.4897230862531481,
          0.7520105838062199,
          0.29866487918192375,
          0.0568960612111401,
          0.7317997917346516,
          0.6789940825291483,
          0.21140314177101827,
          0.26647265830651023,
          0.5708031563902227,
          0.6730624454616239,
          0.17287661015075872,
          0.607062769016913,
          0.24577938865755555,
          0.5636957611786366,
          0.3869016504965429,
          0.45366166664652374,
          0.9547342126041077,
          0.11230444924118,
          0.5207170333995084,
          0.5987883357626637,
          0.9962975916831,
          0.43065973711208383,
          0.061942078325167405,
          0.6112341158776564,
          0.07591989891332607,
          0.7089661196953471,
          0.4085917407062495,
          0.43888242031921276,
          0.024733150733931564,
          0.23119265184672,
          0.4449869758346534,
          0.803356609312161,
          0.5547992640703331,
          0.8407162949747896,
          0.7244603057574064,
          0.2736107691424341,
          0.8206334268049824,
          0.7127364599282294,
          0.7845483593716207,
          0.6684923116108998,
          0.8496751673917072,
          0.3003105907086896,
          0.1855678605666199,
          0.6781973932042855,
          0.6920620352133825,
          0.3298979388727161,
          0.6017668931021692,
          0.9441024032404972,
          0.5392262591452472,
          0.3159325659824537,
          0.42909974040498056,
          0.7468576946453905,
          0.14364705860860416,
          0.027806793128392848,
          0.8460254355251455,
          0.35193893552912714,
          0.8997086383646373,
          0.4068033400366782,
          0.5641541093467989,
          0.25534881048334845,
          0.698983201033492,
          0.887709708659967,
          0.6164019867015316,
          0.8269614921244717,
          0.592247917360728,
          0.24620816688778324,
          0.4265191894700936,
          0.9439029771482778,
          0.3983376547859465,
          0.7181900297028112,
          0.821995413899302,
          0.9316788998199554,
          0.4959697022639181,
          0.7874553516604432,
          0.5978248727196325,
          0.7513866547608727,
          0.4326994449349635,
          0.12829748176778966,
          0.22315440427429056,
          0.8669340159178552,
          0.5759878422093737,
          0.9585302122930114,
          0.6769656388490006,
          0.28777900959217384,
          0.14798123549774844,
          0.4632748728020126,
          0.8909533340869092,
          0.5197447026220833,
          0.2553587407637101,
          0.8462513804756748,
          0.5756235609840756,
          0.7230416697965739,
          0.07451477772241022,
          0.817053559562825,
          0.3954375715656311,
          0.7256995338400959,
          0.6591141085635792,
          0.19634550703785092,
          0.15008937198478356,
          0.7224396346521809,
          0.18315515884528621,
          0.2504123275895579,
          0.6387576511671574,
          0.8332140478530974,
          0.6154594470856365,
          0.11418211764109043,
          0.3176595309983081,
          0.257153731133295,
          0.5519359372740149,
          0.5141060467079117,
          0.06131319304357474,
          0.8863848527552011,
          0.24137692590218263,
          0.5235142593836116,
          0.44818718527229295,
          0.6060238195208072,
          0.7921447626342182,
          0.6474133650045344,
          0.958507307661738,
          0.3110242581416035,
          0.7178431464342467,
          0.6972024374659759,
          0.1357722694168667,
          0.7305960251585956,
          0.2262813755688634,
          0.8618746234125816,
          0.30865463457722175,
          0.6489415375168702,
          0.9767003957100201,
          0.21339680348990853,
          0.10360031666735325,
          0.07300162954149736,
          0.9705782817553315,
          0.785044321957804,
          0.486073772499132,
          0.10914353826542633,
          0.5256860866458446,
          0.8235912630267851,
          0.5420776291613022,
          0.09968921652196505,
          0.9612824781451685,
          0.3556324489691636,
          0.657456808822794,
          0.6785544698110872,
          0.3925480795755433,
          0.9659098105422387,
          0.4195562896099492,
          0.9584219151882539,
          0.6792931296568968,
          0.4448364133146874,
          0.6785133382099345,
          0.6887033833009353,
          0.6401308281416204,
          0.08337947667124201,
          0.5753885468360116,
          0.013976554072058112,
          0.29483443746151494,
          0.36677765836568865,
          0.14135627500057613,
          0.9328576970274515,
          0.5153181361864222,
          0.018502037880378408,
          0.4378800058406256,
          0.5295551694885806,
          0.4840655039332221,
          0.9634457137570249,
          0.4833807158223975,
          0.2016718919463537,
          0.505335675107466,
          0.38603698956957977,
          0.6735777908098163,
          0.9339210214869078,
          0.5892806642983871
         ]
        },
        {
         "boxpoints": false,
         "line": {
          "width": 1.3
         },
         "marker": {
          "color": "rgba(50, 171, 96, 1.0)"
         },
         "name": "c",
         "orientation": "v",
         "type": "box",
         "y": [
          0.967523797092589,
          0.18937299674229768,
          0.13990514063765858,
          0.993441405170532,
          0.4640672351445916,
          0.4490547505782275,
          0.5877761339697588,
          0.5635123006609215,
          0.2892499051370575,
          0.04301590969708169,
          0.06924916939513326,
          0.7070339524582361,
          0.6244991149078916,
          0.11617241273552426,
          0.3553976853754187,
          0.19400801205161855,
          0.43872218341998503,
          0.8280002837442253,
          0.6050209442726932,
          0.47228544401329475,
          0.07413453017050575,
          0.1330194917252524,
          0.9775766497551182,
          0.4819287444951932,
          0.8260330736495922,
          0.3855746535128006,
          0.16821741892145614,
          0.43710669754194886,
          0.7690284689519828,
          0.9348658838331856,
          0.656300270694609,
          0.5009802672090435,
          0.5835696241683195,
          0.4932740031652606,
          0.1886564706257089,
          0.9850787305679922,
          0.7880981183839867,
          0.5985129666908966,
          0.12423441340842589,
          0.4740962811179438,
          0.47576412744380203,
          0.45636052436155594,
          0.3762628432824827,
          0.44782958773383186,
          0.5021981393430529,
          0.3571871119200528,
          0.15775029466986734,
          0.8879203726357164,
          0.1586221734565666,
          0.05660123171309772,
          0.4888836032689322,
          0.7530734294582562,
          0.1932123978321787,
          0.07382698041797875,
          0.9791636561056474,
          0.14530999381099063,
          0.744567327605263,
          0.5396558759455241,
          0.2193740686774056,
          0.6592878199560526,
          0.04393641294087913,
          0.47005220850260687,
          0.7812882243604089,
          0.9661181301634549,
          0.7693187105733066,
          0.5464101512302164,
          0.9759039029187836,
          0.54503421952729,
          0.08490158485592203,
          0.8332515738491137,
          0.04318863610078316,
          0.2178666858202003,
          0.34888748379753265,
          0.9284980766792409,
          0.5481504983421527,
          0.7218315513242961,
          0.3327444742876339,
          0.4661079882007264,
          0.3109510907653732,
          0.4736846837861648,
          0.27588972987373683,
          0.8242729529490948,
          0.4501850314713316,
          0.5561961792838948,
          0.8367870253696101,
          0.38597381882052684,
          0.8634694265204212,
          0.6710341308749224,
          0.4836984739597997,
          0.9140078127563015,
          0.15121904450652424,
          0.5157831822842629,
          0.04782054395814872,
          0.10853967693678135,
          0.6526056285087206,
          0.25999144311223366,
          0.5966352462304373,
          0.36060273370433815,
          0.8606523080985343,
          0.7108944735873066,
          0.954419312402988,
          0.104338077532664,
          0.7897189446269589,
          0.5806289019226147,
          0.08924233540860937,
          0.6358422662488767,
          0.871106562969431,
          0.5475510203013657,
          0.32865688131974435,
          0.3373663140830827,
          0.6639333290792861,
          0.7120025729494118,
          0.23111308727599778,
          0.8194151112996897,
          0.6632003741481258,
          0.4980062542983612,
          0.6331954058256917,
          0.3492594122107504,
          0.6306392362017047,
          0.1173068570602116,
          0.603627976818489,
          0.37558930277895075,
          0.6177982089002189,
          0.14099624052703552,
          0.2104365868794158,
          0.13041043596542068,
          0.22522789054001902,
          0.6355937006436455,
          0.2641404972742806,
          0.2104156476488661,
          0.9571322169113562,
          0.2446946409381613,
          0.6598899751110712,
          0.34501651624917873,
          0.20425970129613347,
          0.13862290396177857,
          0.16738720057604684,
          0.5993729996716849,
          0.15400850671481925,
          0.30725434755491654,
          0.5283153918055293,
          0.5503316965468635,
          0.9363214950512254,
          0.4949782634775314,
          0.14845313310355546,
          0.26201225736903244,
          0.6273039093093952,
          0.6278998629827721,
          0.7142987083837642,
          0.4640689098732539,
          0.9595743266276621,
          0.9443515980747916,
          0.39986913814987224,
          0.2717940886619207,
          0.7413649791383068,
          0.40046098355420345,
          0.6692668457321778,
          0.23816924405045425,
          0.48775234683854773,
          0.7613291259221566,
          0.5567468223062653,
          0.8294159600074941,
          0.7786484722425432,
          0.6845754791218899,
          0.7870886717363585,
          0.22207115458875204,
          0.45480951346202547,
          0.32142824782284096,
          0.8944855673768164,
          0.2278877152566775,
          0.5210927401774212,
          0.49437954777507653,
          0.23561600547793715,
          0.9819849870108023,
          0.31559134466293104,
          0.7071697167385999,
          0.7601106493556127,
          0.7512695174253816,
          0.41022052544346177,
          0.6919125308937816,
          0.4408940907270503,
          0.12833541395942227,
          0.3745061510293698,
          0.0521693780525081,
          0.9431862612265062,
          0.7781596652459642,
          0.4757059058252011,
          0.07486612658234448,
          0.5693403856375362,
          0.8520646886843702,
          0.7595165735922618,
          0.8728762285990177,
          0.5219246423898776,
          0.3384127325254904,
          0.602367705008602,
          0.1625322904896187,
          0.16063123545713154,
          0.5982707070676913,
          0.32385490860577293,
          0.608023926209083,
          0.7125431307219975,
          0.8229587976775139,
          0.08259925440100879,
          0.1801296557340787,
          0.9351235496426851,
          0.7811152846041097,
          0.22969514222105514,
          0.6841930666368095,
          0.16667940111262636,
          0.8522105505743116,
          0.28974840539003477,
          0.4597259721896719,
          0.7064406120849022,
          0.3013360801381677,
          0.8242912234107534,
          0.5760214902863724,
          0.8757057818685415,
          0.05372298241393891,
          0.5221168940046299,
          0.028341715825650926,
          0.5294246379535094,
          0.630101048968856,
          0.6017710266964639,
          0.6415256214603133,
          0.4233760384938211,
          0.3496389824169299,
          0.44131312216133245,
          0.5596582242070366,
          0.07449132288024873,
          0.89041381217304,
          0.3932358338497698,
          0.15938137453087697,
          0.48751002224855033,
          0.9174732108612625,
          0.9982227681463068,
          0.5870897310812541,
          0.9031629722668749,
          0.28893114611963944,
          0.32468496719703244,
          0.7696972070877476,
          0.6139660922109733,
          0.2447970813674324,
          0.4750508201686868,
          0.07681312782636696,
          0.1822292728844156,
          0.0007927189738000662,
          0.8731163696107977,
          0.9671850877355647,
          0.7233669981604887,
          0.8188095579173668,
          0.43036151193961836,
          0.31579336626964005,
          0.40981664827978637,
          0.7896260649726885,
          0.10510698663878038,
          0.5864043573200318,
          0.30234806465369723,
          0.6983050942774881,
          0.06680483936624726,
          0.6744295629825899,
          0.2320974397562583,
          0.6695014163748514,
          0.2631466705947727,
          0.9248162265800196,
          0.6010254779944767,
          0.7790691141780071,
          0.7716865665292766,
          0.13377522777584727,
          0.03749122593271448,
          0.13448015575578476,
          0.43564059684736456,
          0.6017854639013723,
          0.34650979926504855,
          0.5535358225151757,
          0.13364438585131577,
          0.6195634532448088,
          0.6966258178875486,
          0.004704496862783958,
          0.775902317234021,
          0.5248304032205543,
          0.4417144562536641,
          0.07277343069415387,
          0.3965240810156341,
          0.07534299085292928,
          0.26579499414750885,
          0.21366109380453058,
          0.5415671200349388,
          0.44618788386597263,
          0.49722740834359724,
          0.8737600937490102,
          0.9583988420494638,
          0.2655201355132303,
          0.5849699103641752,
          0.5368533994151787,
          0.37698208731296634,
          0.6708377194278645,
          0.7459233740193179,
          0.1337001154345424,
          0.6849479227573793,
          0.4157767980138476
         ]
        }
       ],
       "layout": {
        "legend": {
         "bgcolor": "#F5F6F9",
         "font": {
          "color": "#4D5663"
         }
        },
        "paper_bgcolor": "#F5F6F9",
        "plot_bgcolor": "#F5F6F9",
        "template": {
         "data": {
          "bar": [
           {
            "error_x": {
             "color": "#2a3f5f"
            },
            "error_y": {
             "color": "#2a3f5f"
            },
            "marker": {
             "line": {
              "color": "#E5ECF6",
              "width": 0.5
             },
             "pattern": {
              "fillmode": "overlay",
              "size": 10,
              "solidity": 0.2
             }
            },
            "type": "bar"
           }
          ],
          "barpolar": [
           {
            "marker": {
             "line": {
              "color": "#E5ECF6",
              "width": 0.5
             },
             "pattern": {
              "fillmode": "overlay",
              "size": 10,
              "solidity": 0.2
             }
            },
            "type": "barpolar"
           }
          ],
          "carpet": [
           {
            "aaxis": {
             "endlinecolor": "#2a3f5f",
             "gridcolor": "white",
             "linecolor": "white",
             "minorgridcolor": "white",
             "startlinecolor": "#2a3f5f"
            },
            "baxis": {
             "endlinecolor": "#2a3f5f",
             "gridcolor": "white",
             "linecolor": "white",
             "minorgridcolor": "white",
             "startlinecolor": "#2a3f5f"
            },
            "type": "carpet"
           }
          ],
          "choropleth": [
           {
            "colorbar": {
             "outlinewidth": 0,
             "ticks": ""
            },
            "type": "choropleth"
           }
          ],
          "contour": [
           {
            "colorbar": {
             "outlinewidth": 0,
             "ticks": ""
            },
            "colorscale": [
             [
              0,
              "#0d0887"
             ],
             [
              0.1111111111111111,
              "#46039f"
             ],
             [
              0.2222222222222222,
              "#7201a8"
             ],
             [
              0.3333333333333333,
              "#9c179e"
             ],
             [
              0.4444444444444444,
              "#bd3786"
             ],
             [
              0.5555555555555556,
              "#d8576b"
             ],
             [
              0.6666666666666666,
              "#ed7953"
             ],
             [
              0.7777777777777778,
              "#fb9f3a"
             ],
             [
              0.8888888888888888,
              "#fdca26"
             ],
             [
              1,
              "#f0f921"
             ]
            ],
            "type": "contour"
           }
          ],
          "contourcarpet": [
           {
            "colorbar": {
             "outlinewidth": 0,
             "ticks": ""
            },
            "type": "contourcarpet"
           }
          ],
          "heatmap": [
           {
            "colorbar": {
             "outlinewidth": 0,
             "ticks": ""
            },
            "colorscale": [
             [
              0,
              "#0d0887"
             ],
             [
              0.1111111111111111,
              "#46039f"
             ],
             [
              0.2222222222222222,
              "#7201a8"
             ],
             [
              0.3333333333333333,
              "#9c179e"
             ],
             [
              0.4444444444444444,
              "#bd3786"
             ],
             [
              0.5555555555555556,
              "#d8576b"
             ],
             [
              0.6666666666666666,
              "#ed7953"
             ],
             [
              0.7777777777777778,
              "#fb9f3a"
             ],
             [
              0.8888888888888888,
              "#fdca26"
             ],
             [
              1,
              "#f0f921"
             ]
            ],
            "type": "heatmap"
           }
          ],
          "heatmapgl": [
           {
            "colorbar": {
             "outlinewidth": 0,
             "ticks": ""
            },
            "colorscale": [
             [
              0,
              "#0d0887"
             ],
             [
              0.1111111111111111,
              "#46039f"
             ],
             [
              0.2222222222222222,
              "#7201a8"
             ],
             [
              0.3333333333333333,
              "#9c179e"
             ],
             [
              0.4444444444444444,
              "#bd3786"
             ],
             [
              0.5555555555555556,
              "#d8576b"
             ],
             [
              0.6666666666666666,
              "#ed7953"
             ],
             [
              0.7777777777777778,
              "#fb9f3a"
             ],
             [
              0.8888888888888888,
              "#fdca26"
             ],
             [
              1,
              "#f0f921"
             ]
            ],
            "type": "heatmapgl"
           }
          ],
          "histogram": [
           {
            "marker": {
             "pattern": {
              "fillmode": "overlay",
              "size": 10,
              "solidity": 0.2
             }
            },
            "type": "histogram"
           }
          ],
          "histogram2d": [
           {
            "colorbar": {
             "outlinewidth": 0,
             "ticks": ""
            },
            "colorscale": [
             [
              0,
              "#0d0887"
             ],
             [
              0.1111111111111111,
              "#46039f"
             ],
             [
              0.2222222222222222,
              "#7201a8"
             ],
             [
              0.3333333333333333,
              "#9c179e"
             ],
             [
              0.4444444444444444,
              "#bd3786"
             ],
             [
              0.5555555555555556,
              "#d8576b"
             ],
             [
              0.6666666666666666,
              "#ed7953"
             ],
             [
              0.7777777777777778,
              "#fb9f3a"
             ],
             [
              0.8888888888888888,
              "#fdca26"
             ],
             [
              1,
              "#f0f921"
             ]
            ],
            "type": "histogram2d"
           }
          ],
          "histogram2dcontour": [
           {
            "colorbar": {
             "outlinewidth": 0,
             "ticks": ""
            },
            "colorscale": [
             [
              0,
              "#0d0887"
             ],
             [
              0.1111111111111111,
              "#46039f"
             ],
             [
              0.2222222222222222,
              "#7201a8"
             ],
             [
              0.3333333333333333,
              "#9c179e"
             ],
             [
              0.4444444444444444,
              "#bd3786"
             ],
             [
              0.5555555555555556,
              "#d8576b"
             ],
             [
              0.6666666666666666,
              "#ed7953"
             ],
             [
              0.7777777777777778,
              "#fb9f3a"
             ],
             [
              0.8888888888888888,
              "#fdca26"
             ],
             [
              1,
              "#f0f921"
             ]
            ],
            "type": "histogram2dcontour"
           }
          ],
          "mesh3d": [
           {
            "colorbar": {
             "outlinewidth": 0,
             "ticks": ""
            },
            "type": "mesh3d"
           }
          ],
          "parcoords": [
           {
            "line": {
             "colorbar": {
              "outlinewidth": 0,
              "ticks": ""
             }
            },
            "type": "parcoords"
           }
          ],
          "pie": [
           {
            "automargin": true,
            "type": "pie"
           }
          ],
          "scatter": [
           {
            "fillpattern": {
             "fillmode": "overlay",
             "size": 10,
             "solidity": 0.2
            },
            "type": "scatter"
           }
          ],
          "scatter3d": [
           {
            "line": {
             "colorbar": {
              "outlinewidth": 0,
              "ticks": ""
             }
            },
            "marker": {
             "colorbar": {
              "outlinewidth": 0,
              "ticks": ""
             }
            },
            "type": "scatter3d"
           }
          ],
          "scattercarpet": [
           {
            "marker": {
             "colorbar": {
              "outlinewidth": 0,
              "ticks": ""
             }
            },
            "type": "scattercarpet"
           }
          ],
          "scattergeo": [
           {
            "marker": {
             "colorbar": {
              "outlinewidth": 0,
              "ticks": ""
             }
            },
            "type": "scattergeo"
           }
          ],
          "scattergl": [
           {
            "marker": {
             "colorbar": {
              "outlinewidth": 0,
              "ticks": ""
             }
            },
            "type": "scattergl"
           }
          ],
          "scattermapbox": [
           {
            "marker": {
             "colorbar": {
              "outlinewidth": 0,
              "ticks": ""
             }
            },
            "type": "scattermapbox"
           }
          ],
          "scatterpolar": [
           {
            "marker": {
             "colorbar": {
              "outlinewidth": 0,
              "ticks": ""
             }
            },
            "type": "scatterpolar"
           }
          ],
          "scatterpolargl": [
           {
            "marker": {
             "colorbar": {
              "outlinewidth": 0,
              "ticks": ""
             }
            },
            "type": "scatterpolargl"
           }
          ],
          "scatterternary": [
           {
            "marker": {
             "colorbar": {
              "outlinewidth": 0,
              "ticks": ""
             }
            },
            "type": "scatterternary"
           }
          ],
          "surface": [
           {
            "colorbar": {
             "outlinewidth": 0,
             "ticks": ""
            },
            "colorscale": [
             [
              0,
              "#0d0887"
             ],
             [
              0.1111111111111111,
              "#46039f"
             ],
             [
              0.2222222222222222,
              "#7201a8"
             ],
             [
              0.3333333333333333,
              "#9c179e"
             ],
             [
              0.4444444444444444,
              "#bd3786"
             ],
             [
              0.5555555555555556,
              "#d8576b"
             ],
             [
              0.6666666666666666,
              "#ed7953"
             ],
             [
              0.7777777777777778,
              "#fb9f3a"
             ],
             [
              0.8888888888888888,
              "#fdca26"
             ],
             [
              1,
              "#f0f921"
             ]
            ],
            "type": "surface"
           }
          ],
          "table": [
           {
            "cells": {
             "fill": {
              "color": "#EBF0F8"
             },
             "line": {
              "color": "white"
             }
            },
            "header": {
             "fill": {
              "color": "#C8D4E3"
             },
             "line": {
              "color": "white"
             }
            },
            "type": "table"
           }
          ]
         },
         "layout": {
          "annotationdefaults": {
           "arrowcolor": "#2a3f5f",
           "arrowhead": 0,
           "arrowwidth": 1
          },
          "autotypenumbers": "strict",
          "coloraxis": {
           "colorbar": {
            "outlinewidth": 0,
            "ticks": ""
           }
          },
          "colorscale": {
           "diverging": [
            [
             0,
             "#8e0152"
            ],
            [
             0.1,
             "#c51b7d"
            ],
            [
             0.2,
             "#de77ae"
            ],
            [
             0.3,
             "#f1b6da"
            ],
            [
             0.4,
             "#fde0ef"
            ],
            [
             0.5,
             "#f7f7f7"
            ],
            [
             0.6,
             "#e6f5d0"
            ],
            [
             0.7,
             "#b8e186"
            ],
            [
             0.8,
             "#7fbc41"
            ],
            [
             0.9,
             "#4d9221"
            ],
            [
             1,
             "#276419"
            ]
           ],
           "sequential": [
            [
             0,
             "#0d0887"
            ],
            [
             0.1111111111111111,
             "#46039f"
            ],
            [
             0.2222222222222222,
             "#7201a8"
            ],
            [
             0.3333333333333333,
             "#9c179e"
            ],
            [
             0.4444444444444444,
             "#bd3786"
            ],
            [
             0.5555555555555556,
             "#d8576b"
            ],
            [
             0.6666666666666666,
             "#ed7953"
            ],
            [
             0.7777777777777778,
             "#fb9f3a"
            ],
            [
             0.8888888888888888,
             "#fdca26"
            ],
            [
             1,
             "#f0f921"
            ]
           ],
           "sequentialminus": [
            [
             0,
             "#0d0887"
            ],
            [
             0.1111111111111111,
             "#46039f"
            ],
            [
             0.2222222222222222,
             "#7201a8"
            ],
            [
             0.3333333333333333,
             "#9c179e"
            ],
            [
             0.4444444444444444,
             "#bd3786"
            ],
            [
             0.5555555555555556,
             "#d8576b"
            ],
            [
             0.6666666666666666,
             "#ed7953"
            ],
            [
             0.7777777777777778,
             "#fb9f3a"
            ],
            [
             0.8888888888888888,
             "#fdca26"
            ],
            [
             1,
             "#f0f921"
            ]
           ]
          },
          "colorway": [
           "#636efa",
           "#EF553B",
           "#00cc96",
           "#ab63fa",
           "#FFA15A",
           "#19d3f3",
           "#FF6692",
           "#B6E880",
           "#FF97FF",
           "#FECB52"
          ],
          "font": {
           "color": "#2a3f5f"
          },
          "geo": {
           "bgcolor": "white",
           "lakecolor": "white",
           "landcolor": "#E5ECF6",
           "showlakes": true,
           "showland": true,
           "subunitcolor": "white"
          },
          "hoverlabel": {
           "align": "left"
          },
          "hovermode": "closest",
          "mapbox": {
           "style": "light"
          },
          "paper_bgcolor": "white",
          "plot_bgcolor": "#E5ECF6",
          "polar": {
           "angularaxis": {
            "gridcolor": "white",
            "linecolor": "white",
            "ticks": ""
           },
           "bgcolor": "#E5ECF6",
           "radialaxis": {
            "gridcolor": "white",
            "linecolor": "white",
            "ticks": ""
           }
          },
          "scene": {
           "xaxis": {
            "backgroundcolor": "#E5ECF6",
            "gridcolor": "white",
            "gridwidth": 2,
            "linecolor": "white",
            "showbackground": true,
            "ticks": "",
            "zerolinecolor": "white"
           },
           "yaxis": {
            "backgroundcolor": "#E5ECF6",
            "gridcolor": "white",
            "gridwidth": 2,
            "linecolor": "white",
            "showbackground": true,
            "ticks": "",
            "zerolinecolor": "white"
           },
           "zaxis": {
            "backgroundcolor": "#E5ECF6",
            "gridcolor": "white",
            "gridwidth": 2,
            "linecolor": "white",
            "showbackground": true,
            "ticks": "",
            "zerolinecolor": "white"
           }
          },
          "shapedefaults": {
           "line": {
            "color": "#2a3f5f"
           }
          },
          "ternary": {
           "aaxis": {
            "gridcolor": "white",
            "linecolor": "white",
            "ticks": ""
           },
           "baxis": {
            "gridcolor": "white",
            "linecolor": "white",
            "ticks": ""
           },
           "bgcolor": "#E5ECF6",
           "caxis": {
            "gridcolor": "white",
            "linecolor": "white",
            "ticks": ""
           }
          },
          "title": {
           "x": 0.05
          },
          "xaxis": {
           "automargin": true,
           "gridcolor": "white",
           "linecolor": "white",
           "ticks": "",
           "title": {
            "standoff": 15
           },
           "zerolinecolor": "white",
           "zerolinewidth": 2
          },
          "yaxis": {
           "automargin": true,
           "gridcolor": "white",
           "linecolor": "white",
           "ticks": "",
           "title": {
            "standoff": 15
           },
           "zerolinecolor": "white",
           "zerolinewidth": 2
          }
         }
        },
        "title": {
         "font": {
          "color": "#4D5663"
         }
        },
        "xaxis": {
         "gridcolor": "#E1E5ED",
         "showgrid": true,
         "tickfont": {
          "color": "#4D5663"
         },
         "title": {
          "font": {
           "color": "#4D5663"
          },
          "text": ""
         },
         "zerolinecolor": "#E1E5ED"
        },
        "yaxis": {
         "gridcolor": "#E1E5ED",
         "showgrid": true,
         "tickfont": {
          "color": "#4D5663"
         },
         "title": {
          "font": {
           "color": "#4D5663"
          },
          "text": ""
         },
         "zerolinecolor": "#E1E5ED"
        }
       }
      },
      "text/html": [
       "<div>                            <div id=\"d71edf74-961f-4e84-b7c8-12567408d02c\" class=\"plotly-graph-div\" style=\"height:525px; width:100%;\"></div>            <script type=\"text/javascript\">                require([\"plotly\"], function(Plotly) {                    window.PLOTLYENV=window.PLOTLYENV || {};\n",
       "                    window.PLOTLYENV.BASE_URL='https://plot.ly';                                    if (document.getElementById(\"d71edf74-961f-4e84-b7c8-12567408d02c\")) {                    Plotly.newPlot(                        \"d71edf74-961f-4e84-b7c8-12567408d02c\",                        [{\"boxpoints\":false,\"line\":{\"width\":1.3},\"marker\":{\"color\":\"rgba(255, 153, 51, 1.0)\"},\"name\":\"a\",\"orientation\":\"v\",\"y\":[0.5217584901197575,0.5787111342562862,0.1797887564020827,0.1536449987712688,0.7744991797964166,0.271164708828622,0.7088256489644945,0.6777362072539204,0.9722369749183002,0.7100315504451886,0.7721317196529153,0.019535900540354256,0.9772200011819906,0.27879704659658644,0.18576968309289987,0.6936729469645396,0.521595671174059,0.9777036414370185,0.1205080018053416,0.7191075781198428,0.656148195768571,0.18504960908493806,0.6976177065679228,0.9964749244646701,0.737370555139942,0.8284745562353367,0.6002216427339154,0.37316250565657294,0.01841901374264643,0.18016793726983227,0.050244266830862694,0.5321947239446121,0.8633079997178311,0.15563507459717651,0.7820965449198773,0.5568072781904421,0.89210631691426,0.13652852634827983,0.22067831208296218,0.707697711247764,0.653941773421546,0.31936369512201923,0.25974249319384823,0.9142884197908587,0.9555058944772499,0.2939294874403823,0.33105472165087946,0.2721214646761868,0.9035897307292399,0.7823212681900047,0.22788264617646603,0.3149773577433017,0.9424839776979346,0.1493480640968453,0.9322537751868704,0.17890015095129153,0.6767331109871201,0.9923477638877356,0.6689952038280811,0.5351262182156444,0.311128645020762,0.6979545130064431,0.8729865700172668,0.2861387961107905,0.41686702320312685,0.8298702500763596,0.8502754130424404,0.03715230655586421,0.8842262335934845,0.5209556486117768,0.10300880891115705,0.13256533659258285,0.12248486317015106,0.8518202329765998,0.7697830783258386,0.8109341086513256,0.7059228720730545,0.9152006226333084,0.48417782324422365,0.2822051918880407,0.39967785260278677,0.2518429384358193,0.013149909783860658,0.34758802353391316,0.4162239304029818,0.14195229285722033,0.08650945359769902,0.37779339185565564,0.9487764062903706,0.03219612551089923,0.24236729187033867,0.15328624032036042,0.8190503197587852,0.34871620856743746,0.6221235648438211,0.9775793649170893,0.8418095077830429,0.3212166717185544,0.29545951450442,0.8910950321146475,0.6325781058325881,0.7314966107677453,0.033629787915021025,0.6932776195137418,0.8687979340808485,0.8885443278340531,0.8556283657556358,0.32987026666233077,0.13490194355464147,0.453318809340042,0.7861699008687312,0.07475515033214386,0.23003437896729373,0.7572296797582196,0.46081882201182967,0.6760330578620852,0.9884349813243926,0.9812522308893941,0.3195595525226541,0.05480116248354894,0.04293327189874241,0.41193344345125893,0.9145720860227223,0.4328840504725179,0.8858315277284301,0.49161158204457245,0.4099366043244621,0.49717351277631616,0.6753001507749009,0.5144463240743683,0.6847873774627783,0.08081896084656826,0.7087887703432738,0.9875131515316805,0.6895147936285623,0.3592287291544851,0.10277789522924563,0.28911811439472357,0.7506923352216698,0.29497551155683843,0.3665333559717857,0.513560226786625,0.667663169195848,0.9389861598967205,0.11828210893451874,0.24704682443176074,0.072708476061635,0.5990119861122783,0.9423147449873845,0.7128994746244285,0.6074738792486837,0.2835446628384126,0.22688653383213686,0.518679489798174,0.3661733831076309,0.6074576839203806,0.8754928930157727,0.012677991667791266,0.013693951665304183,0.8013334618633164,0.5871441274383529,0.7002774638030955,0.48529977314238815,0.11790416631646516,0.47926966762875334,0.21495434447343154,0.10115539548801766,0.8742703946647546,0.42303647562334845,0.5715151646840542,0.258032038071651,0.2594535107118574,0.7430386339795915,0.7231824911669353,0.0008158764697191456,0.7836476194852188,0.8510464899514174,0.5207886549439212,0.12579385791260622,0.15891634574349867,0.0521523476159379,0.3920466103453104,0.9431554412800038,0.3560421358022502,0.2619038524355699,0.9410805328594457,0.9381353430098053,0.49438988572448617,0.20178851439232792,0.2621353141545477,0.5254034334736651,0.012881733441739152,0.09447995950021248,0.3943879767061542,0.03090792370293649,0.6882603759618863,0.08156627955369689,0.799140666442477,0.7424500118535963,0.5032897934634936,0.23510187897752577,0.6007975324873631,0.22953005084602285,0.5908083343598789,0.26198074515587333,0.02483063129211116,0.199740362555199,0.4202845023839932,0.06821748451093745,0.09919874899927295,0.8854799780009854,0.9777505021664477,0.1300181984227593,0.2693970048237856,0.10318289455570406,0.2399858249826532,0.38741039806197575,0.447560070942181,0.213733950857933,0.25221837152496795,0.5455057508988781,0.6831026878944338,0.10350436835748567,0.5760429976774889,0.2953389090645029,0.6502446928420924,0.39542598057944833,0.660003062813198,0.5578093493433288,0.3942502355132199,0.49202298363888375,0.42210808920089116,0.939176377162526,0.0542706922816244,0.22032555543774313,0.005230429465815867,0.7239019983635087,0.22711631517220732,0.4517662235285317,0.3180468417868577,0.7187991907055166,0.8906688540374909,0.3581557876097188,0.16982091144134281,0.9811588278156487,0.3607024665327434,0.47866287348990666,0.8884505446382632,0.09856894806051741,0.10218727320835763,0.7015942427213698,0.7842798026118757,0.30450346977216436,0.47657062100714687,0.39477315252105716,0.3994360333817134,0.2365946940750263,0.6983289552001183,0.5290485275025265,0.5552687435786212,0.30016664427132356,0.1484069576645365,0.7849532685848855,0.5246179091355077,0.9499243810481692,0.07907055168482302,0.18002851024697641,0.7957694094355793,0.796828655882608,0.29597967326499597,0.25649796460328567,0.6812640639822506,0.21293242706709337,0.40715630359496957,0.6838091022811791,0.21564973693881961,0.28369176629833603,0.9974066013950036,0.4290506779227563,0.4770546261319515,0.7912454204009501,0.4720695615872831,0.5630624530964834,0.5576189617562095,0.16926300741270972,0.016452020181829563,0.983030784592851,0.0776930122755114,0.08635976282508218,0.6745955061443522,0.46038477969508773,0.8408528909563503,0.2014336475764087,0.3811659743110719,0.10421267293833836,0.3378933743606959,0.5655407541975808,0.5635334766364674,0.05930142645585179,0.8774285096481331],\"type\":\"box\"},{\"boxpoints\":false,\"line\":{\"width\":1.3},\"marker\":{\"color\":\"rgba(55, 128, 191, 1.0)\"},\"name\":\"b\",\"orientation\":\"v\",\"y\":[0.656539998196642,0.27253940771451435,0.6786903192422861,0.6891146764623897,0.7256593400383303,0.37335451282041876,0.349789910719149,0.062120923366696834,0.7682139205492792,0.4601109790594239,0.7322464098696346,0.676693193066309,0.9892935172394582,0.5883113904549153,0.3997243985485117,0.26825223833879375,0.7596857424097275,0.674802843668224,0.64250475591823,0.5961381441211533,0.8624881695686553,0.7514909705560398,0.1507557921606818,0.5663846911426519,0.9297202119417712,0.37715276950387433,0.58590109396692,0.7907673475640333,0.8855761672711409,0.7247164076266339,0.08402956207106405,0.7406281288095806,0.061464532339492006,0.01212541238780851,0.9305968512383176,0.43188523108562693,0.5797553333882017,0.41839860015609376,0.6621864435132195,0.49098249763106816,0.9838986802643036,0.03795945670847678,0.3568038205126176,0.5382814999840804,0.8312107602413941,0.9897261625944779,0.5386460641013339,0.8152447480720554,0.7263286278882198,0.3047762805543889,0.8046668231673613,0.015204293647969824,0.6509538542617733,0.39251695907359163,0.9608519297954445,0.39186434985914786,0.5423590025438332,0.5178728813688276,0.3897928888407759,0.17871811748564304,0.4546624671947873,0.9131664212631745,0.5302016851171796,0.2531763510616938,0.24610117752491345,0.8168844379244516,0.5027656949835817,0.4147547542650629,0.49992894571148294,0.6759520613340753,0.9349440562114473,0.34183666375085486,0.2655740730014412,0.20913015924052225,0.1668960232694574,0.7896385523335006,0.5697195638903921,0.04029029353960767,0.7623101530970234,0.37470909167358,0.29620542210436396,0.7239281425261097,0.7164494126492951,0.6414428865947575,0.7698973205107151,0.036177204779522465,0.43511084860666316,0.6472641880989595,0.8578599664218087,0.9070414296379582,0.07883707697768894,0.1564506196493739,0.9287223746519031,0.26781720662399044,0.6561669728810094,0.2739308440543198,0.5127345479309581,0.7030158912343166,0.31550627886620053,0.4537520404611549,0.42402494000416446,0.012944851510112931,0.3363069262947572,0.48757899198521837,0.6725381319039432,0.49889913596935087,0.9093672020365248,0.25366056104711776,0.09333114645044105,0.699975691427596,0.7029616999090502,0.1979334901979526,0.9077325867678702,0.5339227932980698,0.6288814938784066,0.9875034900934466,0.21046506779381857,0.4219999335828182,0.8870816487928492,0.8965252988171006,0.9555062244016154,0.6990307495345253,0.5003949309423894,0.7816865939450025,0.23393454713494288,0.5666216612297436,0.6962299236949661,0.4897230862531481,0.7520105838062199,0.29866487918192375,0.0568960612111401,0.7317997917346516,0.6789940825291483,0.21140314177101827,0.26647265830651023,0.5708031563902227,0.6730624454616239,0.17287661015075872,0.607062769016913,0.24577938865755555,0.5636957611786366,0.3869016504965429,0.45366166664652374,0.9547342126041077,0.11230444924118,0.5207170333995084,0.5987883357626637,0.9962975916831,0.43065973711208383,0.061942078325167405,0.6112341158776564,0.07591989891332607,0.7089661196953471,0.4085917407062495,0.43888242031921276,0.024733150733931564,0.23119265184672,0.4449869758346534,0.803356609312161,0.5547992640703331,0.8407162949747896,0.7244603057574064,0.2736107691424341,0.8206334268049824,0.7127364599282294,0.7845483593716207,0.6684923116108998,0.8496751673917072,0.3003105907086896,0.1855678605666199,0.6781973932042855,0.6920620352133825,0.3298979388727161,0.6017668931021692,0.9441024032404972,0.5392262591452472,0.3159325659824537,0.42909974040498056,0.7468576946453905,0.14364705860860416,0.027806793128392848,0.8460254355251455,0.35193893552912714,0.8997086383646373,0.4068033400366782,0.5641541093467989,0.25534881048334845,0.698983201033492,0.887709708659967,0.6164019867015316,0.8269614921244717,0.592247917360728,0.24620816688778324,0.4265191894700936,0.9439029771482778,0.3983376547859465,0.7181900297028112,0.821995413899302,0.9316788998199554,0.4959697022639181,0.7874553516604432,0.5978248727196325,0.7513866547608727,0.4326994449349635,0.12829748176778966,0.22315440427429056,0.8669340159178552,0.5759878422093737,0.9585302122930114,0.6769656388490006,0.28777900959217384,0.14798123549774844,0.4632748728020126,0.8909533340869092,0.5197447026220833,0.2553587407637101,0.8462513804756748,0.5756235609840756,0.7230416697965739,0.07451477772241022,0.817053559562825,0.3954375715656311,0.7256995338400959,0.6591141085635792,0.19634550703785092,0.15008937198478356,0.7224396346521809,0.18315515884528621,0.2504123275895579,0.6387576511671574,0.8332140478530974,0.6154594470856365,0.11418211764109043,0.3176595309983081,0.257153731133295,0.5519359372740149,0.5141060467079117,0.06131319304357474,0.8863848527552011,0.24137692590218263,0.5235142593836116,0.44818718527229295,0.6060238195208072,0.7921447626342182,0.6474133650045344,0.958507307661738,0.3110242581416035,0.7178431464342467,0.6972024374659759,0.1357722694168667,0.7305960251585956,0.2262813755688634,0.8618746234125816,0.30865463457722175,0.6489415375168702,0.9767003957100201,0.21339680348990853,0.10360031666735325,0.07300162954149736,0.9705782817553315,0.785044321957804,0.486073772499132,0.10914353826542633,0.5256860866458446,0.8235912630267851,0.5420776291613022,0.09968921652196505,0.9612824781451685,0.3556324489691636,0.657456808822794,0.6785544698110872,0.3925480795755433,0.9659098105422387,0.4195562896099492,0.9584219151882539,0.6792931296568968,0.4448364133146874,0.6785133382099345,0.6887033833009353,0.6401308281416204,0.08337947667124201,0.5753885468360116,0.013976554072058112,0.29483443746151494,0.36677765836568865,0.14135627500057613,0.9328576970274515,0.5153181361864222,0.018502037880378408,0.4378800058406256,0.5295551694885806,0.4840655039332221,0.9634457137570249,0.4833807158223975,0.2016718919463537,0.505335675107466,0.38603698956957977,0.6735777908098163,0.9339210214869078,0.5892806642983871],\"type\":\"box\"},{\"boxpoints\":false,\"line\":{\"width\":1.3},\"marker\":{\"color\":\"rgba(50, 171, 96, 1.0)\"},\"name\":\"c\",\"orientation\":\"v\",\"y\":[0.967523797092589,0.18937299674229768,0.13990514063765858,0.993441405170532,0.4640672351445916,0.4490547505782275,0.5877761339697588,0.5635123006609215,0.2892499051370575,0.04301590969708169,0.06924916939513326,0.7070339524582361,0.6244991149078916,0.11617241273552426,0.3553976853754187,0.19400801205161855,0.43872218341998503,0.8280002837442253,0.6050209442726932,0.47228544401329475,0.07413453017050575,0.1330194917252524,0.9775766497551182,0.4819287444951932,0.8260330736495922,0.3855746535128006,0.16821741892145614,0.43710669754194886,0.7690284689519828,0.9348658838331856,0.656300270694609,0.5009802672090435,0.5835696241683195,0.4932740031652606,0.1886564706257089,0.9850787305679922,0.7880981183839867,0.5985129666908966,0.12423441340842589,0.4740962811179438,0.47576412744380203,0.45636052436155594,0.3762628432824827,0.44782958773383186,0.5021981393430529,0.3571871119200528,0.15775029466986734,0.8879203726357164,0.1586221734565666,0.05660123171309772,0.4888836032689322,0.7530734294582562,0.1932123978321787,0.07382698041797875,0.9791636561056474,0.14530999381099063,0.744567327605263,0.5396558759455241,0.2193740686774056,0.6592878199560526,0.04393641294087913,0.47005220850260687,0.7812882243604089,0.9661181301634549,0.7693187105733066,0.5464101512302164,0.9759039029187836,0.54503421952729,0.08490158485592203,0.8332515738491137,0.04318863610078316,0.2178666858202003,0.34888748379753265,0.9284980766792409,0.5481504983421527,0.7218315513242961,0.3327444742876339,0.4661079882007264,0.3109510907653732,0.4736846837861648,0.27588972987373683,0.8242729529490948,0.4501850314713316,0.5561961792838948,0.8367870253696101,0.38597381882052684,0.8634694265204212,0.6710341308749224,0.4836984739597997,0.9140078127563015,0.15121904450652424,0.5157831822842629,0.04782054395814872,0.10853967693678135,0.6526056285087206,0.25999144311223366,0.5966352462304373,0.36060273370433815,0.8606523080985343,0.7108944735873066,0.954419312402988,0.104338077532664,0.7897189446269589,0.5806289019226147,0.08924233540860937,0.6358422662488767,0.871106562969431,0.5475510203013657,0.32865688131974435,0.3373663140830827,0.6639333290792861,0.7120025729494118,0.23111308727599778,0.8194151112996897,0.6632003741481258,0.4980062542983612,0.6331954058256917,0.3492594122107504,0.6306392362017047,0.1173068570602116,0.603627976818489,0.37558930277895075,0.6177982089002189,0.14099624052703552,0.2104365868794158,0.13041043596542068,0.22522789054001902,0.6355937006436455,0.2641404972742806,0.2104156476488661,0.9571322169113562,0.2446946409381613,0.6598899751110712,0.34501651624917873,0.20425970129613347,0.13862290396177857,0.16738720057604684,0.5993729996716849,0.15400850671481925,0.30725434755491654,0.5283153918055293,0.5503316965468635,0.9363214950512254,0.4949782634775314,0.14845313310355546,0.26201225736903244,0.6273039093093952,0.6278998629827721,0.7142987083837642,0.4640689098732539,0.9595743266276621,0.9443515980747916,0.39986913814987224,0.2717940886619207,0.7413649791383068,0.40046098355420345,0.6692668457321778,0.23816924405045425,0.48775234683854773,0.7613291259221566,0.5567468223062653,0.8294159600074941,0.7786484722425432,0.6845754791218899,0.7870886717363585,0.22207115458875204,0.45480951346202547,0.32142824782284096,0.8944855673768164,0.2278877152566775,0.5210927401774212,0.49437954777507653,0.23561600547793715,0.9819849870108023,0.31559134466293104,0.7071697167385999,0.7601106493556127,0.7512695174253816,0.41022052544346177,0.6919125308937816,0.4408940907270503,0.12833541395942227,0.3745061510293698,0.0521693780525081,0.9431862612265062,0.7781596652459642,0.4757059058252011,0.07486612658234448,0.5693403856375362,0.8520646886843702,0.7595165735922618,0.8728762285990177,0.5219246423898776,0.3384127325254904,0.602367705008602,0.1625322904896187,0.16063123545713154,0.5982707070676913,0.32385490860577293,0.608023926209083,0.7125431307219975,0.8229587976775139,0.08259925440100879,0.1801296557340787,0.9351235496426851,0.7811152846041097,0.22969514222105514,0.6841930666368095,0.16667940111262636,0.8522105505743116,0.28974840539003477,0.4597259721896719,0.7064406120849022,0.3013360801381677,0.8242912234107534,0.5760214902863724,0.8757057818685415,0.05372298241393891,0.5221168940046299,0.028341715825650926,0.5294246379535094,0.630101048968856,0.6017710266964639,0.6415256214603133,0.4233760384938211,0.3496389824169299,0.44131312216133245,0.5596582242070366,0.07449132288024873,0.89041381217304,0.3932358338497698,0.15938137453087697,0.48751002224855033,0.9174732108612625,0.9982227681463068,0.5870897310812541,0.9031629722668749,0.28893114611963944,0.32468496719703244,0.7696972070877476,0.6139660922109733,0.2447970813674324,0.4750508201686868,0.07681312782636696,0.1822292728844156,0.0007927189738000662,0.8731163696107977,0.9671850877355647,0.7233669981604887,0.8188095579173668,0.43036151193961836,0.31579336626964005,0.40981664827978637,0.7896260649726885,0.10510698663878038,0.5864043573200318,0.30234806465369723,0.6983050942774881,0.06680483936624726,0.6744295629825899,0.2320974397562583,0.6695014163748514,0.2631466705947727,0.9248162265800196,0.6010254779944767,0.7790691141780071,0.7716865665292766,0.13377522777584727,0.03749122593271448,0.13448015575578476,0.43564059684736456,0.6017854639013723,0.34650979926504855,0.5535358225151757,0.13364438585131577,0.6195634532448088,0.6966258178875486,0.004704496862783958,0.775902317234021,0.5248304032205543,0.4417144562536641,0.07277343069415387,0.3965240810156341,0.07534299085292928,0.26579499414750885,0.21366109380453058,0.5415671200349388,0.44618788386597263,0.49722740834359724,0.8737600937490102,0.9583988420494638,0.2655201355132303,0.5849699103641752,0.5368533994151787,0.37698208731296634,0.6708377194278645,0.7459233740193179,0.1337001154345424,0.6849479227573793,0.4157767980138476],\"type\":\"box\"}],                        {\"legend\":{\"bgcolor\":\"#F5F6F9\",\"font\":{\"color\":\"#4D5663\"}},\"paper_bgcolor\":\"#F5F6F9\",\"plot_bgcolor\":\"#F5F6F9\",\"template\":{\"data\":{\"barpolar\":[{\"marker\":{\"line\":{\"color\":\"#E5ECF6\",\"width\":0.5},\"pattern\":{\"fillmode\":\"overlay\",\"size\":10,\"solidity\":0.2}},\"type\":\"barpolar\"}],\"bar\":[{\"error_x\":{\"color\":\"#2a3f5f\"},\"error_y\":{\"color\":\"#2a3f5f\"},\"marker\":{\"line\":{\"color\":\"#E5ECF6\",\"width\":0.5},\"pattern\":{\"fillmode\":\"overlay\",\"size\":10,\"solidity\":0.2}},\"type\":\"bar\"}],\"carpet\":[{\"aaxis\":{\"endlinecolor\":\"#2a3f5f\",\"gridcolor\":\"white\",\"linecolor\":\"white\",\"minorgridcolor\":\"white\",\"startlinecolor\":\"#2a3f5f\"},\"baxis\":{\"endlinecolor\":\"#2a3f5f\",\"gridcolor\":\"white\",\"linecolor\":\"white\",\"minorgridcolor\":\"white\",\"startlinecolor\":\"#2a3f5f\"},\"type\":\"carpet\"}],\"choropleth\":[{\"colorbar\":{\"outlinewidth\":0,\"ticks\":\"\"},\"type\":\"choropleth\"}],\"contourcarpet\":[{\"colorbar\":{\"outlinewidth\":0,\"ticks\":\"\"},\"type\":\"contourcarpet\"}],\"contour\":[{\"colorbar\":{\"outlinewidth\":0,\"ticks\":\"\"},\"colorscale\":[[0.0,\"#0d0887\"],[0.1111111111111111,\"#46039f\"],[0.2222222222222222,\"#7201a8\"],[0.3333333333333333,\"#9c179e\"],[0.4444444444444444,\"#bd3786\"],[0.5555555555555556,\"#d8576b\"],[0.6666666666666666,\"#ed7953\"],[0.7777777777777778,\"#fb9f3a\"],[0.8888888888888888,\"#fdca26\"],[1.0,\"#f0f921\"]],\"type\":\"contour\"}],\"heatmapgl\":[{\"colorbar\":{\"outlinewidth\":0,\"ticks\":\"\"},\"colorscale\":[[0.0,\"#0d0887\"],[0.1111111111111111,\"#46039f\"],[0.2222222222222222,\"#7201a8\"],[0.3333333333333333,\"#9c179e\"],[0.4444444444444444,\"#bd3786\"],[0.5555555555555556,\"#d8576b\"],[0.6666666666666666,\"#ed7953\"],[0.7777777777777778,\"#fb9f3a\"],[0.8888888888888888,\"#fdca26\"],[1.0,\"#f0f921\"]],\"type\":\"heatmapgl\"}],\"heatmap\":[{\"colorbar\":{\"outlinewidth\":0,\"ticks\":\"\"},\"colorscale\":[[0.0,\"#0d0887\"],[0.1111111111111111,\"#46039f\"],[0.2222222222222222,\"#7201a8\"],[0.3333333333333333,\"#9c179e\"],[0.4444444444444444,\"#bd3786\"],[0.5555555555555556,\"#d8576b\"],[0.6666666666666666,\"#ed7953\"],[0.7777777777777778,\"#fb9f3a\"],[0.8888888888888888,\"#fdca26\"],[1.0,\"#f0f921\"]],\"type\":\"heatmap\"}],\"histogram2dcontour\":[{\"colorbar\":{\"outlinewidth\":0,\"ticks\":\"\"},\"colorscale\":[[0.0,\"#0d0887\"],[0.1111111111111111,\"#46039f\"],[0.2222222222222222,\"#7201a8\"],[0.3333333333333333,\"#9c179e\"],[0.4444444444444444,\"#bd3786\"],[0.5555555555555556,\"#d8576b\"],[0.6666666666666666,\"#ed7953\"],[0.7777777777777778,\"#fb9f3a\"],[0.8888888888888888,\"#fdca26\"],[1.0,\"#f0f921\"]],\"type\":\"histogram2dcontour\"}],\"histogram2d\":[{\"colorbar\":{\"outlinewidth\":0,\"ticks\":\"\"},\"colorscale\":[[0.0,\"#0d0887\"],[0.1111111111111111,\"#46039f\"],[0.2222222222222222,\"#7201a8\"],[0.3333333333333333,\"#9c179e\"],[0.4444444444444444,\"#bd3786\"],[0.5555555555555556,\"#d8576b\"],[0.6666666666666666,\"#ed7953\"],[0.7777777777777778,\"#fb9f3a\"],[0.8888888888888888,\"#fdca26\"],[1.0,\"#f0f921\"]],\"type\":\"histogram2d\"}],\"histogram\":[{\"marker\":{\"pattern\":{\"fillmode\":\"overlay\",\"size\":10,\"solidity\":0.2}},\"type\":\"histogram\"}],\"mesh3d\":[{\"colorbar\":{\"outlinewidth\":0,\"ticks\":\"\"},\"type\":\"mesh3d\"}],\"parcoords\":[{\"line\":{\"colorbar\":{\"outlinewidth\":0,\"ticks\":\"\"}},\"type\":\"parcoords\"}],\"pie\":[{\"automargin\":true,\"type\":\"pie\"}],\"scatter3d\":[{\"line\":{\"colorbar\":{\"outlinewidth\":0,\"ticks\":\"\"}},\"marker\":{\"colorbar\":{\"outlinewidth\":0,\"ticks\":\"\"}},\"type\":\"scatter3d\"}],\"scattercarpet\":[{\"marker\":{\"colorbar\":{\"outlinewidth\":0,\"ticks\":\"\"}},\"type\":\"scattercarpet\"}],\"scattergeo\":[{\"marker\":{\"colorbar\":{\"outlinewidth\":0,\"ticks\":\"\"}},\"type\":\"scattergeo\"}],\"scattergl\":[{\"marker\":{\"colorbar\":{\"outlinewidth\":0,\"ticks\":\"\"}},\"type\":\"scattergl\"}],\"scattermapbox\":[{\"marker\":{\"colorbar\":{\"outlinewidth\":0,\"ticks\":\"\"}},\"type\":\"scattermapbox\"}],\"scatterpolargl\":[{\"marker\":{\"colorbar\":{\"outlinewidth\":0,\"ticks\":\"\"}},\"type\":\"scatterpolargl\"}],\"scatterpolar\":[{\"marker\":{\"colorbar\":{\"outlinewidth\":0,\"ticks\":\"\"}},\"type\":\"scatterpolar\"}],\"scatter\":[{\"fillpattern\":{\"fillmode\":\"overlay\",\"size\":10,\"solidity\":0.2},\"type\":\"scatter\"}],\"scatterternary\":[{\"marker\":{\"colorbar\":{\"outlinewidth\":0,\"ticks\":\"\"}},\"type\":\"scatterternary\"}],\"surface\":[{\"colorbar\":{\"outlinewidth\":0,\"ticks\":\"\"},\"colorscale\":[[0.0,\"#0d0887\"],[0.1111111111111111,\"#46039f\"],[0.2222222222222222,\"#7201a8\"],[0.3333333333333333,\"#9c179e\"],[0.4444444444444444,\"#bd3786\"],[0.5555555555555556,\"#d8576b\"],[0.6666666666666666,\"#ed7953\"],[0.7777777777777778,\"#fb9f3a\"],[0.8888888888888888,\"#fdca26\"],[1.0,\"#f0f921\"]],\"type\":\"surface\"}],\"table\":[{\"cells\":{\"fill\":{\"color\":\"#EBF0F8\"},\"line\":{\"color\":\"white\"}},\"header\":{\"fill\":{\"color\":\"#C8D4E3\"},\"line\":{\"color\":\"white\"}},\"type\":\"table\"}]},\"layout\":{\"annotationdefaults\":{\"arrowcolor\":\"#2a3f5f\",\"arrowhead\":0,\"arrowwidth\":1},\"autotypenumbers\":\"strict\",\"coloraxis\":{\"colorbar\":{\"outlinewidth\":0,\"ticks\":\"\"}},\"colorscale\":{\"diverging\":[[0,\"#8e0152\"],[0.1,\"#c51b7d\"],[0.2,\"#de77ae\"],[0.3,\"#f1b6da\"],[0.4,\"#fde0ef\"],[0.5,\"#f7f7f7\"],[0.6,\"#e6f5d0\"],[0.7,\"#b8e186\"],[0.8,\"#7fbc41\"],[0.9,\"#4d9221\"],[1,\"#276419\"]],\"sequential\":[[0.0,\"#0d0887\"],[0.1111111111111111,\"#46039f\"],[0.2222222222222222,\"#7201a8\"],[0.3333333333333333,\"#9c179e\"],[0.4444444444444444,\"#bd3786\"],[0.5555555555555556,\"#d8576b\"],[0.6666666666666666,\"#ed7953\"],[0.7777777777777778,\"#fb9f3a\"],[0.8888888888888888,\"#fdca26\"],[1.0,\"#f0f921\"]],\"sequentialminus\":[[0.0,\"#0d0887\"],[0.1111111111111111,\"#46039f\"],[0.2222222222222222,\"#7201a8\"],[0.3333333333333333,\"#9c179e\"],[0.4444444444444444,\"#bd3786\"],[0.5555555555555556,\"#d8576b\"],[0.6666666666666666,\"#ed7953\"],[0.7777777777777778,\"#fb9f3a\"],[0.8888888888888888,\"#fdca26\"],[1.0,\"#f0f921\"]]},\"colorway\":[\"#636efa\",\"#EF553B\",\"#00cc96\",\"#ab63fa\",\"#FFA15A\",\"#19d3f3\",\"#FF6692\",\"#B6E880\",\"#FF97FF\",\"#FECB52\"],\"font\":{\"color\":\"#2a3f5f\"},\"geo\":{\"bgcolor\":\"white\",\"lakecolor\":\"white\",\"landcolor\":\"#E5ECF6\",\"showlakes\":true,\"showland\":true,\"subunitcolor\":\"white\"},\"hoverlabel\":{\"align\":\"left\"},\"hovermode\":\"closest\",\"mapbox\":{\"style\":\"light\"},\"paper_bgcolor\":\"white\",\"plot_bgcolor\":\"#E5ECF6\",\"polar\":{\"angularaxis\":{\"gridcolor\":\"white\",\"linecolor\":\"white\",\"ticks\":\"\"},\"bgcolor\":\"#E5ECF6\",\"radialaxis\":{\"gridcolor\":\"white\",\"linecolor\":\"white\",\"ticks\":\"\"}},\"scene\":{\"xaxis\":{\"backgroundcolor\":\"#E5ECF6\",\"gridcolor\":\"white\",\"gridwidth\":2,\"linecolor\":\"white\",\"showbackground\":true,\"ticks\":\"\",\"zerolinecolor\":\"white\"},\"yaxis\":{\"backgroundcolor\":\"#E5ECF6\",\"gridcolor\":\"white\",\"gridwidth\":2,\"linecolor\":\"white\",\"showbackground\":true,\"ticks\":\"\",\"zerolinecolor\":\"white\"},\"zaxis\":{\"backgroundcolor\":\"#E5ECF6\",\"gridcolor\":\"white\",\"gridwidth\":2,\"linecolor\":\"white\",\"showbackground\":true,\"ticks\":\"\",\"zerolinecolor\":\"white\"}},\"shapedefaults\":{\"line\":{\"color\":\"#2a3f5f\"}},\"ternary\":{\"aaxis\":{\"gridcolor\":\"white\",\"linecolor\":\"white\",\"ticks\":\"\"},\"baxis\":{\"gridcolor\":\"white\",\"linecolor\":\"white\",\"ticks\":\"\"},\"bgcolor\":\"#E5ECF6\",\"caxis\":{\"gridcolor\":\"white\",\"linecolor\":\"white\",\"ticks\":\"\"}},\"title\":{\"x\":0.05},\"xaxis\":{\"automargin\":true,\"gridcolor\":\"white\",\"linecolor\":\"white\",\"ticks\":\"\",\"title\":{\"standoff\":15},\"zerolinecolor\":\"white\",\"zerolinewidth\":2},\"yaxis\":{\"automargin\":true,\"gridcolor\":\"white\",\"linecolor\":\"white\",\"ticks\":\"\",\"title\":{\"standoff\":15},\"zerolinecolor\":\"white\",\"zerolinewidth\":2}}},\"title\":{\"font\":{\"color\":\"#4D5663\"}},\"xaxis\":{\"gridcolor\":\"#E1E5ED\",\"showgrid\":true,\"tickfont\":{\"color\":\"#4D5663\"},\"title\":{\"font\":{\"color\":\"#4D5663\"},\"text\":\"\"},\"zerolinecolor\":\"#E1E5ED\"},\"yaxis\":{\"gridcolor\":\"#E1E5ED\",\"showgrid\":true,\"tickfont\":{\"color\":\"#4D5663\"},\"title\":{\"font\":{\"color\":\"#4D5663\"},\"text\":\"\"},\"zerolinecolor\":\"#E1E5ED\"}},                        {\"showLink\": true, \"linkText\": \"Export to plot.ly\", \"plotlyServerURL\": \"https://plot.ly\", \"responsive\": true}                    ).then(function(){\n",
       "                            \n",
       "var gd = document.getElementById('d71edf74-961f-4e84-b7c8-12567408d02c');\n",
       "var x = new MutationObserver(function (mutations, observer) {{\n",
       "        var display = window.getComputedStyle(gd).display;\n",
       "        if (!display || display === 'none') {{\n",
       "            console.log([gd, 'removed!']);\n",
       "            Plotly.purge(gd);\n",
       "            observer.disconnect();\n",
       "        }}\n",
       "}});\n",
       "\n",
       "// Listen for the removal of the full notebook cells\n",
       "var notebookContainer = gd.closest('#notebook-container');\n",
       "if (notebookContainer) {{\n",
       "    x.observe(notebookContainer, {childList: true});\n",
       "}}\n",
       "\n",
       "// Listen for the clearing of the current output cell\n",
       "var outputEl = gd.closest('.output');\n",
       "if (outputEl) {{\n",
       "    x.observe(outputEl, {childList: true});\n",
       "}}\n",
       "\n",
       "                        })                };                });            </script>        </div>"
      ]
     },
     "metadata": {},
     "output_type": "display_data"
    }
   ],
   "source": [
    "df.iplot(kind= 'box')"
   ]
  },
  {
   "cell_type": "code",
   "execution_count": 10,
   "id": "9d747437",
   "metadata": {},
   "outputs": [],
   "source": [
    "df['a1'] = df.a + 10"
   ]
  },
  {
   "cell_type": "code",
   "execution_count": 11,
   "id": "d3db7c03",
   "metadata": {},
   "outputs": [],
   "source": [
    "df['b1'] = df.a + 30"
   ]
  },
  {
   "cell_type": "code",
   "execution_count": 12,
   "id": "0bab3559",
   "metadata": {},
   "outputs": [
    {
     "data": {
      "text/html": [
       "<div>\n",
       "<style scoped>\n",
       "    .dataframe tbody tr th:only-of-type {\n",
       "        vertical-align: middle;\n",
       "    }\n",
       "\n",
       "    .dataframe tbody tr th {\n",
       "        vertical-align: top;\n",
       "    }\n",
       "\n",
       "    .dataframe thead th {\n",
       "        text-align: right;\n",
       "    }\n",
       "</style>\n",
       "<table border=\"1\" class=\"dataframe\">\n",
       "  <thead>\n",
       "    <tr style=\"text-align: right;\">\n",
       "      <th></th>\n",
       "      <th>a</th>\n",
       "      <th>b</th>\n",
       "      <th>c</th>\n",
       "      <th>a1</th>\n",
       "      <th>b1</th>\n",
       "    </tr>\n",
       "  </thead>\n",
       "  <tbody>\n",
       "    <tr>\n",
       "      <th>0</th>\n",
       "      <td>0.521758</td>\n",
       "      <td>0.656540</td>\n",
       "      <td>0.967524</td>\n",
       "      <td>10.521758</td>\n",
       "      <td>30.521758</td>\n",
       "    </tr>\n",
       "    <tr>\n",
       "      <th>1</th>\n",
       "      <td>0.578711</td>\n",
       "      <td>0.272539</td>\n",
       "      <td>0.189373</td>\n",
       "      <td>10.578711</td>\n",
       "      <td>30.578711</td>\n",
       "    </tr>\n",
       "    <tr>\n",
       "      <th>2</th>\n",
       "      <td>0.179789</td>\n",
       "      <td>0.678690</td>\n",
       "      <td>0.139905</td>\n",
       "      <td>10.179789</td>\n",
       "      <td>30.179789</td>\n",
       "    </tr>\n",
       "    <tr>\n",
       "      <th>3</th>\n",
       "      <td>0.153645</td>\n",
       "      <td>0.689115</td>\n",
       "      <td>0.993441</td>\n",
       "      <td>10.153645</td>\n",
       "      <td>30.153645</td>\n",
       "    </tr>\n",
       "    <tr>\n",
       "      <th>4</th>\n",
       "      <td>0.774499</td>\n",
       "      <td>0.725659</td>\n",
       "      <td>0.464067</td>\n",
       "      <td>10.774499</td>\n",
       "      <td>30.774499</td>\n",
       "    </tr>\n",
       "    <tr>\n",
       "      <th>...</th>\n",
       "      <td>...</td>\n",
       "      <td>...</td>\n",
       "      <td>...</td>\n",
       "      <td>...</td>\n",
       "      <td>...</td>\n",
       "    </tr>\n",
       "    <tr>\n",
       "      <th>295</th>\n",
       "      <td>0.337893</td>\n",
       "      <td>0.505336</td>\n",
       "      <td>0.670838</td>\n",
       "      <td>10.337893</td>\n",
       "      <td>30.337893</td>\n",
       "    </tr>\n",
       "    <tr>\n",
       "      <th>296</th>\n",
       "      <td>0.565541</td>\n",
       "      <td>0.386037</td>\n",
       "      <td>0.745923</td>\n",
       "      <td>10.565541</td>\n",
       "      <td>30.565541</td>\n",
       "    </tr>\n",
       "    <tr>\n",
       "      <th>297</th>\n",
       "      <td>0.563533</td>\n",
       "      <td>0.673578</td>\n",
       "      <td>0.133700</td>\n",
       "      <td>10.563533</td>\n",
       "      <td>30.563533</td>\n",
       "    </tr>\n",
       "    <tr>\n",
       "      <th>298</th>\n",
       "      <td>0.059301</td>\n",
       "      <td>0.933921</td>\n",
       "      <td>0.684948</td>\n",
       "      <td>10.059301</td>\n",
       "      <td>30.059301</td>\n",
       "    </tr>\n",
       "    <tr>\n",
       "      <th>299</th>\n",
       "      <td>0.877429</td>\n",
       "      <td>0.589281</td>\n",
       "      <td>0.415777</td>\n",
       "      <td>10.877429</td>\n",
       "      <td>30.877429</td>\n",
       "    </tr>\n",
       "  </tbody>\n",
       "</table>\n",
       "<p>300 rows × 5 columns</p>\n",
       "</div>"
      ],
      "text/plain": [
       "            a         b         c         a1         b1\n",
       "0    0.521758  0.656540  0.967524  10.521758  30.521758\n",
       "1    0.578711  0.272539  0.189373  10.578711  30.578711\n",
       "2    0.179789  0.678690  0.139905  10.179789  30.179789\n",
       "3    0.153645  0.689115  0.993441  10.153645  30.153645\n",
       "4    0.774499  0.725659  0.464067  10.774499  30.774499\n",
       "..        ...       ...       ...        ...        ...\n",
       "295  0.337893  0.505336  0.670838  10.337893  30.337893\n",
       "296  0.565541  0.386037  0.745923  10.565541  30.565541\n",
       "297  0.563533  0.673578  0.133700  10.563533  30.563533\n",
       "298  0.059301  0.933921  0.684948  10.059301  30.059301\n",
       "299  0.877429  0.589281  0.415777  10.877429  30.877429\n",
       "\n",
       "[300 rows x 5 columns]"
      ]
     },
     "execution_count": 12,
     "metadata": {},
     "output_type": "execute_result"
    }
   ],
   "source": [
    "df"
   ]
  },
  {
   "cell_type": "code",
   "execution_count": 13,
   "id": "fbde15b1",
   "metadata": {},
   "outputs": [
    {
     "data": {
      "application/vnd.plotly.v1+json": {
       "config": {
        "linkText": "Export to plot.ly",
        "plotlyServerURL": "https://plot.ly",
        "showLink": true
       },
       "data": [
        {
         "marker": {
          "color": [
           "rgba(255, 153, 51, 1.0)",
           "rgba(55, 128, 191, 1.0)",
           "rgba(50, 171, 96, 1.0)",
           "rgba(128, 0, 128, 1.0)",
           "rgba(219, 64, 82, 1.0)",
           "rgba(0, 128, 128, 1.0)",
           "rgba(255, 255, 51, 1.0)",
           "rgba(128, 128, 0, 1.0)",
           "rgba(251, 128, 114, 1.0)",
           "rgba(128, 177, 211, 1.0)",
           "rgba(128, 177, 211, 0.9733333333333334)",
           "rgba(255, 153, 51, 0.9733333333333334)",
           "rgba(55, 128, 191, 0.9733333333333334)",
           "rgba(50, 171, 96, 0.9733333333333334)",
           "rgba(128, 0, 128, 0.9733333333333334)",
           "rgba(219, 64, 82, 0.9733333333333334)",
           "rgba(0, 128, 128, 0.9733333333333334)",
           "rgba(255, 255, 51, 0.9733333333333334)",
           "rgba(128, 128, 0, 0.9733333333333334)",
           "rgba(251, 128, 114, 0.9733333333333334)",
           "rgba(251, 128, 114, 0.9466666666666665)",
           "rgba(128, 177, 211, 0.9466666666666665)",
           "rgba(255, 153, 51, 0.9466666666666665)",
           "rgba(55, 128, 191, 0.9466666666666665)",
           "rgba(50, 171, 96, 0.9466666666666665)",
           "rgba(128, 0, 128, 0.9466666666666665)",
           "rgba(219, 64, 82, 0.9466666666666665)",
           "rgba(0, 128, 128, 0.9466666666666665)",
           "rgba(255, 255, 51, 0.9466666666666665)",
           "rgba(128, 128, 0, 0.9466666666666665)",
           "rgba(128, 128, 0, 0.9199999999999999)",
           "rgba(251, 128, 114, 0.9199999999999999)",
           "rgba(128, 177, 211, 0.9199999999999999)",
           "rgba(255, 153, 51, 0.9199999999999999)",
           "rgba(55, 128, 191, 0.9199999999999999)",
           "rgba(50, 171, 96, 0.9199999999999999)",
           "rgba(128, 0, 128, 0.9199999999999999)",
           "rgba(219, 64, 82, 0.9199999999999999)",
           "rgba(0, 128, 128, 0.9199999999999999)",
           "rgba(255, 255, 51, 0.9199999999999999)",
           "rgba(255, 255, 51, 0.8933333333333333)",
           "rgba(128, 128, 0, 0.8933333333333333)",
           "rgba(251, 128, 114, 0.8933333333333333)",
           "rgba(128, 177, 211, 0.8933333333333333)",
           "rgba(255, 153, 51, 0.8933333333333333)",
           "rgba(55, 128, 191, 0.8933333333333333)",
           "rgba(50, 171, 96, 0.8933333333333333)",
           "rgba(128, 0, 128, 0.8933333333333333)",
           "rgba(219, 64, 82, 0.8933333333333333)",
           "rgba(0, 128, 128, 0.8933333333333333)",
           "rgba(0, 128, 128, 0.8666666666666667)",
           "rgba(255, 255, 51, 0.8666666666666667)",
           "rgba(128, 128, 0, 0.8666666666666667)",
           "rgba(251, 128, 114, 0.8666666666666667)",
           "rgba(128, 177, 211, 0.8666666666666667)",
           "rgba(255, 153, 51, 0.8666666666666667)",
           "rgba(55, 128, 191, 0.8666666666666667)",
           "rgba(50, 171, 96, 0.8666666666666667)",
           "rgba(128, 0, 128, 0.8666666666666667)",
           "rgba(219, 64, 82, 0.8666666666666667)",
           "rgba(219, 64, 82, 0.8399999999999999)",
           "rgba(0, 128, 128, 0.8399999999999999)",
           "rgba(255, 255, 51, 0.8399999999999999)",
           "rgba(128, 128, 0, 0.8399999999999999)",
           "rgba(251, 128, 114, 0.8399999999999999)",
           "rgba(128, 177, 211, 0.8399999999999999)",
           "rgba(255, 153, 51, 0.8399999999999999)",
           "rgba(55, 128, 191, 0.8399999999999999)",
           "rgba(50, 171, 96, 0.8399999999999999)",
           "rgba(128, 0, 128, 0.8399999999999999)",
           "rgba(128, 0, 128, 0.8133333333333332)",
           "rgba(219, 64, 82, 0.8133333333333332)",
           "rgba(0, 128, 128, 0.8133333333333332)",
           "rgba(255, 255, 51, 0.8133333333333332)",
           "rgba(128, 128, 0, 0.8133333333333332)",
           "rgba(251, 128, 114, 0.8133333333333332)",
           "rgba(128, 177, 211, 0.8133333333333332)",
           "rgba(255, 153, 51, 0.8133333333333332)",
           "rgba(55, 128, 191, 0.8133333333333332)",
           "rgba(50, 171, 96, 0.8133333333333332)",
           "rgba(50, 171, 96, 0.7866666666666666)",
           "rgba(128, 0, 128, 0.7866666666666666)",
           "rgba(219, 64, 82, 0.7866666666666666)",
           "rgba(0, 128, 128, 0.7866666666666666)",
           "rgba(255, 255, 51, 0.7866666666666666)",
           "rgba(128, 128, 0, 0.7866666666666666)",
           "rgba(251, 128, 114, 0.7866666666666666)",
           "rgba(128, 177, 211, 0.7866666666666666)",
           "rgba(255, 153, 51, 0.7866666666666666)",
           "rgba(55, 128, 191, 0.7866666666666666)",
           "rgba(55, 128, 191, 0.76)",
           "rgba(50, 171, 96, 0.76)",
           "rgba(128, 0, 128, 0.76)",
           "rgba(219, 64, 82, 0.76)",
           "rgba(0, 128, 128, 0.76)",
           "rgba(255, 255, 51, 0.76)",
           "rgba(128, 128, 0, 0.76)",
           "rgba(251, 128, 114, 0.76)",
           "rgba(128, 177, 211, 0.76)",
           "rgba(255, 153, 51, 0.76)",
           "rgba(255, 153, 51, 0.7333333333333332)",
           "rgba(55, 128, 191, 0.7333333333333332)",
           "rgba(50, 171, 96, 0.7333333333333332)",
           "rgba(128, 0, 128, 0.7333333333333332)",
           "rgba(219, 64, 82, 0.7333333333333332)",
           "rgba(0, 128, 128, 0.7333333333333332)",
           "rgba(255, 255, 51, 0.7333333333333332)",
           "rgba(128, 128, 0, 0.7333333333333332)",
           "rgba(251, 128, 114, 0.7333333333333332)",
           "rgba(128, 177, 211, 0.7333333333333332)",
           "rgba(128, 177, 211, 0.7066666666666666)",
           "rgba(255, 153, 51, 0.7066666666666666)",
           "rgba(55, 128, 191, 0.7066666666666666)",
           "rgba(50, 171, 96, 0.7066666666666666)",
           "rgba(128, 0, 128, 0.7066666666666666)",
           "rgba(219, 64, 82, 0.7066666666666666)",
           "rgba(0, 128, 128, 0.7066666666666666)",
           "rgba(255, 255, 51, 0.7066666666666666)",
           "rgba(128, 128, 0, 0.7066666666666666)",
           "rgba(251, 128, 114, 0.7066666666666666)",
           "rgba(251, 128, 114, 0.6799999999999999)",
           "rgba(128, 177, 211, 0.6799999999999999)",
           "rgba(255, 153, 51, 0.6799999999999999)",
           "rgba(55, 128, 191, 0.6799999999999999)",
           "rgba(50, 171, 96, 0.6799999999999999)",
           "rgba(128, 0, 128, 0.6799999999999999)",
           "rgba(219, 64, 82, 0.6799999999999999)",
           "rgba(0, 128, 128, 0.6799999999999999)",
           "rgba(255, 255, 51, 0.6799999999999999)",
           "rgba(128, 128, 0, 0.6799999999999999)",
           "rgba(128, 128, 0, 0.6533333333333333)",
           "rgba(251, 128, 114, 0.6533333333333333)",
           "rgba(128, 177, 211, 0.6533333333333333)",
           "rgba(255, 153, 51, 0.6533333333333333)",
           "rgba(55, 128, 191, 0.6533333333333333)",
           "rgba(50, 171, 96, 0.6533333333333333)",
           "rgba(128, 0, 128, 0.6533333333333333)",
           "rgba(219, 64, 82, 0.6533333333333333)",
           "rgba(0, 128, 128, 0.6533333333333333)",
           "rgba(255, 255, 51, 0.6533333333333333)",
           "rgba(255, 255, 51, 0.6266666666666665)",
           "rgba(128, 128, 0, 0.6266666666666665)",
           "rgba(251, 128, 114, 0.6266666666666665)",
           "rgba(128, 177, 211, 0.6266666666666665)",
           "rgba(255, 153, 51, 0.6266666666666665)",
           "rgba(55, 128, 191, 0.6266666666666665)",
           "rgba(50, 171, 96, 0.6266666666666665)",
           "rgba(128, 0, 128, 0.6266666666666665)",
           "rgba(219, 64, 82, 0.6266666666666665)",
           "rgba(0, 128, 128, 0.6266666666666665)",
           "rgba(0, 128, 128, 0.5999999999999999)",
           "rgba(255, 255, 51, 0.5999999999999999)",
           "rgba(128, 128, 0, 0.5999999999999999)",
           "rgba(251, 128, 114, 0.5999999999999999)",
           "rgba(128, 177, 211, 0.5999999999999999)",
           "rgba(255, 153, 51, 0.5999999999999999)",
           "rgba(55, 128, 191, 0.5999999999999999)",
           "rgba(50, 171, 96, 0.5999999999999999)",
           "rgba(128, 0, 128, 0.5999999999999999)",
           "rgba(219, 64, 82, 0.5999999999999999)",
           "rgba(219, 64, 82, 0.5733333333333333)",
           "rgba(0, 128, 128, 0.5733333333333333)",
           "rgba(255, 255, 51, 0.5733333333333333)",
           "rgba(128, 128, 0, 0.5733333333333333)",
           "rgba(251, 128, 114, 0.5733333333333333)",
           "rgba(128, 177, 211, 0.5733333333333333)",
           "rgba(255, 153, 51, 0.5733333333333333)",
           "rgba(55, 128, 191, 0.5733333333333333)",
           "rgba(50, 171, 96, 0.5733333333333333)",
           "rgba(128, 0, 128, 0.5733333333333333)",
           "rgba(128, 0, 128, 0.5466666666666666)",
           "rgba(219, 64, 82, 0.5466666666666666)",
           "rgba(0, 128, 128, 0.5466666666666666)",
           "rgba(255, 255, 51, 0.5466666666666666)",
           "rgba(128, 128, 0, 0.5466666666666666)",
           "rgba(251, 128, 114, 0.5466666666666666)",
           "rgba(128, 177, 211, 0.5466666666666666)",
           "rgba(255, 153, 51, 0.5466666666666666)",
           "rgba(55, 128, 191, 0.5466666666666666)",
           "rgba(50, 171, 96, 0.5466666666666666)",
           "rgba(50, 171, 96, 0.5199999999999998)",
           "rgba(128, 0, 128, 0.5199999999999998)",
           "rgba(219, 64, 82, 0.5199999999999998)",
           "rgba(0, 128, 128, 0.5199999999999998)",
           "rgba(255, 255, 51, 0.5199999999999998)",
           "rgba(128, 128, 0, 0.5199999999999998)",
           "rgba(251, 128, 114, 0.5199999999999998)",
           "rgba(128, 177, 211, 0.5199999999999998)",
           "rgba(255, 153, 51, 0.5199999999999998)",
           "rgba(55, 128, 191, 0.5199999999999998)",
           "rgba(55, 128, 191, 0.49333333333333323)",
           "rgba(50, 171, 96, 0.49333333333333323)",
           "rgba(128, 0, 128, 0.49333333333333323)",
           "rgba(219, 64, 82, 0.49333333333333323)",
           "rgba(0, 128, 128, 0.49333333333333323)",
           "rgba(255, 255, 51, 0.49333333333333323)",
           "rgba(128, 128, 0, 0.49333333333333323)",
           "rgba(251, 128, 114, 0.49333333333333323)",
           "rgba(128, 177, 211, 0.49333333333333323)",
           "rgba(255, 153, 51, 0.49333333333333323)",
           "rgba(255, 153, 51, 0.4666666666666666)",
           "rgba(55, 128, 191, 0.4666666666666666)",
           "rgba(50, 171, 96, 0.4666666666666666)",
           "rgba(128, 0, 128, 0.4666666666666666)",
           "rgba(219, 64, 82, 0.4666666666666666)",
           "rgba(0, 128, 128, 0.4666666666666666)",
           "rgba(255, 255, 51, 0.4666666666666666)",
           "rgba(128, 128, 0, 0.4666666666666666)",
           "rgba(251, 128, 114, 0.4666666666666666)",
           "rgba(128, 177, 211, 0.4666666666666666)",
           "rgba(128, 177, 211, 0.44)",
           "rgba(255, 153, 51, 0.44)",
           "rgba(55, 128, 191, 0.44)",
           "rgba(50, 171, 96, 0.44)",
           "rgba(128, 0, 128, 0.44)",
           "rgba(219, 64, 82, 0.44)",
           "rgba(0, 128, 128, 0.44)",
           "rgba(255, 255, 51, 0.44)",
           "rgba(128, 128, 0, 0.44)",
           "rgba(251, 128, 114, 0.44)",
           "rgba(251, 128, 114, 0.41333333333333316)",
           "rgba(128, 177, 211, 0.41333333333333316)",
           "rgba(255, 153, 51, 0.41333333333333316)",
           "rgba(55, 128, 191, 0.41333333333333316)",
           "rgba(50, 171, 96, 0.41333333333333316)",
           "rgba(128, 0, 128, 0.41333333333333316)",
           "rgba(219, 64, 82, 0.41333333333333316)",
           "rgba(0, 128, 128, 0.41333333333333316)",
           "rgba(255, 255, 51, 0.41333333333333316)",
           "rgba(128, 128, 0, 0.41333333333333316)",
           "rgba(128, 128, 0, 0.38666666666666655)",
           "rgba(251, 128, 114, 0.38666666666666655)",
           "rgba(128, 177, 211, 0.38666666666666655)",
           "rgba(255, 153, 51, 0.38666666666666655)",
           "rgba(55, 128, 191, 0.38666666666666655)",
           "rgba(50, 171, 96, 0.38666666666666655)",
           "rgba(128, 0, 128, 0.38666666666666655)",
           "rgba(219, 64, 82, 0.38666666666666655)",
           "rgba(0, 128, 128, 0.38666666666666655)",
           "rgba(255, 255, 51, 0.38666666666666655)",
           "rgba(255, 255, 51, 0.35999999999999993)",
           "rgba(128, 128, 0, 0.35999999999999993)",
           "rgba(251, 128, 114, 0.35999999999999993)",
           "rgba(128, 177, 211, 0.35999999999999993)",
           "rgba(255, 153, 51, 0.35999999999999993)",
           "rgba(55, 128, 191, 0.35999999999999993)",
           "rgba(50, 171, 96, 0.35999999999999993)",
           "rgba(128, 0, 128, 0.35999999999999993)",
           "rgba(219, 64, 82, 0.35999999999999993)",
           "rgba(0, 128, 128, 0.35999999999999993)",
           "rgba(0, 128, 128, 0.3333333333333333)",
           "rgba(255, 255, 51, 0.3333333333333333)",
           "rgba(128, 128, 0, 0.3333333333333333)",
           "rgba(251, 128, 114, 0.3333333333333333)",
           "rgba(128, 177, 211, 0.3333333333333333)",
           "rgba(255, 153, 51, 0.3333333333333333)",
           "rgba(55, 128, 191, 0.3333333333333333)",
           "rgba(50, 171, 96, 0.3333333333333333)",
           "rgba(128, 0, 128, 0.3333333333333333)",
           "rgba(219, 64, 82, 0.3333333333333333)",
           "rgba(219, 64, 82, 0.3066666666666665)",
           "rgba(0, 128, 128, 0.3066666666666665)",
           "rgba(255, 255, 51, 0.3066666666666665)",
           "rgba(128, 128, 0, 0.3066666666666665)",
           "rgba(251, 128, 114, 0.3066666666666665)",
           "rgba(128, 177, 211, 0.3066666666666665)",
           "rgba(255, 153, 51, 0.3066666666666665)",
           "rgba(55, 128, 191, 0.3066666666666665)",
           "rgba(50, 171, 96, 0.3066666666666665)",
           "rgba(128, 0, 128, 0.3066666666666665)",
           "rgba(128, 0, 128, 0.27999999999999986)",
           "rgba(219, 64, 82, 0.27999999999999986)",
           "rgba(0, 128, 128, 0.27999999999999986)",
           "rgba(255, 255, 51, 0.27999999999999986)",
           "rgba(128, 128, 0, 0.27999999999999986)",
           "rgba(251, 128, 114, 0.27999999999999986)",
           "rgba(128, 177, 211, 0.27999999999999986)",
           "rgba(255, 153, 51, 0.27999999999999986)",
           "rgba(55, 128, 191, 0.27999999999999986)",
           "rgba(50, 171, 96, 0.27999999999999986)",
           "rgba(50, 171, 96, 0.25333333333333324)",
           "rgba(128, 0, 128, 0.25333333333333324)",
           "rgba(219, 64, 82, 0.25333333333333324)",
           "rgba(0, 128, 128, 0.25333333333333324)",
           "rgba(255, 255, 51, 0.25333333333333324)",
           "rgba(128, 128, 0, 0.25333333333333324)",
           "rgba(251, 128, 114, 0.25333333333333324)",
           "rgba(128, 177, 211, 0.25333333333333324)",
           "rgba(255, 153, 51, 0.25333333333333324)",
           "rgba(55, 128, 191, 0.25333333333333324)",
           "rgba(55, 128, 191, 0.22666666666666663)",
           "rgba(50, 171, 96, 0.22666666666666663)",
           "rgba(128, 0, 128, 0.22666666666666663)",
           "rgba(219, 64, 82, 0.22666666666666663)",
           "rgba(0, 128, 128, 0.22666666666666663)",
           "rgba(255, 255, 51, 0.22666666666666663)",
           "rgba(128, 128, 0, 0.22666666666666663)",
           "rgba(251, 128, 114, 0.22666666666666663)",
           "rgba(128, 177, 211, 0.22666666666666663)",
           "rgba(255, 153, 51, 0.22666666666666663)"
          ],
          "opacity": 0.8,
          "size": [
           12,
           12,
           12,
           12,
           12,
           12,
           12,
           12,
           12,
           12,
           12,
           12,
           12,
           12,
           12,
           12,
           12,
           12,
           12,
           12,
           12,
           12,
           12,
           12,
           12,
           12,
           12,
           12,
           12,
           12,
           12,
           12,
           12,
           12,
           12,
           12,
           12,
           12,
           12,
           12,
           12,
           12,
           12,
           12,
           12,
           12,
           12,
           12,
           12,
           12,
           12,
           12,
           12,
           12,
           12,
           12,
           12,
           12,
           12,
           12,
           12,
           12,
           12,
           12,
           12,
           12,
           12,
           12,
           12,
           12,
           12,
           12,
           12,
           12,
           12,
           12,
           12,
           12,
           12,
           12,
           12,
           12,
           12,
           12,
           12,
           12,
           12,
           12,
           12,
           12,
           12,
           12,
           12,
           12,
           12,
           12,
           12,
           12,
           12,
           12,
           12,
           12,
           12,
           12,
           12,
           12,
           12,
           12,
           12,
           12,
           12,
           12,
           12,
           12,
           12,
           12,
           12,
           12,
           12,
           12,
           12,
           12,
           12,
           12,
           12,
           12,
           12,
           12,
           12,
           12,
           12,
           12,
           12,
           12,
           12,
           12,
           12,
           12,
           12,
           12,
           12,
           12,
           12,
           12,
           12,
           12,
           12,
           12,
           12,
           12,
           12,
           12,
           12,
           12,
           12,
           12,
           12,
           12,
           12,
           12,
           12,
           12,
           12,
           12,
           12,
           12,
           12,
           12,
           12,
           12,
           12,
           12,
           12,
           12,
           12,
           12,
           12,
           12,
           12,
           12,
           12,
           12,
           12,
           12,
           12,
           12,
           12,
           12,
           12,
           12,
           12,
           12,
           12,
           12,
           12,
           12,
           12,
           12,
           12,
           12,
           12,
           12,
           12,
           12,
           12,
           12,
           12,
           12,
           12,
           12,
           12,
           12,
           12,
           12,
           12,
           12,
           12,
           12,
           12,
           12,
           12,
           12,
           12,
           12,
           12,
           12,
           12,
           12,
           12,
           12,
           12,
           12,
           12,
           12,
           12,
           12,
           12,
           12,
           12,
           12,
           12,
           12,
           12,
           12,
           12,
           12,
           12,
           12,
           12,
           12,
           12,
           12,
           12,
           12,
           12,
           12,
           12,
           12,
           12,
           12,
           12,
           12,
           12,
           12,
           12,
           12,
           12,
           12,
           12,
           12,
           12,
           12,
           12,
           12,
           12,
           12,
           12,
           12,
           12,
           12,
           12,
           12,
           12,
           12,
           12,
           12,
           12,
           12,
           12,
           12,
           12,
           12,
           12,
           12,
           12,
           12,
           12,
           12,
           12,
           12
          ],
          "symbol": "circle"
         },
         "mode": "markers",
         "text": [
          "0",
          "1",
          "2",
          "3",
          "4",
          "5",
          "6",
          "7",
          "8",
          "9",
          "10",
          "11",
          "12",
          "13",
          "14",
          "15",
          "16",
          "17",
          "18",
          "19",
          "20",
          "21",
          "22",
          "23",
          "24",
          "25",
          "26",
          "27",
          "28",
          "29",
          "30",
          "31",
          "32",
          "33",
          "34",
          "35",
          "36",
          "37",
          "38",
          "39",
          "40",
          "41",
          "42",
          "43",
          "44",
          "45",
          "46",
          "47",
          "48",
          "49",
          "50",
          "51",
          "52",
          "53",
          "54",
          "55",
          "56",
          "57",
          "58",
          "59",
          "60",
          "61",
          "62",
          "63",
          "64",
          "65",
          "66",
          "67",
          "68",
          "69",
          "70",
          "71",
          "72",
          "73",
          "74",
          "75",
          "76",
          "77",
          "78",
          "79",
          "80",
          "81",
          "82",
          "83",
          "84",
          "85",
          "86",
          "87",
          "88",
          "89",
          "90",
          "91",
          "92",
          "93",
          "94",
          "95",
          "96",
          "97",
          "98",
          "99",
          "100",
          "101",
          "102",
          "103",
          "104",
          "105",
          "106",
          "107",
          "108",
          "109",
          "110",
          "111",
          "112",
          "113",
          "114",
          "115",
          "116",
          "117",
          "118",
          "119",
          "120",
          "121",
          "122",
          "123",
          "124",
          "125",
          "126",
          "127",
          "128",
          "129",
          "130",
          "131",
          "132",
          "133",
          "134",
          "135",
          "136",
          "137",
          "138",
          "139",
          "140",
          "141",
          "142",
          "143",
          "144",
          "145",
          "146",
          "147",
          "148",
          "149",
          "150",
          "151",
          "152",
          "153",
          "154",
          "155",
          "156",
          "157",
          "158",
          "159",
          "160",
          "161",
          "162",
          "163",
          "164",
          "165",
          "166",
          "167",
          "168",
          "169",
          "170",
          "171",
          "172",
          "173",
          "174",
          "175",
          "176",
          "177",
          "178",
          "179",
          "180",
          "181",
          "182",
          "183",
          "184",
          "185",
          "186",
          "187",
          "188",
          "189",
          "190",
          "191",
          "192",
          "193",
          "194",
          "195",
          "196",
          "197",
          "198",
          "199",
          "200",
          "201",
          "202",
          "203",
          "204",
          "205",
          "206",
          "207",
          "208",
          "209",
          "210",
          "211",
          "212",
          "213",
          "214",
          "215",
          "216",
          "217",
          "218",
          "219",
          "220",
          "221",
          "222",
          "223",
          "224",
          "225",
          "226",
          "227",
          "228",
          "229",
          "230",
          "231",
          "232",
          "233",
          "234",
          "235",
          "236",
          "237",
          "238",
          "239",
          "240",
          "241",
          "242",
          "243",
          "244",
          "245",
          "246",
          "247",
          "248",
          "249",
          "250",
          "251",
          "252",
          "253",
          "254",
          "255",
          "256",
          "257",
          "258",
          "259",
          "260",
          "261",
          "262",
          "263",
          "264",
          "265",
          "266",
          "267",
          "268",
          "269",
          "270",
          "271",
          "272",
          "273",
          "274",
          "275",
          "276",
          "277",
          "278",
          "279",
          "280",
          "281",
          "282",
          "283",
          "284",
          "285",
          "286",
          "287",
          "288",
          "289",
          "290",
          "291",
          "292",
          "293",
          "294",
          "295",
          "296",
          "297",
          "298",
          "299"
         ],
         "type": "scatter3d",
         "x": [
          0.5217584901197575,
          0.5787111342562862,
          0.1797887564020827,
          0.1536449987712688,
          0.7744991797964166,
          0.271164708828622,
          0.7088256489644945,
          0.6777362072539204,
          0.9722369749183002,
          0.7100315504451886,
          0.7721317196529153,
          0.019535900540354256,
          0.9772200011819906,
          0.27879704659658644,
          0.18576968309289987,
          0.6936729469645396,
          0.521595671174059,
          0.9777036414370185,
          0.1205080018053416,
          0.7191075781198428,
          0.656148195768571,
          0.18504960908493806,
          0.6976177065679228,
          0.9964749244646701,
          0.737370555139942,
          0.8284745562353367,
          0.6002216427339154,
          0.37316250565657294,
          0.01841901374264643,
          0.18016793726983227,
          0.050244266830862694,
          0.5321947239446121,
          0.8633079997178311,
          0.15563507459717651,
          0.7820965449198773,
          0.5568072781904421,
          0.89210631691426,
          0.13652852634827983,
          0.22067831208296218,
          0.707697711247764,
          0.653941773421546,
          0.31936369512201923,
          0.25974249319384823,
          0.9142884197908587,
          0.9555058944772499,
          0.2939294874403823,
          0.33105472165087946,
          0.2721214646761868,
          0.9035897307292399,
          0.7823212681900047,
          0.22788264617646603,
          0.3149773577433017,
          0.9424839776979346,
          0.1493480640968453,
          0.9322537751868704,
          0.17890015095129153,
          0.6767331109871201,
          0.9923477638877356,
          0.6689952038280811,
          0.5351262182156444,
          0.311128645020762,
          0.6979545130064431,
          0.8729865700172668,
          0.2861387961107905,
          0.41686702320312685,
          0.8298702500763596,
          0.8502754130424404,
          0.03715230655586421,
          0.8842262335934845,
          0.5209556486117768,
          0.10300880891115705,
          0.13256533659258285,
          0.12248486317015106,
          0.8518202329765998,
          0.7697830783258386,
          0.8109341086513256,
          0.7059228720730545,
          0.9152006226333084,
          0.48417782324422365,
          0.2822051918880407,
          0.39967785260278677,
          0.2518429384358193,
          0.013149909783860658,
          0.34758802353391316,
          0.4162239304029818,
          0.14195229285722033,
          0.08650945359769902,
          0.37779339185565564,
          0.9487764062903706,
          0.03219612551089923,
          0.24236729187033867,
          0.15328624032036042,
          0.8190503197587852,
          0.34871620856743746,
          0.6221235648438211,
          0.9775793649170893,
          0.8418095077830429,
          0.3212166717185544,
          0.29545951450442,
          0.8910950321146475,
          0.6325781058325881,
          0.7314966107677453,
          0.033629787915021025,
          0.6932776195137418,
          0.8687979340808485,
          0.8885443278340531,
          0.8556283657556358,
          0.32987026666233077,
          0.13490194355464147,
          0.453318809340042,
          0.7861699008687312,
          0.07475515033214386,
          0.23003437896729373,
          0.7572296797582196,
          0.46081882201182967,
          0.6760330578620852,
          0.9884349813243926,
          0.9812522308893941,
          0.3195595525226541,
          0.05480116248354894,
          0.04293327189874241,
          0.41193344345125893,
          0.9145720860227223,
          0.4328840504725179,
          0.8858315277284301,
          0.49161158204457245,
          0.4099366043244621,
          0.49717351277631616,
          0.6753001507749009,
          0.5144463240743683,
          0.6847873774627783,
          0.08081896084656826,
          0.7087887703432738,
          0.9875131515316805,
          0.6895147936285623,
          0.3592287291544851,
          0.10277789522924563,
          0.28911811439472357,
          0.7506923352216698,
          0.29497551155683843,
          0.3665333559717857,
          0.513560226786625,
          0.667663169195848,
          0.9389861598967205,
          0.11828210893451874,
          0.24704682443176074,
          0.072708476061635,
          0.5990119861122783,
          0.9423147449873845,
          0.7128994746244285,
          0.6074738792486837,
          0.2835446628384126,
          0.22688653383213686,
          0.518679489798174,
          0.3661733831076309,
          0.6074576839203806,
          0.8754928930157727,
          0.012677991667791266,
          0.013693951665304183,
          0.8013334618633164,
          0.5871441274383529,
          0.7002774638030955,
          0.48529977314238815,
          0.11790416631646516,
          0.47926966762875334,
          0.21495434447343154,
          0.10115539548801766,
          0.8742703946647546,
          0.42303647562334845,
          0.5715151646840542,
          0.258032038071651,
          0.2594535107118574,
          0.7430386339795915,
          0.7231824911669353,
          0.0008158764697191456,
          0.7836476194852188,
          0.8510464899514174,
          0.5207886549439212,
          0.12579385791260622,
          0.15891634574349867,
          0.0521523476159379,
          0.3920466103453104,
          0.9431554412800038,
          0.3560421358022502,
          0.2619038524355699,
          0.9410805328594457,
          0.9381353430098053,
          0.49438988572448617,
          0.20178851439232792,
          0.2621353141545477,
          0.5254034334736651,
          0.012881733441739152,
          0.09447995950021248,
          0.3943879767061542,
          0.03090792370293649,
          0.6882603759618863,
          0.08156627955369689,
          0.799140666442477,
          0.7424500118535963,
          0.5032897934634936,
          0.23510187897752577,
          0.6007975324873631,
          0.22953005084602285,
          0.5908083343598789,
          0.26198074515587333,
          0.02483063129211116,
          0.199740362555199,
          0.4202845023839932,
          0.06821748451093745,
          0.09919874899927295,
          0.8854799780009854,
          0.9777505021664477,
          0.1300181984227593,
          0.2693970048237856,
          0.10318289455570406,
          0.2399858249826532,
          0.38741039806197575,
          0.447560070942181,
          0.213733950857933,
          0.25221837152496795,
          0.5455057508988781,
          0.6831026878944338,
          0.10350436835748567,
          0.5760429976774889,
          0.2953389090645029,
          0.6502446928420924,
          0.39542598057944833,
          0.660003062813198,
          0.5578093493433288,
          0.3942502355132199,
          0.49202298363888375,
          0.42210808920089116,
          0.939176377162526,
          0.0542706922816244,
          0.22032555543774313,
          0.005230429465815867,
          0.7239019983635087,
          0.22711631517220732,
          0.4517662235285317,
          0.3180468417868577,
          0.7187991907055166,
          0.8906688540374909,
          0.3581557876097188,
          0.16982091144134281,
          0.9811588278156487,
          0.3607024665327434,
          0.47866287348990666,
          0.8884505446382632,
          0.09856894806051741,
          0.10218727320835763,
          0.7015942427213698,
          0.7842798026118757,
          0.30450346977216436,
          0.47657062100714687,
          0.39477315252105716,
          0.3994360333817134,
          0.2365946940750263,
          0.6983289552001183,
          0.5290485275025265,
          0.5552687435786212,
          0.30016664427132356,
          0.1484069576645365,
          0.7849532685848855,
          0.5246179091355077,
          0.9499243810481692,
          0.07907055168482302,
          0.18002851024697641,
          0.7957694094355793,
          0.796828655882608,
          0.29597967326499597,
          0.25649796460328567,
          0.6812640639822506,
          0.21293242706709337,
          0.40715630359496957,
          0.6838091022811791,
          0.21564973693881961,
          0.28369176629833603,
          0.9974066013950036,
          0.4290506779227563,
          0.4770546261319515,
          0.7912454204009501,
          0.4720695615872831,
          0.5630624530964834,
          0.5576189617562095,
          0.16926300741270972,
          0.016452020181829563,
          0.983030784592851,
          0.0776930122755114,
          0.08635976282508218,
          0.6745955061443522,
          0.46038477969508773,
          0.8408528909563503,
          0.2014336475764087,
          0.3811659743110719,
          0.10421267293833836,
          0.3378933743606959,
          0.5655407541975808,
          0.5635334766364674,
          0.05930142645585179,
          0.8774285096481331
         ],
         "y": [
          10.521758490119758,
          10.578711134256286,
          10.179788756402083,
          10.153644998771268,
          10.774499179796416,
          10.271164708828621,
          10.708825648964494,
          10.67773620725392,
          10.9722369749183,
          10.710031550445189,
          10.772131719652915,
          10.019535900540355,
          10.97722000118199,
          10.278797046596587,
          10.1857696830929,
          10.69367294696454,
          10.521595671174058,
          10.977703641437019,
          10.12050800180534,
          10.719107578119843,
          10.656148195768571,
          10.185049609084938,
          10.697617706567923,
          10.99647492446467,
          10.737370555139941,
          10.828474556235337,
          10.600221642733915,
          10.373162505656573,
          10.018419013742646,
          10.180167937269832,
          10.050244266830862,
          10.532194723944611,
          10.863307999717831,
          10.155635074597177,
          10.782096544919877,
          10.556807278190442,
          10.89210631691426,
          10.136528526348279,
          10.220678312082962,
          10.707697711247764,
          10.653941773421547,
          10.31936369512202,
          10.259742493193848,
          10.914288419790859,
          10.95550589447725,
          10.293929487440382,
          10.33105472165088,
          10.272121464676188,
          10.903589730729239,
          10.782321268190005,
          10.227882646176466,
          10.314977357743302,
          10.942483977697934,
          10.149348064096845,
          10.93225377518687,
          10.178900150951291,
          10.67673311098712,
          10.992347763887736,
          10.66899520382808,
          10.535126218215645,
          10.311128645020762,
          10.697954513006444,
          10.872986570017266,
          10.28613879611079,
          10.416867023203126,
          10.82987025007636,
          10.850275413042441,
          10.037152306555864,
          10.884226233593484,
          10.520955648611777,
          10.103008808911158,
          10.132565336592583,
          10.12248486317015,
          10.8518202329766,
          10.769783078325839,
          10.810934108651326,
          10.705922872073055,
          10.915200622633309,
          10.484177823244224,
          10.28220519188804,
          10.399677852602787,
          10.25184293843582,
          10.013149909783861,
          10.347588023533913,
          10.416223930402982,
          10.141952292857221,
          10.0865094535977,
          10.377793391855656,
          10.94877640629037,
          10.032196125510898,
          10.24236729187034,
          10.15328624032036,
          10.819050319758786,
          10.348716208567437,
          10.622123564843822,
          10.977579364917089,
          10.841809507783044,
          10.321216671718554,
          10.29545951450442,
          10.891095032114647,
          10.632578105832588,
          10.731496610767746,
          10.033629787915022,
          10.693277619513742,
          10.868797934080849,
          10.888544327834053,
          10.855628365755635,
          10.329870266662331,
          10.134901943554642,
          10.453318809340042,
          10.786169900868732,
          10.074755150332145,
          10.230034378967293,
          10.75722967975822,
          10.460818822011829,
          10.676033057862085,
          10.988434981324392,
          10.981252230889394,
          10.319559552522653,
          10.05480116248355,
          10.042933271898743,
          10.41193344345126,
          10.914572086022723,
          10.432884050472518,
          10.88583152772843,
          10.491611582044573,
          10.409936604324463,
          10.497173512776316,
          10.6753001507749,
          10.514446324074369,
          10.684787377462778,
          10.080818960846567,
          10.708788770343274,
          10.987513151531681,
          10.689514793628563,
          10.359228729154484,
          10.102777895229245,
          10.289118114394723,
          10.75069233522167,
          10.294975511556839,
          10.366533355971786,
          10.513560226786625,
          10.667663169195848,
          10.93898615989672,
          10.118282108934519,
          10.247046824431761,
          10.072708476061635,
          10.599011986112279,
          10.942314744987385,
          10.712899474624429,
          10.607473879248683,
          10.283544662838413,
          10.226886533832136,
          10.518679489798174,
          10.36617338310763,
          10.60745768392038,
          10.875492893015773,
          10.012677991667791,
          10.013693951665305,
          10.801333461863317,
          10.587144127438354,
          10.700277463803095,
          10.485299773142389,
          10.117904166316466,
          10.479269667628753,
          10.214954344473432,
          10.101155395488018,
          10.874270394664755,
          10.423036475623348,
          10.571515164684055,
          10.25803203807165,
          10.259453510711857,
          10.743038633979591,
          10.723182491166936,
          10.00081587646972,
          10.783647619485219,
          10.851046489951418,
          10.520788654943921,
          10.125793857912607,
          10.1589163457435,
          10.052152347615937,
          10.39204661034531,
          10.943155441280004,
          10.35604213580225,
          10.26190385243557,
          10.941080532859445,
          10.938135343009805,
          10.494389885724486,
          10.201788514392328,
          10.262135314154548,
          10.525403433473665,
          10.01288173344174,
          10.094479959500212,
          10.394387976706154,
          10.030907923702937,
          10.688260375961887,
          10.081566279553696,
          10.799140666442478,
          10.742450011853597,
          10.503289793463493,
          10.235101878977526,
          10.600797532487363,
          10.229530050846023,
          10.59080833435988,
          10.261980745155874,
          10.024830631292112,
          10.199740362555199,
          10.420284502383993,
          10.068217484510937,
          10.099198748999273,
          10.885479978000985,
          10.977750502166447,
          10.130018198422759,
          10.269397004823785,
          10.103182894555705,
          10.239985824982654,
          10.387410398061975,
          10.447560070942181,
          10.213733950857932,
          10.252218371524968,
          10.545505750898878,
          10.683102687894435,
          10.103504368357486,
          10.576042997677488,
          10.295338909064503,
          10.650244692842092,
          10.395425980579448,
          10.660003062813198,
          10.557809349343328,
          10.39425023551322,
          10.492022983638885,
          10.422108089200892,
          10.939176377162527,
          10.054270692281625,
          10.220325555437743,
          10.005230429465815,
          10.723901998363509,
          10.227116315172207,
          10.451766223528532,
          10.318046841786858,
          10.718799190705516,
          10.890668854037491,
          10.358155787609718,
          10.169820911441343,
          10.981158827815648,
          10.360702466532743,
          10.478662873489906,
          10.888450544638264,
          10.098568948060517,
          10.102187273208358,
          10.70159424272137,
          10.784279802611875,
          10.304503469772165,
          10.476570621007147,
          10.394773152521058,
          10.399436033381713,
          10.236594694075027,
          10.698328955200118,
          10.529048527502527,
          10.55526874357862,
          10.300166644271323,
          10.148406957664536,
          10.784953268584886,
          10.524617909135507,
          10.94992438104817,
          10.079070551684824,
          10.180028510246977,
          10.795769409435579,
          10.796828655882608,
          10.295979673264997,
          10.256497964603286,
          10.681264063982251,
          10.212932427067093,
          10.40715630359497,
          10.68380910228118,
          10.21564973693882,
          10.283691766298336,
          10.997406601395003,
          10.429050677922756,
          10.477054626131952,
          10.79124542040095,
          10.472069561587283,
          10.563062453096483,
          10.557618961756209,
          10.16926300741271,
          10.016452020181829,
          10.98303078459285,
          10.077693012275512,
          10.086359762825083,
          10.674595506144351,
          10.460384779695088,
          10.84085289095635,
          10.201433647576408,
          10.381165974311072,
          10.104212672938338,
          10.337893374360696,
          10.565540754197581,
          10.563533476636467,
          10.059301426455852,
          10.877428509648134
         ],
         "z": [
          30.52175849011976,
          30.578711134256285,
          30.179788756402083,
          30.15364499877127,
          30.77449917979642,
          30.27116470882862,
          30.708825648964496,
          30.677736207253922,
          30.9722369749183,
          30.710031550445187,
          30.772131719652915,
          30.019535900540355,
          30.97722000118199,
          30.278797046596587,
          30.1857696830929,
          30.69367294696454,
          30.521595671174058,
          30.977703641437017,
          30.12050800180534,
          30.719107578119843,
          30.65614819576857,
          30.18504960908494,
          30.69761770656792,
          30.99647492446467,
          30.737370555139943,
          30.828474556235335,
          30.600221642733917,
          30.373162505656573,
          30.018419013742648,
          30.180167937269832,
          30.050244266830862,
          30.532194723944613,
          30.863307999717833,
          30.155635074597175,
          30.782096544919877,
          30.55680727819044,
          30.89210631691426,
          30.13652852634828,
          30.220678312082963,
          30.707697711247764,
          30.653941773421547,
          30.319363695122018,
          30.259742493193848,
          30.914288419790857,
          30.95550589447725,
          30.293929487440383,
          30.33105472165088,
          30.272121464676186,
          30.90358973072924,
          30.782321268190003,
          30.227882646176464,
          30.314977357743302,
          30.942483977697936,
          30.149348064096845,
          30.93225377518687,
          30.178900150951293,
          30.67673311098712,
          30.992347763887736,
          30.668995203828082,
          30.535126218215645,
          30.311128645020762,
          30.697954513006444,
          30.872986570017268,
          30.28613879611079,
          30.416867023203128,
          30.82987025007636,
          30.85027541304244,
          30.037152306555864,
          30.884226233593484,
          30.52095564861178,
          30.103008808911156,
          30.132565336592585,
          30.12248486317015,
          30.8518202329766,
          30.769783078325837,
          30.810934108651324,
          30.705922872073053,
          30.915200622633307,
          30.484177823244224,
          30.28220519188804,
          30.399677852602785,
          30.251842938435818,
          30.01314990978386,
          30.347588023533913,
          30.416223930402982,
          30.14195229285722,
          30.0865094535977,
          30.377793391855654,
          30.94877640629037,
          30.0321961255109,
          30.242367291870337,
          30.15328624032036,
          30.819050319758784,
          30.34871620856744,
          30.62212356484382,
          30.97757936491709,
          30.841809507783044,
          30.321216671718556,
          30.29545951450442,
          30.89109503211465,
          30.63257810583259,
          30.731496610767746,
          30.03362978791502,
          30.693277619513744,
          30.86879793408085,
          30.888544327834055,
          30.855628365755635,
          30.32987026666233,
          30.13490194355464,
          30.453318809340043,
          30.78616990086873,
          30.074755150332145,
          30.230034378967293,
          30.75722967975822,
          30.46081882201183,
          30.676033057862085,
          30.988434981324392,
          30.981252230889393,
          30.319559552522655,
          30.05480116248355,
          30.042933271898743,
          30.411933443451257,
          30.914572086022723,
          30.432884050472516,
          30.88583152772843,
          30.491611582044573,
          30.40993660432446,
          30.497173512776317,
          30.675300150774902,
          30.514446324074367,
          30.68478737746278,
          30.080818960846567,
          30.708788770343276,
          30.98751315153168,
          30.68951479362856,
          30.359228729154484,
          30.102777895229245,
          30.289118114394725,
          30.750692335221668,
          30.29497551155684,
          30.366533355971786,
          30.513560226786623,
          30.667663169195848,
          30.93898615989672,
          30.11828210893452,
          30.24704682443176,
          30.072708476061635,
          30.599011986112277,
          30.942314744987385,
          30.71289947462443,
          30.607473879248683,
          30.283544662838413,
          30.226886533832136,
          30.518679489798174,
          30.366173383107633,
          30.60745768392038,
          30.87549289301577,
          30.01267799166779,
          30.013693951665303,
          30.801333461863315,
          30.587144127438354,
          30.700277463803097,
          30.485299773142387,
          30.117904166316464,
          30.479269667628753,
          30.21495434447343,
          30.101155395488018,
          30.874270394664755,
          30.42303647562335,
          30.571515164684055,
          30.25803203807165,
          30.259453510711857,
          30.74303863397959,
          30.723182491166934,
          30.00081587646972,
          30.78364761948522,
          30.85104648995142,
          30.52078865494392,
          30.125793857912605,
          30.1589163457435,
          30.052152347615937,
          30.39204661034531,
          30.943155441280005,
          30.35604213580225,
          30.26190385243557,
          30.941080532859445,
          30.938135343009805,
          30.494389885724487,
          30.201788514392327,
          30.26213531415455,
          30.525403433473667,
          30.012881733441738,
          30.094479959500212,
          30.394387976706156,
          30.030907923702937,
          30.688260375961885,
          30.081566279553698,
          30.799140666442476,
          30.742450011853595,
          30.503289793463495,
          30.235101878977527,
          30.600797532487363,
          30.229530050846023,
          30.590808334359878,
          30.261980745155874,
          30.02483063129211,
          30.1997403625552,
          30.420284502383993,
          30.06821748451094,
          30.099198748999274,
          30.885479978000987,
          30.977750502166447,
          30.13001819842276,
          30.269397004823787,
          30.103182894555705,
          30.239985824982654,
          30.387410398061977,
          30.44756007094218,
          30.213733950857932,
          30.252218371524968,
          30.54550575089888,
          30.683102687894433,
          30.103504368357484,
          30.57604299767749,
          30.295338909064505,
          30.650244692842094,
          30.39542598057945,
          30.6600030628132,
          30.55780934934333,
          30.39425023551322,
          30.492022983638883,
          30.42210808920089,
          30.939176377162525,
          30.054270692281623,
          30.220325555437743,
          30.005230429465815,
          30.72390199836351,
          30.227116315172207,
          30.45176622352853,
          30.318046841786856,
          30.718799190705518,
          30.89066885403749,
          30.358155787609718,
          30.16982091144134,
          30.981158827815648,
          30.360702466532743,
          30.478662873489906,
          30.888450544638264,
          30.098568948060517,
          30.102187273208358,
          30.70159424272137,
          30.784279802611877,
          30.304503469772165,
          30.47657062100715,
          30.394773152521058,
          30.399436033381715,
          30.236594694075027,
          30.698328955200118,
          30.529048527502525,
          30.555268743578623,
          30.300166644271325,
          30.148406957664537,
          30.784953268584886,
          30.524617909135507,
          30.94992438104817,
          30.079070551684822,
          30.180028510246977,
          30.79576940943558,
          30.796828655882607,
          30.295979673264995,
          30.256497964603284,
          30.68126406398225,
          30.212932427067095,
          30.40715630359497,
          30.683809102281177,
          30.21564973693882,
          30.283691766298336,
          30.997406601395003,
          30.429050677922756,
          30.477054626131952,
          30.79124542040095,
          30.472069561587283,
          30.563062453096485,
          30.55761896175621,
          30.16926300741271,
          30.01645202018183,
          30.983030784592852,
          30.07769301227551,
          30.086359762825083,
          30.674595506144353,
          30.460384779695087,
          30.84085289095635,
          30.20143364757641,
          30.38116597431107,
          30.10421267293834,
          30.337893374360696,
          30.56554075419758,
          30.56353347663647,
          30.059301426455853,
          30.877428509648134
         ]
        }
       ],
       "layout": {
        "legend": {
         "bgcolor": "#F5F6F9",
         "font": {
          "color": "#4D5663"
         }
        },
        "paper_bgcolor": "#F5F6F9",
        "plot_bgcolor": "#F5F6F9",
        "scene": {
         "xaxis": {
          "gridcolor": "#9499A3",
          "showgrid": true,
          "tickfont": {
           "color": "#4D5663"
          },
          "title": {
           "font": {
            "color": "#4D5663"
           },
           "text": ""
          },
          "zerolinecolor": "#9499A3"
         },
         "yaxis": {
          "gridcolor": "#9499A3",
          "showgrid": true,
          "tickfont": {
           "color": "#4D5663"
          },
          "title": {
           "font": {
            "color": "#4D5663"
           },
           "text": ""
          },
          "zerolinecolor": "#9499A3"
         },
         "zaxis": {
          "gridcolor": "#9499A3",
          "showgrid": true,
          "tickfont": {
           "color": "#4D5663"
          },
          "title": {
           "font": {
            "color": "#4D5663"
           },
           "text": ""
          },
          "zerolinecolor": "#9499A3"
         }
        },
        "template": {
         "data": {
          "bar": [
           {
            "error_x": {
             "color": "#2a3f5f"
            },
            "error_y": {
             "color": "#2a3f5f"
            },
            "marker": {
             "line": {
              "color": "#E5ECF6",
              "width": 0.5
             },
             "pattern": {
              "fillmode": "overlay",
              "size": 10,
              "solidity": 0.2
             }
            },
            "type": "bar"
           }
          ],
          "barpolar": [
           {
            "marker": {
             "line": {
              "color": "#E5ECF6",
              "width": 0.5
             },
             "pattern": {
              "fillmode": "overlay",
              "size": 10,
              "solidity": 0.2
             }
            },
            "type": "barpolar"
           }
          ],
          "carpet": [
           {
            "aaxis": {
             "endlinecolor": "#2a3f5f",
             "gridcolor": "white",
             "linecolor": "white",
             "minorgridcolor": "white",
             "startlinecolor": "#2a3f5f"
            },
            "baxis": {
             "endlinecolor": "#2a3f5f",
             "gridcolor": "white",
             "linecolor": "white",
             "minorgridcolor": "white",
             "startlinecolor": "#2a3f5f"
            },
            "type": "carpet"
           }
          ],
          "choropleth": [
           {
            "colorbar": {
             "outlinewidth": 0,
             "ticks": ""
            },
            "type": "choropleth"
           }
          ],
          "contour": [
           {
            "colorbar": {
             "outlinewidth": 0,
             "ticks": ""
            },
            "colorscale": [
             [
              0,
              "#0d0887"
             ],
             [
              0.1111111111111111,
              "#46039f"
             ],
             [
              0.2222222222222222,
              "#7201a8"
             ],
             [
              0.3333333333333333,
              "#9c179e"
             ],
             [
              0.4444444444444444,
              "#bd3786"
             ],
             [
              0.5555555555555556,
              "#d8576b"
             ],
             [
              0.6666666666666666,
              "#ed7953"
             ],
             [
              0.7777777777777778,
              "#fb9f3a"
             ],
             [
              0.8888888888888888,
              "#fdca26"
             ],
             [
              1,
              "#f0f921"
             ]
            ],
            "type": "contour"
           }
          ],
          "contourcarpet": [
           {
            "colorbar": {
             "outlinewidth": 0,
             "ticks": ""
            },
            "type": "contourcarpet"
           }
          ],
          "heatmap": [
           {
            "colorbar": {
             "outlinewidth": 0,
             "ticks": ""
            },
            "colorscale": [
             [
              0,
              "#0d0887"
             ],
             [
              0.1111111111111111,
              "#46039f"
             ],
             [
              0.2222222222222222,
              "#7201a8"
             ],
             [
              0.3333333333333333,
              "#9c179e"
             ],
             [
              0.4444444444444444,
              "#bd3786"
             ],
             [
              0.5555555555555556,
              "#d8576b"
             ],
             [
              0.6666666666666666,
              "#ed7953"
             ],
             [
              0.7777777777777778,
              "#fb9f3a"
             ],
             [
              0.8888888888888888,
              "#fdca26"
             ],
             [
              1,
              "#f0f921"
             ]
            ],
            "type": "heatmap"
           }
          ],
          "heatmapgl": [
           {
            "colorbar": {
             "outlinewidth": 0,
             "ticks": ""
            },
            "colorscale": [
             [
              0,
              "#0d0887"
             ],
             [
              0.1111111111111111,
              "#46039f"
             ],
             [
              0.2222222222222222,
              "#7201a8"
             ],
             [
              0.3333333333333333,
              "#9c179e"
             ],
             [
              0.4444444444444444,
              "#bd3786"
             ],
             [
              0.5555555555555556,
              "#d8576b"
             ],
             [
              0.6666666666666666,
              "#ed7953"
             ],
             [
              0.7777777777777778,
              "#fb9f3a"
             ],
             [
              0.8888888888888888,
              "#fdca26"
             ],
             [
              1,
              "#f0f921"
             ]
            ],
            "type": "heatmapgl"
           }
          ],
          "histogram": [
           {
            "marker": {
             "pattern": {
              "fillmode": "overlay",
              "size": 10,
              "solidity": 0.2
             }
            },
            "type": "histogram"
           }
          ],
          "histogram2d": [
           {
            "colorbar": {
             "outlinewidth": 0,
             "ticks": ""
            },
            "colorscale": [
             [
              0,
              "#0d0887"
             ],
             [
              0.1111111111111111,
              "#46039f"
             ],
             [
              0.2222222222222222,
              "#7201a8"
             ],
             [
              0.3333333333333333,
              "#9c179e"
             ],
             [
              0.4444444444444444,
              "#bd3786"
             ],
             [
              0.5555555555555556,
              "#d8576b"
             ],
             [
              0.6666666666666666,
              "#ed7953"
             ],
             [
              0.7777777777777778,
              "#fb9f3a"
             ],
             [
              0.8888888888888888,
              "#fdca26"
             ],
             [
              1,
              "#f0f921"
             ]
            ],
            "type": "histogram2d"
           }
          ],
          "histogram2dcontour": [
           {
            "colorbar": {
             "outlinewidth": 0,
             "ticks": ""
            },
            "colorscale": [
             [
              0,
              "#0d0887"
             ],
             [
              0.1111111111111111,
              "#46039f"
             ],
             [
              0.2222222222222222,
              "#7201a8"
             ],
             [
              0.3333333333333333,
              "#9c179e"
             ],
             [
              0.4444444444444444,
              "#bd3786"
             ],
             [
              0.5555555555555556,
              "#d8576b"
             ],
             [
              0.6666666666666666,
              "#ed7953"
             ],
             [
              0.7777777777777778,
              "#fb9f3a"
             ],
             [
              0.8888888888888888,
              "#fdca26"
             ],
             [
              1,
              "#f0f921"
             ]
            ],
            "type": "histogram2dcontour"
           }
          ],
          "mesh3d": [
           {
            "colorbar": {
             "outlinewidth": 0,
             "ticks": ""
            },
            "type": "mesh3d"
           }
          ],
          "parcoords": [
           {
            "line": {
             "colorbar": {
              "outlinewidth": 0,
              "ticks": ""
             }
            },
            "type": "parcoords"
           }
          ],
          "pie": [
           {
            "automargin": true,
            "type": "pie"
           }
          ],
          "scatter": [
           {
            "fillpattern": {
             "fillmode": "overlay",
             "size": 10,
             "solidity": 0.2
            },
            "type": "scatter"
           }
          ],
          "scatter3d": [
           {
            "line": {
             "colorbar": {
              "outlinewidth": 0,
              "ticks": ""
             }
            },
            "marker": {
             "colorbar": {
              "outlinewidth": 0,
              "ticks": ""
             }
            },
            "type": "scatter3d"
           }
          ],
          "scattercarpet": [
           {
            "marker": {
             "colorbar": {
              "outlinewidth": 0,
              "ticks": ""
             }
            },
            "type": "scattercarpet"
           }
          ],
          "scattergeo": [
           {
            "marker": {
             "colorbar": {
              "outlinewidth": 0,
              "ticks": ""
             }
            },
            "type": "scattergeo"
           }
          ],
          "scattergl": [
           {
            "marker": {
             "colorbar": {
              "outlinewidth": 0,
              "ticks": ""
             }
            },
            "type": "scattergl"
           }
          ],
          "scattermapbox": [
           {
            "marker": {
             "colorbar": {
              "outlinewidth": 0,
              "ticks": ""
             }
            },
            "type": "scattermapbox"
           }
          ],
          "scatterpolar": [
           {
            "marker": {
             "colorbar": {
              "outlinewidth": 0,
              "ticks": ""
             }
            },
            "type": "scatterpolar"
           }
          ],
          "scatterpolargl": [
           {
            "marker": {
             "colorbar": {
              "outlinewidth": 0,
              "ticks": ""
             }
            },
            "type": "scatterpolargl"
           }
          ],
          "scatterternary": [
           {
            "marker": {
             "colorbar": {
              "outlinewidth": 0,
              "ticks": ""
             }
            },
            "type": "scatterternary"
           }
          ],
          "surface": [
           {
            "colorbar": {
             "outlinewidth": 0,
             "ticks": ""
            },
            "colorscale": [
             [
              0,
              "#0d0887"
             ],
             [
              0.1111111111111111,
              "#46039f"
             ],
             [
              0.2222222222222222,
              "#7201a8"
             ],
             [
              0.3333333333333333,
              "#9c179e"
             ],
             [
              0.4444444444444444,
              "#bd3786"
             ],
             [
              0.5555555555555556,
              "#d8576b"
             ],
             [
              0.6666666666666666,
              "#ed7953"
             ],
             [
              0.7777777777777778,
              "#fb9f3a"
             ],
             [
              0.8888888888888888,
              "#fdca26"
             ],
             [
              1,
              "#f0f921"
             ]
            ],
            "type": "surface"
           }
          ],
          "table": [
           {
            "cells": {
             "fill": {
              "color": "#EBF0F8"
             },
             "line": {
              "color": "white"
             }
            },
            "header": {
             "fill": {
              "color": "#C8D4E3"
             },
             "line": {
              "color": "white"
             }
            },
            "type": "table"
           }
          ]
         },
         "layout": {
          "annotationdefaults": {
           "arrowcolor": "#2a3f5f",
           "arrowhead": 0,
           "arrowwidth": 1
          },
          "autotypenumbers": "strict",
          "coloraxis": {
           "colorbar": {
            "outlinewidth": 0,
            "ticks": ""
           }
          },
          "colorscale": {
           "diverging": [
            [
             0,
             "#8e0152"
            ],
            [
             0.1,
             "#c51b7d"
            ],
            [
             0.2,
             "#de77ae"
            ],
            [
             0.3,
             "#f1b6da"
            ],
            [
             0.4,
             "#fde0ef"
            ],
            [
             0.5,
             "#f7f7f7"
            ],
            [
             0.6,
             "#e6f5d0"
            ],
            [
             0.7,
             "#b8e186"
            ],
            [
             0.8,
             "#7fbc41"
            ],
            [
             0.9,
             "#4d9221"
            ],
            [
             1,
             "#276419"
            ]
           ],
           "sequential": [
            [
             0,
             "#0d0887"
            ],
            [
             0.1111111111111111,
             "#46039f"
            ],
            [
             0.2222222222222222,
             "#7201a8"
            ],
            [
             0.3333333333333333,
             "#9c179e"
            ],
            [
             0.4444444444444444,
             "#bd3786"
            ],
            [
             0.5555555555555556,
             "#d8576b"
            ],
            [
             0.6666666666666666,
             "#ed7953"
            ],
            [
             0.7777777777777778,
             "#fb9f3a"
            ],
            [
             0.8888888888888888,
             "#fdca26"
            ],
            [
             1,
             "#f0f921"
            ]
           ],
           "sequentialminus": [
            [
             0,
             "#0d0887"
            ],
            [
             0.1111111111111111,
             "#46039f"
            ],
            [
             0.2222222222222222,
             "#7201a8"
            ],
            [
             0.3333333333333333,
             "#9c179e"
            ],
            [
             0.4444444444444444,
             "#bd3786"
            ],
            [
             0.5555555555555556,
             "#d8576b"
            ],
            [
             0.6666666666666666,
             "#ed7953"
            ],
            [
             0.7777777777777778,
             "#fb9f3a"
            ],
            [
             0.8888888888888888,
             "#fdca26"
            ],
            [
             1,
             "#f0f921"
            ]
           ]
          },
          "colorway": [
           "#636efa",
           "#EF553B",
           "#00cc96",
           "#ab63fa",
           "#FFA15A",
           "#19d3f3",
           "#FF6692",
           "#B6E880",
           "#FF97FF",
           "#FECB52"
          ],
          "font": {
           "color": "#2a3f5f"
          },
          "geo": {
           "bgcolor": "white",
           "lakecolor": "white",
           "landcolor": "#E5ECF6",
           "showlakes": true,
           "showland": true,
           "subunitcolor": "white"
          },
          "hoverlabel": {
           "align": "left"
          },
          "hovermode": "closest",
          "mapbox": {
           "style": "light"
          },
          "paper_bgcolor": "white",
          "plot_bgcolor": "#E5ECF6",
          "polar": {
           "angularaxis": {
            "gridcolor": "white",
            "linecolor": "white",
            "ticks": ""
           },
           "bgcolor": "#E5ECF6",
           "radialaxis": {
            "gridcolor": "white",
            "linecolor": "white",
            "ticks": ""
           }
          },
          "scene": {
           "xaxis": {
            "backgroundcolor": "#E5ECF6",
            "gridcolor": "white",
            "gridwidth": 2,
            "linecolor": "white",
            "showbackground": true,
            "ticks": "",
            "zerolinecolor": "white"
           },
           "yaxis": {
            "backgroundcolor": "#E5ECF6",
            "gridcolor": "white",
            "gridwidth": 2,
            "linecolor": "white",
            "showbackground": true,
            "ticks": "",
            "zerolinecolor": "white"
           },
           "zaxis": {
            "backgroundcolor": "#E5ECF6",
            "gridcolor": "white",
            "gridwidth": 2,
            "linecolor": "white",
            "showbackground": true,
            "ticks": "",
            "zerolinecolor": "white"
           }
          },
          "shapedefaults": {
           "line": {
            "color": "#2a3f5f"
           }
          },
          "ternary": {
           "aaxis": {
            "gridcolor": "white",
            "linecolor": "white",
            "ticks": ""
           },
           "baxis": {
            "gridcolor": "white",
            "linecolor": "white",
            "ticks": ""
           },
           "bgcolor": "#E5ECF6",
           "caxis": {
            "gridcolor": "white",
            "linecolor": "white",
            "ticks": ""
           }
          },
          "title": {
           "x": 0.05
          },
          "xaxis": {
           "automargin": true,
           "gridcolor": "white",
           "linecolor": "white",
           "ticks": "",
           "title": {
            "standoff": 15
           },
           "zerolinecolor": "white",
           "zerolinewidth": 2
          },
          "yaxis": {
           "automargin": true,
           "gridcolor": "white",
           "linecolor": "white",
           "ticks": "",
           "title": {
            "standoff": 15
           },
           "zerolinecolor": "white",
           "zerolinewidth": 2
          }
         }
        },
        "title": {
         "font": {
          "color": "#4D5663"
         }
        }
       }
      },
      "text/html": [
       "<div>                            <div id=\"968775d5-e54e-47a9-976d-724925c79f9c\" class=\"plotly-graph-div\" style=\"height:525px; width:100%;\"></div>            <script type=\"text/javascript\">                require([\"plotly\"], function(Plotly) {                    window.PLOTLYENV=window.PLOTLYENV || {};\n",
       "                    window.PLOTLYENV.BASE_URL='https://plot.ly';                                    if (document.getElementById(\"968775d5-e54e-47a9-976d-724925c79f9c\")) {                    Plotly.newPlot(                        \"968775d5-e54e-47a9-976d-724925c79f9c\",                        [{\"marker\":{\"color\":[\"rgba(255, 153, 51, 1.0)\",\"rgba(55, 128, 191, 1.0)\",\"rgba(50, 171, 96, 1.0)\",\"rgba(128, 0, 128, 1.0)\",\"rgba(219, 64, 82, 1.0)\",\"rgba(0, 128, 128, 1.0)\",\"rgba(255, 255, 51, 1.0)\",\"rgba(128, 128, 0, 1.0)\",\"rgba(251, 128, 114, 1.0)\",\"rgba(128, 177, 211, 1.0)\",\"rgba(128, 177, 211, 0.9733333333333334)\",\"rgba(255, 153, 51, 0.9733333333333334)\",\"rgba(55, 128, 191, 0.9733333333333334)\",\"rgba(50, 171, 96, 0.9733333333333334)\",\"rgba(128, 0, 128, 0.9733333333333334)\",\"rgba(219, 64, 82, 0.9733333333333334)\",\"rgba(0, 128, 128, 0.9733333333333334)\",\"rgba(255, 255, 51, 0.9733333333333334)\",\"rgba(128, 128, 0, 0.9733333333333334)\",\"rgba(251, 128, 114, 0.9733333333333334)\",\"rgba(251, 128, 114, 0.9466666666666665)\",\"rgba(128, 177, 211, 0.9466666666666665)\",\"rgba(255, 153, 51, 0.9466666666666665)\",\"rgba(55, 128, 191, 0.9466666666666665)\",\"rgba(50, 171, 96, 0.9466666666666665)\",\"rgba(128, 0, 128, 0.9466666666666665)\",\"rgba(219, 64, 82, 0.9466666666666665)\",\"rgba(0, 128, 128, 0.9466666666666665)\",\"rgba(255, 255, 51, 0.9466666666666665)\",\"rgba(128, 128, 0, 0.9466666666666665)\",\"rgba(128, 128, 0, 0.9199999999999999)\",\"rgba(251, 128, 114, 0.9199999999999999)\",\"rgba(128, 177, 211, 0.9199999999999999)\",\"rgba(255, 153, 51, 0.9199999999999999)\",\"rgba(55, 128, 191, 0.9199999999999999)\",\"rgba(50, 171, 96, 0.9199999999999999)\",\"rgba(128, 0, 128, 0.9199999999999999)\",\"rgba(219, 64, 82, 0.9199999999999999)\",\"rgba(0, 128, 128, 0.9199999999999999)\",\"rgba(255, 255, 51, 0.9199999999999999)\",\"rgba(255, 255, 51, 0.8933333333333333)\",\"rgba(128, 128, 0, 0.8933333333333333)\",\"rgba(251, 128, 114, 0.8933333333333333)\",\"rgba(128, 177, 211, 0.8933333333333333)\",\"rgba(255, 153, 51, 0.8933333333333333)\",\"rgba(55, 128, 191, 0.8933333333333333)\",\"rgba(50, 171, 96, 0.8933333333333333)\",\"rgba(128, 0, 128, 0.8933333333333333)\",\"rgba(219, 64, 82, 0.8933333333333333)\",\"rgba(0, 128, 128, 0.8933333333333333)\",\"rgba(0, 128, 128, 0.8666666666666667)\",\"rgba(255, 255, 51, 0.8666666666666667)\",\"rgba(128, 128, 0, 0.8666666666666667)\",\"rgba(251, 128, 114, 0.8666666666666667)\",\"rgba(128, 177, 211, 0.8666666666666667)\",\"rgba(255, 153, 51, 0.8666666666666667)\",\"rgba(55, 128, 191, 0.8666666666666667)\",\"rgba(50, 171, 96, 0.8666666666666667)\",\"rgba(128, 0, 128, 0.8666666666666667)\",\"rgba(219, 64, 82, 0.8666666666666667)\",\"rgba(219, 64, 82, 0.8399999999999999)\",\"rgba(0, 128, 128, 0.8399999999999999)\",\"rgba(255, 255, 51, 0.8399999999999999)\",\"rgba(128, 128, 0, 0.8399999999999999)\",\"rgba(251, 128, 114, 0.8399999999999999)\",\"rgba(128, 177, 211, 0.8399999999999999)\",\"rgba(255, 153, 51, 0.8399999999999999)\",\"rgba(55, 128, 191, 0.8399999999999999)\",\"rgba(50, 171, 96, 0.8399999999999999)\",\"rgba(128, 0, 128, 0.8399999999999999)\",\"rgba(128, 0, 128, 0.8133333333333332)\",\"rgba(219, 64, 82, 0.8133333333333332)\",\"rgba(0, 128, 128, 0.8133333333333332)\",\"rgba(255, 255, 51, 0.8133333333333332)\",\"rgba(128, 128, 0, 0.8133333333333332)\",\"rgba(251, 128, 114, 0.8133333333333332)\",\"rgba(128, 177, 211, 0.8133333333333332)\",\"rgba(255, 153, 51, 0.8133333333333332)\",\"rgba(55, 128, 191, 0.8133333333333332)\",\"rgba(50, 171, 96, 0.8133333333333332)\",\"rgba(50, 171, 96, 0.7866666666666666)\",\"rgba(128, 0, 128, 0.7866666666666666)\",\"rgba(219, 64, 82, 0.7866666666666666)\",\"rgba(0, 128, 128, 0.7866666666666666)\",\"rgba(255, 255, 51, 0.7866666666666666)\",\"rgba(128, 128, 0, 0.7866666666666666)\",\"rgba(251, 128, 114, 0.7866666666666666)\",\"rgba(128, 177, 211, 0.7866666666666666)\",\"rgba(255, 153, 51, 0.7866666666666666)\",\"rgba(55, 128, 191, 0.7866666666666666)\",\"rgba(55, 128, 191, 0.76)\",\"rgba(50, 171, 96, 0.76)\",\"rgba(128, 0, 128, 0.76)\",\"rgba(219, 64, 82, 0.76)\",\"rgba(0, 128, 128, 0.76)\",\"rgba(255, 255, 51, 0.76)\",\"rgba(128, 128, 0, 0.76)\",\"rgba(251, 128, 114, 0.76)\",\"rgba(128, 177, 211, 0.76)\",\"rgba(255, 153, 51, 0.76)\",\"rgba(255, 153, 51, 0.7333333333333332)\",\"rgba(55, 128, 191, 0.7333333333333332)\",\"rgba(50, 171, 96, 0.7333333333333332)\",\"rgba(128, 0, 128, 0.7333333333333332)\",\"rgba(219, 64, 82, 0.7333333333333332)\",\"rgba(0, 128, 128, 0.7333333333333332)\",\"rgba(255, 255, 51, 0.7333333333333332)\",\"rgba(128, 128, 0, 0.7333333333333332)\",\"rgba(251, 128, 114, 0.7333333333333332)\",\"rgba(128, 177, 211, 0.7333333333333332)\",\"rgba(128, 177, 211, 0.7066666666666666)\",\"rgba(255, 153, 51, 0.7066666666666666)\",\"rgba(55, 128, 191, 0.7066666666666666)\",\"rgba(50, 171, 96, 0.7066666666666666)\",\"rgba(128, 0, 128, 0.7066666666666666)\",\"rgba(219, 64, 82, 0.7066666666666666)\",\"rgba(0, 128, 128, 0.7066666666666666)\",\"rgba(255, 255, 51, 0.7066666666666666)\",\"rgba(128, 128, 0, 0.7066666666666666)\",\"rgba(251, 128, 114, 0.7066666666666666)\",\"rgba(251, 128, 114, 0.6799999999999999)\",\"rgba(128, 177, 211, 0.6799999999999999)\",\"rgba(255, 153, 51, 0.6799999999999999)\",\"rgba(55, 128, 191, 0.6799999999999999)\",\"rgba(50, 171, 96, 0.6799999999999999)\",\"rgba(128, 0, 128, 0.6799999999999999)\",\"rgba(219, 64, 82, 0.6799999999999999)\",\"rgba(0, 128, 128, 0.6799999999999999)\",\"rgba(255, 255, 51, 0.6799999999999999)\",\"rgba(128, 128, 0, 0.6799999999999999)\",\"rgba(128, 128, 0, 0.6533333333333333)\",\"rgba(251, 128, 114, 0.6533333333333333)\",\"rgba(128, 177, 211, 0.6533333333333333)\",\"rgba(255, 153, 51, 0.6533333333333333)\",\"rgba(55, 128, 191, 0.6533333333333333)\",\"rgba(50, 171, 96, 0.6533333333333333)\",\"rgba(128, 0, 128, 0.6533333333333333)\",\"rgba(219, 64, 82, 0.6533333333333333)\",\"rgba(0, 128, 128, 0.6533333333333333)\",\"rgba(255, 255, 51, 0.6533333333333333)\",\"rgba(255, 255, 51, 0.6266666666666665)\",\"rgba(128, 128, 0, 0.6266666666666665)\",\"rgba(251, 128, 114, 0.6266666666666665)\",\"rgba(128, 177, 211, 0.6266666666666665)\",\"rgba(255, 153, 51, 0.6266666666666665)\",\"rgba(55, 128, 191, 0.6266666666666665)\",\"rgba(50, 171, 96, 0.6266666666666665)\",\"rgba(128, 0, 128, 0.6266666666666665)\",\"rgba(219, 64, 82, 0.6266666666666665)\",\"rgba(0, 128, 128, 0.6266666666666665)\",\"rgba(0, 128, 128, 0.5999999999999999)\",\"rgba(255, 255, 51, 0.5999999999999999)\",\"rgba(128, 128, 0, 0.5999999999999999)\",\"rgba(251, 128, 114, 0.5999999999999999)\",\"rgba(128, 177, 211, 0.5999999999999999)\",\"rgba(255, 153, 51, 0.5999999999999999)\",\"rgba(55, 128, 191, 0.5999999999999999)\",\"rgba(50, 171, 96, 0.5999999999999999)\",\"rgba(128, 0, 128, 0.5999999999999999)\",\"rgba(219, 64, 82, 0.5999999999999999)\",\"rgba(219, 64, 82, 0.5733333333333333)\",\"rgba(0, 128, 128, 0.5733333333333333)\",\"rgba(255, 255, 51, 0.5733333333333333)\",\"rgba(128, 128, 0, 0.5733333333333333)\",\"rgba(251, 128, 114, 0.5733333333333333)\",\"rgba(128, 177, 211, 0.5733333333333333)\",\"rgba(255, 153, 51, 0.5733333333333333)\",\"rgba(55, 128, 191, 0.5733333333333333)\",\"rgba(50, 171, 96, 0.5733333333333333)\",\"rgba(128, 0, 128, 0.5733333333333333)\",\"rgba(128, 0, 128, 0.5466666666666666)\",\"rgba(219, 64, 82, 0.5466666666666666)\",\"rgba(0, 128, 128, 0.5466666666666666)\",\"rgba(255, 255, 51, 0.5466666666666666)\",\"rgba(128, 128, 0, 0.5466666666666666)\",\"rgba(251, 128, 114, 0.5466666666666666)\",\"rgba(128, 177, 211, 0.5466666666666666)\",\"rgba(255, 153, 51, 0.5466666666666666)\",\"rgba(55, 128, 191, 0.5466666666666666)\",\"rgba(50, 171, 96, 0.5466666666666666)\",\"rgba(50, 171, 96, 0.5199999999999998)\",\"rgba(128, 0, 128, 0.5199999999999998)\",\"rgba(219, 64, 82, 0.5199999999999998)\",\"rgba(0, 128, 128, 0.5199999999999998)\",\"rgba(255, 255, 51, 0.5199999999999998)\",\"rgba(128, 128, 0, 0.5199999999999998)\",\"rgba(251, 128, 114, 0.5199999999999998)\",\"rgba(128, 177, 211, 0.5199999999999998)\",\"rgba(255, 153, 51, 0.5199999999999998)\",\"rgba(55, 128, 191, 0.5199999999999998)\",\"rgba(55, 128, 191, 0.49333333333333323)\",\"rgba(50, 171, 96, 0.49333333333333323)\",\"rgba(128, 0, 128, 0.49333333333333323)\",\"rgba(219, 64, 82, 0.49333333333333323)\",\"rgba(0, 128, 128, 0.49333333333333323)\",\"rgba(255, 255, 51, 0.49333333333333323)\",\"rgba(128, 128, 0, 0.49333333333333323)\",\"rgba(251, 128, 114, 0.49333333333333323)\",\"rgba(128, 177, 211, 0.49333333333333323)\",\"rgba(255, 153, 51, 0.49333333333333323)\",\"rgba(255, 153, 51, 0.4666666666666666)\",\"rgba(55, 128, 191, 0.4666666666666666)\",\"rgba(50, 171, 96, 0.4666666666666666)\",\"rgba(128, 0, 128, 0.4666666666666666)\",\"rgba(219, 64, 82, 0.4666666666666666)\",\"rgba(0, 128, 128, 0.4666666666666666)\",\"rgba(255, 255, 51, 0.4666666666666666)\",\"rgba(128, 128, 0, 0.4666666666666666)\",\"rgba(251, 128, 114, 0.4666666666666666)\",\"rgba(128, 177, 211, 0.4666666666666666)\",\"rgba(128, 177, 211, 0.44)\",\"rgba(255, 153, 51, 0.44)\",\"rgba(55, 128, 191, 0.44)\",\"rgba(50, 171, 96, 0.44)\",\"rgba(128, 0, 128, 0.44)\",\"rgba(219, 64, 82, 0.44)\",\"rgba(0, 128, 128, 0.44)\",\"rgba(255, 255, 51, 0.44)\",\"rgba(128, 128, 0, 0.44)\",\"rgba(251, 128, 114, 0.44)\",\"rgba(251, 128, 114, 0.41333333333333316)\",\"rgba(128, 177, 211, 0.41333333333333316)\",\"rgba(255, 153, 51, 0.41333333333333316)\",\"rgba(55, 128, 191, 0.41333333333333316)\",\"rgba(50, 171, 96, 0.41333333333333316)\",\"rgba(128, 0, 128, 0.41333333333333316)\",\"rgba(219, 64, 82, 0.41333333333333316)\",\"rgba(0, 128, 128, 0.41333333333333316)\",\"rgba(255, 255, 51, 0.41333333333333316)\",\"rgba(128, 128, 0, 0.41333333333333316)\",\"rgba(128, 128, 0, 0.38666666666666655)\",\"rgba(251, 128, 114, 0.38666666666666655)\",\"rgba(128, 177, 211, 0.38666666666666655)\",\"rgba(255, 153, 51, 0.38666666666666655)\",\"rgba(55, 128, 191, 0.38666666666666655)\",\"rgba(50, 171, 96, 0.38666666666666655)\",\"rgba(128, 0, 128, 0.38666666666666655)\",\"rgba(219, 64, 82, 0.38666666666666655)\",\"rgba(0, 128, 128, 0.38666666666666655)\",\"rgba(255, 255, 51, 0.38666666666666655)\",\"rgba(255, 255, 51, 0.35999999999999993)\",\"rgba(128, 128, 0, 0.35999999999999993)\",\"rgba(251, 128, 114, 0.35999999999999993)\",\"rgba(128, 177, 211, 0.35999999999999993)\",\"rgba(255, 153, 51, 0.35999999999999993)\",\"rgba(55, 128, 191, 0.35999999999999993)\",\"rgba(50, 171, 96, 0.35999999999999993)\",\"rgba(128, 0, 128, 0.35999999999999993)\",\"rgba(219, 64, 82, 0.35999999999999993)\",\"rgba(0, 128, 128, 0.35999999999999993)\",\"rgba(0, 128, 128, 0.3333333333333333)\",\"rgba(255, 255, 51, 0.3333333333333333)\",\"rgba(128, 128, 0, 0.3333333333333333)\",\"rgba(251, 128, 114, 0.3333333333333333)\",\"rgba(128, 177, 211, 0.3333333333333333)\",\"rgba(255, 153, 51, 0.3333333333333333)\",\"rgba(55, 128, 191, 0.3333333333333333)\",\"rgba(50, 171, 96, 0.3333333333333333)\",\"rgba(128, 0, 128, 0.3333333333333333)\",\"rgba(219, 64, 82, 0.3333333333333333)\",\"rgba(219, 64, 82, 0.3066666666666665)\",\"rgba(0, 128, 128, 0.3066666666666665)\",\"rgba(255, 255, 51, 0.3066666666666665)\",\"rgba(128, 128, 0, 0.3066666666666665)\",\"rgba(251, 128, 114, 0.3066666666666665)\",\"rgba(128, 177, 211, 0.3066666666666665)\",\"rgba(255, 153, 51, 0.3066666666666665)\",\"rgba(55, 128, 191, 0.3066666666666665)\",\"rgba(50, 171, 96, 0.3066666666666665)\",\"rgba(128, 0, 128, 0.3066666666666665)\",\"rgba(128, 0, 128, 0.27999999999999986)\",\"rgba(219, 64, 82, 0.27999999999999986)\",\"rgba(0, 128, 128, 0.27999999999999986)\",\"rgba(255, 255, 51, 0.27999999999999986)\",\"rgba(128, 128, 0, 0.27999999999999986)\",\"rgba(251, 128, 114, 0.27999999999999986)\",\"rgba(128, 177, 211, 0.27999999999999986)\",\"rgba(255, 153, 51, 0.27999999999999986)\",\"rgba(55, 128, 191, 0.27999999999999986)\",\"rgba(50, 171, 96, 0.27999999999999986)\",\"rgba(50, 171, 96, 0.25333333333333324)\",\"rgba(128, 0, 128, 0.25333333333333324)\",\"rgba(219, 64, 82, 0.25333333333333324)\",\"rgba(0, 128, 128, 0.25333333333333324)\",\"rgba(255, 255, 51, 0.25333333333333324)\",\"rgba(128, 128, 0, 0.25333333333333324)\",\"rgba(251, 128, 114, 0.25333333333333324)\",\"rgba(128, 177, 211, 0.25333333333333324)\",\"rgba(255, 153, 51, 0.25333333333333324)\",\"rgba(55, 128, 191, 0.25333333333333324)\",\"rgba(55, 128, 191, 0.22666666666666663)\",\"rgba(50, 171, 96, 0.22666666666666663)\",\"rgba(128, 0, 128, 0.22666666666666663)\",\"rgba(219, 64, 82, 0.22666666666666663)\",\"rgba(0, 128, 128, 0.22666666666666663)\",\"rgba(255, 255, 51, 0.22666666666666663)\",\"rgba(128, 128, 0, 0.22666666666666663)\",\"rgba(251, 128, 114, 0.22666666666666663)\",\"rgba(128, 177, 211, 0.22666666666666663)\",\"rgba(255, 153, 51, 0.22666666666666663)\"],\"opacity\":0.8,\"size\":[12,12,12,12,12,12,12,12,12,12,12,12,12,12,12,12,12,12,12,12,12,12,12,12,12,12,12,12,12,12,12,12,12,12,12,12,12,12,12,12,12,12,12,12,12,12,12,12,12,12,12,12,12,12,12,12,12,12,12,12,12,12,12,12,12,12,12,12,12,12,12,12,12,12,12,12,12,12,12,12,12,12,12,12,12,12,12,12,12,12,12,12,12,12,12,12,12,12,12,12,12,12,12,12,12,12,12,12,12,12,12,12,12,12,12,12,12,12,12,12,12,12,12,12,12,12,12,12,12,12,12,12,12,12,12,12,12,12,12,12,12,12,12,12,12,12,12,12,12,12,12,12,12,12,12,12,12,12,12,12,12,12,12,12,12,12,12,12,12,12,12,12,12,12,12,12,12,12,12,12,12,12,12,12,12,12,12,12,12,12,12,12,12,12,12,12,12,12,12,12,12,12,12,12,12,12,12,12,12,12,12,12,12,12,12,12,12,12,12,12,12,12,12,12,12,12,12,12,12,12,12,12,12,12,12,12,12,12,12,12,12,12,12,12,12,12,12,12,12,12,12,12,12,12,12,12,12,12,12,12,12,12,12,12,12,12,12,12,12,12,12,12,12,12,12,12,12,12,12,12,12,12,12,12,12,12,12,12,12,12,12,12,12,12,12,12,12,12,12,12],\"symbol\":\"circle\"},\"mode\":\"markers\",\"text\":[\"0\",\"1\",\"2\",\"3\",\"4\",\"5\",\"6\",\"7\",\"8\",\"9\",\"10\",\"11\",\"12\",\"13\",\"14\",\"15\",\"16\",\"17\",\"18\",\"19\",\"20\",\"21\",\"22\",\"23\",\"24\",\"25\",\"26\",\"27\",\"28\",\"29\",\"30\",\"31\",\"32\",\"33\",\"34\",\"35\",\"36\",\"37\",\"38\",\"39\",\"40\",\"41\",\"42\",\"43\",\"44\",\"45\",\"46\",\"47\",\"48\",\"49\",\"50\",\"51\",\"52\",\"53\",\"54\",\"55\",\"56\",\"57\",\"58\",\"59\",\"60\",\"61\",\"62\",\"63\",\"64\",\"65\",\"66\",\"67\",\"68\",\"69\",\"70\",\"71\",\"72\",\"73\",\"74\",\"75\",\"76\",\"77\",\"78\",\"79\",\"80\",\"81\",\"82\",\"83\",\"84\",\"85\",\"86\",\"87\",\"88\",\"89\",\"90\",\"91\",\"92\",\"93\",\"94\",\"95\",\"96\",\"97\",\"98\",\"99\",\"100\",\"101\",\"102\",\"103\",\"104\",\"105\",\"106\",\"107\",\"108\",\"109\",\"110\",\"111\",\"112\",\"113\",\"114\",\"115\",\"116\",\"117\",\"118\",\"119\",\"120\",\"121\",\"122\",\"123\",\"124\",\"125\",\"126\",\"127\",\"128\",\"129\",\"130\",\"131\",\"132\",\"133\",\"134\",\"135\",\"136\",\"137\",\"138\",\"139\",\"140\",\"141\",\"142\",\"143\",\"144\",\"145\",\"146\",\"147\",\"148\",\"149\",\"150\",\"151\",\"152\",\"153\",\"154\",\"155\",\"156\",\"157\",\"158\",\"159\",\"160\",\"161\",\"162\",\"163\",\"164\",\"165\",\"166\",\"167\",\"168\",\"169\",\"170\",\"171\",\"172\",\"173\",\"174\",\"175\",\"176\",\"177\",\"178\",\"179\",\"180\",\"181\",\"182\",\"183\",\"184\",\"185\",\"186\",\"187\",\"188\",\"189\",\"190\",\"191\",\"192\",\"193\",\"194\",\"195\",\"196\",\"197\",\"198\",\"199\",\"200\",\"201\",\"202\",\"203\",\"204\",\"205\",\"206\",\"207\",\"208\",\"209\",\"210\",\"211\",\"212\",\"213\",\"214\",\"215\",\"216\",\"217\",\"218\",\"219\",\"220\",\"221\",\"222\",\"223\",\"224\",\"225\",\"226\",\"227\",\"228\",\"229\",\"230\",\"231\",\"232\",\"233\",\"234\",\"235\",\"236\",\"237\",\"238\",\"239\",\"240\",\"241\",\"242\",\"243\",\"244\",\"245\",\"246\",\"247\",\"248\",\"249\",\"250\",\"251\",\"252\",\"253\",\"254\",\"255\",\"256\",\"257\",\"258\",\"259\",\"260\",\"261\",\"262\",\"263\",\"264\",\"265\",\"266\",\"267\",\"268\",\"269\",\"270\",\"271\",\"272\",\"273\",\"274\",\"275\",\"276\",\"277\",\"278\",\"279\",\"280\",\"281\",\"282\",\"283\",\"284\",\"285\",\"286\",\"287\",\"288\",\"289\",\"290\",\"291\",\"292\",\"293\",\"294\",\"295\",\"296\",\"297\",\"298\",\"299\"],\"x\":[0.5217584901197575,0.5787111342562862,0.1797887564020827,0.1536449987712688,0.7744991797964166,0.271164708828622,0.7088256489644945,0.6777362072539204,0.9722369749183002,0.7100315504451886,0.7721317196529153,0.019535900540354256,0.9772200011819906,0.27879704659658644,0.18576968309289987,0.6936729469645396,0.521595671174059,0.9777036414370185,0.1205080018053416,0.7191075781198428,0.656148195768571,0.18504960908493806,0.6976177065679228,0.9964749244646701,0.737370555139942,0.8284745562353367,0.6002216427339154,0.37316250565657294,0.01841901374264643,0.18016793726983227,0.050244266830862694,0.5321947239446121,0.8633079997178311,0.15563507459717651,0.7820965449198773,0.5568072781904421,0.89210631691426,0.13652852634827983,0.22067831208296218,0.707697711247764,0.653941773421546,0.31936369512201923,0.25974249319384823,0.9142884197908587,0.9555058944772499,0.2939294874403823,0.33105472165087946,0.2721214646761868,0.9035897307292399,0.7823212681900047,0.22788264617646603,0.3149773577433017,0.9424839776979346,0.1493480640968453,0.9322537751868704,0.17890015095129153,0.6767331109871201,0.9923477638877356,0.6689952038280811,0.5351262182156444,0.311128645020762,0.6979545130064431,0.8729865700172668,0.2861387961107905,0.41686702320312685,0.8298702500763596,0.8502754130424404,0.03715230655586421,0.8842262335934845,0.5209556486117768,0.10300880891115705,0.13256533659258285,0.12248486317015106,0.8518202329765998,0.7697830783258386,0.8109341086513256,0.7059228720730545,0.9152006226333084,0.48417782324422365,0.2822051918880407,0.39967785260278677,0.2518429384358193,0.013149909783860658,0.34758802353391316,0.4162239304029818,0.14195229285722033,0.08650945359769902,0.37779339185565564,0.9487764062903706,0.03219612551089923,0.24236729187033867,0.15328624032036042,0.8190503197587852,0.34871620856743746,0.6221235648438211,0.9775793649170893,0.8418095077830429,0.3212166717185544,0.29545951450442,0.8910950321146475,0.6325781058325881,0.7314966107677453,0.033629787915021025,0.6932776195137418,0.8687979340808485,0.8885443278340531,0.8556283657556358,0.32987026666233077,0.13490194355464147,0.453318809340042,0.7861699008687312,0.07475515033214386,0.23003437896729373,0.7572296797582196,0.46081882201182967,0.6760330578620852,0.9884349813243926,0.9812522308893941,0.3195595525226541,0.05480116248354894,0.04293327189874241,0.41193344345125893,0.9145720860227223,0.4328840504725179,0.8858315277284301,0.49161158204457245,0.4099366043244621,0.49717351277631616,0.6753001507749009,0.5144463240743683,0.6847873774627783,0.08081896084656826,0.7087887703432738,0.9875131515316805,0.6895147936285623,0.3592287291544851,0.10277789522924563,0.28911811439472357,0.7506923352216698,0.29497551155683843,0.3665333559717857,0.513560226786625,0.667663169195848,0.9389861598967205,0.11828210893451874,0.24704682443176074,0.072708476061635,0.5990119861122783,0.9423147449873845,0.7128994746244285,0.6074738792486837,0.2835446628384126,0.22688653383213686,0.518679489798174,0.3661733831076309,0.6074576839203806,0.8754928930157727,0.012677991667791266,0.013693951665304183,0.8013334618633164,0.5871441274383529,0.7002774638030955,0.48529977314238815,0.11790416631646516,0.47926966762875334,0.21495434447343154,0.10115539548801766,0.8742703946647546,0.42303647562334845,0.5715151646840542,0.258032038071651,0.2594535107118574,0.7430386339795915,0.7231824911669353,0.0008158764697191456,0.7836476194852188,0.8510464899514174,0.5207886549439212,0.12579385791260622,0.15891634574349867,0.0521523476159379,0.3920466103453104,0.9431554412800038,0.3560421358022502,0.2619038524355699,0.9410805328594457,0.9381353430098053,0.49438988572448617,0.20178851439232792,0.2621353141545477,0.5254034334736651,0.012881733441739152,0.09447995950021248,0.3943879767061542,0.03090792370293649,0.6882603759618863,0.08156627955369689,0.799140666442477,0.7424500118535963,0.5032897934634936,0.23510187897752577,0.6007975324873631,0.22953005084602285,0.5908083343598789,0.26198074515587333,0.02483063129211116,0.199740362555199,0.4202845023839932,0.06821748451093745,0.09919874899927295,0.8854799780009854,0.9777505021664477,0.1300181984227593,0.2693970048237856,0.10318289455570406,0.2399858249826532,0.38741039806197575,0.447560070942181,0.213733950857933,0.25221837152496795,0.5455057508988781,0.6831026878944338,0.10350436835748567,0.5760429976774889,0.2953389090645029,0.6502446928420924,0.39542598057944833,0.660003062813198,0.5578093493433288,0.3942502355132199,0.49202298363888375,0.42210808920089116,0.939176377162526,0.0542706922816244,0.22032555543774313,0.005230429465815867,0.7239019983635087,0.22711631517220732,0.4517662235285317,0.3180468417868577,0.7187991907055166,0.8906688540374909,0.3581557876097188,0.16982091144134281,0.9811588278156487,0.3607024665327434,0.47866287348990666,0.8884505446382632,0.09856894806051741,0.10218727320835763,0.7015942427213698,0.7842798026118757,0.30450346977216436,0.47657062100714687,0.39477315252105716,0.3994360333817134,0.2365946940750263,0.6983289552001183,0.5290485275025265,0.5552687435786212,0.30016664427132356,0.1484069576645365,0.7849532685848855,0.5246179091355077,0.9499243810481692,0.07907055168482302,0.18002851024697641,0.7957694094355793,0.796828655882608,0.29597967326499597,0.25649796460328567,0.6812640639822506,0.21293242706709337,0.40715630359496957,0.6838091022811791,0.21564973693881961,0.28369176629833603,0.9974066013950036,0.4290506779227563,0.4770546261319515,0.7912454204009501,0.4720695615872831,0.5630624530964834,0.5576189617562095,0.16926300741270972,0.016452020181829563,0.983030784592851,0.0776930122755114,0.08635976282508218,0.6745955061443522,0.46038477969508773,0.8408528909563503,0.2014336475764087,0.3811659743110719,0.10421267293833836,0.3378933743606959,0.5655407541975808,0.5635334766364674,0.05930142645585179,0.8774285096481331],\"y\":[10.521758490119758,10.578711134256286,10.179788756402083,10.153644998771268,10.774499179796416,10.271164708828621,10.708825648964494,10.67773620725392,10.9722369749183,10.710031550445189,10.772131719652915,10.019535900540355,10.97722000118199,10.278797046596587,10.1857696830929,10.69367294696454,10.521595671174058,10.977703641437019,10.12050800180534,10.719107578119843,10.656148195768571,10.185049609084938,10.697617706567923,10.99647492446467,10.737370555139941,10.828474556235337,10.600221642733915,10.373162505656573,10.018419013742646,10.180167937269832,10.050244266830862,10.532194723944611,10.863307999717831,10.155635074597177,10.782096544919877,10.556807278190442,10.89210631691426,10.136528526348279,10.220678312082962,10.707697711247764,10.653941773421547,10.31936369512202,10.259742493193848,10.914288419790859,10.95550589447725,10.293929487440382,10.33105472165088,10.272121464676188,10.903589730729239,10.782321268190005,10.227882646176466,10.314977357743302,10.942483977697934,10.149348064096845,10.93225377518687,10.178900150951291,10.67673311098712,10.992347763887736,10.66899520382808,10.535126218215645,10.311128645020762,10.697954513006444,10.872986570017266,10.28613879611079,10.416867023203126,10.82987025007636,10.850275413042441,10.037152306555864,10.884226233593484,10.520955648611777,10.103008808911158,10.132565336592583,10.12248486317015,10.8518202329766,10.769783078325839,10.810934108651326,10.705922872073055,10.915200622633309,10.484177823244224,10.28220519188804,10.399677852602787,10.25184293843582,10.013149909783861,10.347588023533913,10.416223930402982,10.141952292857221,10.0865094535977,10.377793391855656,10.94877640629037,10.032196125510898,10.24236729187034,10.15328624032036,10.819050319758786,10.348716208567437,10.622123564843822,10.977579364917089,10.841809507783044,10.321216671718554,10.29545951450442,10.891095032114647,10.632578105832588,10.731496610767746,10.033629787915022,10.693277619513742,10.868797934080849,10.888544327834053,10.855628365755635,10.329870266662331,10.134901943554642,10.453318809340042,10.786169900868732,10.074755150332145,10.230034378967293,10.75722967975822,10.460818822011829,10.676033057862085,10.988434981324392,10.981252230889394,10.319559552522653,10.05480116248355,10.042933271898743,10.41193344345126,10.914572086022723,10.432884050472518,10.88583152772843,10.491611582044573,10.409936604324463,10.497173512776316,10.6753001507749,10.514446324074369,10.684787377462778,10.080818960846567,10.708788770343274,10.987513151531681,10.689514793628563,10.359228729154484,10.102777895229245,10.289118114394723,10.75069233522167,10.294975511556839,10.366533355971786,10.513560226786625,10.667663169195848,10.93898615989672,10.118282108934519,10.247046824431761,10.072708476061635,10.599011986112279,10.942314744987385,10.712899474624429,10.607473879248683,10.283544662838413,10.226886533832136,10.518679489798174,10.36617338310763,10.60745768392038,10.875492893015773,10.012677991667791,10.013693951665305,10.801333461863317,10.587144127438354,10.700277463803095,10.485299773142389,10.117904166316466,10.479269667628753,10.214954344473432,10.101155395488018,10.874270394664755,10.423036475623348,10.571515164684055,10.25803203807165,10.259453510711857,10.743038633979591,10.723182491166936,10.00081587646972,10.783647619485219,10.851046489951418,10.520788654943921,10.125793857912607,10.1589163457435,10.052152347615937,10.39204661034531,10.943155441280004,10.35604213580225,10.26190385243557,10.941080532859445,10.938135343009805,10.494389885724486,10.201788514392328,10.262135314154548,10.525403433473665,10.01288173344174,10.094479959500212,10.394387976706154,10.030907923702937,10.688260375961887,10.081566279553696,10.799140666442478,10.742450011853597,10.503289793463493,10.235101878977526,10.600797532487363,10.229530050846023,10.59080833435988,10.261980745155874,10.024830631292112,10.199740362555199,10.420284502383993,10.068217484510937,10.099198748999273,10.885479978000985,10.977750502166447,10.130018198422759,10.269397004823785,10.103182894555705,10.239985824982654,10.387410398061975,10.447560070942181,10.213733950857932,10.252218371524968,10.545505750898878,10.683102687894435,10.103504368357486,10.576042997677488,10.295338909064503,10.650244692842092,10.395425980579448,10.660003062813198,10.557809349343328,10.39425023551322,10.492022983638885,10.422108089200892,10.939176377162527,10.054270692281625,10.220325555437743,10.005230429465815,10.723901998363509,10.227116315172207,10.451766223528532,10.318046841786858,10.718799190705516,10.890668854037491,10.358155787609718,10.169820911441343,10.981158827815648,10.360702466532743,10.478662873489906,10.888450544638264,10.098568948060517,10.102187273208358,10.70159424272137,10.784279802611875,10.304503469772165,10.476570621007147,10.394773152521058,10.399436033381713,10.236594694075027,10.698328955200118,10.529048527502527,10.55526874357862,10.300166644271323,10.148406957664536,10.784953268584886,10.524617909135507,10.94992438104817,10.079070551684824,10.180028510246977,10.795769409435579,10.796828655882608,10.295979673264997,10.256497964603286,10.681264063982251,10.212932427067093,10.40715630359497,10.68380910228118,10.21564973693882,10.283691766298336,10.997406601395003,10.429050677922756,10.477054626131952,10.79124542040095,10.472069561587283,10.563062453096483,10.557618961756209,10.16926300741271,10.016452020181829,10.98303078459285,10.077693012275512,10.086359762825083,10.674595506144351,10.460384779695088,10.84085289095635,10.201433647576408,10.381165974311072,10.104212672938338,10.337893374360696,10.565540754197581,10.563533476636467,10.059301426455852,10.877428509648134],\"z\":[30.52175849011976,30.578711134256285,30.179788756402083,30.15364499877127,30.77449917979642,30.27116470882862,30.708825648964496,30.677736207253922,30.9722369749183,30.710031550445187,30.772131719652915,30.019535900540355,30.97722000118199,30.278797046596587,30.1857696830929,30.69367294696454,30.521595671174058,30.977703641437017,30.12050800180534,30.719107578119843,30.65614819576857,30.18504960908494,30.69761770656792,30.99647492446467,30.737370555139943,30.828474556235335,30.600221642733917,30.373162505656573,30.018419013742648,30.180167937269832,30.050244266830862,30.532194723944613,30.863307999717833,30.155635074597175,30.782096544919877,30.55680727819044,30.89210631691426,30.13652852634828,30.220678312082963,30.707697711247764,30.653941773421547,30.319363695122018,30.259742493193848,30.914288419790857,30.95550589447725,30.293929487440383,30.33105472165088,30.272121464676186,30.90358973072924,30.782321268190003,30.227882646176464,30.314977357743302,30.942483977697936,30.149348064096845,30.93225377518687,30.178900150951293,30.67673311098712,30.992347763887736,30.668995203828082,30.535126218215645,30.311128645020762,30.697954513006444,30.872986570017268,30.28613879611079,30.416867023203128,30.82987025007636,30.85027541304244,30.037152306555864,30.884226233593484,30.52095564861178,30.103008808911156,30.132565336592585,30.12248486317015,30.8518202329766,30.769783078325837,30.810934108651324,30.705922872073053,30.915200622633307,30.484177823244224,30.28220519188804,30.399677852602785,30.251842938435818,30.01314990978386,30.347588023533913,30.416223930402982,30.14195229285722,30.0865094535977,30.377793391855654,30.94877640629037,30.0321961255109,30.242367291870337,30.15328624032036,30.819050319758784,30.34871620856744,30.62212356484382,30.97757936491709,30.841809507783044,30.321216671718556,30.29545951450442,30.89109503211465,30.63257810583259,30.731496610767746,30.03362978791502,30.693277619513744,30.86879793408085,30.888544327834055,30.855628365755635,30.32987026666233,30.13490194355464,30.453318809340043,30.78616990086873,30.074755150332145,30.230034378967293,30.75722967975822,30.46081882201183,30.676033057862085,30.988434981324392,30.981252230889393,30.319559552522655,30.05480116248355,30.042933271898743,30.411933443451257,30.914572086022723,30.432884050472516,30.88583152772843,30.491611582044573,30.40993660432446,30.497173512776317,30.675300150774902,30.514446324074367,30.68478737746278,30.080818960846567,30.708788770343276,30.98751315153168,30.68951479362856,30.359228729154484,30.102777895229245,30.289118114394725,30.750692335221668,30.29497551155684,30.366533355971786,30.513560226786623,30.667663169195848,30.93898615989672,30.11828210893452,30.24704682443176,30.072708476061635,30.599011986112277,30.942314744987385,30.71289947462443,30.607473879248683,30.283544662838413,30.226886533832136,30.518679489798174,30.366173383107633,30.60745768392038,30.87549289301577,30.01267799166779,30.013693951665303,30.801333461863315,30.587144127438354,30.700277463803097,30.485299773142387,30.117904166316464,30.479269667628753,30.21495434447343,30.101155395488018,30.874270394664755,30.42303647562335,30.571515164684055,30.25803203807165,30.259453510711857,30.74303863397959,30.723182491166934,30.00081587646972,30.78364761948522,30.85104648995142,30.52078865494392,30.125793857912605,30.1589163457435,30.052152347615937,30.39204661034531,30.943155441280005,30.35604213580225,30.26190385243557,30.941080532859445,30.938135343009805,30.494389885724487,30.201788514392327,30.26213531415455,30.525403433473667,30.012881733441738,30.094479959500212,30.394387976706156,30.030907923702937,30.688260375961885,30.081566279553698,30.799140666442476,30.742450011853595,30.503289793463495,30.235101878977527,30.600797532487363,30.229530050846023,30.590808334359878,30.261980745155874,30.02483063129211,30.1997403625552,30.420284502383993,30.06821748451094,30.099198748999274,30.885479978000987,30.977750502166447,30.13001819842276,30.269397004823787,30.103182894555705,30.239985824982654,30.387410398061977,30.44756007094218,30.213733950857932,30.252218371524968,30.54550575089888,30.683102687894433,30.103504368357484,30.57604299767749,30.295338909064505,30.650244692842094,30.39542598057945,30.6600030628132,30.55780934934333,30.39425023551322,30.492022983638883,30.42210808920089,30.939176377162525,30.054270692281623,30.220325555437743,30.005230429465815,30.72390199836351,30.227116315172207,30.45176622352853,30.318046841786856,30.718799190705518,30.89066885403749,30.358155787609718,30.16982091144134,30.981158827815648,30.360702466532743,30.478662873489906,30.888450544638264,30.098568948060517,30.102187273208358,30.70159424272137,30.784279802611877,30.304503469772165,30.47657062100715,30.394773152521058,30.399436033381715,30.236594694075027,30.698328955200118,30.529048527502525,30.555268743578623,30.300166644271325,30.148406957664537,30.784953268584886,30.524617909135507,30.94992438104817,30.079070551684822,30.180028510246977,30.79576940943558,30.796828655882607,30.295979673264995,30.256497964603284,30.68126406398225,30.212932427067095,30.40715630359497,30.683809102281177,30.21564973693882,30.283691766298336,30.997406601395003,30.429050677922756,30.477054626131952,30.79124542040095,30.472069561587283,30.563062453096485,30.55761896175621,30.16926300741271,30.01645202018183,30.983030784592852,30.07769301227551,30.086359762825083,30.674595506144353,30.460384779695087,30.84085289095635,30.20143364757641,30.38116597431107,30.10421267293834,30.337893374360696,30.56554075419758,30.56353347663647,30.059301426455853,30.877428509648134],\"type\":\"scatter3d\"}],                        {\"legend\":{\"bgcolor\":\"#F5F6F9\",\"font\":{\"color\":\"#4D5663\"}},\"paper_bgcolor\":\"#F5F6F9\",\"plot_bgcolor\":\"#F5F6F9\",\"scene\":{\"xaxis\":{\"gridcolor\":\"#9499A3\",\"showgrid\":true,\"tickfont\":{\"color\":\"#4D5663\"},\"title\":{\"font\":{\"color\":\"#4D5663\"},\"text\":\"\"},\"zerolinecolor\":\"#9499A3\"},\"yaxis\":{\"gridcolor\":\"#9499A3\",\"showgrid\":true,\"tickfont\":{\"color\":\"#4D5663\"},\"title\":{\"font\":{\"color\":\"#4D5663\"},\"text\":\"\"},\"zerolinecolor\":\"#9499A3\"},\"zaxis\":{\"gridcolor\":\"#9499A3\",\"showgrid\":true,\"tickfont\":{\"color\":\"#4D5663\"},\"title\":{\"font\":{\"color\":\"#4D5663\"},\"text\":\"\"},\"zerolinecolor\":\"#9499A3\"}},\"template\":{\"data\":{\"barpolar\":[{\"marker\":{\"line\":{\"color\":\"#E5ECF6\",\"width\":0.5},\"pattern\":{\"fillmode\":\"overlay\",\"size\":10,\"solidity\":0.2}},\"type\":\"barpolar\"}],\"bar\":[{\"error_x\":{\"color\":\"#2a3f5f\"},\"error_y\":{\"color\":\"#2a3f5f\"},\"marker\":{\"line\":{\"color\":\"#E5ECF6\",\"width\":0.5},\"pattern\":{\"fillmode\":\"overlay\",\"size\":10,\"solidity\":0.2}},\"type\":\"bar\"}],\"carpet\":[{\"aaxis\":{\"endlinecolor\":\"#2a3f5f\",\"gridcolor\":\"white\",\"linecolor\":\"white\",\"minorgridcolor\":\"white\",\"startlinecolor\":\"#2a3f5f\"},\"baxis\":{\"endlinecolor\":\"#2a3f5f\",\"gridcolor\":\"white\",\"linecolor\":\"white\",\"minorgridcolor\":\"white\",\"startlinecolor\":\"#2a3f5f\"},\"type\":\"carpet\"}],\"choropleth\":[{\"colorbar\":{\"outlinewidth\":0,\"ticks\":\"\"},\"type\":\"choropleth\"}],\"contourcarpet\":[{\"colorbar\":{\"outlinewidth\":0,\"ticks\":\"\"},\"type\":\"contourcarpet\"}],\"contour\":[{\"colorbar\":{\"outlinewidth\":0,\"ticks\":\"\"},\"colorscale\":[[0.0,\"#0d0887\"],[0.1111111111111111,\"#46039f\"],[0.2222222222222222,\"#7201a8\"],[0.3333333333333333,\"#9c179e\"],[0.4444444444444444,\"#bd3786\"],[0.5555555555555556,\"#d8576b\"],[0.6666666666666666,\"#ed7953\"],[0.7777777777777778,\"#fb9f3a\"],[0.8888888888888888,\"#fdca26\"],[1.0,\"#f0f921\"]],\"type\":\"contour\"}],\"heatmapgl\":[{\"colorbar\":{\"outlinewidth\":0,\"ticks\":\"\"},\"colorscale\":[[0.0,\"#0d0887\"],[0.1111111111111111,\"#46039f\"],[0.2222222222222222,\"#7201a8\"],[0.3333333333333333,\"#9c179e\"],[0.4444444444444444,\"#bd3786\"],[0.5555555555555556,\"#d8576b\"],[0.6666666666666666,\"#ed7953\"],[0.7777777777777778,\"#fb9f3a\"],[0.8888888888888888,\"#fdca26\"],[1.0,\"#f0f921\"]],\"type\":\"heatmapgl\"}],\"heatmap\":[{\"colorbar\":{\"outlinewidth\":0,\"ticks\":\"\"},\"colorscale\":[[0.0,\"#0d0887\"],[0.1111111111111111,\"#46039f\"],[0.2222222222222222,\"#7201a8\"],[0.3333333333333333,\"#9c179e\"],[0.4444444444444444,\"#bd3786\"],[0.5555555555555556,\"#d8576b\"],[0.6666666666666666,\"#ed7953\"],[0.7777777777777778,\"#fb9f3a\"],[0.8888888888888888,\"#fdca26\"],[1.0,\"#f0f921\"]],\"type\":\"heatmap\"}],\"histogram2dcontour\":[{\"colorbar\":{\"outlinewidth\":0,\"ticks\":\"\"},\"colorscale\":[[0.0,\"#0d0887\"],[0.1111111111111111,\"#46039f\"],[0.2222222222222222,\"#7201a8\"],[0.3333333333333333,\"#9c179e\"],[0.4444444444444444,\"#bd3786\"],[0.5555555555555556,\"#d8576b\"],[0.6666666666666666,\"#ed7953\"],[0.7777777777777778,\"#fb9f3a\"],[0.8888888888888888,\"#fdca26\"],[1.0,\"#f0f921\"]],\"type\":\"histogram2dcontour\"}],\"histogram2d\":[{\"colorbar\":{\"outlinewidth\":0,\"ticks\":\"\"},\"colorscale\":[[0.0,\"#0d0887\"],[0.1111111111111111,\"#46039f\"],[0.2222222222222222,\"#7201a8\"],[0.3333333333333333,\"#9c179e\"],[0.4444444444444444,\"#bd3786\"],[0.5555555555555556,\"#d8576b\"],[0.6666666666666666,\"#ed7953\"],[0.7777777777777778,\"#fb9f3a\"],[0.8888888888888888,\"#fdca26\"],[1.0,\"#f0f921\"]],\"type\":\"histogram2d\"}],\"histogram\":[{\"marker\":{\"pattern\":{\"fillmode\":\"overlay\",\"size\":10,\"solidity\":0.2}},\"type\":\"histogram\"}],\"mesh3d\":[{\"colorbar\":{\"outlinewidth\":0,\"ticks\":\"\"},\"type\":\"mesh3d\"}],\"parcoords\":[{\"line\":{\"colorbar\":{\"outlinewidth\":0,\"ticks\":\"\"}},\"type\":\"parcoords\"}],\"pie\":[{\"automargin\":true,\"type\":\"pie\"}],\"scatter3d\":[{\"line\":{\"colorbar\":{\"outlinewidth\":0,\"ticks\":\"\"}},\"marker\":{\"colorbar\":{\"outlinewidth\":0,\"ticks\":\"\"}},\"type\":\"scatter3d\"}],\"scattercarpet\":[{\"marker\":{\"colorbar\":{\"outlinewidth\":0,\"ticks\":\"\"}},\"type\":\"scattercarpet\"}],\"scattergeo\":[{\"marker\":{\"colorbar\":{\"outlinewidth\":0,\"ticks\":\"\"}},\"type\":\"scattergeo\"}],\"scattergl\":[{\"marker\":{\"colorbar\":{\"outlinewidth\":0,\"ticks\":\"\"}},\"type\":\"scattergl\"}],\"scattermapbox\":[{\"marker\":{\"colorbar\":{\"outlinewidth\":0,\"ticks\":\"\"}},\"type\":\"scattermapbox\"}],\"scatterpolargl\":[{\"marker\":{\"colorbar\":{\"outlinewidth\":0,\"ticks\":\"\"}},\"type\":\"scatterpolargl\"}],\"scatterpolar\":[{\"marker\":{\"colorbar\":{\"outlinewidth\":0,\"ticks\":\"\"}},\"type\":\"scatterpolar\"}],\"scatter\":[{\"fillpattern\":{\"fillmode\":\"overlay\",\"size\":10,\"solidity\":0.2},\"type\":\"scatter\"}],\"scatterternary\":[{\"marker\":{\"colorbar\":{\"outlinewidth\":0,\"ticks\":\"\"}},\"type\":\"scatterternary\"}],\"surface\":[{\"colorbar\":{\"outlinewidth\":0,\"ticks\":\"\"},\"colorscale\":[[0.0,\"#0d0887\"],[0.1111111111111111,\"#46039f\"],[0.2222222222222222,\"#7201a8\"],[0.3333333333333333,\"#9c179e\"],[0.4444444444444444,\"#bd3786\"],[0.5555555555555556,\"#d8576b\"],[0.6666666666666666,\"#ed7953\"],[0.7777777777777778,\"#fb9f3a\"],[0.8888888888888888,\"#fdca26\"],[1.0,\"#f0f921\"]],\"type\":\"surface\"}],\"table\":[{\"cells\":{\"fill\":{\"color\":\"#EBF0F8\"},\"line\":{\"color\":\"white\"}},\"header\":{\"fill\":{\"color\":\"#C8D4E3\"},\"line\":{\"color\":\"white\"}},\"type\":\"table\"}]},\"layout\":{\"annotationdefaults\":{\"arrowcolor\":\"#2a3f5f\",\"arrowhead\":0,\"arrowwidth\":1},\"autotypenumbers\":\"strict\",\"coloraxis\":{\"colorbar\":{\"outlinewidth\":0,\"ticks\":\"\"}},\"colorscale\":{\"diverging\":[[0,\"#8e0152\"],[0.1,\"#c51b7d\"],[0.2,\"#de77ae\"],[0.3,\"#f1b6da\"],[0.4,\"#fde0ef\"],[0.5,\"#f7f7f7\"],[0.6,\"#e6f5d0\"],[0.7,\"#b8e186\"],[0.8,\"#7fbc41\"],[0.9,\"#4d9221\"],[1,\"#276419\"]],\"sequential\":[[0.0,\"#0d0887\"],[0.1111111111111111,\"#46039f\"],[0.2222222222222222,\"#7201a8\"],[0.3333333333333333,\"#9c179e\"],[0.4444444444444444,\"#bd3786\"],[0.5555555555555556,\"#d8576b\"],[0.6666666666666666,\"#ed7953\"],[0.7777777777777778,\"#fb9f3a\"],[0.8888888888888888,\"#fdca26\"],[1.0,\"#f0f921\"]],\"sequentialminus\":[[0.0,\"#0d0887\"],[0.1111111111111111,\"#46039f\"],[0.2222222222222222,\"#7201a8\"],[0.3333333333333333,\"#9c179e\"],[0.4444444444444444,\"#bd3786\"],[0.5555555555555556,\"#d8576b\"],[0.6666666666666666,\"#ed7953\"],[0.7777777777777778,\"#fb9f3a\"],[0.8888888888888888,\"#fdca26\"],[1.0,\"#f0f921\"]]},\"colorway\":[\"#636efa\",\"#EF553B\",\"#00cc96\",\"#ab63fa\",\"#FFA15A\",\"#19d3f3\",\"#FF6692\",\"#B6E880\",\"#FF97FF\",\"#FECB52\"],\"font\":{\"color\":\"#2a3f5f\"},\"geo\":{\"bgcolor\":\"white\",\"lakecolor\":\"white\",\"landcolor\":\"#E5ECF6\",\"showlakes\":true,\"showland\":true,\"subunitcolor\":\"white\"},\"hoverlabel\":{\"align\":\"left\"},\"hovermode\":\"closest\",\"mapbox\":{\"style\":\"light\"},\"paper_bgcolor\":\"white\",\"plot_bgcolor\":\"#E5ECF6\",\"polar\":{\"angularaxis\":{\"gridcolor\":\"white\",\"linecolor\":\"white\",\"ticks\":\"\"},\"bgcolor\":\"#E5ECF6\",\"radialaxis\":{\"gridcolor\":\"white\",\"linecolor\":\"white\",\"ticks\":\"\"}},\"scene\":{\"xaxis\":{\"backgroundcolor\":\"#E5ECF6\",\"gridcolor\":\"white\",\"gridwidth\":2,\"linecolor\":\"white\",\"showbackground\":true,\"ticks\":\"\",\"zerolinecolor\":\"white\"},\"yaxis\":{\"backgroundcolor\":\"#E5ECF6\",\"gridcolor\":\"white\",\"gridwidth\":2,\"linecolor\":\"white\",\"showbackground\":true,\"ticks\":\"\",\"zerolinecolor\":\"white\"},\"zaxis\":{\"backgroundcolor\":\"#E5ECF6\",\"gridcolor\":\"white\",\"gridwidth\":2,\"linecolor\":\"white\",\"showbackground\":true,\"ticks\":\"\",\"zerolinecolor\":\"white\"}},\"shapedefaults\":{\"line\":{\"color\":\"#2a3f5f\"}},\"ternary\":{\"aaxis\":{\"gridcolor\":\"white\",\"linecolor\":\"white\",\"ticks\":\"\"},\"baxis\":{\"gridcolor\":\"white\",\"linecolor\":\"white\",\"ticks\":\"\"},\"bgcolor\":\"#E5ECF6\",\"caxis\":{\"gridcolor\":\"white\",\"linecolor\":\"white\",\"ticks\":\"\"}},\"title\":{\"x\":0.05},\"xaxis\":{\"automargin\":true,\"gridcolor\":\"white\",\"linecolor\":\"white\",\"ticks\":\"\",\"title\":{\"standoff\":15},\"zerolinecolor\":\"white\",\"zerolinewidth\":2},\"yaxis\":{\"automargin\":true,\"gridcolor\":\"white\",\"linecolor\":\"white\",\"ticks\":\"\",\"title\":{\"standoff\":15},\"zerolinecolor\":\"white\",\"zerolinewidth\":2}}},\"title\":{\"font\":{\"color\":\"#4D5663\"}}},                        {\"showLink\": true, \"linkText\": \"Export to plot.ly\", \"plotlyServerURL\": \"https://plot.ly\", \"responsive\": true}                    ).then(function(){\n",
       "                            \n",
       "var gd = document.getElementById('968775d5-e54e-47a9-976d-724925c79f9c');\n",
       "var x = new MutationObserver(function (mutations, observer) {{\n",
       "        var display = window.getComputedStyle(gd).display;\n",
       "        if (!display || display === 'none') {{\n",
       "            console.log([gd, 'removed!']);\n",
       "            Plotly.purge(gd);\n",
       "            observer.disconnect();\n",
       "        }}\n",
       "}});\n",
       "\n",
       "// Listen for the removal of the full notebook cells\n",
       "var notebookContainer = gd.closest('#notebook-container');\n",
       "if (notebookContainer) {{\n",
       "    x.observe(notebookContainer, {childList: true});\n",
       "}}\n",
       "\n",
       "// Listen for the clearing of the current output cell\n",
       "var outputEl = gd.closest('.output');\n",
       "if (outputEl) {{\n",
       "    x.observe(outputEl, {childList: true});\n",
       "}}\n",
       "\n",
       "                        })                };                });            </script>        </div>"
      ]
     },
     "metadata": {},
     "output_type": "display_data"
    }
   ],
   "source": [
    "df.iplot (x= 'a', y = 'a1' , z = 'b1', kind = 'scatter3d')"
   ]
  },
  {
   "cell_type": "code",
   "execution_count": 14,
   "id": "53547aeb",
   "metadata": {},
   "outputs": [
    {
     "data": {
      "application/vnd.plotly.v1+json": {
       "config": {
        "linkText": "Export to plot.ly",
        "plotlyServerURL": "https://plot.ly",
        "showLink": true
       },
       "data": [
        {
         "marker": {
          "color": [
           "rgba(255, 153, 51, 1.0)",
           "rgba(55, 128, 191, 1.0)",
           "rgba(50, 171, 96, 1.0)",
           "rgba(128, 0, 128, 1.0)",
           "rgba(219, 64, 82, 1.0)",
           "rgba(0, 128, 128, 1.0)",
           "rgba(255, 255, 51, 1.0)",
           "rgba(128, 128, 0, 1.0)",
           "rgba(251, 128, 114, 1.0)",
           "rgba(128, 177, 211, 1.0)",
           "rgba(128, 177, 211, 0.9733333333333334)",
           "rgba(255, 153, 51, 0.9733333333333334)",
           "rgba(55, 128, 191, 0.9733333333333334)",
           "rgba(50, 171, 96, 0.9733333333333334)",
           "rgba(128, 0, 128, 0.9733333333333334)",
           "rgba(219, 64, 82, 0.9733333333333334)",
           "rgba(0, 128, 128, 0.9733333333333334)",
           "rgba(255, 255, 51, 0.9733333333333334)",
           "rgba(128, 128, 0, 0.9733333333333334)",
           "rgba(251, 128, 114, 0.9733333333333334)",
           "rgba(251, 128, 114, 0.9466666666666665)",
           "rgba(128, 177, 211, 0.9466666666666665)",
           "rgba(255, 153, 51, 0.9466666666666665)",
           "rgba(55, 128, 191, 0.9466666666666665)",
           "rgba(50, 171, 96, 0.9466666666666665)",
           "rgba(128, 0, 128, 0.9466666666666665)",
           "rgba(219, 64, 82, 0.9466666666666665)",
           "rgba(0, 128, 128, 0.9466666666666665)",
           "rgba(255, 255, 51, 0.9466666666666665)",
           "rgba(128, 128, 0, 0.9466666666666665)",
           "rgba(128, 128, 0, 0.9199999999999999)",
           "rgba(251, 128, 114, 0.9199999999999999)",
           "rgba(128, 177, 211, 0.9199999999999999)",
           "rgba(255, 153, 51, 0.9199999999999999)",
           "rgba(55, 128, 191, 0.9199999999999999)",
           "rgba(50, 171, 96, 0.9199999999999999)",
           "rgba(128, 0, 128, 0.9199999999999999)",
           "rgba(219, 64, 82, 0.9199999999999999)",
           "rgba(0, 128, 128, 0.9199999999999999)",
           "rgba(255, 255, 51, 0.9199999999999999)",
           "rgba(255, 255, 51, 0.8933333333333333)",
           "rgba(128, 128, 0, 0.8933333333333333)",
           "rgba(251, 128, 114, 0.8933333333333333)",
           "rgba(128, 177, 211, 0.8933333333333333)",
           "rgba(255, 153, 51, 0.8933333333333333)",
           "rgba(55, 128, 191, 0.8933333333333333)",
           "rgba(50, 171, 96, 0.8933333333333333)",
           "rgba(128, 0, 128, 0.8933333333333333)",
           "rgba(219, 64, 82, 0.8933333333333333)",
           "rgba(0, 128, 128, 0.8933333333333333)",
           "rgba(0, 128, 128, 0.8666666666666667)",
           "rgba(255, 255, 51, 0.8666666666666667)",
           "rgba(128, 128, 0, 0.8666666666666667)",
           "rgba(251, 128, 114, 0.8666666666666667)",
           "rgba(128, 177, 211, 0.8666666666666667)",
           "rgba(255, 153, 51, 0.8666666666666667)",
           "rgba(55, 128, 191, 0.8666666666666667)",
           "rgba(50, 171, 96, 0.8666666666666667)",
           "rgba(128, 0, 128, 0.8666666666666667)",
           "rgba(219, 64, 82, 0.8666666666666667)",
           "rgba(219, 64, 82, 0.8399999999999999)",
           "rgba(0, 128, 128, 0.8399999999999999)",
           "rgba(255, 255, 51, 0.8399999999999999)",
           "rgba(128, 128, 0, 0.8399999999999999)",
           "rgba(251, 128, 114, 0.8399999999999999)",
           "rgba(128, 177, 211, 0.8399999999999999)",
           "rgba(255, 153, 51, 0.8399999999999999)",
           "rgba(55, 128, 191, 0.8399999999999999)",
           "rgba(50, 171, 96, 0.8399999999999999)",
           "rgba(128, 0, 128, 0.8399999999999999)",
           "rgba(128, 0, 128, 0.8133333333333332)",
           "rgba(219, 64, 82, 0.8133333333333332)",
           "rgba(0, 128, 128, 0.8133333333333332)",
           "rgba(255, 255, 51, 0.8133333333333332)",
           "rgba(128, 128, 0, 0.8133333333333332)",
           "rgba(251, 128, 114, 0.8133333333333332)",
           "rgba(128, 177, 211, 0.8133333333333332)",
           "rgba(255, 153, 51, 0.8133333333333332)",
           "rgba(55, 128, 191, 0.8133333333333332)",
           "rgba(50, 171, 96, 0.8133333333333332)",
           "rgba(50, 171, 96, 0.7866666666666666)",
           "rgba(128, 0, 128, 0.7866666666666666)",
           "rgba(219, 64, 82, 0.7866666666666666)",
           "rgba(0, 128, 128, 0.7866666666666666)",
           "rgba(255, 255, 51, 0.7866666666666666)",
           "rgba(128, 128, 0, 0.7866666666666666)",
           "rgba(251, 128, 114, 0.7866666666666666)",
           "rgba(128, 177, 211, 0.7866666666666666)",
           "rgba(255, 153, 51, 0.7866666666666666)",
           "rgba(55, 128, 191, 0.7866666666666666)",
           "rgba(55, 128, 191, 0.76)",
           "rgba(50, 171, 96, 0.76)",
           "rgba(128, 0, 128, 0.76)",
           "rgba(219, 64, 82, 0.76)",
           "rgba(0, 128, 128, 0.76)",
           "rgba(255, 255, 51, 0.76)",
           "rgba(128, 128, 0, 0.76)",
           "rgba(251, 128, 114, 0.76)",
           "rgba(128, 177, 211, 0.76)",
           "rgba(255, 153, 51, 0.76)",
           "rgba(255, 153, 51, 0.7333333333333332)",
           "rgba(55, 128, 191, 0.7333333333333332)",
           "rgba(50, 171, 96, 0.7333333333333332)",
           "rgba(128, 0, 128, 0.7333333333333332)",
           "rgba(219, 64, 82, 0.7333333333333332)",
           "rgba(0, 128, 128, 0.7333333333333332)",
           "rgba(255, 255, 51, 0.7333333333333332)",
           "rgba(128, 128, 0, 0.7333333333333332)",
           "rgba(251, 128, 114, 0.7333333333333332)",
           "rgba(128, 177, 211, 0.7333333333333332)",
           "rgba(128, 177, 211, 0.7066666666666666)",
           "rgba(255, 153, 51, 0.7066666666666666)",
           "rgba(55, 128, 191, 0.7066666666666666)",
           "rgba(50, 171, 96, 0.7066666666666666)",
           "rgba(128, 0, 128, 0.7066666666666666)",
           "rgba(219, 64, 82, 0.7066666666666666)",
           "rgba(0, 128, 128, 0.7066666666666666)",
           "rgba(255, 255, 51, 0.7066666666666666)",
           "rgba(128, 128, 0, 0.7066666666666666)",
           "rgba(251, 128, 114, 0.7066666666666666)",
           "rgba(251, 128, 114, 0.6799999999999999)",
           "rgba(128, 177, 211, 0.6799999999999999)",
           "rgba(255, 153, 51, 0.6799999999999999)",
           "rgba(55, 128, 191, 0.6799999999999999)",
           "rgba(50, 171, 96, 0.6799999999999999)",
           "rgba(128, 0, 128, 0.6799999999999999)",
           "rgba(219, 64, 82, 0.6799999999999999)",
           "rgba(0, 128, 128, 0.6799999999999999)",
           "rgba(255, 255, 51, 0.6799999999999999)",
           "rgba(128, 128, 0, 0.6799999999999999)",
           "rgba(128, 128, 0, 0.6533333333333333)",
           "rgba(251, 128, 114, 0.6533333333333333)",
           "rgba(128, 177, 211, 0.6533333333333333)",
           "rgba(255, 153, 51, 0.6533333333333333)",
           "rgba(55, 128, 191, 0.6533333333333333)",
           "rgba(50, 171, 96, 0.6533333333333333)",
           "rgba(128, 0, 128, 0.6533333333333333)",
           "rgba(219, 64, 82, 0.6533333333333333)",
           "rgba(0, 128, 128, 0.6533333333333333)",
           "rgba(255, 255, 51, 0.6533333333333333)",
           "rgba(255, 255, 51, 0.6266666666666665)",
           "rgba(128, 128, 0, 0.6266666666666665)",
           "rgba(251, 128, 114, 0.6266666666666665)",
           "rgba(128, 177, 211, 0.6266666666666665)",
           "rgba(255, 153, 51, 0.6266666666666665)",
           "rgba(55, 128, 191, 0.6266666666666665)",
           "rgba(50, 171, 96, 0.6266666666666665)",
           "rgba(128, 0, 128, 0.6266666666666665)",
           "rgba(219, 64, 82, 0.6266666666666665)",
           "rgba(0, 128, 128, 0.6266666666666665)",
           "rgba(0, 128, 128, 0.5999999999999999)",
           "rgba(255, 255, 51, 0.5999999999999999)",
           "rgba(128, 128, 0, 0.5999999999999999)",
           "rgba(251, 128, 114, 0.5999999999999999)",
           "rgba(128, 177, 211, 0.5999999999999999)",
           "rgba(255, 153, 51, 0.5999999999999999)",
           "rgba(55, 128, 191, 0.5999999999999999)",
           "rgba(50, 171, 96, 0.5999999999999999)",
           "rgba(128, 0, 128, 0.5999999999999999)",
           "rgba(219, 64, 82, 0.5999999999999999)",
           "rgba(219, 64, 82, 0.5733333333333333)",
           "rgba(0, 128, 128, 0.5733333333333333)",
           "rgba(255, 255, 51, 0.5733333333333333)",
           "rgba(128, 128, 0, 0.5733333333333333)",
           "rgba(251, 128, 114, 0.5733333333333333)",
           "rgba(128, 177, 211, 0.5733333333333333)",
           "rgba(255, 153, 51, 0.5733333333333333)",
           "rgba(55, 128, 191, 0.5733333333333333)",
           "rgba(50, 171, 96, 0.5733333333333333)",
           "rgba(128, 0, 128, 0.5733333333333333)",
           "rgba(128, 0, 128, 0.5466666666666666)",
           "rgba(219, 64, 82, 0.5466666666666666)",
           "rgba(0, 128, 128, 0.5466666666666666)",
           "rgba(255, 255, 51, 0.5466666666666666)",
           "rgba(128, 128, 0, 0.5466666666666666)",
           "rgba(251, 128, 114, 0.5466666666666666)",
           "rgba(128, 177, 211, 0.5466666666666666)",
           "rgba(255, 153, 51, 0.5466666666666666)",
           "rgba(55, 128, 191, 0.5466666666666666)",
           "rgba(50, 171, 96, 0.5466666666666666)",
           "rgba(50, 171, 96, 0.5199999999999998)",
           "rgba(128, 0, 128, 0.5199999999999998)",
           "rgba(219, 64, 82, 0.5199999999999998)",
           "rgba(0, 128, 128, 0.5199999999999998)",
           "rgba(255, 255, 51, 0.5199999999999998)",
           "rgba(128, 128, 0, 0.5199999999999998)",
           "rgba(251, 128, 114, 0.5199999999999998)",
           "rgba(128, 177, 211, 0.5199999999999998)",
           "rgba(255, 153, 51, 0.5199999999999998)",
           "rgba(55, 128, 191, 0.5199999999999998)",
           "rgba(55, 128, 191, 0.49333333333333323)",
           "rgba(50, 171, 96, 0.49333333333333323)",
           "rgba(128, 0, 128, 0.49333333333333323)",
           "rgba(219, 64, 82, 0.49333333333333323)",
           "rgba(0, 128, 128, 0.49333333333333323)",
           "rgba(255, 255, 51, 0.49333333333333323)",
           "rgba(128, 128, 0, 0.49333333333333323)",
           "rgba(251, 128, 114, 0.49333333333333323)",
           "rgba(128, 177, 211, 0.49333333333333323)",
           "rgba(255, 153, 51, 0.49333333333333323)",
           "rgba(255, 153, 51, 0.4666666666666666)",
           "rgba(55, 128, 191, 0.4666666666666666)",
           "rgba(50, 171, 96, 0.4666666666666666)",
           "rgba(128, 0, 128, 0.4666666666666666)",
           "rgba(219, 64, 82, 0.4666666666666666)",
           "rgba(0, 128, 128, 0.4666666666666666)",
           "rgba(255, 255, 51, 0.4666666666666666)",
           "rgba(128, 128, 0, 0.4666666666666666)",
           "rgba(251, 128, 114, 0.4666666666666666)",
           "rgba(128, 177, 211, 0.4666666666666666)",
           "rgba(128, 177, 211, 0.44)",
           "rgba(255, 153, 51, 0.44)",
           "rgba(55, 128, 191, 0.44)",
           "rgba(50, 171, 96, 0.44)",
           "rgba(128, 0, 128, 0.44)",
           "rgba(219, 64, 82, 0.44)",
           "rgba(0, 128, 128, 0.44)",
           "rgba(255, 255, 51, 0.44)",
           "rgba(128, 128, 0, 0.44)",
           "rgba(251, 128, 114, 0.44)",
           "rgba(251, 128, 114, 0.41333333333333316)",
           "rgba(128, 177, 211, 0.41333333333333316)",
           "rgba(255, 153, 51, 0.41333333333333316)",
           "rgba(55, 128, 191, 0.41333333333333316)",
           "rgba(50, 171, 96, 0.41333333333333316)",
           "rgba(128, 0, 128, 0.41333333333333316)",
           "rgba(219, 64, 82, 0.41333333333333316)",
           "rgba(0, 128, 128, 0.41333333333333316)",
           "rgba(255, 255, 51, 0.41333333333333316)",
           "rgba(128, 128, 0, 0.41333333333333316)",
           "rgba(128, 128, 0, 0.38666666666666655)",
           "rgba(251, 128, 114, 0.38666666666666655)",
           "rgba(128, 177, 211, 0.38666666666666655)",
           "rgba(255, 153, 51, 0.38666666666666655)",
           "rgba(55, 128, 191, 0.38666666666666655)",
           "rgba(50, 171, 96, 0.38666666666666655)",
           "rgba(128, 0, 128, 0.38666666666666655)",
           "rgba(219, 64, 82, 0.38666666666666655)",
           "rgba(0, 128, 128, 0.38666666666666655)",
           "rgba(255, 255, 51, 0.38666666666666655)",
           "rgba(255, 255, 51, 0.35999999999999993)",
           "rgba(128, 128, 0, 0.35999999999999993)",
           "rgba(251, 128, 114, 0.35999999999999993)",
           "rgba(128, 177, 211, 0.35999999999999993)",
           "rgba(255, 153, 51, 0.35999999999999993)",
           "rgba(55, 128, 191, 0.35999999999999993)",
           "rgba(50, 171, 96, 0.35999999999999993)",
           "rgba(128, 0, 128, 0.35999999999999993)",
           "rgba(219, 64, 82, 0.35999999999999993)",
           "rgba(0, 128, 128, 0.35999999999999993)",
           "rgba(0, 128, 128, 0.3333333333333333)",
           "rgba(255, 255, 51, 0.3333333333333333)",
           "rgba(128, 128, 0, 0.3333333333333333)",
           "rgba(251, 128, 114, 0.3333333333333333)",
           "rgba(128, 177, 211, 0.3333333333333333)",
           "rgba(255, 153, 51, 0.3333333333333333)",
           "rgba(55, 128, 191, 0.3333333333333333)",
           "rgba(50, 171, 96, 0.3333333333333333)",
           "rgba(128, 0, 128, 0.3333333333333333)",
           "rgba(219, 64, 82, 0.3333333333333333)",
           "rgba(219, 64, 82, 0.3066666666666665)",
           "rgba(0, 128, 128, 0.3066666666666665)",
           "rgba(255, 255, 51, 0.3066666666666665)",
           "rgba(128, 128, 0, 0.3066666666666665)",
           "rgba(251, 128, 114, 0.3066666666666665)",
           "rgba(128, 177, 211, 0.3066666666666665)",
           "rgba(255, 153, 51, 0.3066666666666665)",
           "rgba(55, 128, 191, 0.3066666666666665)",
           "rgba(50, 171, 96, 0.3066666666666665)",
           "rgba(128, 0, 128, 0.3066666666666665)",
           "rgba(128, 0, 128, 0.27999999999999986)",
           "rgba(219, 64, 82, 0.27999999999999986)",
           "rgba(0, 128, 128, 0.27999999999999986)",
           "rgba(255, 255, 51, 0.27999999999999986)",
           "rgba(128, 128, 0, 0.27999999999999986)",
           "rgba(251, 128, 114, 0.27999999999999986)",
           "rgba(128, 177, 211, 0.27999999999999986)",
           "rgba(255, 153, 51, 0.27999999999999986)",
           "rgba(55, 128, 191, 0.27999999999999986)",
           "rgba(50, 171, 96, 0.27999999999999986)",
           "rgba(50, 171, 96, 0.25333333333333324)",
           "rgba(128, 0, 128, 0.25333333333333324)",
           "rgba(219, 64, 82, 0.25333333333333324)",
           "rgba(0, 128, 128, 0.25333333333333324)",
           "rgba(255, 255, 51, 0.25333333333333324)",
           "rgba(128, 128, 0, 0.25333333333333324)",
           "rgba(251, 128, 114, 0.25333333333333324)",
           "rgba(128, 177, 211, 0.25333333333333324)",
           "rgba(255, 153, 51, 0.25333333333333324)",
           "rgba(55, 128, 191, 0.25333333333333324)",
           "rgba(55, 128, 191, 0.22666666666666663)",
           "rgba(50, 171, 96, 0.22666666666666663)",
           "rgba(128, 0, 128, 0.22666666666666663)",
           "rgba(219, 64, 82, 0.22666666666666663)",
           "rgba(0, 128, 128, 0.22666666666666663)",
           "rgba(255, 255, 51, 0.22666666666666663)",
           "rgba(128, 128, 0, 0.22666666666666663)",
           "rgba(251, 128, 114, 0.22666666666666663)",
           "rgba(128, 177, 211, 0.22666666666666663)",
           "rgba(255, 153, 51, 0.22666666666666663)"
          ],
          "opacity": 0.8,
          "size": [
           64,
           69,
           29,
           27,
           89,
           39,
           83,
           79,
           109,
           83,
           89,
           13,
           109,
           39,
           30,
           81,
           64,
           110,
           24,
           84,
           77,
           30,
           81,
           111,
           85,
           95,
           72,
           49,
           13,
           29,
           16,
           65,
           98,
           27,
           90,
           67,
           101,
           25,
           34,
           82,
           77,
           43,
           37,
           103,
           107,
           41,
           45,
           39,
           102,
           90,
           34,
           43,
           106,
           26,
           105,
           29,
           79,
           111,
           79,
           65,
           43,
           81,
           99,
           40,
           53,
           95,
           97,
           15,
           100,
           64,
           22,
           25,
           24,
           97,
           89,
           93,
           82,
           103,
           60,
           40,
           52,
           37,
           13,
           46,
           53,
           26,
           20,
           49,
           107,
           15,
           36,
           27,
           94,
           46,
           74,
           110,
           96,
           44,
           41,
           101,
           75,
           85,
           15,
           81,
           99,
           101,
           97,
           45,
           25,
           57,
           90,
           19,
           35,
           87,
           58,
           79,
           111,
           110,
           43,
           17,
           16,
           53,
           103,
           55,
           100,
           61,
           53,
           61,
           79,
           63,
           80,
           20,
           83,
           111,
           81,
           47,
           22,
           40,
           87,
           41,
           48,
           63,
           78,
           106,
           23,
           36,
           19,
           72,
           106,
           83,
           72,
           40,
           34,
           63,
           48,
           72,
           99,
           13,
           13,
           92,
           70,
           82,
           60,
           23,
           60,
           33,
           22,
           99,
           54,
           69,
           37,
           37,
           86,
           84,
           12,
           90,
           97,
           64,
           24,
           27,
           17,
           51,
           106,
           47,
           38,
           106,
           106,
           61,
           32,
           38,
           64,
           13,
           21,
           51,
           15,
           80,
           20,
           92,
           86,
           62,
           35,
           72,
           34,
           71,
           38,
           14,
           31,
           54,
           18,
           21,
           100,
           110,
           24,
           38,
           22,
           35,
           50,
           56,
           33,
           37,
           66,
           80,
           22,
           69,
           41,
           77,
           51,
           78,
           67,
           51,
           61,
           54,
           106,
           17,
           34,
           12,
           84,
           34,
           57,
           43,
           84,
           101,
           47,
           28,
           110,
           48,
           59,
           101,
           21,
           22,
           82,
           90,
           42,
           59,
           51,
           51,
           35,
           81,
           65,
           67,
           42,
           26,
           90,
           64,
           107,
           19,
           29,
           91,
           91,
           41,
           37,
           80,
           33,
           52,
           80,
           33,
           40,
           112,
           54,
           59,
           91,
           59,
           68,
           67,
           28,
           13,
           110,
           19,
           20,
           79,
           58,
           96,
           32,
           50,
           22,
           45,
           68,
           68,
           17,
           99
          ],
          "symbol": "circle"
         },
         "mode": "markers",
         "text": [
          "0",
          "1",
          "2",
          "3",
          "4",
          "5",
          "6",
          "7",
          "8",
          "9",
          "10",
          "11",
          "12",
          "13",
          "14",
          "15",
          "16",
          "17",
          "18",
          "19",
          "20",
          "21",
          "22",
          "23",
          "24",
          "25",
          "26",
          "27",
          "28",
          "29",
          "30",
          "31",
          "32",
          "33",
          "34",
          "35",
          "36",
          "37",
          "38",
          "39",
          "40",
          "41",
          "42",
          "43",
          "44",
          "45",
          "46",
          "47",
          "48",
          "49",
          "50",
          "51",
          "52",
          "53",
          "54",
          "55",
          "56",
          "57",
          "58",
          "59",
          "60",
          "61",
          "62",
          "63",
          "64",
          "65",
          "66",
          "67",
          "68",
          "69",
          "70",
          "71",
          "72",
          "73",
          "74",
          "75",
          "76",
          "77",
          "78",
          "79",
          "80",
          "81",
          "82",
          "83",
          "84",
          "85",
          "86",
          "87",
          "88",
          "89",
          "90",
          "91",
          "92",
          "93",
          "94",
          "95",
          "96",
          "97",
          "98",
          "99",
          "100",
          "101",
          "102",
          "103",
          "104",
          "105",
          "106",
          "107",
          "108",
          "109",
          "110",
          "111",
          "112",
          "113",
          "114",
          "115",
          "116",
          "117",
          "118",
          "119",
          "120",
          "121",
          "122",
          "123",
          "124",
          "125",
          "126",
          "127",
          "128",
          "129",
          "130",
          "131",
          "132",
          "133",
          "134",
          "135",
          "136",
          "137",
          "138",
          "139",
          "140",
          "141",
          "142",
          "143",
          "144",
          "145",
          "146",
          "147",
          "148",
          "149",
          "150",
          "151",
          "152",
          "153",
          "154",
          "155",
          "156",
          "157",
          "158",
          "159",
          "160",
          "161",
          "162",
          "163",
          "164",
          "165",
          "166",
          "167",
          "168",
          "169",
          "170",
          "171",
          "172",
          "173",
          "174",
          "175",
          "176",
          "177",
          "178",
          "179",
          "180",
          "181",
          "182",
          "183",
          "184",
          "185",
          "186",
          "187",
          "188",
          "189",
          "190",
          "191",
          "192",
          "193",
          "194",
          "195",
          "196",
          "197",
          "198",
          "199",
          "200",
          "201",
          "202",
          "203",
          "204",
          "205",
          "206",
          "207",
          "208",
          "209",
          "210",
          "211",
          "212",
          "213",
          "214",
          "215",
          "216",
          "217",
          "218",
          "219",
          "220",
          "221",
          "222",
          "223",
          "224",
          "225",
          "226",
          "227",
          "228",
          "229",
          "230",
          "231",
          "232",
          "233",
          "234",
          "235",
          "236",
          "237",
          "238",
          "239",
          "240",
          "241",
          "242",
          "243",
          "244",
          "245",
          "246",
          "247",
          "248",
          "249",
          "250",
          "251",
          "252",
          "253",
          "254",
          "255",
          "256",
          "257",
          "258",
          "259",
          "260",
          "261",
          "262",
          "263",
          "264",
          "265",
          "266",
          "267",
          "268",
          "269",
          "270",
          "271",
          "272",
          "273",
          "274",
          "275",
          "276",
          "277",
          "278",
          "279",
          "280",
          "281",
          "282",
          "283",
          "284",
          "285",
          "286",
          "287",
          "288",
          "289",
          "290",
          "291",
          "292",
          "293",
          "294",
          "295",
          "296",
          "297",
          "298",
          "299"
         ],
         "type": "scatter3d",
         "x": [
          0.5217584901197575,
          0.5787111342562862,
          0.1797887564020827,
          0.1536449987712688,
          0.7744991797964166,
          0.271164708828622,
          0.7088256489644945,
          0.6777362072539204,
          0.9722369749183002,
          0.7100315504451886,
          0.7721317196529153,
          0.019535900540354256,
          0.9772200011819906,
          0.27879704659658644,
          0.18576968309289987,
          0.6936729469645396,
          0.521595671174059,
          0.9777036414370185,
          0.1205080018053416,
          0.7191075781198428,
          0.656148195768571,
          0.18504960908493806,
          0.6976177065679228,
          0.9964749244646701,
          0.737370555139942,
          0.8284745562353367,
          0.6002216427339154,
          0.37316250565657294,
          0.01841901374264643,
          0.18016793726983227,
          0.050244266830862694,
          0.5321947239446121,
          0.8633079997178311,
          0.15563507459717651,
          0.7820965449198773,
          0.5568072781904421,
          0.89210631691426,
          0.13652852634827983,
          0.22067831208296218,
          0.707697711247764,
          0.653941773421546,
          0.31936369512201923,
          0.25974249319384823,
          0.9142884197908587,
          0.9555058944772499,
          0.2939294874403823,
          0.33105472165087946,
          0.2721214646761868,
          0.9035897307292399,
          0.7823212681900047,
          0.22788264617646603,
          0.3149773577433017,
          0.9424839776979346,
          0.1493480640968453,
          0.9322537751868704,
          0.17890015095129153,
          0.6767331109871201,
          0.9923477638877356,
          0.6689952038280811,
          0.5351262182156444,
          0.311128645020762,
          0.6979545130064431,
          0.8729865700172668,
          0.2861387961107905,
          0.41686702320312685,
          0.8298702500763596,
          0.8502754130424404,
          0.03715230655586421,
          0.8842262335934845,
          0.5209556486117768,
          0.10300880891115705,
          0.13256533659258285,
          0.12248486317015106,
          0.8518202329765998,
          0.7697830783258386,
          0.8109341086513256,
          0.7059228720730545,
          0.9152006226333084,
          0.48417782324422365,
          0.2822051918880407,
          0.39967785260278677,
          0.2518429384358193,
          0.013149909783860658,
          0.34758802353391316,
          0.4162239304029818,
          0.14195229285722033,
          0.08650945359769902,
          0.37779339185565564,
          0.9487764062903706,
          0.03219612551089923,
          0.24236729187033867,
          0.15328624032036042,
          0.8190503197587852,
          0.34871620856743746,
          0.6221235648438211,
          0.9775793649170893,
          0.8418095077830429,
          0.3212166717185544,
          0.29545951450442,
          0.8910950321146475,
          0.6325781058325881,
          0.7314966107677453,
          0.033629787915021025,
          0.6932776195137418,
          0.8687979340808485,
          0.8885443278340531,
          0.8556283657556358,
          0.32987026666233077,
          0.13490194355464147,
          0.453318809340042,
          0.7861699008687312,
          0.07475515033214386,
          0.23003437896729373,
          0.7572296797582196,
          0.46081882201182967,
          0.6760330578620852,
          0.9884349813243926,
          0.9812522308893941,
          0.3195595525226541,
          0.05480116248354894,
          0.04293327189874241,
          0.41193344345125893,
          0.9145720860227223,
          0.4328840504725179,
          0.8858315277284301,
          0.49161158204457245,
          0.4099366043244621,
          0.49717351277631616,
          0.6753001507749009,
          0.5144463240743683,
          0.6847873774627783,
          0.08081896084656826,
          0.7087887703432738,
          0.9875131515316805,
          0.6895147936285623,
          0.3592287291544851,
          0.10277789522924563,
          0.28911811439472357,
          0.7506923352216698,
          0.29497551155683843,
          0.3665333559717857,
          0.513560226786625,
          0.667663169195848,
          0.9389861598967205,
          0.11828210893451874,
          0.24704682443176074,
          0.072708476061635,
          0.5990119861122783,
          0.9423147449873845,
          0.7128994746244285,
          0.6074738792486837,
          0.2835446628384126,
          0.22688653383213686,
          0.518679489798174,
          0.3661733831076309,
          0.6074576839203806,
          0.8754928930157727,
          0.012677991667791266,
          0.013693951665304183,
          0.8013334618633164,
          0.5871441274383529,
          0.7002774638030955,
          0.48529977314238815,
          0.11790416631646516,
          0.47926966762875334,
          0.21495434447343154,
          0.10115539548801766,
          0.8742703946647546,
          0.42303647562334845,
          0.5715151646840542,
          0.258032038071651,
          0.2594535107118574,
          0.7430386339795915,
          0.7231824911669353,
          0.0008158764697191456,
          0.7836476194852188,
          0.8510464899514174,
          0.5207886549439212,
          0.12579385791260622,
          0.15891634574349867,
          0.0521523476159379,
          0.3920466103453104,
          0.9431554412800038,
          0.3560421358022502,
          0.2619038524355699,
          0.9410805328594457,
          0.9381353430098053,
          0.49438988572448617,
          0.20178851439232792,
          0.2621353141545477,
          0.5254034334736651,
          0.012881733441739152,
          0.09447995950021248,
          0.3943879767061542,
          0.03090792370293649,
          0.6882603759618863,
          0.08156627955369689,
          0.799140666442477,
          0.7424500118535963,
          0.5032897934634936,
          0.23510187897752577,
          0.6007975324873631,
          0.22953005084602285,
          0.5908083343598789,
          0.26198074515587333,
          0.02483063129211116,
          0.199740362555199,
          0.4202845023839932,
          0.06821748451093745,
          0.09919874899927295,
          0.8854799780009854,
          0.9777505021664477,
          0.1300181984227593,
          0.2693970048237856,
          0.10318289455570406,
          0.2399858249826532,
          0.38741039806197575,
          0.447560070942181,
          0.213733950857933,
          0.25221837152496795,
          0.5455057508988781,
          0.6831026878944338,
          0.10350436835748567,
          0.5760429976774889,
          0.2953389090645029,
          0.6502446928420924,
          0.39542598057944833,
          0.660003062813198,
          0.5578093493433288,
          0.3942502355132199,
          0.49202298363888375,
          0.42210808920089116,
          0.939176377162526,
          0.0542706922816244,
          0.22032555543774313,
          0.005230429465815867,
          0.7239019983635087,
          0.22711631517220732,
          0.4517662235285317,
          0.3180468417868577,
          0.7187991907055166,
          0.8906688540374909,
          0.3581557876097188,
          0.16982091144134281,
          0.9811588278156487,
          0.3607024665327434,
          0.47866287348990666,
          0.8884505446382632,
          0.09856894806051741,
          0.10218727320835763,
          0.7015942427213698,
          0.7842798026118757,
          0.30450346977216436,
          0.47657062100714687,
          0.39477315252105716,
          0.3994360333817134,
          0.2365946940750263,
          0.6983289552001183,
          0.5290485275025265,
          0.5552687435786212,
          0.30016664427132356,
          0.1484069576645365,
          0.7849532685848855,
          0.5246179091355077,
          0.9499243810481692,
          0.07907055168482302,
          0.18002851024697641,
          0.7957694094355793,
          0.796828655882608,
          0.29597967326499597,
          0.25649796460328567,
          0.6812640639822506,
          0.21293242706709337,
          0.40715630359496957,
          0.6838091022811791,
          0.21564973693881961,
          0.28369176629833603,
          0.9974066013950036,
          0.4290506779227563,
          0.4770546261319515,
          0.7912454204009501,
          0.4720695615872831,
          0.5630624530964834,
          0.5576189617562095,
          0.16926300741270972,
          0.016452020181829563,
          0.983030784592851,
          0.0776930122755114,
          0.08635976282508218,
          0.6745955061443522,
          0.46038477969508773,
          0.8408528909563503,
          0.2014336475764087,
          0.3811659743110719,
          0.10421267293833836,
          0.3378933743606959,
          0.5655407541975808,
          0.5635334766364674,
          0.05930142645585179,
          0.8774285096481331
         ],
         "y": [
          0.656539998196642,
          0.27253940771451435,
          0.6786903192422861,
          0.6891146764623897,
          0.7256593400383303,
          0.37335451282041876,
          0.349789910719149,
          0.062120923366696834,
          0.7682139205492792,
          0.4601109790594239,
          0.7322464098696346,
          0.676693193066309,
          0.9892935172394582,
          0.5883113904549153,
          0.3997243985485117,
          0.26825223833879375,
          0.7596857424097275,
          0.674802843668224,
          0.64250475591823,
          0.5961381441211533,
          0.8624881695686553,
          0.7514909705560398,
          0.1507557921606818,
          0.5663846911426519,
          0.9297202119417712,
          0.37715276950387433,
          0.58590109396692,
          0.7907673475640333,
          0.8855761672711409,
          0.7247164076266339,
          0.08402956207106405,
          0.7406281288095806,
          0.061464532339492006,
          0.01212541238780851,
          0.9305968512383176,
          0.43188523108562693,
          0.5797553333882017,
          0.41839860015609376,
          0.6621864435132195,
          0.49098249763106816,
          0.9838986802643036,
          0.03795945670847678,
          0.3568038205126176,
          0.5382814999840804,
          0.8312107602413941,
          0.9897261625944779,
          0.5386460641013339,
          0.8152447480720554,
          0.7263286278882198,
          0.3047762805543889,
          0.8046668231673613,
          0.015204293647969824,
          0.6509538542617733,
          0.39251695907359163,
          0.9608519297954445,
          0.39186434985914786,
          0.5423590025438332,
          0.5178728813688276,
          0.3897928888407759,
          0.17871811748564304,
          0.4546624671947873,
          0.9131664212631745,
          0.5302016851171796,
          0.2531763510616938,
          0.24610117752491345,
          0.8168844379244516,
          0.5027656949835817,
          0.4147547542650629,
          0.49992894571148294,
          0.6759520613340753,
          0.9349440562114473,
          0.34183666375085486,
          0.2655740730014412,
          0.20913015924052225,
          0.1668960232694574,
          0.7896385523335006,
          0.5697195638903921,
          0.04029029353960767,
          0.7623101530970234,
          0.37470909167358,
          0.29620542210436396,
          0.7239281425261097,
          0.7164494126492951,
          0.6414428865947575,
          0.7698973205107151,
          0.036177204779522465,
          0.43511084860666316,
          0.6472641880989595,
          0.8578599664218087,
          0.9070414296379582,
          0.07883707697768894,
          0.1564506196493739,
          0.9287223746519031,
          0.26781720662399044,
          0.6561669728810094,
          0.2739308440543198,
          0.5127345479309581,
          0.7030158912343166,
          0.31550627886620053,
          0.4537520404611549,
          0.42402494000416446,
          0.012944851510112931,
          0.3363069262947572,
          0.48757899198521837,
          0.6725381319039432,
          0.49889913596935087,
          0.9093672020365248,
          0.25366056104711776,
          0.09333114645044105,
          0.699975691427596,
          0.7029616999090502,
          0.1979334901979526,
          0.9077325867678702,
          0.5339227932980698,
          0.6288814938784066,
          0.9875034900934466,
          0.21046506779381857,
          0.4219999335828182,
          0.8870816487928492,
          0.8965252988171006,
          0.9555062244016154,
          0.6990307495345253,
          0.5003949309423894,
          0.7816865939450025,
          0.23393454713494288,
          0.5666216612297436,
          0.6962299236949661,
          0.4897230862531481,
          0.7520105838062199,
          0.29866487918192375,
          0.0568960612111401,
          0.7317997917346516,
          0.6789940825291483,
          0.21140314177101827,
          0.26647265830651023,
          0.5708031563902227,
          0.6730624454616239,
          0.17287661015075872,
          0.607062769016913,
          0.24577938865755555,
          0.5636957611786366,
          0.3869016504965429,
          0.45366166664652374,
          0.9547342126041077,
          0.11230444924118,
          0.5207170333995084,
          0.5987883357626637,
          0.9962975916831,
          0.43065973711208383,
          0.061942078325167405,
          0.6112341158776564,
          0.07591989891332607,
          0.7089661196953471,
          0.4085917407062495,
          0.43888242031921276,
          0.024733150733931564,
          0.23119265184672,
          0.4449869758346534,
          0.803356609312161,
          0.5547992640703331,
          0.8407162949747896,
          0.7244603057574064,
          0.2736107691424341,
          0.8206334268049824,
          0.7127364599282294,
          0.7845483593716207,
          0.6684923116108998,
          0.8496751673917072,
          0.3003105907086896,
          0.1855678605666199,
          0.6781973932042855,
          0.6920620352133825,
          0.3298979388727161,
          0.6017668931021692,
          0.9441024032404972,
          0.5392262591452472,
          0.3159325659824537,
          0.42909974040498056,
          0.7468576946453905,
          0.14364705860860416,
          0.027806793128392848,
          0.8460254355251455,
          0.35193893552912714,
          0.8997086383646373,
          0.4068033400366782,
          0.5641541093467989,
          0.25534881048334845,
          0.698983201033492,
          0.887709708659967,
          0.6164019867015316,
          0.8269614921244717,
          0.592247917360728,
          0.24620816688778324,
          0.4265191894700936,
          0.9439029771482778,
          0.3983376547859465,
          0.7181900297028112,
          0.821995413899302,
          0.9316788998199554,
          0.4959697022639181,
          0.7874553516604432,
          0.5978248727196325,
          0.7513866547608727,
          0.4326994449349635,
          0.12829748176778966,
          0.22315440427429056,
          0.8669340159178552,
          0.5759878422093737,
          0.9585302122930114,
          0.6769656388490006,
          0.28777900959217384,
          0.14798123549774844,
          0.4632748728020126,
          0.8909533340869092,
          0.5197447026220833,
          0.2553587407637101,
          0.8462513804756748,
          0.5756235609840756,
          0.7230416697965739,
          0.07451477772241022,
          0.817053559562825,
          0.3954375715656311,
          0.7256995338400959,
          0.6591141085635792,
          0.19634550703785092,
          0.15008937198478356,
          0.7224396346521809,
          0.18315515884528621,
          0.2504123275895579,
          0.6387576511671574,
          0.8332140478530974,
          0.6154594470856365,
          0.11418211764109043,
          0.3176595309983081,
          0.257153731133295,
          0.5519359372740149,
          0.5141060467079117,
          0.06131319304357474,
          0.8863848527552011,
          0.24137692590218263,
          0.5235142593836116,
          0.44818718527229295,
          0.6060238195208072,
          0.7921447626342182,
          0.6474133650045344,
          0.958507307661738,
          0.3110242581416035,
          0.7178431464342467,
          0.6972024374659759,
          0.1357722694168667,
          0.7305960251585956,
          0.2262813755688634,
          0.8618746234125816,
          0.30865463457722175,
          0.6489415375168702,
          0.9767003957100201,
          0.21339680348990853,
          0.10360031666735325,
          0.07300162954149736,
          0.9705782817553315,
          0.785044321957804,
          0.486073772499132,
          0.10914353826542633,
          0.5256860866458446,
          0.8235912630267851,
          0.5420776291613022,
          0.09968921652196505,
          0.9612824781451685,
          0.3556324489691636,
          0.657456808822794,
          0.6785544698110872,
          0.3925480795755433,
          0.9659098105422387,
          0.4195562896099492,
          0.9584219151882539,
          0.6792931296568968,
          0.4448364133146874,
          0.6785133382099345,
          0.6887033833009353,
          0.6401308281416204,
          0.08337947667124201,
          0.5753885468360116,
          0.013976554072058112,
          0.29483443746151494,
          0.36677765836568865,
          0.14135627500057613,
          0.9328576970274515,
          0.5153181361864222,
          0.018502037880378408,
          0.4378800058406256,
          0.5295551694885806,
          0.4840655039332221,
          0.9634457137570249,
          0.4833807158223975,
          0.2016718919463537,
          0.505335675107466,
          0.38603698956957977,
          0.6735777908098163,
          0.9339210214869078,
          0.5892806642983871
         ],
         "z": [
          0.967523797092589,
          0.18937299674229768,
          0.13990514063765858,
          0.993441405170532,
          0.4640672351445916,
          0.4490547505782275,
          0.5877761339697588,
          0.5635123006609215,
          0.2892499051370575,
          0.04301590969708169,
          0.06924916939513326,
          0.7070339524582361,
          0.6244991149078916,
          0.11617241273552426,
          0.3553976853754187,
          0.19400801205161855,
          0.43872218341998503,
          0.8280002837442253,
          0.6050209442726932,
          0.47228544401329475,
          0.07413453017050575,
          0.1330194917252524,
          0.9775766497551182,
          0.4819287444951932,
          0.8260330736495922,
          0.3855746535128006,
          0.16821741892145614,
          0.43710669754194886,
          0.7690284689519828,
          0.9348658838331856,
          0.656300270694609,
          0.5009802672090435,
          0.5835696241683195,
          0.4932740031652606,
          0.1886564706257089,
          0.9850787305679922,
          0.7880981183839867,
          0.5985129666908966,
          0.12423441340842589,
          0.4740962811179438,
          0.47576412744380203,
          0.45636052436155594,
          0.3762628432824827,
          0.44782958773383186,
          0.5021981393430529,
          0.3571871119200528,
          0.15775029466986734,
          0.8879203726357164,
          0.1586221734565666,
          0.05660123171309772,
          0.4888836032689322,
          0.7530734294582562,
          0.1932123978321787,
          0.07382698041797875,
          0.9791636561056474,
          0.14530999381099063,
          0.744567327605263,
          0.5396558759455241,
          0.2193740686774056,
          0.6592878199560526,
          0.04393641294087913,
          0.47005220850260687,
          0.7812882243604089,
          0.9661181301634549,
          0.7693187105733066,
          0.5464101512302164,
          0.9759039029187836,
          0.54503421952729,
          0.08490158485592203,
          0.8332515738491137,
          0.04318863610078316,
          0.2178666858202003,
          0.34888748379753265,
          0.9284980766792409,
          0.5481504983421527,
          0.7218315513242961,
          0.3327444742876339,
          0.4661079882007264,
          0.3109510907653732,
          0.4736846837861648,
          0.27588972987373683,
          0.8242729529490948,
          0.4501850314713316,
          0.5561961792838948,
          0.8367870253696101,
          0.38597381882052684,
          0.8634694265204212,
          0.6710341308749224,
          0.4836984739597997,
          0.9140078127563015,
          0.15121904450652424,
          0.5157831822842629,
          0.04782054395814872,
          0.10853967693678135,
          0.6526056285087206,
          0.25999144311223366,
          0.5966352462304373,
          0.36060273370433815,
          0.8606523080985343,
          0.7108944735873066,
          0.954419312402988,
          0.104338077532664,
          0.7897189446269589,
          0.5806289019226147,
          0.08924233540860937,
          0.6358422662488767,
          0.871106562969431,
          0.5475510203013657,
          0.32865688131974435,
          0.3373663140830827,
          0.6639333290792861,
          0.7120025729494118,
          0.23111308727599778,
          0.8194151112996897,
          0.6632003741481258,
          0.4980062542983612,
          0.6331954058256917,
          0.3492594122107504,
          0.6306392362017047,
          0.1173068570602116,
          0.603627976818489,
          0.37558930277895075,
          0.6177982089002189,
          0.14099624052703552,
          0.2104365868794158,
          0.13041043596542068,
          0.22522789054001902,
          0.6355937006436455,
          0.2641404972742806,
          0.2104156476488661,
          0.9571322169113562,
          0.2446946409381613,
          0.6598899751110712,
          0.34501651624917873,
          0.20425970129613347,
          0.13862290396177857,
          0.16738720057604684,
          0.5993729996716849,
          0.15400850671481925,
          0.30725434755491654,
          0.5283153918055293,
          0.5503316965468635,
          0.9363214950512254,
          0.4949782634775314,
          0.14845313310355546,
          0.26201225736903244,
          0.6273039093093952,
          0.6278998629827721,
          0.7142987083837642,
          0.4640689098732539,
          0.9595743266276621,
          0.9443515980747916,
          0.39986913814987224,
          0.2717940886619207,
          0.7413649791383068,
          0.40046098355420345,
          0.6692668457321778,
          0.23816924405045425,
          0.48775234683854773,
          0.7613291259221566,
          0.5567468223062653,
          0.8294159600074941,
          0.7786484722425432,
          0.6845754791218899,
          0.7870886717363585,
          0.22207115458875204,
          0.45480951346202547,
          0.32142824782284096,
          0.8944855673768164,
          0.2278877152566775,
          0.5210927401774212,
          0.49437954777507653,
          0.23561600547793715,
          0.9819849870108023,
          0.31559134466293104,
          0.7071697167385999,
          0.7601106493556127,
          0.7512695174253816,
          0.41022052544346177,
          0.6919125308937816,
          0.4408940907270503,
          0.12833541395942227,
          0.3745061510293698,
          0.0521693780525081,
          0.9431862612265062,
          0.7781596652459642,
          0.4757059058252011,
          0.07486612658234448,
          0.5693403856375362,
          0.8520646886843702,
          0.7595165735922618,
          0.8728762285990177,
          0.5219246423898776,
          0.3384127325254904,
          0.602367705008602,
          0.1625322904896187,
          0.16063123545713154,
          0.5982707070676913,
          0.32385490860577293,
          0.608023926209083,
          0.7125431307219975,
          0.8229587976775139,
          0.08259925440100879,
          0.1801296557340787,
          0.9351235496426851,
          0.7811152846041097,
          0.22969514222105514,
          0.6841930666368095,
          0.16667940111262636,
          0.8522105505743116,
          0.28974840539003477,
          0.4597259721896719,
          0.7064406120849022,
          0.3013360801381677,
          0.8242912234107534,
          0.5760214902863724,
          0.8757057818685415,
          0.05372298241393891,
          0.5221168940046299,
          0.028341715825650926,
          0.5294246379535094,
          0.630101048968856,
          0.6017710266964639,
          0.6415256214603133,
          0.4233760384938211,
          0.3496389824169299,
          0.44131312216133245,
          0.5596582242070366,
          0.07449132288024873,
          0.89041381217304,
          0.3932358338497698,
          0.15938137453087697,
          0.48751002224855033,
          0.9174732108612625,
          0.9982227681463068,
          0.5870897310812541,
          0.9031629722668749,
          0.28893114611963944,
          0.32468496719703244,
          0.7696972070877476,
          0.6139660922109733,
          0.2447970813674324,
          0.4750508201686868,
          0.07681312782636696,
          0.1822292728844156,
          0.0007927189738000662,
          0.8731163696107977,
          0.9671850877355647,
          0.7233669981604887,
          0.8188095579173668,
          0.43036151193961836,
          0.31579336626964005,
          0.40981664827978637,
          0.7896260649726885,
          0.10510698663878038,
          0.5864043573200318,
          0.30234806465369723,
          0.6983050942774881,
          0.06680483936624726,
          0.6744295629825899,
          0.2320974397562583,
          0.6695014163748514,
          0.2631466705947727,
          0.9248162265800196,
          0.6010254779944767,
          0.7790691141780071,
          0.7716865665292766,
          0.13377522777584727,
          0.03749122593271448,
          0.13448015575578476,
          0.43564059684736456,
          0.6017854639013723,
          0.34650979926504855,
          0.5535358225151757,
          0.13364438585131577,
          0.6195634532448088,
          0.6966258178875486,
          0.004704496862783958,
          0.775902317234021,
          0.5248304032205543,
          0.4417144562536641,
          0.07277343069415387,
          0.3965240810156341,
          0.07534299085292928,
          0.26579499414750885,
          0.21366109380453058,
          0.5415671200349388,
          0.44618788386597263,
          0.49722740834359724,
          0.8737600937490102,
          0.9583988420494638,
          0.2655201355132303,
          0.5849699103641752,
          0.5368533994151787,
          0.37698208731296634,
          0.6708377194278645,
          0.7459233740193179,
          0.1337001154345424,
          0.6849479227573793,
          0.4157767980138476
         ]
        }
       ],
       "layout": {
        "legend": {
         "bgcolor": "#F5F6F9",
         "font": {
          "color": "#4D5663"
         }
        },
        "paper_bgcolor": "#F5F6F9",
        "plot_bgcolor": "#F5F6F9",
        "scene": {
         "xaxis": {
          "gridcolor": "#9499A3",
          "showgrid": true,
          "tickfont": {
           "color": "#4D5663"
          },
          "title": {
           "font": {
            "color": "#4D5663"
           },
           "text": ""
          },
          "zerolinecolor": "#9499A3"
         },
         "yaxis": {
          "gridcolor": "#9499A3",
          "showgrid": true,
          "tickfont": {
           "color": "#4D5663"
          },
          "title": {
           "font": {
            "color": "#4D5663"
           },
           "text": ""
          },
          "zerolinecolor": "#9499A3"
         },
         "zaxis": {
          "gridcolor": "#9499A3",
          "showgrid": true,
          "tickfont": {
           "color": "#4D5663"
          },
          "title": {
           "font": {
            "color": "#4D5663"
           },
           "text": ""
          },
          "zerolinecolor": "#9499A3"
         }
        },
        "template": {
         "data": {
          "bar": [
           {
            "error_x": {
             "color": "#2a3f5f"
            },
            "error_y": {
             "color": "#2a3f5f"
            },
            "marker": {
             "line": {
              "color": "#E5ECF6",
              "width": 0.5
             },
             "pattern": {
              "fillmode": "overlay",
              "size": 10,
              "solidity": 0.2
             }
            },
            "type": "bar"
           }
          ],
          "barpolar": [
           {
            "marker": {
             "line": {
              "color": "#E5ECF6",
              "width": 0.5
             },
             "pattern": {
              "fillmode": "overlay",
              "size": 10,
              "solidity": 0.2
             }
            },
            "type": "barpolar"
           }
          ],
          "carpet": [
           {
            "aaxis": {
             "endlinecolor": "#2a3f5f",
             "gridcolor": "white",
             "linecolor": "white",
             "minorgridcolor": "white",
             "startlinecolor": "#2a3f5f"
            },
            "baxis": {
             "endlinecolor": "#2a3f5f",
             "gridcolor": "white",
             "linecolor": "white",
             "minorgridcolor": "white",
             "startlinecolor": "#2a3f5f"
            },
            "type": "carpet"
           }
          ],
          "choropleth": [
           {
            "colorbar": {
             "outlinewidth": 0,
             "ticks": ""
            },
            "type": "choropleth"
           }
          ],
          "contour": [
           {
            "colorbar": {
             "outlinewidth": 0,
             "ticks": ""
            },
            "colorscale": [
             [
              0,
              "#0d0887"
             ],
             [
              0.1111111111111111,
              "#46039f"
             ],
             [
              0.2222222222222222,
              "#7201a8"
             ],
             [
              0.3333333333333333,
              "#9c179e"
             ],
             [
              0.4444444444444444,
              "#bd3786"
             ],
             [
              0.5555555555555556,
              "#d8576b"
             ],
             [
              0.6666666666666666,
              "#ed7953"
             ],
             [
              0.7777777777777778,
              "#fb9f3a"
             ],
             [
              0.8888888888888888,
              "#fdca26"
             ],
             [
              1,
              "#f0f921"
             ]
            ],
            "type": "contour"
           }
          ],
          "contourcarpet": [
           {
            "colorbar": {
             "outlinewidth": 0,
             "ticks": ""
            },
            "type": "contourcarpet"
           }
          ],
          "heatmap": [
           {
            "colorbar": {
             "outlinewidth": 0,
             "ticks": ""
            },
            "colorscale": [
             [
              0,
              "#0d0887"
             ],
             [
              0.1111111111111111,
              "#46039f"
             ],
             [
              0.2222222222222222,
              "#7201a8"
             ],
             [
              0.3333333333333333,
              "#9c179e"
             ],
             [
              0.4444444444444444,
              "#bd3786"
             ],
             [
              0.5555555555555556,
              "#d8576b"
             ],
             [
              0.6666666666666666,
              "#ed7953"
             ],
             [
              0.7777777777777778,
              "#fb9f3a"
             ],
             [
              0.8888888888888888,
              "#fdca26"
             ],
             [
              1,
              "#f0f921"
             ]
            ],
            "type": "heatmap"
           }
          ],
          "heatmapgl": [
           {
            "colorbar": {
             "outlinewidth": 0,
             "ticks": ""
            },
            "colorscale": [
             [
              0,
              "#0d0887"
             ],
             [
              0.1111111111111111,
              "#46039f"
             ],
             [
              0.2222222222222222,
              "#7201a8"
             ],
             [
              0.3333333333333333,
              "#9c179e"
             ],
             [
              0.4444444444444444,
              "#bd3786"
             ],
             [
              0.5555555555555556,
              "#d8576b"
             ],
             [
              0.6666666666666666,
              "#ed7953"
             ],
             [
              0.7777777777777778,
              "#fb9f3a"
             ],
             [
              0.8888888888888888,
              "#fdca26"
             ],
             [
              1,
              "#f0f921"
             ]
            ],
            "type": "heatmapgl"
           }
          ],
          "histogram": [
           {
            "marker": {
             "pattern": {
              "fillmode": "overlay",
              "size": 10,
              "solidity": 0.2
             }
            },
            "type": "histogram"
           }
          ],
          "histogram2d": [
           {
            "colorbar": {
             "outlinewidth": 0,
             "ticks": ""
            },
            "colorscale": [
             [
              0,
              "#0d0887"
             ],
             [
              0.1111111111111111,
              "#46039f"
             ],
             [
              0.2222222222222222,
              "#7201a8"
             ],
             [
              0.3333333333333333,
              "#9c179e"
             ],
             [
              0.4444444444444444,
              "#bd3786"
             ],
             [
              0.5555555555555556,
              "#d8576b"
             ],
             [
              0.6666666666666666,
              "#ed7953"
             ],
             [
              0.7777777777777778,
              "#fb9f3a"
             ],
             [
              0.8888888888888888,
              "#fdca26"
             ],
             [
              1,
              "#f0f921"
             ]
            ],
            "type": "histogram2d"
           }
          ],
          "histogram2dcontour": [
           {
            "colorbar": {
             "outlinewidth": 0,
             "ticks": ""
            },
            "colorscale": [
             [
              0,
              "#0d0887"
             ],
             [
              0.1111111111111111,
              "#46039f"
             ],
             [
              0.2222222222222222,
              "#7201a8"
             ],
             [
              0.3333333333333333,
              "#9c179e"
             ],
             [
              0.4444444444444444,
              "#bd3786"
             ],
             [
              0.5555555555555556,
              "#d8576b"
             ],
             [
              0.6666666666666666,
              "#ed7953"
             ],
             [
              0.7777777777777778,
              "#fb9f3a"
             ],
             [
              0.8888888888888888,
              "#fdca26"
             ],
             [
              1,
              "#f0f921"
             ]
            ],
            "type": "histogram2dcontour"
           }
          ],
          "mesh3d": [
           {
            "colorbar": {
             "outlinewidth": 0,
             "ticks": ""
            },
            "type": "mesh3d"
           }
          ],
          "parcoords": [
           {
            "line": {
             "colorbar": {
              "outlinewidth": 0,
              "ticks": ""
             }
            },
            "type": "parcoords"
           }
          ],
          "pie": [
           {
            "automargin": true,
            "type": "pie"
           }
          ],
          "scatter": [
           {
            "fillpattern": {
             "fillmode": "overlay",
             "size": 10,
             "solidity": 0.2
            },
            "type": "scatter"
           }
          ],
          "scatter3d": [
           {
            "line": {
             "colorbar": {
              "outlinewidth": 0,
              "ticks": ""
             }
            },
            "marker": {
             "colorbar": {
              "outlinewidth": 0,
              "ticks": ""
             }
            },
            "type": "scatter3d"
           }
          ],
          "scattercarpet": [
           {
            "marker": {
             "colorbar": {
              "outlinewidth": 0,
              "ticks": ""
             }
            },
            "type": "scattercarpet"
           }
          ],
          "scattergeo": [
           {
            "marker": {
             "colorbar": {
              "outlinewidth": 0,
              "ticks": ""
             }
            },
            "type": "scattergeo"
           }
          ],
          "scattergl": [
           {
            "marker": {
             "colorbar": {
              "outlinewidth": 0,
              "ticks": ""
             }
            },
            "type": "scattergl"
           }
          ],
          "scattermapbox": [
           {
            "marker": {
             "colorbar": {
              "outlinewidth": 0,
              "ticks": ""
             }
            },
            "type": "scattermapbox"
           }
          ],
          "scatterpolar": [
           {
            "marker": {
             "colorbar": {
              "outlinewidth": 0,
              "ticks": ""
             }
            },
            "type": "scatterpolar"
           }
          ],
          "scatterpolargl": [
           {
            "marker": {
             "colorbar": {
              "outlinewidth": 0,
              "ticks": ""
             }
            },
            "type": "scatterpolargl"
           }
          ],
          "scatterternary": [
           {
            "marker": {
             "colorbar": {
              "outlinewidth": 0,
              "ticks": ""
             }
            },
            "type": "scatterternary"
           }
          ],
          "surface": [
           {
            "colorbar": {
             "outlinewidth": 0,
             "ticks": ""
            },
            "colorscale": [
             [
              0,
              "#0d0887"
             ],
             [
              0.1111111111111111,
              "#46039f"
             ],
             [
              0.2222222222222222,
              "#7201a8"
             ],
             [
              0.3333333333333333,
              "#9c179e"
             ],
             [
              0.4444444444444444,
              "#bd3786"
             ],
             [
              0.5555555555555556,
              "#d8576b"
             ],
             [
              0.6666666666666666,
              "#ed7953"
             ],
             [
              0.7777777777777778,
              "#fb9f3a"
             ],
             [
              0.8888888888888888,
              "#fdca26"
             ],
             [
              1,
              "#f0f921"
             ]
            ],
            "type": "surface"
           }
          ],
          "table": [
           {
            "cells": {
             "fill": {
              "color": "#EBF0F8"
             },
             "line": {
              "color": "white"
             }
            },
            "header": {
             "fill": {
              "color": "#C8D4E3"
             },
             "line": {
              "color": "white"
             }
            },
            "type": "table"
           }
          ]
         },
         "layout": {
          "annotationdefaults": {
           "arrowcolor": "#2a3f5f",
           "arrowhead": 0,
           "arrowwidth": 1
          },
          "autotypenumbers": "strict",
          "coloraxis": {
           "colorbar": {
            "outlinewidth": 0,
            "ticks": ""
           }
          },
          "colorscale": {
           "diverging": [
            [
             0,
             "#8e0152"
            ],
            [
             0.1,
             "#c51b7d"
            ],
            [
             0.2,
             "#de77ae"
            ],
            [
             0.3,
             "#f1b6da"
            ],
            [
             0.4,
             "#fde0ef"
            ],
            [
             0.5,
             "#f7f7f7"
            ],
            [
             0.6,
             "#e6f5d0"
            ],
            [
             0.7,
             "#b8e186"
            ],
            [
             0.8,
             "#7fbc41"
            ],
            [
             0.9,
             "#4d9221"
            ],
            [
             1,
             "#276419"
            ]
           ],
           "sequential": [
            [
             0,
             "#0d0887"
            ],
            [
             0.1111111111111111,
             "#46039f"
            ],
            [
             0.2222222222222222,
             "#7201a8"
            ],
            [
             0.3333333333333333,
             "#9c179e"
            ],
            [
             0.4444444444444444,
             "#bd3786"
            ],
            [
             0.5555555555555556,
             "#d8576b"
            ],
            [
             0.6666666666666666,
             "#ed7953"
            ],
            [
             0.7777777777777778,
             "#fb9f3a"
            ],
            [
             0.8888888888888888,
             "#fdca26"
            ],
            [
             1,
             "#f0f921"
            ]
           ],
           "sequentialminus": [
            [
             0,
             "#0d0887"
            ],
            [
             0.1111111111111111,
             "#46039f"
            ],
            [
             0.2222222222222222,
             "#7201a8"
            ],
            [
             0.3333333333333333,
             "#9c179e"
            ],
            [
             0.4444444444444444,
             "#bd3786"
            ],
            [
             0.5555555555555556,
             "#d8576b"
            ],
            [
             0.6666666666666666,
             "#ed7953"
            ],
            [
             0.7777777777777778,
             "#fb9f3a"
            ],
            [
             0.8888888888888888,
             "#fdca26"
            ],
            [
             1,
             "#f0f921"
            ]
           ]
          },
          "colorway": [
           "#636efa",
           "#EF553B",
           "#00cc96",
           "#ab63fa",
           "#FFA15A",
           "#19d3f3",
           "#FF6692",
           "#B6E880",
           "#FF97FF",
           "#FECB52"
          ],
          "font": {
           "color": "#2a3f5f"
          },
          "geo": {
           "bgcolor": "white",
           "lakecolor": "white",
           "landcolor": "#E5ECF6",
           "showlakes": true,
           "showland": true,
           "subunitcolor": "white"
          },
          "hoverlabel": {
           "align": "left"
          },
          "hovermode": "closest",
          "mapbox": {
           "style": "light"
          },
          "paper_bgcolor": "white",
          "plot_bgcolor": "#E5ECF6",
          "polar": {
           "angularaxis": {
            "gridcolor": "white",
            "linecolor": "white",
            "ticks": ""
           },
           "bgcolor": "#E5ECF6",
           "radialaxis": {
            "gridcolor": "white",
            "linecolor": "white",
            "ticks": ""
           }
          },
          "scene": {
           "xaxis": {
            "backgroundcolor": "#E5ECF6",
            "gridcolor": "white",
            "gridwidth": 2,
            "linecolor": "white",
            "showbackground": true,
            "ticks": "",
            "zerolinecolor": "white"
           },
           "yaxis": {
            "backgroundcolor": "#E5ECF6",
            "gridcolor": "white",
            "gridwidth": 2,
            "linecolor": "white",
            "showbackground": true,
            "ticks": "",
            "zerolinecolor": "white"
           },
           "zaxis": {
            "backgroundcolor": "#E5ECF6",
            "gridcolor": "white",
            "gridwidth": 2,
            "linecolor": "white",
            "showbackground": true,
            "ticks": "",
            "zerolinecolor": "white"
           }
          },
          "shapedefaults": {
           "line": {
            "color": "#2a3f5f"
           }
          },
          "ternary": {
           "aaxis": {
            "gridcolor": "white",
            "linecolor": "white",
            "ticks": ""
           },
           "baxis": {
            "gridcolor": "white",
            "linecolor": "white",
            "ticks": ""
           },
           "bgcolor": "#E5ECF6",
           "caxis": {
            "gridcolor": "white",
            "linecolor": "white",
            "ticks": ""
           }
          },
          "title": {
           "x": 0.05
          },
          "xaxis": {
           "automargin": true,
           "gridcolor": "white",
           "linecolor": "white",
           "ticks": "",
           "title": {
            "standoff": 15
           },
           "zerolinecolor": "white",
           "zerolinewidth": 2
          },
          "yaxis": {
           "automargin": true,
           "gridcolor": "white",
           "linecolor": "white",
           "ticks": "",
           "title": {
            "standoff": 15
           },
           "zerolinecolor": "white",
           "zerolinewidth": 2
          }
         }
        },
        "title": {
         "font": {
          "color": "#4D5663"
         }
        }
       }
      },
      "text/html": [
       "<div>                            <div id=\"cc91978e-eeaf-437e-81e5-c7fc9c51503f\" class=\"plotly-graph-div\" style=\"height:525px; width:100%;\"></div>            <script type=\"text/javascript\">                require([\"plotly\"], function(Plotly) {                    window.PLOTLYENV=window.PLOTLYENV || {};\n",
       "                    window.PLOTLYENV.BASE_URL='https://plot.ly';                                    if (document.getElementById(\"cc91978e-eeaf-437e-81e5-c7fc9c51503f\")) {                    Plotly.newPlot(                        \"cc91978e-eeaf-437e-81e5-c7fc9c51503f\",                        [{\"marker\":{\"color\":[\"rgba(255, 153, 51, 1.0)\",\"rgba(55, 128, 191, 1.0)\",\"rgba(50, 171, 96, 1.0)\",\"rgba(128, 0, 128, 1.0)\",\"rgba(219, 64, 82, 1.0)\",\"rgba(0, 128, 128, 1.0)\",\"rgba(255, 255, 51, 1.0)\",\"rgba(128, 128, 0, 1.0)\",\"rgba(251, 128, 114, 1.0)\",\"rgba(128, 177, 211, 1.0)\",\"rgba(128, 177, 211, 0.9733333333333334)\",\"rgba(255, 153, 51, 0.9733333333333334)\",\"rgba(55, 128, 191, 0.9733333333333334)\",\"rgba(50, 171, 96, 0.9733333333333334)\",\"rgba(128, 0, 128, 0.9733333333333334)\",\"rgba(219, 64, 82, 0.9733333333333334)\",\"rgba(0, 128, 128, 0.9733333333333334)\",\"rgba(255, 255, 51, 0.9733333333333334)\",\"rgba(128, 128, 0, 0.9733333333333334)\",\"rgba(251, 128, 114, 0.9733333333333334)\",\"rgba(251, 128, 114, 0.9466666666666665)\",\"rgba(128, 177, 211, 0.9466666666666665)\",\"rgba(255, 153, 51, 0.9466666666666665)\",\"rgba(55, 128, 191, 0.9466666666666665)\",\"rgba(50, 171, 96, 0.9466666666666665)\",\"rgba(128, 0, 128, 0.9466666666666665)\",\"rgba(219, 64, 82, 0.9466666666666665)\",\"rgba(0, 128, 128, 0.9466666666666665)\",\"rgba(255, 255, 51, 0.9466666666666665)\",\"rgba(128, 128, 0, 0.9466666666666665)\",\"rgba(128, 128, 0, 0.9199999999999999)\",\"rgba(251, 128, 114, 0.9199999999999999)\",\"rgba(128, 177, 211, 0.9199999999999999)\",\"rgba(255, 153, 51, 0.9199999999999999)\",\"rgba(55, 128, 191, 0.9199999999999999)\",\"rgba(50, 171, 96, 0.9199999999999999)\",\"rgba(128, 0, 128, 0.9199999999999999)\",\"rgba(219, 64, 82, 0.9199999999999999)\",\"rgba(0, 128, 128, 0.9199999999999999)\",\"rgba(255, 255, 51, 0.9199999999999999)\",\"rgba(255, 255, 51, 0.8933333333333333)\",\"rgba(128, 128, 0, 0.8933333333333333)\",\"rgba(251, 128, 114, 0.8933333333333333)\",\"rgba(128, 177, 211, 0.8933333333333333)\",\"rgba(255, 153, 51, 0.8933333333333333)\",\"rgba(55, 128, 191, 0.8933333333333333)\",\"rgba(50, 171, 96, 0.8933333333333333)\",\"rgba(128, 0, 128, 0.8933333333333333)\",\"rgba(219, 64, 82, 0.8933333333333333)\",\"rgba(0, 128, 128, 0.8933333333333333)\",\"rgba(0, 128, 128, 0.8666666666666667)\",\"rgba(255, 255, 51, 0.8666666666666667)\",\"rgba(128, 128, 0, 0.8666666666666667)\",\"rgba(251, 128, 114, 0.8666666666666667)\",\"rgba(128, 177, 211, 0.8666666666666667)\",\"rgba(255, 153, 51, 0.8666666666666667)\",\"rgba(55, 128, 191, 0.8666666666666667)\",\"rgba(50, 171, 96, 0.8666666666666667)\",\"rgba(128, 0, 128, 0.8666666666666667)\",\"rgba(219, 64, 82, 0.8666666666666667)\",\"rgba(219, 64, 82, 0.8399999999999999)\",\"rgba(0, 128, 128, 0.8399999999999999)\",\"rgba(255, 255, 51, 0.8399999999999999)\",\"rgba(128, 128, 0, 0.8399999999999999)\",\"rgba(251, 128, 114, 0.8399999999999999)\",\"rgba(128, 177, 211, 0.8399999999999999)\",\"rgba(255, 153, 51, 0.8399999999999999)\",\"rgba(55, 128, 191, 0.8399999999999999)\",\"rgba(50, 171, 96, 0.8399999999999999)\",\"rgba(128, 0, 128, 0.8399999999999999)\",\"rgba(128, 0, 128, 0.8133333333333332)\",\"rgba(219, 64, 82, 0.8133333333333332)\",\"rgba(0, 128, 128, 0.8133333333333332)\",\"rgba(255, 255, 51, 0.8133333333333332)\",\"rgba(128, 128, 0, 0.8133333333333332)\",\"rgba(251, 128, 114, 0.8133333333333332)\",\"rgba(128, 177, 211, 0.8133333333333332)\",\"rgba(255, 153, 51, 0.8133333333333332)\",\"rgba(55, 128, 191, 0.8133333333333332)\",\"rgba(50, 171, 96, 0.8133333333333332)\",\"rgba(50, 171, 96, 0.7866666666666666)\",\"rgba(128, 0, 128, 0.7866666666666666)\",\"rgba(219, 64, 82, 0.7866666666666666)\",\"rgba(0, 128, 128, 0.7866666666666666)\",\"rgba(255, 255, 51, 0.7866666666666666)\",\"rgba(128, 128, 0, 0.7866666666666666)\",\"rgba(251, 128, 114, 0.7866666666666666)\",\"rgba(128, 177, 211, 0.7866666666666666)\",\"rgba(255, 153, 51, 0.7866666666666666)\",\"rgba(55, 128, 191, 0.7866666666666666)\",\"rgba(55, 128, 191, 0.76)\",\"rgba(50, 171, 96, 0.76)\",\"rgba(128, 0, 128, 0.76)\",\"rgba(219, 64, 82, 0.76)\",\"rgba(0, 128, 128, 0.76)\",\"rgba(255, 255, 51, 0.76)\",\"rgba(128, 128, 0, 0.76)\",\"rgba(251, 128, 114, 0.76)\",\"rgba(128, 177, 211, 0.76)\",\"rgba(255, 153, 51, 0.76)\",\"rgba(255, 153, 51, 0.7333333333333332)\",\"rgba(55, 128, 191, 0.7333333333333332)\",\"rgba(50, 171, 96, 0.7333333333333332)\",\"rgba(128, 0, 128, 0.7333333333333332)\",\"rgba(219, 64, 82, 0.7333333333333332)\",\"rgba(0, 128, 128, 0.7333333333333332)\",\"rgba(255, 255, 51, 0.7333333333333332)\",\"rgba(128, 128, 0, 0.7333333333333332)\",\"rgba(251, 128, 114, 0.7333333333333332)\",\"rgba(128, 177, 211, 0.7333333333333332)\",\"rgba(128, 177, 211, 0.7066666666666666)\",\"rgba(255, 153, 51, 0.7066666666666666)\",\"rgba(55, 128, 191, 0.7066666666666666)\",\"rgba(50, 171, 96, 0.7066666666666666)\",\"rgba(128, 0, 128, 0.7066666666666666)\",\"rgba(219, 64, 82, 0.7066666666666666)\",\"rgba(0, 128, 128, 0.7066666666666666)\",\"rgba(255, 255, 51, 0.7066666666666666)\",\"rgba(128, 128, 0, 0.7066666666666666)\",\"rgba(251, 128, 114, 0.7066666666666666)\",\"rgba(251, 128, 114, 0.6799999999999999)\",\"rgba(128, 177, 211, 0.6799999999999999)\",\"rgba(255, 153, 51, 0.6799999999999999)\",\"rgba(55, 128, 191, 0.6799999999999999)\",\"rgba(50, 171, 96, 0.6799999999999999)\",\"rgba(128, 0, 128, 0.6799999999999999)\",\"rgba(219, 64, 82, 0.6799999999999999)\",\"rgba(0, 128, 128, 0.6799999999999999)\",\"rgba(255, 255, 51, 0.6799999999999999)\",\"rgba(128, 128, 0, 0.6799999999999999)\",\"rgba(128, 128, 0, 0.6533333333333333)\",\"rgba(251, 128, 114, 0.6533333333333333)\",\"rgba(128, 177, 211, 0.6533333333333333)\",\"rgba(255, 153, 51, 0.6533333333333333)\",\"rgba(55, 128, 191, 0.6533333333333333)\",\"rgba(50, 171, 96, 0.6533333333333333)\",\"rgba(128, 0, 128, 0.6533333333333333)\",\"rgba(219, 64, 82, 0.6533333333333333)\",\"rgba(0, 128, 128, 0.6533333333333333)\",\"rgba(255, 255, 51, 0.6533333333333333)\",\"rgba(255, 255, 51, 0.6266666666666665)\",\"rgba(128, 128, 0, 0.6266666666666665)\",\"rgba(251, 128, 114, 0.6266666666666665)\",\"rgba(128, 177, 211, 0.6266666666666665)\",\"rgba(255, 153, 51, 0.6266666666666665)\",\"rgba(55, 128, 191, 0.6266666666666665)\",\"rgba(50, 171, 96, 0.6266666666666665)\",\"rgba(128, 0, 128, 0.6266666666666665)\",\"rgba(219, 64, 82, 0.6266666666666665)\",\"rgba(0, 128, 128, 0.6266666666666665)\",\"rgba(0, 128, 128, 0.5999999999999999)\",\"rgba(255, 255, 51, 0.5999999999999999)\",\"rgba(128, 128, 0, 0.5999999999999999)\",\"rgba(251, 128, 114, 0.5999999999999999)\",\"rgba(128, 177, 211, 0.5999999999999999)\",\"rgba(255, 153, 51, 0.5999999999999999)\",\"rgba(55, 128, 191, 0.5999999999999999)\",\"rgba(50, 171, 96, 0.5999999999999999)\",\"rgba(128, 0, 128, 0.5999999999999999)\",\"rgba(219, 64, 82, 0.5999999999999999)\",\"rgba(219, 64, 82, 0.5733333333333333)\",\"rgba(0, 128, 128, 0.5733333333333333)\",\"rgba(255, 255, 51, 0.5733333333333333)\",\"rgba(128, 128, 0, 0.5733333333333333)\",\"rgba(251, 128, 114, 0.5733333333333333)\",\"rgba(128, 177, 211, 0.5733333333333333)\",\"rgba(255, 153, 51, 0.5733333333333333)\",\"rgba(55, 128, 191, 0.5733333333333333)\",\"rgba(50, 171, 96, 0.5733333333333333)\",\"rgba(128, 0, 128, 0.5733333333333333)\",\"rgba(128, 0, 128, 0.5466666666666666)\",\"rgba(219, 64, 82, 0.5466666666666666)\",\"rgba(0, 128, 128, 0.5466666666666666)\",\"rgba(255, 255, 51, 0.5466666666666666)\",\"rgba(128, 128, 0, 0.5466666666666666)\",\"rgba(251, 128, 114, 0.5466666666666666)\",\"rgba(128, 177, 211, 0.5466666666666666)\",\"rgba(255, 153, 51, 0.5466666666666666)\",\"rgba(55, 128, 191, 0.5466666666666666)\",\"rgba(50, 171, 96, 0.5466666666666666)\",\"rgba(50, 171, 96, 0.5199999999999998)\",\"rgba(128, 0, 128, 0.5199999999999998)\",\"rgba(219, 64, 82, 0.5199999999999998)\",\"rgba(0, 128, 128, 0.5199999999999998)\",\"rgba(255, 255, 51, 0.5199999999999998)\",\"rgba(128, 128, 0, 0.5199999999999998)\",\"rgba(251, 128, 114, 0.5199999999999998)\",\"rgba(128, 177, 211, 0.5199999999999998)\",\"rgba(255, 153, 51, 0.5199999999999998)\",\"rgba(55, 128, 191, 0.5199999999999998)\",\"rgba(55, 128, 191, 0.49333333333333323)\",\"rgba(50, 171, 96, 0.49333333333333323)\",\"rgba(128, 0, 128, 0.49333333333333323)\",\"rgba(219, 64, 82, 0.49333333333333323)\",\"rgba(0, 128, 128, 0.49333333333333323)\",\"rgba(255, 255, 51, 0.49333333333333323)\",\"rgba(128, 128, 0, 0.49333333333333323)\",\"rgba(251, 128, 114, 0.49333333333333323)\",\"rgba(128, 177, 211, 0.49333333333333323)\",\"rgba(255, 153, 51, 0.49333333333333323)\",\"rgba(255, 153, 51, 0.4666666666666666)\",\"rgba(55, 128, 191, 0.4666666666666666)\",\"rgba(50, 171, 96, 0.4666666666666666)\",\"rgba(128, 0, 128, 0.4666666666666666)\",\"rgba(219, 64, 82, 0.4666666666666666)\",\"rgba(0, 128, 128, 0.4666666666666666)\",\"rgba(255, 255, 51, 0.4666666666666666)\",\"rgba(128, 128, 0, 0.4666666666666666)\",\"rgba(251, 128, 114, 0.4666666666666666)\",\"rgba(128, 177, 211, 0.4666666666666666)\",\"rgba(128, 177, 211, 0.44)\",\"rgba(255, 153, 51, 0.44)\",\"rgba(55, 128, 191, 0.44)\",\"rgba(50, 171, 96, 0.44)\",\"rgba(128, 0, 128, 0.44)\",\"rgba(219, 64, 82, 0.44)\",\"rgba(0, 128, 128, 0.44)\",\"rgba(255, 255, 51, 0.44)\",\"rgba(128, 128, 0, 0.44)\",\"rgba(251, 128, 114, 0.44)\",\"rgba(251, 128, 114, 0.41333333333333316)\",\"rgba(128, 177, 211, 0.41333333333333316)\",\"rgba(255, 153, 51, 0.41333333333333316)\",\"rgba(55, 128, 191, 0.41333333333333316)\",\"rgba(50, 171, 96, 0.41333333333333316)\",\"rgba(128, 0, 128, 0.41333333333333316)\",\"rgba(219, 64, 82, 0.41333333333333316)\",\"rgba(0, 128, 128, 0.41333333333333316)\",\"rgba(255, 255, 51, 0.41333333333333316)\",\"rgba(128, 128, 0, 0.41333333333333316)\",\"rgba(128, 128, 0, 0.38666666666666655)\",\"rgba(251, 128, 114, 0.38666666666666655)\",\"rgba(128, 177, 211, 0.38666666666666655)\",\"rgba(255, 153, 51, 0.38666666666666655)\",\"rgba(55, 128, 191, 0.38666666666666655)\",\"rgba(50, 171, 96, 0.38666666666666655)\",\"rgba(128, 0, 128, 0.38666666666666655)\",\"rgba(219, 64, 82, 0.38666666666666655)\",\"rgba(0, 128, 128, 0.38666666666666655)\",\"rgba(255, 255, 51, 0.38666666666666655)\",\"rgba(255, 255, 51, 0.35999999999999993)\",\"rgba(128, 128, 0, 0.35999999999999993)\",\"rgba(251, 128, 114, 0.35999999999999993)\",\"rgba(128, 177, 211, 0.35999999999999993)\",\"rgba(255, 153, 51, 0.35999999999999993)\",\"rgba(55, 128, 191, 0.35999999999999993)\",\"rgba(50, 171, 96, 0.35999999999999993)\",\"rgba(128, 0, 128, 0.35999999999999993)\",\"rgba(219, 64, 82, 0.35999999999999993)\",\"rgba(0, 128, 128, 0.35999999999999993)\",\"rgba(0, 128, 128, 0.3333333333333333)\",\"rgba(255, 255, 51, 0.3333333333333333)\",\"rgba(128, 128, 0, 0.3333333333333333)\",\"rgba(251, 128, 114, 0.3333333333333333)\",\"rgba(128, 177, 211, 0.3333333333333333)\",\"rgba(255, 153, 51, 0.3333333333333333)\",\"rgba(55, 128, 191, 0.3333333333333333)\",\"rgba(50, 171, 96, 0.3333333333333333)\",\"rgba(128, 0, 128, 0.3333333333333333)\",\"rgba(219, 64, 82, 0.3333333333333333)\",\"rgba(219, 64, 82, 0.3066666666666665)\",\"rgba(0, 128, 128, 0.3066666666666665)\",\"rgba(255, 255, 51, 0.3066666666666665)\",\"rgba(128, 128, 0, 0.3066666666666665)\",\"rgba(251, 128, 114, 0.3066666666666665)\",\"rgba(128, 177, 211, 0.3066666666666665)\",\"rgba(255, 153, 51, 0.3066666666666665)\",\"rgba(55, 128, 191, 0.3066666666666665)\",\"rgba(50, 171, 96, 0.3066666666666665)\",\"rgba(128, 0, 128, 0.3066666666666665)\",\"rgba(128, 0, 128, 0.27999999999999986)\",\"rgba(219, 64, 82, 0.27999999999999986)\",\"rgba(0, 128, 128, 0.27999999999999986)\",\"rgba(255, 255, 51, 0.27999999999999986)\",\"rgba(128, 128, 0, 0.27999999999999986)\",\"rgba(251, 128, 114, 0.27999999999999986)\",\"rgba(128, 177, 211, 0.27999999999999986)\",\"rgba(255, 153, 51, 0.27999999999999986)\",\"rgba(55, 128, 191, 0.27999999999999986)\",\"rgba(50, 171, 96, 0.27999999999999986)\",\"rgba(50, 171, 96, 0.25333333333333324)\",\"rgba(128, 0, 128, 0.25333333333333324)\",\"rgba(219, 64, 82, 0.25333333333333324)\",\"rgba(0, 128, 128, 0.25333333333333324)\",\"rgba(255, 255, 51, 0.25333333333333324)\",\"rgba(128, 128, 0, 0.25333333333333324)\",\"rgba(251, 128, 114, 0.25333333333333324)\",\"rgba(128, 177, 211, 0.25333333333333324)\",\"rgba(255, 153, 51, 0.25333333333333324)\",\"rgba(55, 128, 191, 0.25333333333333324)\",\"rgba(55, 128, 191, 0.22666666666666663)\",\"rgba(50, 171, 96, 0.22666666666666663)\",\"rgba(128, 0, 128, 0.22666666666666663)\",\"rgba(219, 64, 82, 0.22666666666666663)\",\"rgba(0, 128, 128, 0.22666666666666663)\",\"rgba(255, 255, 51, 0.22666666666666663)\",\"rgba(128, 128, 0, 0.22666666666666663)\",\"rgba(251, 128, 114, 0.22666666666666663)\",\"rgba(128, 177, 211, 0.22666666666666663)\",\"rgba(255, 153, 51, 0.22666666666666663)\"],\"opacity\":0.8,\"size\":[64,69,29,27,89,39,83,79,109,83,89,13,109,39,30,81,64,110,24,84,77,30,81,111,85,95,72,49,13,29,16,65,98,27,90,67,101,25,34,82,77,43,37,103,107,41,45,39,102,90,34,43,106,26,105,29,79,111,79,65,43,81,99,40,53,95,97,15,100,64,22,25,24,97,89,93,82,103,60,40,52,37,13,46,53,26,20,49,107,15,36,27,94,46,74,110,96,44,41,101,75,85,15,81,99,101,97,45,25,57,90,19,35,87,58,79,111,110,43,17,16,53,103,55,100,61,53,61,79,63,80,20,83,111,81,47,22,40,87,41,48,63,78,106,23,36,19,72,106,83,72,40,34,63,48,72,99,13,13,92,70,82,60,23,60,33,22,99,54,69,37,37,86,84,12,90,97,64,24,27,17,51,106,47,38,106,106,61,32,38,64,13,21,51,15,80,20,92,86,62,35,72,34,71,38,14,31,54,18,21,100,110,24,38,22,35,50,56,33,37,66,80,22,69,41,77,51,78,67,51,61,54,106,17,34,12,84,34,57,43,84,101,47,28,110,48,59,101,21,22,82,90,42,59,51,51,35,81,65,67,42,26,90,64,107,19,29,91,91,41,37,80,33,52,80,33,40,112,54,59,91,59,68,67,28,13,110,19,20,79,58,96,32,50,22,45,68,68,17,99],\"symbol\":\"circle\"},\"mode\":\"markers\",\"text\":[\"0\",\"1\",\"2\",\"3\",\"4\",\"5\",\"6\",\"7\",\"8\",\"9\",\"10\",\"11\",\"12\",\"13\",\"14\",\"15\",\"16\",\"17\",\"18\",\"19\",\"20\",\"21\",\"22\",\"23\",\"24\",\"25\",\"26\",\"27\",\"28\",\"29\",\"30\",\"31\",\"32\",\"33\",\"34\",\"35\",\"36\",\"37\",\"38\",\"39\",\"40\",\"41\",\"42\",\"43\",\"44\",\"45\",\"46\",\"47\",\"48\",\"49\",\"50\",\"51\",\"52\",\"53\",\"54\",\"55\",\"56\",\"57\",\"58\",\"59\",\"60\",\"61\",\"62\",\"63\",\"64\",\"65\",\"66\",\"67\",\"68\",\"69\",\"70\",\"71\",\"72\",\"73\",\"74\",\"75\",\"76\",\"77\",\"78\",\"79\",\"80\",\"81\",\"82\",\"83\",\"84\",\"85\",\"86\",\"87\",\"88\",\"89\",\"90\",\"91\",\"92\",\"93\",\"94\",\"95\",\"96\",\"97\",\"98\",\"99\",\"100\",\"101\",\"102\",\"103\",\"104\",\"105\",\"106\",\"107\",\"108\",\"109\",\"110\",\"111\",\"112\",\"113\",\"114\",\"115\",\"116\",\"117\",\"118\",\"119\",\"120\",\"121\",\"122\",\"123\",\"124\",\"125\",\"126\",\"127\",\"128\",\"129\",\"130\",\"131\",\"132\",\"133\",\"134\",\"135\",\"136\",\"137\",\"138\",\"139\",\"140\",\"141\",\"142\",\"143\",\"144\",\"145\",\"146\",\"147\",\"148\",\"149\",\"150\",\"151\",\"152\",\"153\",\"154\",\"155\",\"156\",\"157\",\"158\",\"159\",\"160\",\"161\",\"162\",\"163\",\"164\",\"165\",\"166\",\"167\",\"168\",\"169\",\"170\",\"171\",\"172\",\"173\",\"174\",\"175\",\"176\",\"177\",\"178\",\"179\",\"180\",\"181\",\"182\",\"183\",\"184\",\"185\",\"186\",\"187\",\"188\",\"189\",\"190\",\"191\",\"192\",\"193\",\"194\",\"195\",\"196\",\"197\",\"198\",\"199\",\"200\",\"201\",\"202\",\"203\",\"204\",\"205\",\"206\",\"207\",\"208\",\"209\",\"210\",\"211\",\"212\",\"213\",\"214\",\"215\",\"216\",\"217\",\"218\",\"219\",\"220\",\"221\",\"222\",\"223\",\"224\",\"225\",\"226\",\"227\",\"228\",\"229\",\"230\",\"231\",\"232\",\"233\",\"234\",\"235\",\"236\",\"237\",\"238\",\"239\",\"240\",\"241\",\"242\",\"243\",\"244\",\"245\",\"246\",\"247\",\"248\",\"249\",\"250\",\"251\",\"252\",\"253\",\"254\",\"255\",\"256\",\"257\",\"258\",\"259\",\"260\",\"261\",\"262\",\"263\",\"264\",\"265\",\"266\",\"267\",\"268\",\"269\",\"270\",\"271\",\"272\",\"273\",\"274\",\"275\",\"276\",\"277\",\"278\",\"279\",\"280\",\"281\",\"282\",\"283\",\"284\",\"285\",\"286\",\"287\",\"288\",\"289\",\"290\",\"291\",\"292\",\"293\",\"294\",\"295\",\"296\",\"297\",\"298\",\"299\"],\"x\":[0.5217584901197575,0.5787111342562862,0.1797887564020827,0.1536449987712688,0.7744991797964166,0.271164708828622,0.7088256489644945,0.6777362072539204,0.9722369749183002,0.7100315504451886,0.7721317196529153,0.019535900540354256,0.9772200011819906,0.27879704659658644,0.18576968309289987,0.6936729469645396,0.521595671174059,0.9777036414370185,0.1205080018053416,0.7191075781198428,0.656148195768571,0.18504960908493806,0.6976177065679228,0.9964749244646701,0.737370555139942,0.8284745562353367,0.6002216427339154,0.37316250565657294,0.01841901374264643,0.18016793726983227,0.050244266830862694,0.5321947239446121,0.8633079997178311,0.15563507459717651,0.7820965449198773,0.5568072781904421,0.89210631691426,0.13652852634827983,0.22067831208296218,0.707697711247764,0.653941773421546,0.31936369512201923,0.25974249319384823,0.9142884197908587,0.9555058944772499,0.2939294874403823,0.33105472165087946,0.2721214646761868,0.9035897307292399,0.7823212681900047,0.22788264617646603,0.3149773577433017,0.9424839776979346,0.1493480640968453,0.9322537751868704,0.17890015095129153,0.6767331109871201,0.9923477638877356,0.6689952038280811,0.5351262182156444,0.311128645020762,0.6979545130064431,0.8729865700172668,0.2861387961107905,0.41686702320312685,0.8298702500763596,0.8502754130424404,0.03715230655586421,0.8842262335934845,0.5209556486117768,0.10300880891115705,0.13256533659258285,0.12248486317015106,0.8518202329765998,0.7697830783258386,0.8109341086513256,0.7059228720730545,0.9152006226333084,0.48417782324422365,0.2822051918880407,0.39967785260278677,0.2518429384358193,0.013149909783860658,0.34758802353391316,0.4162239304029818,0.14195229285722033,0.08650945359769902,0.37779339185565564,0.9487764062903706,0.03219612551089923,0.24236729187033867,0.15328624032036042,0.8190503197587852,0.34871620856743746,0.6221235648438211,0.9775793649170893,0.8418095077830429,0.3212166717185544,0.29545951450442,0.8910950321146475,0.6325781058325881,0.7314966107677453,0.033629787915021025,0.6932776195137418,0.8687979340808485,0.8885443278340531,0.8556283657556358,0.32987026666233077,0.13490194355464147,0.453318809340042,0.7861699008687312,0.07475515033214386,0.23003437896729373,0.7572296797582196,0.46081882201182967,0.6760330578620852,0.9884349813243926,0.9812522308893941,0.3195595525226541,0.05480116248354894,0.04293327189874241,0.41193344345125893,0.9145720860227223,0.4328840504725179,0.8858315277284301,0.49161158204457245,0.4099366043244621,0.49717351277631616,0.6753001507749009,0.5144463240743683,0.6847873774627783,0.08081896084656826,0.7087887703432738,0.9875131515316805,0.6895147936285623,0.3592287291544851,0.10277789522924563,0.28911811439472357,0.7506923352216698,0.29497551155683843,0.3665333559717857,0.513560226786625,0.667663169195848,0.9389861598967205,0.11828210893451874,0.24704682443176074,0.072708476061635,0.5990119861122783,0.9423147449873845,0.7128994746244285,0.6074738792486837,0.2835446628384126,0.22688653383213686,0.518679489798174,0.3661733831076309,0.6074576839203806,0.8754928930157727,0.012677991667791266,0.013693951665304183,0.8013334618633164,0.5871441274383529,0.7002774638030955,0.48529977314238815,0.11790416631646516,0.47926966762875334,0.21495434447343154,0.10115539548801766,0.8742703946647546,0.42303647562334845,0.5715151646840542,0.258032038071651,0.2594535107118574,0.7430386339795915,0.7231824911669353,0.0008158764697191456,0.7836476194852188,0.8510464899514174,0.5207886549439212,0.12579385791260622,0.15891634574349867,0.0521523476159379,0.3920466103453104,0.9431554412800038,0.3560421358022502,0.2619038524355699,0.9410805328594457,0.9381353430098053,0.49438988572448617,0.20178851439232792,0.2621353141545477,0.5254034334736651,0.012881733441739152,0.09447995950021248,0.3943879767061542,0.03090792370293649,0.6882603759618863,0.08156627955369689,0.799140666442477,0.7424500118535963,0.5032897934634936,0.23510187897752577,0.6007975324873631,0.22953005084602285,0.5908083343598789,0.26198074515587333,0.02483063129211116,0.199740362555199,0.4202845023839932,0.06821748451093745,0.09919874899927295,0.8854799780009854,0.9777505021664477,0.1300181984227593,0.2693970048237856,0.10318289455570406,0.2399858249826532,0.38741039806197575,0.447560070942181,0.213733950857933,0.25221837152496795,0.5455057508988781,0.6831026878944338,0.10350436835748567,0.5760429976774889,0.2953389090645029,0.6502446928420924,0.39542598057944833,0.660003062813198,0.5578093493433288,0.3942502355132199,0.49202298363888375,0.42210808920089116,0.939176377162526,0.0542706922816244,0.22032555543774313,0.005230429465815867,0.7239019983635087,0.22711631517220732,0.4517662235285317,0.3180468417868577,0.7187991907055166,0.8906688540374909,0.3581557876097188,0.16982091144134281,0.9811588278156487,0.3607024665327434,0.47866287348990666,0.8884505446382632,0.09856894806051741,0.10218727320835763,0.7015942427213698,0.7842798026118757,0.30450346977216436,0.47657062100714687,0.39477315252105716,0.3994360333817134,0.2365946940750263,0.6983289552001183,0.5290485275025265,0.5552687435786212,0.30016664427132356,0.1484069576645365,0.7849532685848855,0.5246179091355077,0.9499243810481692,0.07907055168482302,0.18002851024697641,0.7957694094355793,0.796828655882608,0.29597967326499597,0.25649796460328567,0.6812640639822506,0.21293242706709337,0.40715630359496957,0.6838091022811791,0.21564973693881961,0.28369176629833603,0.9974066013950036,0.4290506779227563,0.4770546261319515,0.7912454204009501,0.4720695615872831,0.5630624530964834,0.5576189617562095,0.16926300741270972,0.016452020181829563,0.983030784592851,0.0776930122755114,0.08635976282508218,0.6745955061443522,0.46038477969508773,0.8408528909563503,0.2014336475764087,0.3811659743110719,0.10421267293833836,0.3378933743606959,0.5655407541975808,0.5635334766364674,0.05930142645585179,0.8774285096481331],\"y\":[0.656539998196642,0.27253940771451435,0.6786903192422861,0.6891146764623897,0.7256593400383303,0.37335451282041876,0.349789910719149,0.062120923366696834,0.7682139205492792,0.4601109790594239,0.7322464098696346,0.676693193066309,0.9892935172394582,0.5883113904549153,0.3997243985485117,0.26825223833879375,0.7596857424097275,0.674802843668224,0.64250475591823,0.5961381441211533,0.8624881695686553,0.7514909705560398,0.1507557921606818,0.5663846911426519,0.9297202119417712,0.37715276950387433,0.58590109396692,0.7907673475640333,0.8855761672711409,0.7247164076266339,0.08402956207106405,0.7406281288095806,0.061464532339492006,0.01212541238780851,0.9305968512383176,0.43188523108562693,0.5797553333882017,0.41839860015609376,0.6621864435132195,0.49098249763106816,0.9838986802643036,0.03795945670847678,0.3568038205126176,0.5382814999840804,0.8312107602413941,0.9897261625944779,0.5386460641013339,0.8152447480720554,0.7263286278882198,0.3047762805543889,0.8046668231673613,0.015204293647969824,0.6509538542617733,0.39251695907359163,0.9608519297954445,0.39186434985914786,0.5423590025438332,0.5178728813688276,0.3897928888407759,0.17871811748564304,0.4546624671947873,0.9131664212631745,0.5302016851171796,0.2531763510616938,0.24610117752491345,0.8168844379244516,0.5027656949835817,0.4147547542650629,0.49992894571148294,0.6759520613340753,0.9349440562114473,0.34183666375085486,0.2655740730014412,0.20913015924052225,0.1668960232694574,0.7896385523335006,0.5697195638903921,0.04029029353960767,0.7623101530970234,0.37470909167358,0.29620542210436396,0.7239281425261097,0.7164494126492951,0.6414428865947575,0.7698973205107151,0.036177204779522465,0.43511084860666316,0.6472641880989595,0.8578599664218087,0.9070414296379582,0.07883707697768894,0.1564506196493739,0.9287223746519031,0.26781720662399044,0.6561669728810094,0.2739308440543198,0.5127345479309581,0.7030158912343166,0.31550627886620053,0.4537520404611549,0.42402494000416446,0.012944851510112931,0.3363069262947572,0.48757899198521837,0.6725381319039432,0.49889913596935087,0.9093672020365248,0.25366056104711776,0.09333114645044105,0.699975691427596,0.7029616999090502,0.1979334901979526,0.9077325867678702,0.5339227932980698,0.6288814938784066,0.9875034900934466,0.21046506779381857,0.4219999335828182,0.8870816487928492,0.8965252988171006,0.9555062244016154,0.6990307495345253,0.5003949309423894,0.7816865939450025,0.23393454713494288,0.5666216612297436,0.6962299236949661,0.4897230862531481,0.7520105838062199,0.29866487918192375,0.0568960612111401,0.7317997917346516,0.6789940825291483,0.21140314177101827,0.26647265830651023,0.5708031563902227,0.6730624454616239,0.17287661015075872,0.607062769016913,0.24577938865755555,0.5636957611786366,0.3869016504965429,0.45366166664652374,0.9547342126041077,0.11230444924118,0.5207170333995084,0.5987883357626637,0.9962975916831,0.43065973711208383,0.061942078325167405,0.6112341158776564,0.07591989891332607,0.7089661196953471,0.4085917407062495,0.43888242031921276,0.024733150733931564,0.23119265184672,0.4449869758346534,0.803356609312161,0.5547992640703331,0.8407162949747896,0.7244603057574064,0.2736107691424341,0.8206334268049824,0.7127364599282294,0.7845483593716207,0.6684923116108998,0.8496751673917072,0.3003105907086896,0.1855678605666199,0.6781973932042855,0.6920620352133825,0.3298979388727161,0.6017668931021692,0.9441024032404972,0.5392262591452472,0.3159325659824537,0.42909974040498056,0.7468576946453905,0.14364705860860416,0.027806793128392848,0.8460254355251455,0.35193893552912714,0.8997086383646373,0.4068033400366782,0.5641541093467989,0.25534881048334845,0.698983201033492,0.887709708659967,0.6164019867015316,0.8269614921244717,0.592247917360728,0.24620816688778324,0.4265191894700936,0.9439029771482778,0.3983376547859465,0.7181900297028112,0.821995413899302,0.9316788998199554,0.4959697022639181,0.7874553516604432,0.5978248727196325,0.7513866547608727,0.4326994449349635,0.12829748176778966,0.22315440427429056,0.8669340159178552,0.5759878422093737,0.9585302122930114,0.6769656388490006,0.28777900959217384,0.14798123549774844,0.4632748728020126,0.8909533340869092,0.5197447026220833,0.2553587407637101,0.8462513804756748,0.5756235609840756,0.7230416697965739,0.07451477772241022,0.817053559562825,0.3954375715656311,0.7256995338400959,0.6591141085635792,0.19634550703785092,0.15008937198478356,0.7224396346521809,0.18315515884528621,0.2504123275895579,0.6387576511671574,0.8332140478530974,0.6154594470856365,0.11418211764109043,0.3176595309983081,0.257153731133295,0.5519359372740149,0.5141060467079117,0.06131319304357474,0.8863848527552011,0.24137692590218263,0.5235142593836116,0.44818718527229295,0.6060238195208072,0.7921447626342182,0.6474133650045344,0.958507307661738,0.3110242581416035,0.7178431464342467,0.6972024374659759,0.1357722694168667,0.7305960251585956,0.2262813755688634,0.8618746234125816,0.30865463457722175,0.6489415375168702,0.9767003957100201,0.21339680348990853,0.10360031666735325,0.07300162954149736,0.9705782817553315,0.785044321957804,0.486073772499132,0.10914353826542633,0.5256860866458446,0.8235912630267851,0.5420776291613022,0.09968921652196505,0.9612824781451685,0.3556324489691636,0.657456808822794,0.6785544698110872,0.3925480795755433,0.9659098105422387,0.4195562896099492,0.9584219151882539,0.6792931296568968,0.4448364133146874,0.6785133382099345,0.6887033833009353,0.6401308281416204,0.08337947667124201,0.5753885468360116,0.013976554072058112,0.29483443746151494,0.36677765836568865,0.14135627500057613,0.9328576970274515,0.5153181361864222,0.018502037880378408,0.4378800058406256,0.5295551694885806,0.4840655039332221,0.9634457137570249,0.4833807158223975,0.2016718919463537,0.505335675107466,0.38603698956957977,0.6735777908098163,0.9339210214869078,0.5892806642983871],\"z\":[0.967523797092589,0.18937299674229768,0.13990514063765858,0.993441405170532,0.4640672351445916,0.4490547505782275,0.5877761339697588,0.5635123006609215,0.2892499051370575,0.04301590969708169,0.06924916939513326,0.7070339524582361,0.6244991149078916,0.11617241273552426,0.3553976853754187,0.19400801205161855,0.43872218341998503,0.8280002837442253,0.6050209442726932,0.47228544401329475,0.07413453017050575,0.1330194917252524,0.9775766497551182,0.4819287444951932,0.8260330736495922,0.3855746535128006,0.16821741892145614,0.43710669754194886,0.7690284689519828,0.9348658838331856,0.656300270694609,0.5009802672090435,0.5835696241683195,0.4932740031652606,0.1886564706257089,0.9850787305679922,0.7880981183839867,0.5985129666908966,0.12423441340842589,0.4740962811179438,0.47576412744380203,0.45636052436155594,0.3762628432824827,0.44782958773383186,0.5021981393430529,0.3571871119200528,0.15775029466986734,0.8879203726357164,0.1586221734565666,0.05660123171309772,0.4888836032689322,0.7530734294582562,0.1932123978321787,0.07382698041797875,0.9791636561056474,0.14530999381099063,0.744567327605263,0.5396558759455241,0.2193740686774056,0.6592878199560526,0.04393641294087913,0.47005220850260687,0.7812882243604089,0.9661181301634549,0.7693187105733066,0.5464101512302164,0.9759039029187836,0.54503421952729,0.08490158485592203,0.8332515738491137,0.04318863610078316,0.2178666858202003,0.34888748379753265,0.9284980766792409,0.5481504983421527,0.7218315513242961,0.3327444742876339,0.4661079882007264,0.3109510907653732,0.4736846837861648,0.27588972987373683,0.8242729529490948,0.4501850314713316,0.5561961792838948,0.8367870253696101,0.38597381882052684,0.8634694265204212,0.6710341308749224,0.4836984739597997,0.9140078127563015,0.15121904450652424,0.5157831822842629,0.04782054395814872,0.10853967693678135,0.6526056285087206,0.25999144311223366,0.5966352462304373,0.36060273370433815,0.8606523080985343,0.7108944735873066,0.954419312402988,0.104338077532664,0.7897189446269589,0.5806289019226147,0.08924233540860937,0.6358422662488767,0.871106562969431,0.5475510203013657,0.32865688131974435,0.3373663140830827,0.6639333290792861,0.7120025729494118,0.23111308727599778,0.8194151112996897,0.6632003741481258,0.4980062542983612,0.6331954058256917,0.3492594122107504,0.6306392362017047,0.1173068570602116,0.603627976818489,0.37558930277895075,0.6177982089002189,0.14099624052703552,0.2104365868794158,0.13041043596542068,0.22522789054001902,0.6355937006436455,0.2641404972742806,0.2104156476488661,0.9571322169113562,0.2446946409381613,0.6598899751110712,0.34501651624917873,0.20425970129613347,0.13862290396177857,0.16738720057604684,0.5993729996716849,0.15400850671481925,0.30725434755491654,0.5283153918055293,0.5503316965468635,0.9363214950512254,0.4949782634775314,0.14845313310355546,0.26201225736903244,0.6273039093093952,0.6278998629827721,0.7142987083837642,0.4640689098732539,0.9595743266276621,0.9443515980747916,0.39986913814987224,0.2717940886619207,0.7413649791383068,0.40046098355420345,0.6692668457321778,0.23816924405045425,0.48775234683854773,0.7613291259221566,0.5567468223062653,0.8294159600074941,0.7786484722425432,0.6845754791218899,0.7870886717363585,0.22207115458875204,0.45480951346202547,0.32142824782284096,0.8944855673768164,0.2278877152566775,0.5210927401774212,0.49437954777507653,0.23561600547793715,0.9819849870108023,0.31559134466293104,0.7071697167385999,0.7601106493556127,0.7512695174253816,0.41022052544346177,0.6919125308937816,0.4408940907270503,0.12833541395942227,0.3745061510293698,0.0521693780525081,0.9431862612265062,0.7781596652459642,0.4757059058252011,0.07486612658234448,0.5693403856375362,0.8520646886843702,0.7595165735922618,0.8728762285990177,0.5219246423898776,0.3384127325254904,0.602367705008602,0.1625322904896187,0.16063123545713154,0.5982707070676913,0.32385490860577293,0.608023926209083,0.7125431307219975,0.8229587976775139,0.08259925440100879,0.1801296557340787,0.9351235496426851,0.7811152846041097,0.22969514222105514,0.6841930666368095,0.16667940111262636,0.8522105505743116,0.28974840539003477,0.4597259721896719,0.7064406120849022,0.3013360801381677,0.8242912234107534,0.5760214902863724,0.8757057818685415,0.05372298241393891,0.5221168940046299,0.028341715825650926,0.5294246379535094,0.630101048968856,0.6017710266964639,0.6415256214603133,0.4233760384938211,0.3496389824169299,0.44131312216133245,0.5596582242070366,0.07449132288024873,0.89041381217304,0.3932358338497698,0.15938137453087697,0.48751002224855033,0.9174732108612625,0.9982227681463068,0.5870897310812541,0.9031629722668749,0.28893114611963944,0.32468496719703244,0.7696972070877476,0.6139660922109733,0.2447970813674324,0.4750508201686868,0.07681312782636696,0.1822292728844156,0.0007927189738000662,0.8731163696107977,0.9671850877355647,0.7233669981604887,0.8188095579173668,0.43036151193961836,0.31579336626964005,0.40981664827978637,0.7896260649726885,0.10510698663878038,0.5864043573200318,0.30234806465369723,0.6983050942774881,0.06680483936624726,0.6744295629825899,0.2320974397562583,0.6695014163748514,0.2631466705947727,0.9248162265800196,0.6010254779944767,0.7790691141780071,0.7716865665292766,0.13377522777584727,0.03749122593271448,0.13448015575578476,0.43564059684736456,0.6017854639013723,0.34650979926504855,0.5535358225151757,0.13364438585131577,0.6195634532448088,0.6966258178875486,0.004704496862783958,0.775902317234021,0.5248304032205543,0.4417144562536641,0.07277343069415387,0.3965240810156341,0.07534299085292928,0.26579499414750885,0.21366109380453058,0.5415671200349388,0.44618788386597263,0.49722740834359724,0.8737600937490102,0.9583988420494638,0.2655201355132303,0.5849699103641752,0.5368533994151787,0.37698208731296634,0.6708377194278645,0.7459233740193179,0.1337001154345424,0.6849479227573793,0.4157767980138476],\"type\":\"scatter3d\"}],                        {\"legend\":{\"bgcolor\":\"#F5F6F9\",\"font\":{\"color\":\"#4D5663\"}},\"paper_bgcolor\":\"#F5F6F9\",\"plot_bgcolor\":\"#F5F6F9\",\"scene\":{\"xaxis\":{\"gridcolor\":\"#9499A3\",\"showgrid\":true,\"tickfont\":{\"color\":\"#4D5663\"},\"title\":{\"font\":{\"color\":\"#4D5663\"},\"text\":\"\"},\"zerolinecolor\":\"#9499A3\"},\"yaxis\":{\"gridcolor\":\"#9499A3\",\"showgrid\":true,\"tickfont\":{\"color\":\"#4D5663\"},\"title\":{\"font\":{\"color\":\"#4D5663\"},\"text\":\"\"},\"zerolinecolor\":\"#9499A3\"},\"zaxis\":{\"gridcolor\":\"#9499A3\",\"showgrid\":true,\"tickfont\":{\"color\":\"#4D5663\"},\"title\":{\"font\":{\"color\":\"#4D5663\"},\"text\":\"\"},\"zerolinecolor\":\"#9499A3\"}},\"template\":{\"data\":{\"barpolar\":[{\"marker\":{\"line\":{\"color\":\"#E5ECF6\",\"width\":0.5},\"pattern\":{\"fillmode\":\"overlay\",\"size\":10,\"solidity\":0.2}},\"type\":\"barpolar\"}],\"bar\":[{\"error_x\":{\"color\":\"#2a3f5f\"},\"error_y\":{\"color\":\"#2a3f5f\"},\"marker\":{\"line\":{\"color\":\"#E5ECF6\",\"width\":0.5},\"pattern\":{\"fillmode\":\"overlay\",\"size\":10,\"solidity\":0.2}},\"type\":\"bar\"}],\"carpet\":[{\"aaxis\":{\"endlinecolor\":\"#2a3f5f\",\"gridcolor\":\"white\",\"linecolor\":\"white\",\"minorgridcolor\":\"white\",\"startlinecolor\":\"#2a3f5f\"},\"baxis\":{\"endlinecolor\":\"#2a3f5f\",\"gridcolor\":\"white\",\"linecolor\":\"white\",\"minorgridcolor\":\"white\",\"startlinecolor\":\"#2a3f5f\"},\"type\":\"carpet\"}],\"choropleth\":[{\"colorbar\":{\"outlinewidth\":0,\"ticks\":\"\"},\"type\":\"choropleth\"}],\"contourcarpet\":[{\"colorbar\":{\"outlinewidth\":0,\"ticks\":\"\"},\"type\":\"contourcarpet\"}],\"contour\":[{\"colorbar\":{\"outlinewidth\":0,\"ticks\":\"\"},\"colorscale\":[[0.0,\"#0d0887\"],[0.1111111111111111,\"#46039f\"],[0.2222222222222222,\"#7201a8\"],[0.3333333333333333,\"#9c179e\"],[0.4444444444444444,\"#bd3786\"],[0.5555555555555556,\"#d8576b\"],[0.6666666666666666,\"#ed7953\"],[0.7777777777777778,\"#fb9f3a\"],[0.8888888888888888,\"#fdca26\"],[1.0,\"#f0f921\"]],\"type\":\"contour\"}],\"heatmapgl\":[{\"colorbar\":{\"outlinewidth\":0,\"ticks\":\"\"},\"colorscale\":[[0.0,\"#0d0887\"],[0.1111111111111111,\"#46039f\"],[0.2222222222222222,\"#7201a8\"],[0.3333333333333333,\"#9c179e\"],[0.4444444444444444,\"#bd3786\"],[0.5555555555555556,\"#d8576b\"],[0.6666666666666666,\"#ed7953\"],[0.7777777777777778,\"#fb9f3a\"],[0.8888888888888888,\"#fdca26\"],[1.0,\"#f0f921\"]],\"type\":\"heatmapgl\"}],\"heatmap\":[{\"colorbar\":{\"outlinewidth\":0,\"ticks\":\"\"},\"colorscale\":[[0.0,\"#0d0887\"],[0.1111111111111111,\"#46039f\"],[0.2222222222222222,\"#7201a8\"],[0.3333333333333333,\"#9c179e\"],[0.4444444444444444,\"#bd3786\"],[0.5555555555555556,\"#d8576b\"],[0.6666666666666666,\"#ed7953\"],[0.7777777777777778,\"#fb9f3a\"],[0.8888888888888888,\"#fdca26\"],[1.0,\"#f0f921\"]],\"type\":\"heatmap\"}],\"histogram2dcontour\":[{\"colorbar\":{\"outlinewidth\":0,\"ticks\":\"\"},\"colorscale\":[[0.0,\"#0d0887\"],[0.1111111111111111,\"#46039f\"],[0.2222222222222222,\"#7201a8\"],[0.3333333333333333,\"#9c179e\"],[0.4444444444444444,\"#bd3786\"],[0.5555555555555556,\"#d8576b\"],[0.6666666666666666,\"#ed7953\"],[0.7777777777777778,\"#fb9f3a\"],[0.8888888888888888,\"#fdca26\"],[1.0,\"#f0f921\"]],\"type\":\"histogram2dcontour\"}],\"histogram2d\":[{\"colorbar\":{\"outlinewidth\":0,\"ticks\":\"\"},\"colorscale\":[[0.0,\"#0d0887\"],[0.1111111111111111,\"#46039f\"],[0.2222222222222222,\"#7201a8\"],[0.3333333333333333,\"#9c179e\"],[0.4444444444444444,\"#bd3786\"],[0.5555555555555556,\"#d8576b\"],[0.6666666666666666,\"#ed7953\"],[0.7777777777777778,\"#fb9f3a\"],[0.8888888888888888,\"#fdca26\"],[1.0,\"#f0f921\"]],\"type\":\"histogram2d\"}],\"histogram\":[{\"marker\":{\"pattern\":{\"fillmode\":\"overlay\",\"size\":10,\"solidity\":0.2}},\"type\":\"histogram\"}],\"mesh3d\":[{\"colorbar\":{\"outlinewidth\":0,\"ticks\":\"\"},\"type\":\"mesh3d\"}],\"parcoords\":[{\"line\":{\"colorbar\":{\"outlinewidth\":0,\"ticks\":\"\"}},\"type\":\"parcoords\"}],\"pie\":[{\"automargin\":true,\"type\":\"pie\"}],\"scatter3d\":[{\"line\":{\"colorbar\":{\"outlinewidth\":0,\"ticks\":\"\"}},\"marker\":{\"colorbar\":{\"outlinewidth\":0,\"ticks\":\"\"}},\"type\":\"scatter3d\"}],\"scattercarpet\":[{\"marker\":{\"colorbar\":{\"outlinewidth\":0,\"ticks\":\"\"}},\"type\":\"scattercarpet\"}],\"scattergeo\":[{\"marker\":{\"colorbar\":{\"outlinewidth\":0,\"ticks\":\"\"}},\"type\":\"scattergeo\"}],\"scattergl\":[{\"marker\":{\"colorbar\":{\"outlinewidth\":0,\"ticks\":\"\"}},\"type\":\"scattergl\"}],\"scattermapbox\":[{\"marker\":{\"colorbar\":{\"outlinewidth\":0,\"ticks\":\"\"}},\"type\":\"scattermapbox\"}],\"scatterpolargl\":[{\"marker\":{\"colorbar\":{\"outlinewidth\":0,\"ticks\":\"\"}},\"type\":\"scatterpolargl\"}],\"scatterpolar\":[{\"marker\":{\"colorbar\":{\"outlinewidth\":0,\"ticks\":\"\"}},\"type\":\"scatterpolar\"}],\"scatter\":[{\"fillpattern\":{\"fillmode\":\"overlay\",\"size\":10,\"solidity\":0.2},\"type\":\"scatter\"}],\"scatterternary\":[{\"marker\":{\"colorbar\":{\"outlinewidth\":0,\"ticks\":\"\"}},\"type\":\"scatterternary\"}],\"surface\":[{\"colorbar\":{\"outlinewidth\":0,\"ticks\":\"\"},\"colorscale\":[[0.0,\"#0d0887\"],[0.1111111111111111,\"#46039f\"],[0.2222222222222222,\"#7201a8\"],[0.3333333333333333,\"#9c179e\"],[0.4444444444444444,\"#bd3786\"],[0.5555555555555556,\"#d8576b\"],[0.6666666666666666,\"#ed7953\"],[0.7777777777777778,\"#fb9f3a\"],[0.8888888888888888,\"#fdca26\"],[1.0,\"#f0f921\"]],\"type\":\"surface\"}],\"table\":[{\"cells\":{\"fill\":{\"color\":\"#EBF0F8\"},\"line\":{\"color\":\"white\"}},\"header\":{\"fill\":{\"color\":\"#C8D4E3\"},\"line\":{\"color\":\"white\"}},\"type\":\"table\"}]},\"layout\":{\"annotationdefaults\":{\"arrowcolor\":\"#2a3f5f\",\"arrowhead\":0,\"arrowwidth\":1},\"autotypenumbers\":\"strict\",\"coloraxis\":{\"colorbar\":{\"outlinewidth\":0,\"ticks\":\"\"}},\"colorscale\":{\"diverging\":[[0,\"#8e0152\"],[0.1,\"#c51b7d\"],[0.2,\"#de77ae\"],[0.3,\"#f1b6da\"],[0.4,\"#fde0ef\"],[0.5,\"#f7f7f7\"],[0.6,\"#e6f5d0\"],[0.7,\"#b8e186\"],[0.8,\"#7fbc41\"],[0.9,\"#4d9221\"],[1,\"#276419\"]],\"sequential\":[[0.0,\"#0d0887\"],[0.1111111111111111,\"#46039f\"],[0.2222222222222222,\"#7201a8\"],[0.3333333333333333,\"#9c179e\"],[0.4444444444444444,\"#bd3786\"],[0.5555555555555556,\"#d8576b\"],[0.6666666666666666,\"#ed7953\"],[0.7777777777777778,\"#fb9f3a\"],[0.8888888888888888,\"#fdca26\"],[1.0,\"#f0f921\"]],\"sequentialminus\":[[0.0,\"#0d0887\"],[0.1111111111111111,\"#46039f\"],[0.2222222222222222,\"#7201a8\"],[0.3333333333333333,\"#9c179e\"],[0.4444444444444444,\"#bd3786\"],[0.5555555555555556,\"#d8576b\"],[0.6666666666666666,\"#ed7953\"],[0.7777777777777778,\"#fb9f3a\"],[0.8888888888888888,\"#fdca26\"],[1.0,\"#f0f921\"]]},\"colorway\":[\"#636efa\",\"#EF553B\",\"#00cc96\",\"#ab63fa\",\"#FFA15A\",\"#19d3f3\",\"#FF6692\",\"#B6E880\",\"#FF97FF\",\"#FECB52\"],\"font\":{\"color\":\"#2a3f5f\"},\"geo\":{\"bgcolor\":\"white\",\"lakecolor\":\"white\",\"landcolor\":\"#E5ECF6\",\"showlakes\":true,\"showland\":true,\"subunitcolor\":\"white\"},\"hoverlabel\":{\"align\":\"left\"},\"hovermode\":\"closest\",\"mapbox\":{\"style\":\"light\"},\"paper_bgcolor\":\"white\",\"plot_bgcolor\":\"#E5ECF6\",\"polar\":{\"angularaxis\":{\"gridcolor\":\"white\",\"linecolor\":\"white\",\"ticks\":\"\"},\"bgcolor\":\"#E5ECF6\",\"radialaxis\":{\"gridcolor\":\"white\",\"linecolor\":\"white\",\"ticks\":\"\"}},\"scene\":{\"xaxis\":{\"backgroundcolor\":\"#E5ECF6\",\"gridcolor\":\"white\",\"gridwidth\":2,\"linecolor\":\"white\",\"showbackground\":true,\"ticks\":\"\",\"zerolinecolor\":\"white\"},\"yaxis\":{\"backgroundcolor\":\"#E5ECF6\",\"gridcolor\":\"white\",\"gridwidth\":2,\"linecolor\":\"white\",\"showbackground\":true,\"ticks\":\"\",\"zerolinecolor\":\"white\"},\"zaxis\":{\"backgroundcolor\":\"#E5ECF6\",\"gridcolor\":\"white\",\"gridwidth\":2,\"linecolor\":\"white\",\"showbackground\":true,\"ticks\":\"\",\"zerolinecolor\":\"white\"}},\"shapedefaults\":{\"line\":{\"color\":\"#2a3f5f\"}},\"ternary\":{\"aaxis\":{\"gridcolor\":\"white\",\"linecolor\":\"white\",\"ticks\":\"\"},\"baxis\":{\"gridcolor\":\"white\",\"linecolor\":\"white\",\"ticks\":\"\"},\"bgcolor\":\"#E5ECF6\",\"caxis\":{\"gridcolor\":\"white\",\"linecolor\":\"white\",\"ticks\":\"\"}},\"title\":{\"x\":0.05},\"xaxis\":{\"automargin\":true,\"gridcolor\":\"white\",\"linecolor\":\"white\",\"ticks\":\"\",\"title\":{\"standoff\":15},\"zerolinecolor\":\"white\",\"zerolinewidth\":2},\"yaxis\":{\"automargin\":true,\"gridcolor\":\"white\",\"linecolor\":\"white\",\"ticks\":\"\",\"title\":{\"standoff\":15},\"zerolinecolor\":\"white\",\"zerolinewidth\":2}}},\"title\":{\"font\":{\"color\":\"#4D5663\"}}},                        {\"showLink\": true, \"linkText\": \"Export to plot.ly\", \"plotlyServerURL\": \"https://plot.ly\", \"responsive\": true}                    ).then(function(){\n",
       "                            \n",
       "var gd = document.getElementById('cc91978e-eeaf-437e-81e5-c7fc9c51503f');\n",
       "var x = new MutationObserver(function (mutations, observer) {{\n",
       "        var display = window.getComputedStyle(gd).display;\n",
       "        if (!display || display === 'none') {{\n",
       "            console.log([gd, 'removed!']);\n",
       "            Plotly.purge(gd);\n",
       "            observer.disconnect();\n",
       "        }}\n",
       "}});\n",
       "\n",
       "// Listen for the removal of the full notebook cells\n",
       "var notebookContainer = gd.closest('#notebook-container');\n",
       "if (notebookContainer) {{\n",
       "    x.observe(notebookContainer, {childList: true});\n",
       "}}\n",
       "\n",
       "// Listen for the clearing of the current output cell\n",
       "var outputEl = gd.closest('.output');\n",
       "if (outputEl) {{\n",
       "    x.observe(outputEl, {childList: true});\n",
       "}}\n",
       "\n",
       "                        })                };                });            </script>        </div>"
      ]
     },
     "metadata": {},
     "output_type": "display_data"
    }
   ],
   "source": [
    "df.iplot (x= 'a', y = 'b' , z = 'c', kind = 'bubble3d', size = 'a')"
   ]
  },
  {
   "cell_type": "code",
   "execution_count": 16,
   "id": "360ea113",
   "metadata": {},
   "outputs": [],
   "source": [
    "df = pd.read_csv(r'C:\\Users\\Milan\\Downloads\\train.csv')"
   ]
  },
  {
   "cell_type": "code",
   "execution_count": 17,
   "id": "9b276338",
   "metadata": {},
   "outputs": [
    {
     "data": {
      "text/html": [
       "<div>\n",
       "<style scoped>\n",
       "    .dataframe tbody tr th:only-of-type {\n",
       "        vertical-align: middle;\n",
       "    }\n",
       "\n",
       "    .dataframe tbody tr th {\n",
       "        vertical-align: top;\n",
       "    }\n",
       "\n",
       "    .dataframe thead th {\n",
       "        text-align: right;\n",
       "    }\n",
       "</style>\n",
       "<table border=\"1\" class=\"dataframe\">\n",
       "  <thead>\n",
       "    <tr style=\"text-align: right;\">\n",
       "      <th></th>\n",
       "      <th>PassengerId</th>\n",
       "      <th>Survived</th>\n",
       "      <th>Pclass</th>\n",
       "      <th>Name</th>\n",
       "      <th>Sex</th>\n",
       "      <th>Age</th>\n",
       "      <th>SibSp</th>\n",
       "      <th>Parch</th>\n",
       "      <th>Ticket</th>\n",
       "      <th>Fare</th>\n",
       "      <th>Cabin</th>\n",
       "      <th>Embarked</th>\n",
       "    </tr>\n",
       "  </thead>\n",
       "  <tbody>\n",
       "    <tr>\n",
       "      <th>0</th>\n",
       "      <td>1</td>\n",
       "      <td>0</td>\n",
       "      <td>3</td>\n",
       "      <td>Braund, Mr. Owen Harris</td>\n",
       "      <td>male</td>\n",
       "      <td>22.0</td>\n",
       "      <td>1</td>\n",
       "      <td>0</td>\n",
       "      <td>A/5 21171</td>\n",
       "      <td>7.2500</td>\n",
       "      <td>NaN</td>\n",
       "      <td>S</td>\n",
       "    </tr>\n",
       "    <tr>\n",
       "      <th>1</th>\n",
       "      <td>2</td>\n",
       "      <td>1</td>\n",
       "      <td>1</td>\n",
       "      <td>Cumings, Mrs. John Bradley (Florence Briggs Th...</td>\n",
       "      <td>female</td>\n",
       "      <td>38.0</td>\n",
       "      <td>1</td>\n",
       "      <td>0</td>\n",
       "      <td>PC 17599</td>\n",
       "      <td>71.2833</td>\n",
       "      <td>C85</td>\n",
       "      <td>C</td>\n",
       "    </tr>\n",
       "    <tr>\n",
       "      <th>2</th>\n",
       "      <td>3</td>\n",
       "      <td>1</td>\n",
       "      <td>3</td>\n",
       "      <td>Heikkinen, Miss. Laina</td>\n",
       "      <td>female</td>\n",
       "      <td>26.0</td>\n",
       "      <td>0</td>\n",
       "      <td>0</td>\n",
       "      <td>STON/O2. 3101282</td>\n",
       "      <td>7.9250</td>\n",
       "      <td>NaN</td>\n",
       "      <td>S</td>\n",
       "    </tr>\n",
       "    <tr>\n",
       "      <th>3</th>\n",
       "      <td>4</td>\n",
       "      <td>1</td>\n",
       "      <td>1</td>\n",
       "      <td>Futrelle, Mrs. Jacques Heath (Lily May Peel)</td>\n",
       "      <td>female</td>\n",
       "      <td>35.0</td>\n",
       "      <td>1</td>\n",
       "      <td>0</td>\n",
       "      <td>113803</td>\n",
       "      <td>53.1000</td>\n",
       "      <td>C123</td>\n",
       "      <td>S</td>\n",
       "    </tr>\n",
       "    <tr>\n",
       "      <th>4</th>\n",
       "      <td>5</td>\n",
       "      <td>0</td>\n",
       "      <td>3</td>\n",
       "      <td>Allen, Mr. William Henry</td>\n",
       "      <td>male</td>\n",
       "      <td>35.0</td>\n",
       "      <td>0</td>\n",
       "      <td>0</td>\n",
       "      <td>373450</td>\n",
       "      <td>8.0500</td>\n",
       "      <td>NaN</td>\n",
       "      <td>S</td>\n",
       "    </tr>\n",
       "    <tr>\n",
       "      <th>...</th>\n",
       "      <td>...</td>\n",
       "      <td>...</td>\n",
       "      <td>...</td>\n",
       "      <td>...</td>\n",
       "      <td>...</td>\n",
       "      <td>...</td>\n",
       "      <td>...</td>\n",
       "      <td>...</td>\n",
       "      <td>...</td>\n",
       "      <td>...</td>\n",
       "      <td>...</td>\n",
       "      <td>...</td>\n",
       "    </tr>\n",
       "    <tr>\n",
       "      <th>886</th>\n",
       "      <td>887</td>\n",
       "      <td>0</td>\n",
       "      <td>2</td>\n",
       "      <td>Montvila, Rev. Juozas</td>\n",
       "      <td>male</td>\n",
       "      <td>27.0</td>\n",
       "      <td>0</td>\n",
       "      <td>0</td>\n",
       "      <td>211536</td>\n",
       "      <td>13.0000</td>\n",
       "      <td>NaN</td>\n",
       "      <td>S</td>\n",
       "    </tr>\n",
       "    <tr>\n",
       "      <th>887</th>\n",
       "      <td>888</td>\n",
       "      <td>1</td>\n",
       "      <td>1</td>\n",
       "      <td>Graham, Miss. Margaret Edith</td>\n",
       "      <td>female</td>\n",
       "      <td>19.0</td>\n",
       "      <td>0</td>\n",
       "      <td>0</td>\n",
       "      <td>112053</td>\n",
       "      <td>30.0000</td>\n",
       "      <td>B42</td>\n",
       "      <td>S</td>\n",
       "    </tr>\n",
       "    <tr>\n",
       "      <th>888</th>\n",
       "      <td>889</td>\n",
       "      <td>0</td>\n",
       "      <td>3</td>\n",
       "      <td>Johnston, Miss. Catherine Helen \"Carrie\"</td>\n",
       "      <td>female</td>\n",
       "      <td>NaN</td>\n",
       "      <td>1</td>\n",
       "      <td>2</td>\n",
       "      <td>W./C. 6607</td>\n",
       "      <td>23.4500</td>\n",
       "      <td>NaN</td>\n",
       "      <td>S</td>\n",
       "    </tr>\n",
       "    <tr>\n",
       "      <th>889</th>\n",
       "      <td>890</td>\n",
       "      <td>1</td>\n",
       "      <td>1</td>\n",
       "      <td>Behr, Mr. Karl Howell</td>\n",
       "      <td>male</td>\n",
       "      <td>26.0</td>\n",
       "      <td>0</td>\n",
       "      <td>0</td>\n",
       "      <td>111369</td>\n",
       "      <td>30.0000</td>\n",
       "      <td>C148</td>\n",
       "      <td>C</td>\n",
       "    </tr>\n",
       "    <tr>\n",
       "      <th>890</th>\n",
       "      <td>891</td>\n",
       "      <td>0</td>\n",
       "      <td>3</td>\n",
       "      <td>Dooley, Mr. Patrick</td>\n",
       "      <td>male</td>\n",
       "      <td>32.0</td>\n",
       "      <td>0</td>\n",
       "      <td>0</td>\n",
       "      <td>370376</td>\n",
       "      <td>7.7500</td>\n",
       "      <td>NaN</td>\n",
       "      <td>Q</td>\n",
       "    </tr>\n",
       "  </tbody>\n",
       "</table>\n",
       "<p>891 rows × 12 columns</p>\n",
       "</div>"
      ],
      "text/plain": [
       "     PassengerId  Survived  Pclass  \\\n",
       "0              1         0       3   \n",
       "1              2         1       1   \n",
       "2              3         1       3   \n",
       "3              4         1       1   \n",
       "4              5         0       3   \n",
       "..           ...       ...     ...   \n",
       "886          887         0       2   \n",
       "887          888         1       1   \n",
       "888          889         0       3   \n",
       "889          890         1       1   \n",
       "890          891         0       3   \n",
       "\n",
       "                                                  Name     Sex   Age  SibSp  \\\n",
       "0                              Braund, Mr. Owen Harris    male  22.0      1   \n",
       "1    Cumings, Mrs. John Bradley (Florence Briggs Th...  female  38.0      1   \n",
       "2                               Heikkinen, Miss. Laina  female  26.0      0   \n",
       "3         Futrelle, Mrs. Jacques Heath (Lily May Peel)  female  35.0      1   \n",
       "4                             Allen, Mr. William Henry    male  35.0      0   \n",
       "..                                                 ...     ...   ...    ...   \n",
       "886                              Montvila, Rev. Juozas    male  27.0      0   \n",
       "887                       Graham, Miss. Margaret Edith  female  19.0      0   \n",
       "888           Johnston, Miss. Catherine Helen \"Carrie\"  female   NaN      1   \n",
       "889                              Behr, Mr. Karl Howell    male  26.0      0   \n",
       "890                                Dooley, Mr. Patrick    male  32.0      0   \n",
       "\n",
       "     Parch            Ticket     Fare Cabin Embarked  \n",
       "0        0         A/5 21171   7.2500   NaN        S  \n",
       "1        0          PC 17599  71.2833   C85        C  \n",
       "2        0  STON/O2. 3101282   7.9250   NaN        S  \n",
       "3        0            113803  53.1000  C123        S  \n",
       "4        0            373450   8.0500   NaN        S  \n",
       "..     ...               ...      ...   ...      ...  \n",
       "886      0            211536  13.0000   NaN        S  \n",
       "887      0            112053  30.0000   B42        S  \n",
       "888      2        W./C. 6607  23.4500   NaN        S  \n",
       "889      0            111369  30.0000  C148        C  \n",
       "890      0            370376   7.7500   NaN        Q  \n",
       "\n",
       "[891 rows x 12 columns]"
      ]
     },
     "execution_count": 17,
     "metadata": {},
     "output_type": "execute_result"
    }
   ],
   "source": [
    "df"
   ]
  },
  {
   "cell_type": "code",
   "execution_count": 20,
   "id": "7eb56566",
   "metadata": {},
   "outputs": [
    {
     "data": {
      "application/vnd.plotly.v1+json": {
       "config": {
        "linkText": "Export to plot.ly",
        "plotlyServerURL": "https://plot.ly",
        "showLink": true
       },
       "data": [
        {
         "marker": {
          "color": "rgba(255, 153, 51, 0.6)",
          "line": {
           "color": "rgba(255, 153, 51, 1.0)",
           "width": 1
          }
         },
         "name": "Survived",
         "orientation": "v",
         "text": "",
         "type": "bar",
         "x": [
          "male",
          "female",
          "female",
          "female",
          "male",
          "male",
          "male",
          "male",
          "female",
          "female",
          "female",
          "female",
          "male",
          "male",
          "female",
          "female",
          "male",
          "male",
          "female",
          "female",
          "male",
          "male",
          "female",
          "male",
          "female",
          "female",
          "male",
          "male",
          "female",
          "male",
          "male",
          "female",
          "female",
          "male",
          "male",
          "male",
          "male",
          "male",
          "female",
          "female",
          "female",
          "female",
          "male",
          "female",
          "female",
          "male",
          "male",
          "female",
          "male",
          "female",
          "male",
          "male",
          "female",
          "female",
          "male",
          "male",
          "female",
          "male",
          "female",
          "male",
          "male",
          "female",
          "male",
          "male",
          "male",
          "male",
          "female",
          "male",
          "female",
          "male",
          "male",
          "female",
          "male",
          "male",
          "male",
          "male",
          "male",
          "male",
          "male",
          "female",
          "male",
          "male",
          "female",
          "male",
          "female",
          "female",
          "male",
          "male",
          "female",
          "male",
          "male",
          "male",
          "male",
          "male",
          "male",
          "male",
          "male",
          "male",
          "female",
          "male",
          "female",
          "male",
          "male",
          "male",
          "male",
          "male",
          "female",
          "male",
          "male",
          "female",
          "male",
          "female",
          "male",
          "female",
          "female",
          "male",
          "male",
          "male",
          "male",
          "female",
          "male",
          "male",
          "male",
          "female",
          "male",
          "male",
          "male",
          "male",
          "female",
          "male",
          "male",
          "male",
          "female",
          "female",
          "male",
          "male",
          "female",
          "male",
          "male",
          "male",
          "female",
          "female",
          "female",
          "male",
          "male",
          "male",
          "male",
          "female",
          "male",
          "male",
          "male",
          "female",
          "male",
          "male",
          "male",
          "male",
          "female",
          "male",
          "male",
          "male",
          "male",
          "female",
          "male",
          "male",
          "male",
          "male",
          "female",
          "female",
          "male",
          "male",
          "male",
          "male",
          "female",
          "male",
          "male",
          "male",
          "male",
          "female",
          "male",
          "male",
          "female",
          "male",
          "male",
          "male",
          "female",
          "male",
          "female",
          "male",
          "male",
          "male",
          "female",
          "male",
          "female",
          "male",
          "female",
          "female",
          "male",
          "male",
          "female",
          "female",
          "male",
          "male",
          "male",
          "male",
          "male",
          "female",
          "male",
          "male",
          "female",
          "male",
          "male",
          "female",
          "male",
          "male",
          "male",
          "female",
          "female",
          "male",
          "female",
          "male",
          "male",
          "male",
          "male",
          "male",
          "male",
          "male",
          "male",
          "male",
          "male",
          "female",
          "female",
          "male",
          "male",
          "female",
          "male",
          "female",
          "male",
          "female",
          "male",
          "male",
          "female",
          "female",
          "male",
          "male",
          "male",
          "male",
          "female",
          "female",
          "male",
          "male",
          "male",
          "female",
          "male",
          "male",
          "female",
          "female",
          "female",
          "female",
          "female",
          "female",
          "male",
          "male",
          "male",
          "male",
          "female",
          "male",
          "male",
          "male",
          "female",
          "female",
          "male",
          "male",
          "female",
          "male",
          "female",
          "female",
          "female",
          "male",
          "male",
          "female",
          "male",
          "male",
          "male",
          "male",
          "male",
          "male",
          "male",
          "male",
          "male",
          "female",
          "female",
          "female",
          "male",
          "female",
          "male",
          "male",
          "male",
          "female",
          "male",
          "female",
          "female",
          "male",
          "male",
          "female",
          "male",
          "male",
          "female",
          "female",
          "male",
          "female",
          "female",
          "female",
          "female",
          "male",
          "male",
          "female",
          "female",
          "male",
          "female",
          "female",
          "male",
          "male",
          "female",
          "female",
          "male",
          "female",
          "male",
          "female",
          "female",
          "female",
          "female",
          "male",
          "male",
          "male",
          "female",
          "male",
          "male",
          "female",
          "male",
          "male",
          "male",
          "female",
          "male",
          "male",
          "male",
          "female",
          "female",
          "female",
          "male",
          "male",
          "male",
          "male",
          "male",
          "male",
          "male",
          "male",
          "female",
          "female",
          "female",
          "female",
          "male",
          "male",
          "female",
          "male",
          "male",
          "male",
          "female",
          "female",
          "female",
          "female",
          "male",
          "male",
          "male",
          "male",
          "female",
          "female",
          "female",
          "male",
          "male",
          "male",
          "female",
          "female",
          "male",
          "female",
          "male",
          "male",
          "male",
          "female",
          "male",
          "female",
          "male",
          "male",
          "male",
          "female",
          "female",
          "male",
          "female",
          "male",
          "male",
          "female",
          "male",
          "male",
          "female",
          "male",
          "female",
          "male",
          "male",
          "male",
          "male",
          "female",
          "male",
          "male",
          "female",
          "male",
          "male",
          "female",
          "female",
          "female",
          "male",
          "female",
          "male",
          "male",
          "male",
          "female",
          "male",
          "male",
          "female",
          "female",
          "male",
          "male",
          "male",
          "female",
          "female",
          "male",
          "male",
          "female",
          "female",
          "female",
          "male",
          "male",
          "female",
          "male",
          "male",
          "female",
          "male",
          "male",
          "female",
          "male",
          "female",
          "male",
          "male",
          "male",
          "male",
          "male",
          "male",
          "male",
          "male",
          "female",
          "female",
          "male",
          "male",
          "male",
          "male",
          "male",
          "male",
          "male",
          "male",
          "male",
          "male",
          "female",
          "male",
          "male",
          "female",
          "female",
          "female",
          "male",
          "male",
          "male",
          "male",
          "female",
          "male",
          "male",
          "male",
          "female",
          "male",
          "female",
          "female",
          "male",
          "male",
          "male",
          "male",
          "male",
          "male",
          "male",
          "male",
          "male",
          "female",
          "male",
          "female",
          "male",
          "male",
          "female",
          "female",
          "female",
          "female",
          "male",
          "female",
          "male",
          "male",
          "male",
          "male",
          "male",
          "male",
          "female",
          "male",
          "male",
          "female",
          "male",
          "female",
          "male",
          "female",
          "male",
          "male",
          "female",
          "male",
          "male",
          "female",
          "male",
          "male",
          "male",
          "female",
          "male",
          "male",
          "female",
          "female",
          "female",
          "male",
          "female",
          "male",
          "female",
          "female",
          "female",
          "female",
          "male",
          "male",
          "male",
          "female",
          "male",
          "male",
          "male",
          "male",
          "male",
          "male",
          "male",
          "female",
          "male",
          "female",
          "male",
          "female",
          "female",
          "male",
          "male",
          "male",
          "male",
          "female",
          "male",
          "male",
          "female",
          "male",
          "male",
          "male",
          "female",
          "male",
          "female",
          "male",
          "male",
          "female",
          "female",
          "female",
          "male",
          "female",
          "female",
          "male",
          "male",
          "male",
          "female",
          "male",
          "male",
          "male",
          "male",
          "male",
          "female",
          "male",
          "female",
          "male",
          "male",
          "female",
          "male",
          "male",
          "male",
          "female",
          "male",
          "male",
          "male",
          "male",
          "male",
          "male",
          "male",
          "female",
          "female",
          "female",
          "male",
          "female",
          "male",
          "male",
          "female",
          "male",
          "female",
          "female",
          "male",
          "male",
          "male",
          "male",
          "male",
          "male",
          "male",
          "male",
          "female",
          "male",
          "male",
          "male",
          "male",
          "male",
          "male",
          "female",
          "female",
          "male",
          "male",
          "female",
          "male",
          "male",
          "female",
          "female",
          "male",
          "female",
          "male",
          "male",
          "male",
          "male",
          "female",
          "male",
          "female",
          "male",
          "female",
          "female",
          "male",
          "male",
          "female",
          "male",
          "male",
          "male",
          "male",
          "male",
          "male",
          "male",
          "male",
          "male",
          "male",
          "male",
          "female",
          "female",
          "male",
          "male",
          "male",
          "male",
          "male",
          "male",
          "female",
          "female",
          "male",
          "female",
          "male",
          "male",
          "male",
          "male",
          "male",
          "male",
          "male",
          "male",
          "female",
          "male",
          "female",
          "male",
          "male",
          "male",
          "male",
          "male",
          "female",
          "male",
          "male",
          "female",
          "male",
          "female",
          "male",
          "male",
          "male",
          "female",
          "male",
          "female",
          "male",
          "female",
          "male",
          "male",
          "male",
          "male",
          "male",
          "female",
          "female",
          "male",
          "male",
          "female",
          "male",
          "male",
          "male",
          "male",
          "male",
          "female",
          "female",
          "male",
          "female",
          "female",
          "male",
          "male",
          "male",
          "male",
          "male",
          "female",
          "male",
          "male",
          "male",
          "male",
          "male",
          "female",
          "male",
          "male",
          "male",
          "male",
          "female",
          "male",
          "male",
          "female",
          "male",
          "male",
          "male",
          "female",
          "male",
          "male",
          "male",
          "male",
          "female",
          "male",
          "male",
          "male",
          "female",
          "male",
          "female",
          "male",
          "female",
          "male",
          "male",
          "male",
          "male",
          "female",
          "male",
          "female",
          "male",
          "male",
          "female",
          "male",
          "female",
          "female",
          "female",
          "male",
          "male",
          "male",
          "male",
          "female",
          "male",
          "male",
          "male",
          "male",
          "male",
          "female",
          "male",
          "male",
          "male",
          "female",
          "female",
          "male",
          "female",
          "male",
          "female",
          "male",
          "male",
          "male",
          "male",
          "male",
          "female",
          "male",
          "female",
          "male",
          "male",
          "male",
          "female",
          "male",
          "male",
          "female",
          "male",
          "male",
          "male",
          "female",
          "male",
          "male",
          "female",
          "male",
          "male",
          "male",
          "male",
          "male",
          "female",
          "female",
          "male",
          "male",
          "male",
          "male",
          "female",
          "male",
          "male",
          "male",
          "male",
          "male",
          "male",
          "female",
          "male",
          "male",
          "male",
          "male",
          "male",
          "male",
          "female",
          "male",
          "male",
          "female",
          "female",
          "female",
          "female",
          "female",
          "male",
          "female",
          "male",
          "male",
          "male",
          "female",
          "female",
          "male",
          "female",
          "female",
          "male",
          "male",
          "male",
          "male",
          "female",
          "male",
          "male",
          "female",
          "female",
          "male",
          "male",
          "male",
          "female",
          "female",
          "male",
          "female",
          "male",
          "male",
          "female",
          "male",
          "female",
          "female",
          "male",
          "male"
         ],
         "y": [
          0,
          1,
          1,
          1,
          0,
          0,
          0,
          0,
          1,
          1,
          1,
          1,
          0,
          0,
          0,
          1,
          0,
          1,
          0,
          1,
          0,
          1,
          1,
          1,
          0,
          1,
          0,
          0,
          1,
          0,
          0,
          1,
          1,
          0,
          0,
          0,
          1,
          0,
          0,
          1,
          0,
          0,
          0,
          1,
          1,
          0,
          0,
          1,
          0,
          0,
          0,
          0,
          1,
          1,
          0,
          1,
          1,
          0,
          1,
          0,
          0,
          1,
          0,
          0,
          0,
          1,
          1,
          0,
          1,
          0,
          0,
          0,
          0,
          0,
          1,
          0,
          0,
          0,
          1,
          1,
          0,
          1,
          1,
          0,
          1,
          1,
          0,
          0,
          1,
          0,
          0,
          0,
          0,
          0,
          0,
          0,
          0,
          1,
          1,
          0,
          0,
          0,
          0,
          0,
          0,
          0,
          1,
          1,
          0,
          1,
          0,
          0,
          0,
          0,
          0,
          0,
          0,
          0,
          0,
          0,
          0,
          0,
          0,
          1,
          0,
          1,
          0,
          1,
          1,
          0,
          0,
          0,
          0,
          1,
          0,
          0,
          1,
          0,
          0,
          0,
          0,
          1,
          1,
          0,
          0,
          0,
          1,
          0,
          0,
          0,
          0,
          1,
          0,
          0,
          0,
          0,
          1,
          0,
          0,
          0,
          0,
          1,
          0,
          0,
          0,
          1,
          1,
          0,
          0,
          0,
          0,
          0,
          1,
          0,
          0,
          0,
          0,
          0,
          0,
          0,
          0,
          0,
          0,
          1,
          1,
          0,
          1,
          1,
          0,
          0,
          1,
          0,
          1,
          1,
          1,
          1,
          0,
          0,
          1,
          0,
          0,
          0,
          0,
          0,
          1,
          0,
          0,
          1,
          1,
          1,
          0,
          1,
          0,
          0,
          0,
          1,
          1,
          0,
          1,
          0,
          1,
          0,
          0,
          0,
          1,
          0,
          1,
          0,
          0,
          0,
          1,
          0,
          0,
          1,
          0,
          0,
          0,
          1,
          0,
          0,
          0,
          1,
          0,
          0,
          0,
          0,
          0,
          1,
          1,
          0,
          0,
          0,
          0,
          0,
          0,
          1,
          1,
          1,
          1,
          1,
          0,
          1,
          0,
          0,
          0,
          0,
          0,
          1,
          1,
          1,
          0,
          1,
          1,
          0,
          1,
          1,
          0,
          0,
          0,
          1,
          0,
          0,
          0,
          1,
          0,
          0,
          1,
          0,
          1,
          1,
          1,
          1,
          0,
          0,
          0,
          0,
          0,
          0,
          1,
          1,
          1,
          1,
          0,
          1,
          0,
          1,
          1,
          1,
          0,
          1,
          1,
          1,
          0,
          0,
          0,
          1,
          1,
          0,
          1,
          1,
          0,
          0,
          1,
          1,
          0,
          1,
          0,
          1,
          1,
          1,
          1,
          0,
          0,
          0,
          1,
          0,
          0,
          1,
          1,
          0,
          1,
          1,
          0,
          0,
          0,
          1,
          1,
          1,
          1,
          0,
          0,
          0,
          0,
          0,
          0,
          0,
          1,
          0,
          1,
          1,
          0,
          0,
          0,
          0,
          0,
          0,
          1,
          1,
          1,
          1,
          1,
          0,
          0,
          0,
          0,
          1,
          1,
          0,
          0,
          0,
          1,
          1,
          0,
          1,
          0,
          0,
          0,
          1,
          0,
          1,
          1,
          1,
          0,
          1,
          1,
          0,
          0,
          0,
          0,
          1,
          1,
          0,
          0,
          0,
          0,
          0,
          0,
          1,
          0,
          0,
          0,
          0,
          1,
          0,
          1,
          0,
          1,
          1,
          0,
          0,
          0,
          0,
          0,
          0,
          0,
          0,
          1,
          1,
          0,
          1,
          1,
          1,
          1,
          0,
          0,
          1,
          0,
          1,
          0,
          0,
          1,
          0,
          0,
          1,
          1,
          1,
          1,
          1,
          1,
          1,
          0,
          0,
          0,
          1,
          0,
          1,
          0,
          1,
          1,
          0,
          1,
          0,
          0,
          0,
          0,
          0,
          0,
          0,
          0,
          1,
          0,
          0,
          1,
          1,
          0,
          0,
          0,
          0,
          0,
          1,
          0,
          0,
          0,
          1,
          1,
          0,
          1,
          0,
          0,
          1,
          0,
          0,
          0,
          0,
          0,
          0,
          1,
          0,
          0,
          0,
          0,
          0,
          0,
          0,
          1,
          0,
          1,
          1,
          0,
          1,
          1,
          0,
          1,
          1,
          0,
          0,
          1,
          0,
          1,
          0,
          1,
          0,
          0,
          1,
          0,
          0,
          1,
          0,
          0,
          0,
          1,
          0,
          0,
          1,
          0,
          1,
          0,
          1,
          0,
          1,
          1,
          0,
          0,
          1,
          0,
          0,
          1,
          1,
          0,
          1,
          1,
          0,
          0,
          1,
          1,
          0,
          1,
          0,
          1,
          1,
          0,
          0,
          0,
          0,
          0,
          0,
          0,
          0,
          0,
          1,
          1,
          1,
          1,
          1,
          0,
          0,
          1,
          1,
          0,
          1,
          1,
          1,
          0,
          0,
          0,
          1,
          0,
          1,
          0,
          0,
          0,
          1,
          0,
          0,
          0,
          0,
          1,
          0,
          0,
          1,
          1,
          0,
          0,
          0,
          1,
          0,
          0,
          1,
          1,
          1,
          0,
          0,
          1,
          0,
          0,
          1,
          0,
          0,
          1,
          0,
          0,
          1,
          1,
          0,
          0,
          0,
          0,
          1,
          0,
          0,
          1,
          0,
          1,
          0,
          0,
          1,
          0,
          0,
          0,
          0,
          0,
          1,
          0,
          1,
          1,
          1,
          0,
          1,
          0,
          1,
          0,
          1,
          0,
          1,
          0,
          0,
          0,
          0,
          0,
          0,
          1,
          0,
          0,
          0,
          1,
          0,
          0,
          0,
          0,
          1,
          1,
          0,
          0,
          1,
          0,
          0,
          0,
          1,
          0,
          1,
          0,
          1,
          0,
          0,
          0,
          0,
          0,
          0,
          0,
          1,
          1,
          1,
          1,
          0,
          0,
          0,
          0,
          1,
          0,
          0,
          1,
          1,
          0,
          0,
          0,
          0,
          1,
          1,
          1,
          1,
          1,
          0,
          1,
          0,
          0,
          0,
          1,
          1,
          0,
          0,
          1,
          0,
          0,
          0,
          1,
          0,
          1,
          1,
          0,
          0,
          1,
          0,
          0,
          0,
          0,
          0,
          0,
          1,
          0,
          0,
          1,
          0,
          1,
          0,
          1,
          0,
          0,
          1,
          0,
          0,
          1,
          1,
          0,
          0,
          1,
          1,
          0,
          0,
          0,
          1,
          0,
          0,
          1,
          1,
          0,
          1,
          0,
          0,
          0,
          0,
          0,
          0,
          0,
          0,
          1,
          0,
          0,
          1,
          0,
          1,
          1,
          1,
          0,
          0,
          0,
          0,
          1,
          0,
          1,
          0,
          0,
          0,
          0,
          0,
          0,
          0,
          1,
          1,
          0,
          0,
          0,
          1,
          1,
          1,
          1,
          0,
          0,
          0,
          0,
          1,
          0,
          0,
          0,
          0,
          0,
          0,
          0,
          0,
          0,
          0,
          1,
          1,
          0,
          1,
          0,
          0,
          0,
          1,
          1,
          1,
          1,
          1,
          0,
          0,
          0,
          1,
          0,
          0,
          1,
          1,
          0,
          0,
          1,
          0,
          0,
          0,
          0,
          0,
          0,
          1,
          0,
          0,
          0,
          1,
          0,
          1,
          1,
          1,
          1,
          0,
          0,
          0,
          1,
          0,
          0,
          1,
          1,
          0,
          0,
          1,
          0,
          1,
          0,
          0,
          1,
          1,
          0,
          0,
          0,
          1,
          1,
          0,
          0,
          0,
          0,
          0,
          0,
          1,
          0,
          1,
          0
         ]
        }
       ],
       "layout": {
        "legend": {
         "bgcolor": "#F5F6F9",
         "font": {
          "color": "#4D5663"
         }
        },
        "paper_bgcolor": "#F5F6F9",
        "plot_bgcolor": "#F5F6F9",
        "template": {
         "data": {
          "bar": [
           {
            "error_x": {
             "color": "#2a3f5f"
            },
            "error_y": {
             "color": "#2a3f5f"
            },
            "marker": {
             "line": {
              "color": "#E5ECF6",
              "width": 0.5
             },
             "pattern": {
              "fillmode": "overlay",
              "size": 10,
              "solidity": 0.2
             }
            },
            "type": "bar"
           }
          ],
          "barpolar": [
           {
            "marker": {
             "line": {
              "color": "#E5ECF6",
              "width": 0.5
             },
             "pattern": {
              "fillmode": "overlay",
              "size": 10,
              "solidity": 0.2
             }
            },
            "type": "barpolar"
           }
          ],
          "carpet": [
           {
            "aaxis": {
             "endlinecolor": "#2a3f5f",
             "gridcolor": "white",
             "linecolor": "white",
             "minorgridcolor": "white",
             "startlinecolor": "#2a3f5f"
            },
            "baxis": {
             "endlinecolor": "#2a3f5f",
             "gridcolor": "white",
             "linecolor": "white",
             "minorgridcolor": "white",
             "startlinecolor": "#2a3f5f"
            },
            "type": "carpet"
           }
          ],
          "choropleth": [
           {
            "colorbar": {
             "outlinewidth": 0,
             "ticks": ""
            },
            "type": "choropleth"
           }
          ],
          "contour": [
           {
            "colorbar": {
             "outlinewidth": 0,
             "ticks": ""
            },
            "colorscale": [
             [
              0,
              "#0d0887"
             ],
             [
              0.1111111111111111,
              "#46039f"
             ],
             [
              0.2222222222222222,
              "#7201a8"
             ],
             [
              0.3333333333333333,
              "#9c179e"
             ],
             [
              0.4444444444444444,
              "#bd3786"
             ],
             [
              0.5555555555555556,
              "#d8576b"
             ],
             [
              0.6666666666666666,
              "#ed7953"
             ],
             [
              0.7777777777777778,
              "#fb9f3a"
             ],
             [
              0.8888888888888888,
              "#fdca26"
             ],
             [
              1,
              "#f0f921"
             ]
            ],
            "type": "contour"
           }
          ],
          "contourcarpet": [
           {
            "colorbar": {
             "outlinewidth": 0,
             "ticks": ""
            },
            "type": "contourcarpet"
           }
          ],
          "heatmap": [
           {
            "colorbar": {
             "outlinewidth": 0,
             "ticks": ""
            },
            "colorscale": [
             [
              0,
              "#0d0887"
             ],
             [
              0.1111111111111111,
              "#46039f"
             ],
             [
              0.2222222222222222,
              "#7201a8"
             ],
             [
              0.3333333333333333,
              "#9c179e"
             ],
             [
              0.4444444444444444,
              "#bd3786"
             ],
             [
              0.5555555555555556,
              "#d8576b"
             ],
             [
              0.6666666666666666,
              "#ed7953"
             ],
             [
              0.7777777777777778,
              "#fb9f3a"
             ],
             [
              0.8888888888888888,
              "#fdca26"
             ],
             [
              1,
              "#f0f921"
             ]
            ],
            "type": "heatmap"
           }
          ],
          "heatmapgl": [
           {
            "colorbar": {
             "outlinewidth": 0,
             "ticks": ""
            },
            "colorscale": [
             [
              0,
              "#0d0887"
             ],
             [
              0.1111111111111111,
              "#46039f"
             ],
             [
              0.2222222222222222,
              "#7201a8"
             ],
             [
              0.3333333333333333,
              "#9c179e"
             ],
             [
              0.4444444444444444,
              "#bd3786"
             ],
             [
              0.5555555555555556,
              "#d8576b"
             ],
             [
              0.6666666666666666,
              "#ed7953"
             ],
             [
              0.7777777777777778,
              "#fb9f3a"
             ],
             [
              0.8888888888888888,
              "#fdca26"
             ],
             [
              1,
              "#f0f921"
             ]
            ],
            "type": "heatmapgl"
           }
          ],
          "histogram": [
           {
            "marker": {
             "pattern": {
              "fillmode": "overlay",
              "size": 10,
              "solidity": 0.2
             }
            },
            "type": "histogram"
           }
          ],
          "histogram2d": [
           {
            "colorbar": {
             "outlinewidth": 0,
             "ticks": ""
            },
            "colorscale": [
             [
              0,
              "#0d0887"
             ],
             [
              0.1111111111111111,
              "#46039f"
             ],
             [
              0.2222222222222222,
              "#7201a8"
             ],
             [
              0.3333333333333333,
              "#9c179e"
             ],
             [
              0.4444444444444444,
              "#bd3786"
             ],
             [
              0.5555555555555556,
              "#d8576b"
             ],
             [
              0.6666666666666666,
              "#ed7953"
             ],
             [
              0.7777777777777778,
              "#fb9f3a"
             ],
             [
              0.8888888888888888,
              "#fdca26"
             ],
             [
              1,
              "#f0f921"
             ]
            ],
            "type": "histogram2d"
           }
          ],
          "histogram2dcontour": [
           {
            "colorbar": {
             "outlinewidth": 0,
             "ticks": ""
            },
            "colorscale": [
             [
              0,
              "#0d0887"
             ],
             [
              0.1111111111111111,
              "#46039f"
             ],
             [
              0.2222222222222222,
              "#7201a8"
             ],
             [
              0.3333333333333333,
              "#9c179e"
             ],
             [
              0.4444444444444444,
              "#bd3786"
             ],
             [
              0.5555555555555556,
              "#d8576b"
             ],
             [
              0.6666666666666666,
              "#ed7953"
             ],
             [
              0.7777777777777778,
              "#fb9f3a"
             ],
             [
              0.8888888888888888,
              "#fdca26"
             ],
             [
              1,
              "#f0f921"
             ]
            ],
            "type": "histogram2dcontour"
           }
          ],
          "mesh3d": [
           {
            "colorbar": {
             "outlinewidth": 0,
             "ticks": ""
            },
            "type": "mesh3d"
           }
          ],
          "parcoords": [
           {
            "line": {
             "colorbar": {
              "outlinewidth": 0,
              "ticks": ""
             }
            },
            "type": "parcoords"
           }
          ],
          "pie": [
           {
            "automargin": true,
            "type": "pie"
           }
          ],
          "scatter": [
           {
            "fillpattern": {
             "fillmode": "overlay",
             "size": 10,
             "solidity": 0.2
            },
            "type": "scatter"
           }
          ],
          "scatter3d": [
           {
            "line": {
             "colorbar": {
              "outlinewidth": 0,
              "ticks": ""
             }
            },
            "marker": {
             "colorbar": {
              "outlinewidth": 0,
              "ticks": ""
             }
            },
            "type": "scatter3d"
           }
          ],
          "scattercarpet": [
           {
            "marker": {
             "colorbar": {
              "outlinewidth": 0,
              "ticks": ""
             }
            },
            "type": "scattercarpet"
           }
          ],
          "scattergeo": [
           {
            "marker": {
             "colorbar": {
              "outlinewidth": 0,
              "ticks": ""
             }
            },
            "type": "scattergeo"
           }
          ],
          "scattergl": [
           {
            "marker": {
             "colorbar": {
              "outlinewidth": 0,
              "ticks": ""
             }
            },
            "type": "scattergl"
           }
          ],
          "scattermapbox": [
           {
            "marker": {
             "colorbar": {
              "outlinewidth": 0,
              "ticks": ""
             }
            },
            "type": "scattermapbox"
           }
          ],
          "scatterpolar": [
           {
            "marker": {
             "colorbar": {
              "outlinewidth": 0,
              "ticks": ""
             }
            },
            "type": "scatterpolar"
           }
          ],
          "scatterpolargl": [
           {
            "marker": {
             "colorbar": {
              "outlinewidth": 0,
              "ticks": ""
             }
            },
            "type": "scatterpolargl"
           }
          ],
          "scatterternary": [
           {
            "marker": {
             "colorbar": {
              "outlinewidth": 0,
              "ticks": ""
             }
            },
            "type": "scatterternary"
           }
          ],
          "surface": [
           {
            "colorbar": {
             "outlinewidth": 0,
             "ticks": ""
            },
            "colorscale": [
             [
              0,
              "#0d0887"
             ],
             [
              0.1111111111111111,
              "#46039f"
             ],
             [
              0.2222222222222222,
              "#7201a8"
             ],
             [
              0.3333333333333333,
              "#9c179e"
             ],
             [
              0.4444444444444444,
              "#bd3786"
             ],
             [
              0.5555555555555556,
              "#d8576b"
             ],
             [
              0.6666666666666666,
              "#ed7953"
             ],
             [
              0.7777777777777778,
              "#fb9f3a"
             ],
             [
              0.8888888888888888,
              "#fdca26"
             ],
             [
              1,
              "#f0f921"
             ]
            ],
            "type": "surface"
           }
          ],
          "table": [
           {
            "cells": {
             "fill": {
              "color": "#EBF0F8"
             },
             "line": {
              "color": "white"
             }
            },
            "header": {
             "fill": {
              "color": "#C8D4E3"
             },
             "line": {
              "color": "white"
             }
            },
            "type": "table"
           }
          ]
         },
         "layout": {
          "annotationdefaults": {
           "arrowcolor": "#2a3f5f",
           "arrowhead": 0,
           "arrowwidth": 1
          },
          "autotypenumbers": "strict",
          "coloraxis": {
           "colorbar": {
            "outlinewidth": 0,
            "ticks": ""
           }
          },
          "colorscale": {
           "diverging": [
            [
             0,
             "#8e0152"
            ],
            [
             0.1,
             "#c51b7d"
            ],
            [
             0.2,
             "#de77ae"
            ],
            [
             0.3,
             "#f1b6da"
            ],
            [
             0.4,
             "#fde0ef"
            ],
            [
             0.5,
             "#f7f7f7"
            ],
            [
             0.6,
             "#e6f5d0"
            ],
            [
             0.7,
             "#b8e186"
            ],
            [
             0.8,
             "#7fbc41"
            ],
            [
             0.9,
             "#4d9221"
            ],
            [
             1,
             "#276419"
            ]
           ],
           "sequential": [
            [
             0,
             "#0d0887"
            ],
            [
             0.1111111111111111,
             "#46039f"
            ],
            [
             0.2222222222222222,
             "#7201a8"
            ],
            [
             0.3333333333333333,
             "#9c179e"
            ],
            [
             0.4444444444444444,
             "#bd3786"
            ],
            [
             0.5555555555555556,
             "#d8576b"
            ],
            [
             0.6666666666666666,
             "#ed7953"
            ],
            [
             0.7777777777777778,
             "#fb9f3a"
            ],
            [
             0.8888888888888888,
             "#fdca26"
            ],
            [
             1,
             "#f0f921"
            ]
           ],
           "sequentialminus": [
            [
             0,
             "#0d0887"
            ],
            [
             0.1111111111111111,
             "#46039f"
            ],
            [
             0.2222222222222222,
             "#7201a8"
            ],
            [
             0.3333333333333333,
             "#9c179e"
            ],
            [
             0.4444444444444444,
             "#bd3786"
            ],
            [
             0.5555555555555556,
             "#d8576b"
            ],
            [
             0.6666666666666666,
             "#ed7953"
            ],
            [
             0.7777777777777778,
             "#fb9f3a"
            ],
            [
             0.8888888888888888,
             "#fdca26"
            ],
            [
             1,
             "#f0f921"
            ]
           ]
          },
          "colorway": [
           "#636efa",
           "#EF553B",
           "#00cc96",
           "#ab63fa",
           "#FFA15A",
           "#19d3f3",
           "#FF6692",
           "#B6E880",
           "#FF97FF",
           "#FECB52"
          ],
          "font": {
           "color": "#2a3f5f"
          },
          "geo": {
           "bgcolor": "white",
           "lakecolor": "white",
           "landcolor": "#E5ECF6",
           "showlakes": true,
           "showland": true,
           "subunitcolor": "white"
          },
          "hoverlabel": {
           "align": "left"
          },
          "hovermode": "closest",
          "mapbox": {
           "style": "light"
          },
          "paper_bgcolor": "white",
          "plot_bgcolor": "#E5ECF6",
          "polar": {
           "angularaxis": {
            "gridcolor": "white",
            "linecolor": "white",
            "ticks": ""
           },
           "bgcolor": "#E5ECF6",
           "radialaxis": {
            "gridcolor": "white",
            "linecolor": "white",
            "ticks": ""
           }
          },
          "scene": {
           "xaxis": {
            "backgroundcolor": "#E5ECF6",
            "gridcolor": "white",
            "gridwidth": 2,
            "linecolor": "white",
            "showbackground": true,
            "ticks": "",
            "zerolinecolor": "white"
           },
           "yaxis": {
            "backgroundcolor": "#E5ECF6",
            "gridcolor": "white",
            "gridwidth": 2,
            "linecolor": "white",
            "showbackground": true,
            "ticks": "",
            "zerolinecolor": "white"
           },
           "zaxis": {
            "backgroundcolor": "#E5ECF6",
            "gridcolor": "white",
            "gridwidth": 2,
            "linecolor": "white",
            "showbackground": true,
            "ticks": "",
            "zerolinecolor": "white"
           }
          },
          "shapedefaults": {
           "line": {
            "color": "#2a3f5f"
           }
          },
          "ternary": {
           "aaxis": {
            "gridcolor": "white",
            "linecolor": "white",
            "ticks": ""
           },
           "baxis": {
            "gridcolor": "white",
            "linecolor": "white",
            "ticks": ""
           },
           "bgcolor": "#E5ECF6",
           "caxis": {
            "gridcolor": "white",
            "linecolor": "white",
            "ticks": ""
           }
          },
          "title": {
           "x": 0.05
          },
          "xaxis": {
           "automargin": true,
           "gridcolor": "white",
           "linecolor": "white",
           "ticks": "",
           "title": {
            "standoff": 15
           },
           "zerolinecolor": "white",
           "zerolinewidth": 2
          },
          "yaxis": {
           "automargin": true,
           "gridcolor": "white",
           "linecolor": "white",
           "ticks": "",
           "title": {
            "standoff": 15
           },
           "zerolinecolor": "white",
           "zerolinewidth": 2
          }
         }
        },
        "title": {
         "font": {
          "color": "#4D5663"
         }
        },
        "xaxis": {
         "gridcolor": "#E1E5ED",
         "showgrid": true,
         "tickfont": {
          "color": "#4D5663"
         },
         "title": {
          "font": {
           "color": "#4D5663"
          },
          "text": ""
         },
         "zerolinecolor": "#E1E5ED"
        },
        "yaxis": {
         "gridcolor": "#E1E5ED",
         "showgrid": true,
         "tickfont": {
          "color": "#4D5663"
         },
         "title": {
          "font": {
           "color": "#4D5663"
          },
          "text": ""
         },
         "zerolinecolor": "#E1E5ED"
        }
       }
      },
      "text/html": [
       "<div>                            <div id=\"55614f9d-085b-40c4-b5cb-f235a8181d4d\" class=\"plotly-graph-div\" style=\"height:525px; width:100%;\"></div>            <script type=\"text/javascript\">                require([\"plotly\"], function(Plotly) {                    window.PLOTLYENV=window.PLOTLYENV || {};\n",
       "                    window.PLOTLYENV.BASE_URL='https://plot.ly';                                    if (document.getElementById(\"55614f9d-085b-40c4-b5cb-f235a8181d4d\")) {                    Plotly.newPlot(                        \"55614f9d-085b-40c4-b5cb-f235a8181d4d\",                        [{\"marker\":{\"color\":\"rgba(255, 153, 51, 0.6)\",\"line\":{\"color\":\"rgba(255, 153, 51, 1.0)\",\"width\":1}},\"name\":\"Survived\",\"orientation\":\"v\",\"text\":\"\",\"x\":[\"male\",\"female\",\"female\",\"female\",\"male\",\"male\",\"male\",\"male\",\"female\",\"female\",\"female\",\"female\",\"male\",\"male\",\"female\",\"female\",\"male\",\"male\",\"female\",\"female\",\"male\",\"male\",\"female\",\"male\",\"female\",\"female\",\"male\",\"male\",\"female\",\"male\",\"male\",\"female\",\"female\",\"male\",\"male\",\"male\",\"male\",\"male\",\"female\",\"female\",\"female\",\"female\",\"male\",\"female\",\"female\",\"male\",\"male\",\"female\",\"male\",\"female\",\"male\",\"male\",\"female\",\"female\",\"male\",\"male\",\"female\",\"male\",\"female\",\"male\",\"male\",\"female\",\"male\",\"male\",\"male\",\"male\",\"female\",\"male\",\"female\",\"male\",\"male\",\"female\",\"male\",\"male\",\"male\",\"male\",\"male\",\"male\",\"male\",\"female\",\"male\",\"male\",\"female\",\"male\",\"female\",\"female\",\"male\",\"male\",\"female\",\"male\",\"male\",\"male\",\"male\",\"male\",\"male\",\"male\",\"male\",\"male\",\"female\",\"male\",\"female\",\"male\",\"male\",\"male\",\"male\",\"male\",\"female\",\"male\",\"male\",\"female\",\"male\",\"female\",\"male\",\"female\",\"female\",\"male\",\"male\",\"male\",\"male\",\"female\",\"male\",\"male\",\"male\",\"female\",\"male\",\"male\",\"male\",\"male\",\"female\",\"male\",\"male\",\"male\",\"female\",\"female\",\"male\",\"male\",\"female\",\"male\",\"male\",\"male\",\"female\",\"female\",\"female\",\"male\",\"male\",\"male\",\"male\",\"female\",\"male\",\"male\",\"male\",\"female\",\"male\",\"male\",\"male\",\"male\",\"female\",\"male\",\"male\",\"male\",\"male\",\"female\",\"male\",\"male\",\"male\",\"male\",\"female\",\"female\",\"male\",\"male\",\"male\",\"male\",\"female\",\"male\",\"male\",\"male\",\"male\",\"female\",\"male\",\"male\",\"female\",\"male\",\"male\",\"male\",\"female\",\"male\",\"female\",\"male\",\"male\",\"male\",\"female\",\"male\",\"female\",\"male\",\"female\",\"female\",\"male\",\"male\",\"female\",\"female\",\"male\",\"male\",\"male\",\"male\",\"male\",\"female\",\"male\",\"male\",\"female\",\"male\",\"male\",\"female\",\"male\",\"male\",\"male\",\"female\",\"female\",\"male\",\"female\",\"male\",\"male\",\"male\",\"male\",\"male\",\"male\",\"male\",\"male\",\"male\",\"male\",\"female\",\"female\",\"male\",\"male\",\"female\",\"male\",\"female\",\"male\",\"female\",\"male\",\"male\",\"female\",\"female\",\"male\",\"male\",\"male\",\"male\",\"female\",\"female\",\"male\",\"male\",\"male\",\"female\",\"male\",\"male\",\"female\",\"female\",\"female\",\"female\",\"female\",\"female\",\"male\",\"male\",\"male\",\"male\",\"female\",\"male\",\"male\",\"male\",\"female\",\"female\",\"male\",\"male\",\"female\",\"male\",\"female\",\"female\",\"female\",\"male\",\"male\",\"female\",\"male\",\"male\",\"male\",\"male\",\"male\",\"male\",\"male\",\"male\",\"male\",\"female\",\"female\",\"female\",\"male\",\"female\",\"male\",\"male\",\"male\",\"female\",\"male\",\"female\",\"female\",\"male\",\"male\",\"female\",\"male\",\"male\",\"female\",\"female\",\"male\",\"female\",\"female\",\"female\",\"female\",\"male\",\"male\",\"female\",\"female\",\"male\",\"female\",\"female\",\"male\",\"male\",\"female\",\"female\",\"male\",\"female\",\"male\",\"female\",\"female\",\"female\",\"female\",\"male\",\"male\",\"male\",\"female\",\"male\",\"male\",\"female\",\"male\",\"male\",\"male\",\"female\",\"male\",\"male\",\"male\",\"female\",\"female\",\"female\",\"male\",\"male\",\"male\",\"male\",\"male\",\"male\",\"male\",\"male\",\"female\",\"female\",\"female\",\"female\",\"male\",\"male\",\"female\",\"male\",\"male\",\"male\",\"female\",\"female\",\"female\",\"female\",\"male\",\"male\",\"male\",\"male\",\"female\",\"female\",\"female\",\"male\",\"male\",\"male\",\"female\",\"female\",\"male\",\"female\",\"male\",\"male\",\"male\",\"female\",\"male\",\"female\",\"male\",\"male\",\"male\",\"female\",\"female\",\"male\",\"female\",\"male\",\"male\",\"female\",\"male\",\"male\",\"female\",\"male\",\"female\",\"male\",\"male\",\"male\",\"male\",\"female\",\"male\",\"male\",\"female\",\"male\",\"male\",\"female\",\"female\",\"female\",\"male\",\"female\",\"male\",\"male\",\"male\",\"female\",\"male\",\"male\",\"female\",\"female\",\"male\",\"male\",\"male\",\"female\",\"female\",\"male\",\"male\",\"female\",\"female\",\"female\",\"male\",\"male\",\"female\",\"male\",\"male\",\"female\",\"male\",\"male\",\"female\",\"male\",\"female\",\"male\",\"male\",\"male\",\"male\",\"male\",\"male\",\"male\",\"male\",\"female\",\"female\",\"male\",\"male\",\"male\",\"male\",\"male\",\"male\",\"male\",\"male\",\"male\",\"male\",\"female\",\"male\",\"male\",\"female\",\"female\",\"female\",\"male\",\"male\",\"male\",\"male\",\"female\",\"male\",\"male\",\"male\",\"female\",\"male\",\"female\",\"female\",\"male\",\"male\",\"male\",\"male\",\"male\",\"male\",\"male\",\"male\",\"male\",\"female\",\"male\",\"female\",\"male\",\"male\",\"female\",\"female\",\"female\",\"female\",\"male\",\"female\",\"male\",\"male\",\"male\",\"male\",\"male\",\"male\",\"female\",\"male\",\"male\",\"female\",\"male\",\"female\",\"male\",\"female\",\"male\",\"male\",\"female\",\"male\",\"male\",\"female\",\"male\",\"male\",\"male\",\"female\",\"male\",\"male\",\"female\",\"female\",\"female\",\"male\",\"female\",\"male\",\"female\",\"female\",\"female\",\"female\",\"male\",\"male\",\"male\",\"female\",\"male\",\"male\",\"male\",\"male\",\"male\",\"male\",\"male\",\"female\",\"male\",\"female\",\"male\",\"female\",\"female\",\"male\",\"male\",\"male\",\"male\",\"female\",\"male\",\"male\",\"female\",\"male\",\"male\",\"male\",\"female\",\"male\",\"female\",\"male\",\"male\",\"female\",\"female\",\"female\",\"male\",\"female\",\"female\",\"male\",\"male\",\"male\",\"female\",\"male\",\"male\",\"male\",\"male\",\"male\",\"female\",\"male\",\"female\",\"male\",\"male\",\"female\",\"male\",\"male\",\"male\",\"female\",\"male\",\"male\",\"male\",\"male\",\"male\",\"male\",\"male\",\"female\",\"female\",\"female\",\"male\",\"female\",\"male\",\"male\",\"female\",\"male\",\"female\",\"female\",\"male\",\"male\",\"male\",\"male\",\"male\",\"male\",\"male\",\"male\",\"female\",\"male\",\"male\",\"male\",\"male\",\"male\",\"male\",\"female\",\"female\",\"male\",\"male\",\"female\",\"male\",\"male\",\"female\",\"female\",\"male\",\"female\",\"male\",\"male\",\"male\",\"male\",\"female\",\"male\",\"female\",\"male\",\"female\",\"female\",\"male\",\"male\",\"female\",\"male\",\"male\",\"male\",\"male\",\"male\",\"male\",\"male\",\"male\",\"male\",\"male\",\"male\",\"female\",\"female\",\"male\",\"male\",\"male\",\"male\",\"male\",\"male\",\"female\",\"female\",\"male\",\"female\",\"male\",\"male\",\"male\",\"male\",\"male\",\"male\",\"male\",\"male\",\"female\",\"male\",\"female\",\"male\",\"male\",\"male\",\"male\",\"male\",\"female\",\"male\",\"male\",\"female\",\"male\",\"female\",\"male\",\"male\",\"male\",\"female\",\"male\",\"female\",\"male\",\"female\",\"male\",\"male\",\"male\",\"male\",\"male\",\"female\",\"female\",\"male\",\"male\",\"female\",\"male\",\"male\",\"male\",\"male\",\"male\",\"female\",\"female\",\"male\",\"female\",\"female\",\"male\",\"male\",\"male\",\"male\",\"male\",\"female\",\"male\",\"male\",\"male\",\"male\",\"male\",\"female\",\"male\",\"male\",\"male\",\"male\",\"female\",\"male\",\"male\",\"female\",\"male\",\"male\",\"male\",\"female\",\"male\",\"male\",\"male\",\"male\",\"female\",\"male\",\"male\",\"male\",\"female\",\"male\",\"female\",\"male\",\"female\",\"male\",\"male\",\"male\",\"male\",\"female\",\"male\",\"female\",\"male\",\"male\",\"female\",\"male\",\"female\",\"female\",\"female\",\"male\",\"male\",\"male\",\"male\",\"female\",\"male\",\"male\",\"male\",\"male\",\"male\",\"female\",\"male\",\"male\",\"male\",\"female\",\"female\",\"male\",\"female\",\"male\",\"female\",\"male\",\"male\",\"male\",\"male\",\"male\",\"female\",\"male\",\"female\",\"male\",\"male\",\"male\",\"female\",\"male\",\"male\",\"female\",\"male\",\"male\",\"male\",\"female\",\"male\",\"male\",\"female\",\"male\",\"male\",\"male\",\"male\",\"male\",\"female\",\"female\",\"male\",\"male\",\"male\",\"male\",\"female\",\"male\",\"male\",\"male\",\"male\",\"male\",\"male\",\"female\",\"male\",\"male\",\"male\",\"male\",\"male\",\"male\",\"female\",\"male\",\"male\",\"female\",\"female\",\"female\",\"female\",\"female\",\"male\",\"female\",\"male\",\"male\",\"male\",\"female\",\"female\",\"male\",\"female\",\"female\",\"male\",\"male\",\"male\",\"male\",\"female\",\"male\",\"male\",\"female\",\"female\",\"male\",\"male\",\"male\",\"female\",\"female\",\"male\",\"female\",\"male\",\"male\",\"female\",\"male\",\"female\",\"female\",\"male\",\"male\"],\"y\":[0,1,1,1,0,0,0,0,1,1,1,1,0,0,0,1,0,1,0,1,0,1,1,1,0,1,0,0,1,0,0,1,1,0,0,0,1,0,0,1,0,0,0,1,1,0,0,1,0,0,0,0,1,1,0,1,1,0,1,0,0,1,0,0,0,1,1,0,1,0,0,0,0,0,1,0,0,0,1,1,0,1,1,0,1,1,0,0,1,0,0,0,0,0,0,0,0,1,1,0,0,0,0,0,0,0,1,1,0,1,0,0,0,0,0,0,0,0,0,0,0,0,0,1,0,1,0,1,1,0,0,0,0,1,0,0,1,0,0,0,0,1,1,0,0,0,1,0,0,0,0,1,0,0,0,0,1,0,0,0,0,1,0,0,0,1,1,0,0,0,0,0,1,0,0,0,0,0,0,0,0,0,0,1,1,0,1,1,0,0,1,0,1,1,1,1,0,0,1,0,0,0,0,0,1,0,0,1,1,1,0,1,0,0,0,1,1,0,1,0,1,0,0,0,1,0,1,0,0,0,1,0,0,1,0,0,0,1,0,0,0,1,0,0,0,0,0,1,1,0,0,0,0,0,0,1,1,1,1,1,0,1,0,0,0,0,0,1,1,1,0,1,1,0,1,1,0,0,0,1,0,0,0,1,0,0,1,0,1,1,1,1,0,0,0,0,0,0,1,1,1,1,0,1,0,1,1,1,0,1,1,1,0,0,0,1,1,0,1,1,0,0,1,1,0,1,0,1,1,1,1,0,0,0,1,0,0,1,1,0,1,1,0,0,0,1,1,1,1,0,0,0,0,0,0,0,1,0,1,1,0,0,0,0,0,0,1,1,1,1,1,0,0,0,0,1,1,0,0,0,1,1,0,1,0,0,0,1,0,1,1,1,0,1,1,0,0,0,0,1,1,0,0,0,0,0,0,1,0,0,0,0,1,0,1,0,1,1,0,0,0,0,0,0,0,0,1,1,0,1,1,1,1,0,0,1,0,1,0,0,1,0,0,1,1,1,1,1,1,1,0,0,0,1,0,1,0,1,1,0,1,0,0,0,0,0,0,0,0,1,0,0,1,1,0,0,0,0,0,1,0,0,0,1,1,0,1,0,0,1,0,0,0,0,0,0,1,0,0,0,0,0,0,0,1,0,1,1,0,1,1,0,1,1,0,0,1,0,1,0,1,0,0,1,0,0,1,0,0,0,1,0,0,1,0,1,0,1,0,1,1,0,0,1,0,0,1,1,0,1,1,0,0,1,1,0,1,0,1,1,0,0,0,0,0,0,0,0,0,1,1,1,1,1,0,0,1,1,0,1,1,1,0,0,0,1,0,1,0,0,0,1,0,0,0,0,1,0,0,1,1,0,0,0,1,0,0,1,1,1,0,0,1,0,0,1,0,0,1,0,0,1,1,0,0,0,0,1,0,0,1,0,1,0,0,1,0,0,0,0,0,1,0,1,1,1,0,1,0,1,0,1,0,1,0,0,0,0,0,0,1,0,0,0,1,0,0,0,0,1,1,0,0,1,0,0,0,1,0,1,0,1,0,0,0,0,0,0,0,1,1,1,1,0,0,0,0,1,0,0,1,1,0,0,0,0,1,1,1,1,1,0,1,0,0,0,1,1,0,0,1,0,0,0,1,0,1,1,0,0,1,0,0,0,0,0,0,1,0,0,1,0,1,0,1,0,0,1,0,0,1,1,0,0,1,1,0,0,0,1,0,0,1,1,0,1,0,0,0,0,0,0,0,0,1,0,0,1,0,1,1,1,0,0,0,0,1,0,1,0,0,0,0,0,0,0,1,1,0,0,0,1,1,1,1,0,0,0,0,1,0,0,0,0,0,0,0,0,0,0,1,1,0,1,0,0,0,1,1,1,1,1,0,0,0,1,0,0,1,1,0,0,1,0,0,0,0,0,0,1,0,0,0,1,0,1,1,1,1,0,0,0,1,0,0,1,1,0,0,1,0,1,0,0,1,1,0,0,0,1,1,0,0,0,0,0,0,1,0,1,0],\"type\":\"bar\"}],                        {\"legend\":{\"bgcolor\":\"#F5F6F9\",\"font\":{\"color\":\"#4D5663\"}},\"paper_bgcolor\":\"#F5F6F9\",\"plot_bgcolor\":\"#F5F6F9\",\"template\":{\"data\":{\"barpolar\":[{\"marker\":{\"line\":{\"color\":\"#E5ECF6\",\"width\":0.5},\"pattern\":{\"fillmode\":\"overlay\",\"size\":10,\"solidity\":0.2}},\"type\":\"barpolar\"}],\"bar\":[{\"error_x\":{\"color\":\"#2a3f5f\"},\"error_y\":{\"color\":\"#2a3f5f\"},\"marker\":{\"line\":{\"color\":\"#E5ECF6\",\"width\":0.5},\"pattern\":{\"fillmode\":\"overlay\",\"size\":10,\"solidity\":0.2}},\"type\":\"bar\"}],\"carpet\":[{\"aaxis\":{\"endlinecolor\":\"#2a3f5f\",\"gridcolor\":\"white\",\"linecolor\":\"white\",\"minorgridcolor\":\"white\",\"startlinecolor\":\"#2a3f5f\"},\"baxis\":{\"endlinecolor\":\"#2a3f5f\",\"gridcolor\":\"white\",\"linecolor\":\"white\",\"minorgridcolor\":\"white\",\"startlinecolor\":\"#2a3f5f\"},\"type\":\"carpet\"}],\"choropleth\":[{\"colorbar\":{\"outlinewidth\":0,\"ticks\":\"\"},\"type\":\"choropleth\"}],\"contourcarpet\":[{\"colorbar\":{\"outlinewidth\":0,\"ticks\":\"\"},\"type\":\"contourcarpet\"}],\"contour\":[{\"colorbar\":{\"outlinewidth\":0,\"ticks\":\"\"},\"colorscale\":[[0.0,\"#0d0887\"],[0.1111111111111111,\"#46039f\"],[0.2222222222222222,\"#7201a8\"],[0.3333333333333333,\"#9c179e\"],[0.4444444444444444,\"#bd3786\"],[0.5555555555555556,\"#d8576b\"],[0.6666666666666666,\"#ed7953\"],[0.7777777777777778,\"#fb9f3a\"],[0.8888888888888888,\"#fdca26\"],[1.0,\"#f0f921\"]],\"type\":\"contour\"}],\"heatmapgl\":[{\"colorbar\":{\"outlinewidth\":0,\"ticks\":\"\"},\"colorscale\":[[0.0,\"#0d0887\"],[0.1111111111111111,\"#46039f\"],[0.2222222222222222,\"#7201a8\"],[0.3333333333333333,\"#9c179e\"],[0.4444444444444444,\"#bd3786\"],[0.5555555555555556,\"#d8576b\"],[0.6666666666666666,\"#ed7953\"],[0.7777777777777778,\"#fb9f3a\"],[0.8888888888888888,\"#fdca26\"],[1.0,\"#f0f921\"]],\"type\":\"heatmapgl\"}],\"heatmap\":[{\"colorbar\":{\"outlinewidth\":0,\"ticks\":\"\"},\"colorscale\":[[0.0,\"#0d0887\"],[0.1111111111111111,\"#46039f\"],[0.2222222222222222,\"#7201a8\"],[0.3333333333333333,\"#9c179e\"],[0.4444444444444444,\"#bd3786\"],[0.5555555555555556,\"#d8576b\"],[0.6666666666666666,\"#ed7953\"],[0.7777777777777778,\"#fb9f3a\"],[0.8888888888888888,\"#fdca26\"],[1.0,\"#f0f921\"]],\"type\":\"heatmap\"}],\"histogram2dcontour\":[{\"colorbar\":{\"outlinewidth\":0,\"ticks\":\"\"},\"colorscale\":[[0.0,\"#0d0887\"],[0.1111111111111111,\"#46039f\"],[0.2222222222222222,\"#7201a8\"],[0.3333333333333333,\"#9c179e\"],[0.4444444444444444,\"#bd3786\"],[0.5555555555555556,\"#d8576b\"],[0.6666666666666666,\"#ed7953\"],[0.7777777777777778,\"#fb9f3a\"],[0.8888888888888888,\"#fdca26\"],[1.0,\"#f0f921\"]],\"type\":\"histogram2dcontour\"}],\"histogram2d\":[{\"colorbar\":{\"outlinewidth\":0,\"ticks\":\"\"},\"colorscale\":[[0.0,\"#0d0887\"],[0.1111111111111111,\"#46039f\"],[0.2222222222222222,\"#7201a8\"],[0.3333333333333333,\"#9c179e\"],[0.4444444444444444,\"#bd3786\"],[0.5555555555555556,\"#d8576b\"],[0.6666666666666666,\"#ed7953\"],[0.7777777777777778,\"#fb9f3a\"],[0.8888888888888888,\"#fdca26\"],[1.0,\"#f0f921\"]],\"type\":\"histogram2d\"}],\"histogram\":[{\"marker\":{\"pattern\":{\"fillmode\":\"overlay\",\"size\":10,\"solidity\":0.2}},\"type\":\"histogram\"}],\"mesh3d\":[{\"colorbar\":{\"outlinewidth\":0,\"ticks\":\"\"},\"type\":\"mesh3d\"}],\"parcoords\":[{\"line\":{\"colorbar\":{\"outlinewidth\":0,\"ticks\":\"\"}},\"type\":\"parcoords\"}],\"pie\":[{\"automargin\":true,\"type\":\"pie\"}],\"scatter3d\":[{\"line\":{\"colorbar\":{\"outlinewidth\":0,\"ticks\":\"\"}},\"marker\":{\"colorbar\":{\"outlinewidth\":0,\"ticks\":\"\"}},\"type\":\"scatter3d\"}],\"scattercarpet\":[{\"marker\":{\"colorbar\":{\"outlinewidth\":0,\"ticks\":\"\"}},\"type\":\"scattercarpet\"}],\"scattergeo\":[{\"marker\":{\"colorbar\":{\"outlinewidth\":0,\"ticks\":\"\"}},\"type\":\"scattergeo\"}],\"scattergl\":[{\"marker\":{\"colorbar\":{\"outlinewidth\":0,\"ticks\":\"\"}},\"type\":\"scattergl\"}],\"scattermapbox\":[{\"marker\":{\"colorbar\":{\"outlinewidth\":0,\"ticks\":\"\"}},\"type\":\"scattermapbox\"}],\"scatterpolargl\":[{\"marker\":{\"colorbar\":{\"outlinewidth\":0,\"ticks\":\"\"}},\"type\":\"scatterpolargl\"}],\"scatterpolar\":[{\"marker\":{\"colorbar\":{\"outlinewidth\":0,\"ticks\":\"\"}},\"type\":\"scatterpolar\"}],\"scatter\":[{\"fillpattern\":{\"fillmode\":\"overlay\",\"size\":10,\"solidity\":0.2},\"type\":\"scatter\"}],\"scatterternary\":[{\"marker\":{\"colorbar\":{\"outlinewidth\":0,\"ticks\":\"\"}},\"type\":\"scatterternary\"}],\"surface\":[{\"colorbar\":{\"outlinewidth\":0,\"ticks\":\"\"},\"colorscale\":[[0.0,\"#0d0887\"],[0.1111111111111111,\"#46039f\"],[0.2222222222222222,\"#7201a8\"],[0.3333333333333333,\"#9c179e\"],[0.4444444444444444,\"#bd3786\"],[0.5555555555555556,\"#d8576b\"],[0.6666666666666666,\"#ed7953\"],[0.7777777777777778,\"#fb9f3a\"],[0.8888888888888888,\"#fdca26\"],[1.0,\"#f0f921\"]],\"type\":\"surface\"}],\"table\":[{\"cells\":{\"fill\":{\"color\":\"#EBF0F8\"},\"line\":{\"color\":\"white\"}},\"header\":{\"fill\":{\"color\":\"#C8D4E3\"},\"line\":{\"color\":\"white\"}},\"type\":\"table\"}]},\"layout\":{\"annotationdefaults\":{\"arrowcolor\":\"#2a3f5f\",\"arrowhead\":0,\"arrowwidth\":1},\"autotypenumbers\":\"strict\",\"coloraxis\":{\"colorbar\":{\"outlinewidth\":0,\"ticks\":\"\"}},\"colorscale\":{\"diverging\":[[0,\"#8e0152\"],[0.1,\"#c51b7d\"],[0.2,\"#de77ae\"],[0.3,\"#f1b6da\"],[0.4,\"#fde0ef\"],[0.5,\"#f7f7f7\"],[0.6,\"#e6f5d0\"],[0.7,\"#b8e186\"],[0.8,\"#7fbc41\"],[0.9,\"#4d9221\"],[1,\"#276419\"]],\"sequential\":[[0.0,\"#0d0887\"],[0.1111111111111111,\"#46039f\"],[0.2222222222222222,\"#7201a8\"],[0.3333333333333333,\"#9c179e\"],[0.4444444444444444,\"#bd3786\"],[0.5555555555555556,\"#d8576b\"],[0.6666666666666666,\"#ed7953\"],[0.7777777777777778,\"#fb9f3a\"],[0.8888888888888888,\"#fdca26\"],[1.0,\"#f0f921\"]],\"sequentialminus\":[[0.0,\"#0d0887\"],[0.1111111111111111,\"#46039f\"],[0.2222222222222222,\"#7201a8\"],[0.3333333333333333,\"#9c179e\"],[0.4444444444444444,\"#bd3786\"],[0.5555555555555556,\"#d8576b\"],[0.6666666666666666,\"#ed7953\"],[0.7777777777777778,\"#fb9f3a\"],[0.8888888888888888,\"#fdca26\"],[1.0,\"#f0f921\"]]},\"colorway\":[\"#636efa\",\"#EF553B\",\"#00cc96\",\"#ab63fa\",\"#FFA15A\",\"#19d3f3\",\"#FF6692\",\"#B6E880\",\"#FF97FF\",\"#FECB52\"],\"font\":{\"color\":\"#2a3f5f\"},\"geo\":{\"bgcolor\":\"white\",\"lakecolor\":\"white\",\"landcolor\":\"#E5ECF6\",\"showlakes\":true,\"showland\":true,\"subunitcolor\":\"white\"},\"hoverlabel\":{\"align\":\"left\"},\"hovermode\":\"closest\",\"mapbox\":{\"style\":\"light\"},\"paper_bgcolor\":\"white\",\"plot_bgcolor\":\"#E5ECF6\",\"polar\":{\"angularaxis\":{\"gridcolor\":\"white\",\"linecolor\":\"white\",\"ticks\":\"\"},\"bgcolor\":\"#E5ECF6\",\"radialaxis\":{\"gridcolor\":\"white\",\"linecolor\":\"white\",\"ticks\":\"\"}},\"scene\":{\"xaxis\":{\"backgroundcolor\":\"#E5ECF6\",\"gridcolor\":\"white\",\"gridwidth\":2,\"linecolor\":\"white\",\"showbackground\":true,\"ticks\":\"\",\"zerolinecolor\":\"white\"},\"yaxis\":{\"backgroundcolor\":\"#E5ECF6\",\"gridcolor\":\"white\",\"gridwidth\":2,\"linecolor\":\"white\",\"showbackground\":true,\"ticks\":\"\",\"zerolinecolor\":\"white\"},\"zaxis\":{\"backgroundcolor\":\"#E5ECF6\",\"gridcolor\":\"white\",\"gridwidth\":2,\"linecolor\":\"white\",\"showbackground\":true,\"ticks\":\"\",\"zerolinecolor\":\"white\"}},\"shapedefaults\":{\"line\":{\"color\":\"#2a3f5f\"}},\"ternary\":{\"aaxis\":{\"gridcolor\":\"white\",\"linecolor\":\"white\",\"ticks\":\"\"},\"baxis\":{\"gridcolor\":\"white\",\"linecolor\":\"white\",\"ticks\":\"\"},\"bgcolor\":\"#E5ECF6\",\"caxis\":{\"gridcolor\":\"white\",\"linecolor\":\"white\",\"ticks\":\"\"}},\"title\":{\"x\":0.05},\"xaxis\":{\"automargin\":true,\"gridcolor\":\"white\",\"linecolor\":\"white\",\"ticks\":\"\",\"title\":{\"standoff\":15},\"zerolinecolor\":\"white\",\"zerolinewidth\":2},\"yaxis\":{\"automargin\":true,\"gridcolor\":\"white\",\"linecolor\":\"white\",\"ticks\":\"\",\"title\":{\"standoff\":15},\"zerolinecolor\":\"white\",\"zerolinewidth\":2}}},\"title\":{\"font\":{\"color\":\"#4D5663\"}},\"xaxis\":{\"gridcolor\":\"#E1E5ED\",\"showgrid\":true,\"tickfont\":{\"color\":\"#4D5663\"},\"title\":{\"font\":{\"color\":\"#4D5663\"},\"text\":\"\"},\"zerolinecolor\":\"#E1E5ED\"},\"yaxis\":{\"gridcolor\":\"#E1E5ED\",\"showgrid\":true,\"tickfont\":{\"color\":\"#4D5663\"},\"title\":{\"font\":{\"color\":\"#4D5663\"},\"text\":\"\"},\"zerolinecolor\":\"#E1E5ED\"}},                        {\"showLink\": true, \"linkText\": \"Export to plot.ly\", \"plotlyServerURL\": \"https://plot.ly\", \"responsive\": true}                    ).then(function(){\n",
       "                            \n",
       "var gd = document.getElementById('55614f9d-085b-40c4-b5cb-f235a8181d4d');\n",
       "var x = new MutationObserver(function (mutations, observer) {{\n",
       "        var display = window.getComputedStyle(gd).display;\n",
       "        if (!display || display === 'none') {{\n",
       "            console.log([gd, 'removed!']);\n",
       "            Plotly.purge(gd);\n",
       "            observer.disconnect();\n",
       "        }}\n",
       "}});\n",
       "\n",
       "// Listen for the removal of the full notebook cells\n",
       "var notebookContainer = gd.closest('#notebook-container');\n",
       "if (notebookContainer) {{\n",
       "    x.observe(notebookContainer, {childList: true});\n",
       "}}\n",
       "\n",
       "// Listen for the clearing of the current output cell\n",
       "var outputEl = gd.closest('.output');\n",
       "if (outputEl) {{\n",
       "    x.observe(outputEl, {childList: true});\n",
       "}}\n",
       "\n",
       "                        })                };                });            </script>        </div>"
      ]
     },
     "metadata": {},
     "output_type": "display_data"
    }
   ],
   "source": [
    "df.iplot(x='Sex', y='Survived',kind = 'bar')"
   ]
  },
  {
   "cell_type": "code",
   "execution_count": null,
   "id": "cffae61f",
   "metadata": {},
   "outputs": [],
   "source": []
  }
 ],
 "metadata": {
  "kernelspec": {
   "display_name": "Python 3 (ipykernel)",
   "language": "python",
   "name": "python3"
  },
  "language_info": {
   "codemirror_mode": {
    "name": "ipython",
    "version": 3
   },
   "file_extension": ".py",
   "mimetype": "text/x-python",
   "name": "python",
   "nbconvert_exporter": "python",
   "pygments_lexer": "ipython3",
   "version": "3.9.13"
  }
 },
 "nbformat": 4,
 "nbformat_minor": 5
}
